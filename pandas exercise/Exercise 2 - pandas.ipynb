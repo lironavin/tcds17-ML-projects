{
 "cells": [
  {
   "cell_type": "markdown",
   "id": "262ed441-1e2f-4f23-af4e-3c1c0f6dc002",
   "metadata": {},
   "source": [
    "# Pandas Test - Real life Exercise"
   ]
  },
  {
   "cell_type": "code",
   "execution_count": 1,
   "id": "e24b34ca-0a21-4dc6-92e4-4b16bcbd5a98",
   "metadata": {},
   "outputs": [],
   "source": [
    "import pandas as pd"
   ]
  },
  {
   "cell_type": "markdown",
   "id": "ad46fe63-39ad-4b03-b6b6-623586b94d45",
   "metadata": {},
   "source": [
    "For visualizations:"
   ]
  },
  {
   "cell_type": "code",
   "execution_count": 2,
   "id": "58bd46da-da6c-44d0-903f-19be230836e5",
   "metadata": {},
   "outputs": [
    {
     "data": {
      "text/html": [
       "        <script type=\"text/javascript\">\n",
       "        window.PlotlyConfig = {MathJaxConfig: 'local'};\n",
       "        if (window.MathJax) {MathJax.Hub.Config({SVG: {font: \"STIX-Web\"}});}\n",
       "        if (typeof require !== 'undefined') {\n",
       "        require.undef(\"plotly\");\n",
       "        requirejs.config({\n",
       "            paths: {\n",
       "                'plotly': ['https://cdn.plot.ly/plotly-2.9.0.min']\n",
       "            }\n",
       "        });\n",
       "        require(['plotly'], function(Plotly) {\n",
       "            window._Plotly = Plotly;\n",
       "        });\n",
       "        }\n",
       "        </script>\n",
       "        "
      ]
     },
     "metadata": {},
     "output_type": "display_data"
    }
   ],
   "source": [
    "import cufflinks as cf; cf.go_offline()\n",
    "import plotly_express as px"
   ]
  },
  {
   "cell_type": "markdown",
   "id": "2685b7b6-1a31-451b-a1e8-f29c1513b697",
   "metadata": {},
   "source": [
    "## About the data"
   ]
  },
  {
   "cell_type": "markdown",
   "id": "5453d0d4-f625-41df-942e-ff2f5cf0f993",
   "metadata": {},
   "source": [
    "The data you are about to load is coming from an Ad recommentation system of the company InBrain. InBrain is a adTech company and specalize in next-level ad recommendation.  \n",
    "The company has two major products - one giving high quality recommendation while the other is giving an highly yielding recommendation. Inbrain customers are sending requests, asking for either of the products. \n",
    "\n",
    "Once a week, the company is doing an internal quality assements, and sends a sample of its traffic requests to external annotation process, in which the annotators are trained to manually decided whether the recommended Ad is a succes or not. The data contains information about the ad (**ad_id**), the sampled week (**week_id**), the requester company (**requester**), the region of operation (**region**), the recommendation type (Quality/Yield, **recommendation_type**) and the recommendation provider algorithm (**rec_provider**). The annotators are marking whether the recommendation is meeting the Quality/Yield standards (**is_success**) and whether or not the recommendation is severly defected (**is_sever**)\n",
    "\n",
    "See a sample below:"
   ]
  },
  {
   "cell_type": "code",
   "execution_count": 9,
   "id": "b61864b8-51ef-4ba2-be0f-e701c3d1fd7d",
   "metadata": {},
   "outputs": [],
   "source": [
    "import os\n",
    "os.chdir('C:\\\\Users\\\\Liron\\\\ML\\\\Python-ML--Pandas/')  "
   ]
  },
  {
   "cell_type": "code",
   "execution_count": 10,
   "id": "71b69819-00b8-4612-bd2f-49bab7b7ab13",
   "metadata": {},
   "outputs": [
    {
     "data": {
      "text/html": [
       "<div>\n",
       "<style scoped>\n",
       "    .dataframe tbody tr th:only-of-type {\n",
       "        vertical-align: middle;\n",
       "    }\n",
       "\n",
       "    .dataframe tbody tr th {\n",
       "        vertical-align: top;\n",
       "    }\n",
       "\n",
       "    .dataframe thead th {\n",
       "        text-align: right;\n",
       "    }\n",
       "</style>\n",
       "<table border=\"1\" class=\"dataframe\">\n",
       "  <thead>\n",
       "    <tr style=\"text-align: right;\">\n",
       "      <th></th>\n",
       "      <th>week_id</th>\n",
       "      <th>ad_id</th>\n",
       "      <th>requester</th>\n",
       "      <th>region</th>\n",
       "      <th>is_success</th>\n",
       "      <th>is_sever</th>\n",
       "      <th>recommendation_type</th>\n",
       "      <th>rec_provider</th>\n",
       "    </tr>\n",
       "  </thead>\n",
       "  <tbody>\n",
       "    <tr>\n",
       "      <th>312620</th>\n",
       "      <td>2022-week_03</td>\n",
       "      <td>AD008VND88</td>\n",
       "      <td>Extreme DA</td>\n",
       "      <td>US</td>\n",
       "      <td>yes</td>\n",
       "      <td>NaN</td>\n",
       "      <td>Yield</td>\n",
       "      <td>RNNY</td>\n",
       "    </tr>\n",
       "    <tr>\n",
       "      <th>85269</th>\n",
       "      <td>2021-week_38</td>\n",
       "      <td>AD000CQ6CU</td>\n",
       "      <td>Extreme DA</td>\n",
       "      <td>US</td>\n",
       "      <td>yes</td>\n",
       "      <td>NaN</td>\n",
       "      <td>Yield</td>\n",
       "      <td>DNNY</td>\n",
       "    </tr>\n",
       "    <tr>\n",
       "      <th>316139</th>\n",
       "      <td>2022-week_04</td>\n",
       "      <td>AD078SC8WL</td>\n",
       "      <td>RelayFoods</td>\n",
       "      <td>DE</td>\n",
       "      <td>no</td>\n",
       "      <td>True</td>\n",
       "      <td>Qality</td>\n",
       "      <td>UserPopQ</td>\n",
       "    </tr>\n",
       "    <tr>\n",
       "      <th>259510</th>\n",
       "      <td>2021-week_51</td>\n",
       "      <td>AD08888DPJ</td>\n",
       "      <td>RelayFoods</td>\n",
       "      <td>DE</td>\n",
       "      <td>no</td>\n",
       "      <td>True</td>\n",
       "      <td>Qality</td>\n",
       "      <td>DNNQ</td>\n",
       "    </tr>\n",
       "    <tr>\n",
       "      <th>221077</th>\n",
       "      <td>2021-week_48</td>\n",
       "      <td>AD088MCJX</td>\n",
       "      <td>MoJoe Brewing Company</td>\n",
       "      <td>GB</td>\n",
       "      <td>yes</td>\n",
       "      <td>NaN</td>\n",
       "      <td>Yield</td>\n",
       "      <td>RNNY</td>\n",
       "    </tr>\n",
       "  </tbody>\n",
       "</table>\n",
       "</div>"
      ],
      "text/plain": [
       "             week_id       ad_id              requester region is_success  \\\n",
       "312620  2022-week_03  AD008VND88             Extreme DA     US        yes   \n",
       "85269   2021-week_38  AD000CQ6CU             Extreme DA     US        yes   \n",
       "316139  2022-week_04  AD078SC8WL             RelayFoods     DE         no   \n",
       "259510  2021-week_51  AD08888DPJ             RelayFoods     DE         no   \n",
       "221077  2021-week_48   AD088MCJX  MoJoe Brewing Company     GB        yes   \n",
       "\n",
       "       is_sever recommendation_type rec_provider  \n",
       "312620      NaN               Yield         RNNY  \n",
       "85269       NaN               Yield         DNNY  \n",
       "316139     True              Qality     UserPopQ  \n",
       "259510     True              Qality         DNNQ  \n",
       "221077      NaN               Yield         RNNY  "
      ]
     },
     "execution_count": 10,
     "metadata": {},
     "output_type": "execute_result"
    }
   ],
   "source": [
    "ad_recs_annotated = pd.read_csv('data/ad_annotations.csv')\n",
    "ad_recs_annotated.sample(5)"
   ]
  },
  {
   "cell_type": "markdown",
   "id": "f4413766-e8bf-4f14-94e0-f58cfb88bb07",
   "metadata": {},
   "source": [
    "Your job, as the new and only data scientist of the company, is to get familiar with the the data, show week-over-week trends and produce insightfull graphs as a preparation to a full blown BI dashboard."
   ]
  },
  {
   "cell_type": "markdown",
   "id": "97faa00a-e0e3-47c0-bb8e-b3f72e1f0cb1",
   "metadata": {},
   "source": [
    "## Questions"
   ]
  },
  {
   "cell_type": "markdown",
   "id": "c0ed5ec1-d7b3-49a6-bf12-29420eab3a67",
   "metadata": {},
   "source": [
    "### Data Modifications"
   ]
  },
  {
   "cell_type": "markdown",
   "id": "8db18aad-c8b8-4fd4-994f-c008f279e1f6",
   "metadata": {},
   "source": [
    "1. Add a column with the sample year\n",
    "1. Add a column with the sample quarter (google how to)\n",
    "1. Add a new success column with values 1 and 0 for yes and no \n",
    "1. Are there any NaNs in the is_sever column? Count how many and create a new column with NaNs filled as False. Check that indeed the new column contaion no NaNs. \n",
    "1. Capitlize (first letter only) the is_success column (Inplace)"
   ]
  },
  {
   "cell_type": "markdown",
   "id": "c383a024-5af3-4f02-b67b-9dded36f07df",
   "metadata": {},
   "source": [
    "#### Q1"
   ]
  },
  {
   "cell_type": "code",
   "execution_count": 11,
   "id": "b17ffbf9-0907-44f3-ac46-a71c09864560",
   "metadata": {},
   "outputs": [],
   "source": [
    "def_new = ad_recs_annotated"
   ]
  },
  {
   "cell_type": "code",
   "execution_count": 12,
   "id": "cf7432cf-b3ba-456e-89e2-22b6e5a2d937",
   "metadata": {},
   "outputs": [],
   "source": [
    "def_new = pd.concat([def_new, def_new.week_id.apply(lambda str: str[0:4])], axis=1)\n",
    "def_new.columns = ['week_id', 'ad_id', 'requester', 'region', 'is_success', 'is_sever',\n",
    "       'recommendation_type', 'rec_provider', 'Year']"
   ]
  },
  {
   "cell_type": "code",
   "execution_count": 13,
   "id": "36d9d018-e552-495a-9731-5bab6b512d04",
   "metadata": {},
   "outputs": [
    {
     "data": {
      "text/html": [
       "<div>\n",
       "<style scoped>\n",
       "    .dataframe tbody tr th:only-of-type {\n",
       "        vertical-align: middle;\n",
       "    }\n",
       "\n",
       "    .dataframe tbody tr th {\n",
       "        vertical-align: top;\n",
       "    }\n",
       "\n",
       "    .dataframe thead th {\n",
       "        text-align: right;\n",
       "    }\n",
       "</style>\n",
       "<table border=\"1\" class=\"dataframe\">\n",
       "  <thead>\n",
       "    <tr style=\"text-align: right;\">\n",
       "      <th></th>\n",
       "      <th>week_id</th>\n",
       "      <th>ad_id</th>\n",
       "      <th>requester</th>\n",
       "      <th>region</th>\n",
       "      <th>is_success</th>\n",
       "      <th>is_sever</th>\n",
       "      <th>recommendation_type</th>\n",
       "      <th>rec_provider</th>\n",
       "      <th>Year</th>\n",
       "    </tr>\n",
       "  </thead>\n",
       "  <tbody>\n",
       "    <tr>\n",
       "      <th>128875</th>\n",
       "      <td>2021-week_41</td>\n",
       "      <td>AD00CNTK8L</td>\n",
       "      <td>Tab Solutions</td>\n",
       "      <td>US</td>\n",
       "      <td>yes</td>\n",
       "      <td>NaN</td>\n",
       "      <td>Qality</td>\n",
       "      <td>DNNQ</td>\n",
       "      <td>2021</td>\n",
       "    </tr>\n",
       "    <tr>\n",
       "      <th>138317</th>\n",
       "      <td>2021-week_42</td>\n",
       "      <td>AD07GWJQ8J</td>\n",
       "      <td>RelayFoods</td>\n",
       "      <td>JP</td>\n",
       "      <td>yes</td>\n",
       "      <td>NaN</td>\n",
       "      <td>Qality</td>\n",
       "      <td>DNNQ</td>\n",
       "      <td>2021</td>\n",
       "    </tr>\n",
       "    <tr>\n",
       "      <th>87251</th>\n",
       "      <td>2021-week_39</td>\n",
       "      <td>AD08XK8S77</td>\n",
       "      <td>iDreamsky Technology</td>\n",
       "      <td>DE</td>\n",
       "      <td>no</td>\n",
       "      <td>False</td>\n",
       "      <td>Qality</td>\n",
       "      <td>UserPopQ</td>\n",
       "      <td>2021</td>\n",
       "    </tr>\n",
       "    <tr>\n",
       "      <th>262804</th>\n",
       "      <td>2021-week_51</td>\n",
       "      <td>AD07QTDC6W</td>\n",
       "      <td>Search Million Culture</td>\n",
       "      <td>GB</td>\n",
       "      <td>yes</td>\n",
       "      <td>NaN</td>\n",
       "      <td>Qality</td>\n",
       "      <td>DNNQ</td>\n",
       "      <td>2021</td>\n",
       "    </tr>\n",
       "    <tr>\n",
       "      <th>111904</th>\n",
       "      <td>2021-week_40</td>\n",
       "      <td>AD078FVQNW</td>\n",
       "      <td>Fancy</td>\n",
       "      <td>US</td>\n",
       "      <td>yes</td>\n",
       "      <td>NaN</td>\n",
       "      <td>Qality</td>\n",
       "      <td>ManualQ</td>\n",
       "      <td>2021</td>\n",
       "    </tr>\n",
       "  </tbody>\n",
       "</table>\n",
       "</div>"
      ],
      "text/plain": [
       "             week_id       ad_id               requester region is_success  \\\n",
       "128875  2021-week_41  AD00CNTK8L           Tab Solutions     US        yes   \n",
       "138317  2021-week_42  AD07GWJQ8J              RelayFoods     JP        yes   \n",
       "87251   2021-week_39  AD08XK8S77    iDreamsky Technology     DE         no   \n",
       "262804  2021-week_51  AD07QTDC6W  Search Million Culture     GB        yes   \n",
       "111904  2021-week_40  AD078FVQNW                   Fancy     US        yes   \n",
       "\n",
       "       is_sever recommendation_type rec_provider  Year  \n",
       "128875      NaN              Qality         DNNQ  2021  \n",
       "138317      NaN              Qality         DNNQ  2021  \n",
       "87251     False              Qality     UserPopQ  2021  \n",
       "262804      NaN              Qality         DNNQ  2021  \n",
       "111904      NaN              Qality      ManualQ  2021  "
      ]
     },
     "execution_count": 13,
     "metadata": {},
     "output_type": "execute_result"
    }
   ],
   "source": [
    "def_new.sample(5)"
   ]
  },
  {
   "cell_type": "markdown",
   "id": "ebc9fa48-5dab-412c-9ad5-287e537ee419",
   "metadata": {},
   "source": [
    "#### Q2"
   ]
  },
  {
   "cell_type": "code",
   "execution_count": 14,
   "id": "34c58732-0cac-4a29-b206-115df2c9c914",
   "metadata": {},
   "outputs": [
    {
     "data": {
      "text/plain": [
       "<AxesSubplot:>"
      ]
     },
     "execution_count": 14,
     "metadata": {},
     "output_type": "execute_result"
    },
    {
     "data": {
      "image/png": "[encoded data removed]",
      "text/plain": [
       "<Figure size 432x288 with 1 Axes>"
      ]
     },
     "metadata": {
      "needs_background": "light"
     },
     "output_type": "display_data"
    }
   ],
   "source": [
    "num = def_new.week_id.apply(lambda str: str[(len(str)-2):len(str)]).astype(int)\n",
    "num = ((num - 1) // 13) + 1\n",
    "num.hist()"
   ]
  },
  {
   "cell_type": "code",
   "execution_count": 15,
   "id": "440d7bac-337c-40ce-a20e-8d1d0c5667e1",
   "metadata": {},
   "outputs": [
    {
     "data": {
      "text/plain": [
       "0         Quarter 3\n",
       "1         Quarter 3\n",
       "2         Quarter 3\n",
       "3         Quarter 3\n",
       "4         Quarter 3\n",
       "            ...    \n",
       "373783    Quarter 4\n",
       "373784    Quarter 4\n",
       "373785    Quarter 4\n",
       "373786    Quarter 4\n",
       "373787    Quarter 4\n",
       "Name: week_id, Length: 373788, dtype: object"
      ]
     },
     "execution_count": 15,
     "metadata": {},
     "output_type": "execute_result"
    }
   ],
   "source": [
    "quarter = num.apply(lambda q : f'Quarter {q}')\n",
    "quarter"
   ]
  },
  {
   "cell_type": "code",
   "execution_count": 16,
   "id": "11a9803a-3640-44ee-9317-7f1f725eeb78",
   "metadata": {},
   "outputs": [
    {
     "data": {
      "text/html": [
       "<div>\n",
       "<style scoped>\n",
       "    .dataframe tbody tr th:only-of-type {\n",
       "        vertical-align: middle;\n",
       "    }\n",
       "\n",
       "    .dataframe tbody tr th {\n",
       "        vertical-align: top;\n",
       "    }\n",
       "\n",
       "    .dataframe thead th {\n",
       "        text-align: right;\n",
       "    }\n",
       "</style>\n",
       "<table border=\"1\" class=\"dataframe\">\n",
       "  <thead>\n",
       "    <tr style=\"text-align: right;\">\n",
       "      <th></th>\n",
       "      <th>week_id</th>\n",
       "      <th>ad_id</th>\n",
       "      <th>requester</th>\n",
       "      <th>region</th>\n",
       "      <th>is_success</th>\n",
       "      <th>is_sever</th>\n",
       "      <th>recommendation_type</th>\n",
       "      <th>rec_provider</th>\n",
       "      <th>Year</th>\n",
       "      <th>Quarter</th>\n",
       "    </tr>\n",
       "  </thead>\n",
       "  <tbody>\n",
       "    <tr>\n",
       "      <th>271615</th>\n",
       "      <td>2022-week_01</td>\n",
       "      <td>AD07PX8V89</td>\n",
       "      <td>MoJoe Brewing Company</td>\n",
       "      <td>DE</td>\n",
       "      <td>yes</td>\n",
       "      <td>NaN</td>\n",
       "      <td>Yield</td>\n",
       "      <td>DNNY</td>\n",
       "      <td>2022</td>\n",
       "      <td>Quarter 1</td>\n",
       "    </tr>\n",
       "    <tr>\n",
       "      <th>271616</th>\n",
       "      <td>2022-week_01</td>\n",
       "      <td>AD08XFPDPN</td>\n",
       "      <td>Search Million Culture</td>\n",
       "      <td>DE</td>\n",
       "      <td>yes</td>\n",
       "      <td>NaN</td>\n",
       "      <td>Qality</td>\n",
       "      <td>DNNQ</td>\n",
       "      <td>2022</td>\n",
       "      <td>Quarter 1</td>\n",
       "    </tr>\n",
       "    <tr>\n",
       "      <th>271617</th>\n",
       "      <td>2022-week_01</td>\n",
       "      <td>AD079G86YX</td>\n",
       "      <td>RelayFoods</td>\n",
       "      <td>DE</td>\n",
       "      <td>yes</td>\n",
       "      <td>NaN</td>\n",
       "      <td>Qality</td>\n",
       "      <td>DNNQ</td>\n",
       "      <td>2022</td>\n",
       "      <td>Quarter 1</td>\n",
       "    </tr>\n",
       "    <tr>\n",
       "      <th>271618</th>\n",
       "      <td>2022-week_01</td>\n",
       "      <td>AD087J9J8D</td>\n",
       "      <td>Fry Multimedia</td>\n",
       "      <td>DE</td>\n",
       "      <td>yes</td>\n",
       "      <td>NaN</td>\n",
       "      <td>Qality</td>\n",
       "      <td>DNNQ</td>\n",
       "      <td>2022</td>\n",
       "      <td>Quarter 1</td>\n",
       "    </tr>\n",
       "    <tr>\n",
       "      <th>271619</th>\n",
       "      <td>2022-week_01</td>\n",
       "      <td>AD08DKR8JP</td>\n",
       "      <td>Search Million Culture</td>\n",
       "      <td>DE</td>\n",
       "      <td>yes</td>\n",
       "      <td>NaN</td>\n",
       "      <td>Qality</td>\n",
       "      <td>DNNQ</td>\n",
       "      <td>2022</td>\n",
       "      <td>Quarter 1</td>\n",
       "    </tr>\n",
       "    <tr>\n",
       "      <th>...</th>\n",
       "      <td>...</td>\n",
       "      <td>...</td>\n",
       "      <td>...</td>\n",
       "      <td>...</td>\n",
       "      <td>...</td>\n",
       "      <td>...</td>\n",
       "      <td>...</td>\n",
       "      <td>...</td>\n",
       "      <td>...</td>\n",
       "      <td>...</td>\n",
       "    </tr>\n",
       "    <tr>\n",
       "      <th>357853</th>\n",
       "      <td>2022-week_06</td>\n",
       "      <td>AD00WLORXN</td>\n",
       "      <td>Extreme DA</td>\n",
       "      <td>US</td>\n",
       "      <td>no</td>\n",
       "      <td>True</td>\n",
       "      <td>Yield</td>\n",
       "      <td>DNNY</td>\n",
       "      <td>2022</td>\n",
       "      <td>Quarter 1</td>\n",
       "    </tr>\n",
       "    <tr>\n",
       "      <th>357854</th>\n",
       "      <td>2022-week_06</td>\n",
       "      <td>AD008FU68J</td>\n",
       "      <td>Fancy</td>\n",
       "      <td>US</td>\n",
       "      <td>yes</td>\n",
       "      <td>NaN</td>\n",
       "      <td>Qality</td>\n",
       "      <td>RNNQ</td>\n",
       "      <td>2022</td>\n",
       "      <td>Quarter 1</td>\n",
       "    </tr>\n",
       "    <tr>\n",
       "      <th>357855</th>\n",
       "      <td>2022-week_06</td>\n",
       "      <td>AD098DJ8DJ</td>\n",
       "      <td>Extreme DA</td>\n",
       "      <td>US</td>\n",
       "      <td>no</td>\n",
       "      <td>False</td>\n",
       "      <td>Yield</td>\n",
       "      <td>RuleBasedY</td>\n",
       "      <td>2022</td>\n",
       "      <td>Quarter 1</td>\n",
       "    </tr>\n",
       "    <tr>\n",
       "      <th>357856</th>\n",
       "      <td>2022-week_06</td>\n",
       "      <td>AD096VCKMJ</td>\n",
       "      <td>Extreme DA</td>\n",
       "      <td>US</td>\n",
       "      <td>yes</td>\n",
       "      <td>NaN</td>\n",
       "      <td>Yield</td>\n",
       "      <td>RNNY</td>\n",
       "      <td>2022</td>\n",
       "      <td>Quarter 1</td>\n",
       "    </tr>\n",
       "    <tr>\n",
       "      <th>357857</th>\n",
       "      <td>2022-week_06</td>\n",
       "      <td>AD00I8IGWQ</td>\n",
       "      <td>Extreme DA</td>\n",
       "      <td>US</td>\n",
       "      <td>no</td>\n",
       "      <td>True</td>\n",
       "      <td>Yield</td>\n",
       "      <td>DNNY</td>\n",
       "      <td>2022</td>\n",
       "      <td>Quarter 1</td>\n",
       "    </tr>\n",
       "  </tbody>\n",
       "</table>\n",
       "<p>86243 rows × 10 columns</p>\n",
       "</div>"
      ],
      "text/plain": [
       "             week_id       ad_id               requester region is_success  \\\n",
       "271615  2022-week_01  AD07PX8V89   MoJoe Brewing Company     DE        yes   \n",
       "271616  2022-week_01  AD08XFPDPN  Search Million Culture     DE        yes   \n",
       "271617  2022-week_01  AD079G86YX              RelayFoods     DE        yes   \n",
       "271618  2022-week_01  AD087J9J8D          Fry Multimedia     DE        yes   \n",
       "271619  2022-week_01  AD08DKR8JP  Search Million Culture     DE        yes   \n",
       "...              ...         ...                     ...    ...        ...   \n",
       "357853  2022-week_06  AD00WLORXN              Extreme DA     US         no   \n",
       "357854  2022-week_06  AD008FU68J                   Fancy     US        yes   \n",
       "357855  2022-week_06  AD098DJ8DJ              Extreme DA     US         no   \n",
       "357856  2022-week_06  AD096VCKMJ              Extreme DA     US        yes   \n",
       "357857  2022-week_06  AD00I8IGWQ              Extreme DA     US         no   \n",
       "\n",
       "       is_sever recommendation_type rec_provider  Year    Quarter  \n",
       "271615      NaN               Yield         DNNY  2022  Quarter 1  \n",
       "271616      NaN              Qality         DNNQ  2022  Quarter 1  \n",
       "271617      NaN              Qality         DNNQ  2022  Quarter 1  \n",
       "271618      NaN              Qality         DNNQ  2022  Quarter 1  \n",
       "271619      NaN              Qality         DNNQ  2022  Quarter 1  \n",
       "...         ...                 ...          ...   ...        ...  \n",
       "357853     True               Yield         DNNY  2022  Quarter 1  \n",
       "357854      NaN              Qality         RNNQ  2022  Quarter 1  \n",
       "357855    False               Yield   RuleBasedY  2022  Quarter 1  \n",
       "357856      NaN               Yield         RNNY  2022  Quarter 1  \n",
       "357857     True               Yield         DNNY  2022  Quarter 1  \n",
       "\n",
       "[86243 rows x 10 columns]"
      ]
     },
     "execution_count": 16,
     "metadata": {},
     "output_type": "execute_result"
    }
   ],
   "source": [
    "def_new['Quarter'] = quarter\n",
    "def_new[def_new.Quarter == 'Quarter 1']"
   ]
  },
  {
   "cell_type": "markdown",
   "id": "0950ab94-bbf0-4809-a766-018a53d9d1bf",
   "metadata": {},
   "source": [
    "#### Q3"
   ]
  },
  {
   "cell_type": "code",
   "execution_count": 17,
   "id": "d19dbac5-3d17-449f-b348-fb3e7e58c689",
   "metadata": {},
   "outputs": [],
   "source": [
    "dict = {'yes':1,'no':0}\n",
    "def_new['binary_success'] = def_new.is_success.map(dict)"
   ]
  },
  {
   "cell_type": "code",
   "execution_count": 18,
   "id": "ca504b25-554a-4048-93af-1d2cf67f536b",
   "metadata": {},
   "outputs": [
    {
     "data": {
      "text/html": [
       "<div>\n",
       "<style scoped>\n",
       "    .dataframe tbody tr th:only-of-type {\n",
       "        vertical-align: middle;\n",
       "    }\n",
       "\n",
       "    .dataframe tbody tr th {\n",
       "        vertical-align: top;\n",
       "    }\n",
       "\n",
       "    .dataframe thead th {\n",
       "        text-align: right;\n",
       "    }\n",
       "</style>\n",
       "<table border=\"1\" class=\"dataframe\">\n",
       "  <thead>\n",
       "    <tr style=\"text-align: right;\">\n",
       "      <th></th>\n",
       "      <th>week_id</th>\n",
       "      <th>ad_id</th>\n",
       "      <th>requester</th>\n",
       "      <th>region</th>\n",
       "      <th>is_success</th>\n",
       "      <th>is_sever</th>\n",
       "      <th>recommendation_type</th>\n",
       "      <th>rec_provider</th>\n",
       "      <th>Year</th>\n",
       "      <th>Quarter</th>\n",
       "      <th>binary_success</th>\n",
       "    </tr>\n",
       "  </thead>\n",
       "  <tbody>\n",
       "    <tr>\n",
       "      <th>270613</th>\n",
       "      <td>2021-week_51</td>\n",
       "      <td>AD079R787S</td>\n",
       "      <td>Extreme DA</td>\n",
       "      <td>US</td>\n",
       "      <td>yes</td>\n",
       "      <td>NaN</td>\n",
       "      <td>Yield</td>\n",
       "      <td>RNNY</td>\n",
       "      <td>2021</td>\n",
       "      <td>Quarter 4</td>\n",
       "      <td>1</td>\n",
       "    </tr>\n",
       "    <tr>\n",
       "      <th>197022</th>\n",
       "      <td>2021-week_46</td>\n",
       "      <td>AD0080TQGR</td>\n",
       "      <td>RelayFoods</td>\n",
       "      <td>JP</td>\n",
       "      <td>no</td>\n",
       "      <td>True</td>\n",
       "      <td>Qality</td>\n",
       "      <td>DNNQ</td>\n",
       "      <td>2021</td>\n",
       "      <td>Quarter 4</td>\n",
       "      <td>0</td>\n",
       "    </tr>\n",
       "    <tr>\n",
       "      <th>278406</th>\n",
       "      <td>2022-week_01</td>\n",
       "      <td>AD07T8NWDJ</td>\n",
       "      <td>MoJoe Brewing Company</td>\n",
       "      <td>IN</td>\n",
       "      <td>yes</td>\n",
       "      <td>NaN</td>\n",
       "      <td>Yield</td>\n",
       "      <td>UserPopY</td>\n",
       "      <td>2022</td>\n",
       "      <td>Quarter 1</td>\n",
       "      <td>1</td>\n",
       "    </tr>\n",
       "    <tr>\n",
       "      <th>330506</th>\n",
       "      <td>2022-week_05</td>\n",
       "      <td>AD0888CXDD</td>\n",
       "      <td>Search Million Culture</td>\n",
       "      <td>DE</td>\n",
       "      <td>yes</td>\n",
       "      <td>NaN</td>\n",
       "      <td>Qality</td>\n",
       "      <td>DNNQ</td>\n",
       "      <td>2022</td>\n",
       "      <td>Quarter 1</td>\n",
       "      <td>1</td>\n",
       "    </tr>\n",
       "    <tr>\n",
       "      <th>191165</th>\n",
       "      <td>2021-week_46</td>\n",
       "      <td>AD008MZV8O</td>\n",
       "      <td>Fancy</td>\n",
       "      <td>GB</td>\n",
       "      <td>yes</td>\n",
       "      <td>NaN</td>\n",
       "      <td>Qality</td>\n",
       "      <td>ManualQ</td>\n",
       "      <td>2021</td>\n",
       "      <td>Quarter 4</td>\n",
       "      <td>1</td>\n",
       "    </tr>\n",
       "    <tr>\n",
       "      <th>329239</th>\n",
       "      <td>2022-week_05</td>\n",
       "      <td>AD08PMJYPR</td>\n",
       "      <td>MoJoe Brewing Company</td>\n",
       "      <td>DE</td>\n",
       "      <td>no</td>\n",
       "      <td>True</td>\n",
       "      <td>Yield</td>\n",
       "      <td>UserPopY</td>\n",
       "      <td>2022</td>\n",
       "      <td>Quarter 1</td>\n",
       "      <td>0</td>\n",
       "    </tr>\n",
       "    <tr>\n",
       "      <th>36068</th>\n",
       "      <td>2021-week_35</td>\n",
       "      <td>AD08HGCLUH</td>\n",
       "      <td>Puentes Company</td>\n",
       "      <td>IN</td>\n",
       "      <td>yes</td>\n",
       "      <td>NaN</td>\n",
       "      <td>Yield</td>\n",
       "      <td>ManualQ</td>\n",
       "      <td>2021</td>\n",
       "      <td>Quarter 3</td>\n",
       "      <td>1</td>\n",
       "    </tr>\n",
       "    <tr>\n",
       "      <th>120708</th>\n",
       "      <td>2021-week_41</td>\n",
       "      <td>AD00PXJWJJ</td>\n",
       "      <td>Search Million Culture</td>\n",
       "      <td>IN</td>\n",
       "      <td>yes</td>\n",
       "      <td>NaN</td>\n",
       "      <td>Qality</td>\n",
       "      <td>ManualQ</td>\n",
       "      <td>2021</td>\n",
       "      <td>Quarter 4</td>\n",
       "      <td>1</td>\n",
       "    </tr>\n",
       "    <tr>\n",
       "      <th>153836</th>\n",
       "      <td>2021-week_43</td>\n",
       "      <td>AD089Y6W8K</td>\n",
       "      <td>RelayFoods</td>\n",
       "      <td>JP</td>\n",
       "      <td>yes</td>\n",
       "      <td>NaN</td>\n",
       "      <td>Qality</td>\n",
       "      <td>DNNQ</td>\n",
       "      <td>2021</td>\n",
       "      <td>Quarter 4</td>\n",
       "      <td>1</td>\n",
       "    </tr>\n",
       "    <tr>\n",
       "      <th>318914</th>\n",
       "      <td>2022-week_04</td>\n",
       "      <td>AD008TEZHW</td>\n",
       "      <td>Fancy</td>\n",
       "      <td>GB</td>\n",
       "      <td>yes</td>\n",
       "      <td>NaN</td>\n",
       "      <td>Qality</td>\n",
       "      <td>DNNQ</td>\n",
       "      <td>2022</td>\n",
       "      <td>Quarter 1</td>\n",
       "      <td>1</td>\n",
       "    </tr>\n",
       "  </tbody>\n",
       "</table>\n",
       "</div>"
      ],
      "text/plain": [
       "             week_id       ad_id               requester region is_success  \\\n",
       "270613  2021-week_51  AD079R787S              Extreme DA     US        yes   \n",
       "197022  2021-week_46  AD0080TQGR              RelayFoods     JP         no   \n",
       "278406  2022-week_01  AD07T8NWDJ   MoJoe Brewing Company     IN        yes   \n",
       "330506  2022-week_05  AD0888CXDD  Search Million Culture     DE        yes   \n",
       "191165  2021-week_46  AD008MZV8O                   Fancy     GB        yes   \n",
       "329239  2022-week_05  AD08PMJYPR   MoJoe Brewing Company     DE         no   \n",
       "36068   2021-week_35  AD08HGCLUH         Puentes Company     IN        yes   \n",
       "120708  2021-week_41  AD00PXJWJJ  Search Million Culture     IN        yes   \n",
       "153836  2021-week_43  AD089Y6W8K              RelayFoods     JP        yes   \n",
       "318914  2022-week_04  AD008TEZHW                   Fancy     GB        yes   \n",
       "\n",
       "       is_sever recommendation_type rec_provider  Year    Quarter  \\\n",
       "270613      NaN               Yield         RNNY  2021  Quarter 4   \n",
       "197022     True              Qality         DNNQ  2021  Quarter 4   \n",
       "278406      NaN               Yield     UserPopY  2022  Quarter 1   \n",
       "330506      NaN              Qality         DNNQ  2022  Quarter 1   \n",
       "191165      NaN              Qality      ManualQ  2021  Quarter 4   \n",
       "329239     True               Yield     UserPopY  2022  Quarter 1   \n",
       "36068       NaN               Yield      ManualQ  2021  Quarter 3   \n",
       "120708      NaN              Qality      ManualQ  2021  Quarter 4   \n",
       "153836      NaN              Qality         DNNQ  2021  Quarter 4   \n",
       "318914      NaN              Qality         DNNQ  2022  Quarter 1   \n",
       "\n",
       "        binary_success  \n",
       "270613               1  \n",
       "197022               0  \n",
       "278406               1  \n",
       "330506               1  \n",
       "191165               1  \n",
       "329239               0  \n",
       "36068                1  \n",
       "120708               1  \n",
       "153836               1  \n",
       "318914               1  "
      ]
     },
     "execution_count": 18,
     "metadata": {},
     "output_type": "execute_result"
    }
   ],
   "source": [
    "def_new.sample(10)"
   ]
  },
  {
   "cell_type": "markdown",
   "id": "30f346ca-ca18-440e-8024-78aa8b03b12b",
   "metadata": {},
   "source": [
    "#### Q4"
   ]
  },
  {
   "cell_type": "code",
   "execution_count": 19,
   "id": "38cca49e-2ef2-40c4-8961-6b67e39aba72",
   "metadata": {},
   "outputs": [
    {
     "data": {
      "text/html": [
       "<div>\n",
       "<style scoped>\n",
       "    .dataframe tbody tr th:only-of-type {\n",
       "        vertical-align: middle;\n",
       "    }\n",
       "\n",
       "    .dataframe tbody tr th {\n",
       "        vertical-align: top;\n",
       "    }\n",
       "\n",
       "    .dataframe thead th {\n",
       "        text-align: right;\n",
       "    }\n",
       "</style>\n",
       "<table border=\"1\" class=\"dataframe\">\n",
       "  <thead>\n",
       "    <tr style=\"text-align: right;\">\n",
       "      <th></th>\n",
       "      <th>ad_id</th>\n",
       "    </tr>\n",
       "    <tr>\n",
       "      <th>is_sever</th>\n",
       "      <th></th>\n",
       "    </tr>\n",
       "  </thead>\n",
       "  <tbody>\n",
       "    <tr>\n",
       "      <th>False</th>\n",
       "      <td>24904</td>\n",
       "    </tr>\n",
       "    <tr>\n",
       "      <th>True</th>\n",
       "      <td>44689</td>\n",
       "    </tr>\n",
       "    <tr>\n",
       "      <th>NaN</th>\n",
       "      <td>304195</td>\n",
       "    </tr>\n",
       "  </tbody>\n",
       "</table>\n",
       "</div>"
      ],
      "text/plain": [
       "           ad_id\n",
       "is_sever        \n",
       "False      24904\n",
       "True       44689\n",
       "NaN       304195"
      ]
     },
     "execution_count": 19,
     "metadata": {},
     "output_type": "execute_result"
    }
   ],
   "source": [
    "def_new[['is_sever','ad_id']].groupby('is_sever',dropna=False).count()"
   ]
  },
  {
   "cell_type": "code",
   "execution_count": 20,
   "id": "9dec46de-4a09-4779-a476-7c96437ecb65",
   "metadata": {},
   "outputs": [
    {
     "data": {
      "text/html": [
       "<div>\n",
       "<style scoped>\n",
       "    .dataframe tbody tr th:only-of-type {\n",
       "        vertical-align: middle;\n",
       "    }\n",
       "\n",
       "    .dataframe tbody tr th {\n",
       "        vertical-align: top;\n",
       "    }\n",
       "\n",
       "    .dataframe thead th {\n",
       "        text-align: right;\n",
       "    }\n",
       "</style>\n",
       "<table border=\"1\" class=\"dataframe\">\n",
       "  <thead>\n",
       "    <tr style=\"text-align: right;\">\n",
       "      <th></th>\n",
       "      <th>ad_id</th>\n",
       "    </tr>\n",
       "    <tr>\n",
       "      <th>is_sever_full</th>\n",
       "      <th></th>\n",
       "    </tr>\n",
       "  </thead>\n",
       "  <tbody>\n",
       "    <tr>\n",
       "      <th>False</th>\n",
       "      <td>24904</td>\n",
       "    </tr>\n",
       "    <tr>\n",
       "      <th>True</th>\n",
       "      <td>44689</td>\n",
       "    </tr>\n",
       "    <tr>\n",
       "      <th>False</th>\n",
       "      <td>304195</td>\n",
       "    </tr>\n",
       "  </tbody>\n",
       "</table>\n",
       "</div>"
      ],
      "text/plain": [
       "                ad_id\n",
       "is_sever_full        \n",
       "False           24904\n",
       "True            44689\n",
       "False          304195"
      ]
     },
     "execution_count": 20,
     "metadata": {},
     "output_type": "execute_result"
    }
   ],
   "source": [
    "def_new['is_sever_full'] = def_new['is_sever'].fillna('False')\n",
    "def_new[['is_sever_full','ad_id']].groupby('is_sever_full',dropna=False).count()"
   ]
  },
  {
   "cell_type": "code",
   "execution_count": 21,
   "id": "4454333c-4e01-47a4-903b-8255625bf57f",
   "metadata": {},
   "outputs": [
    {
     "data": {
      "text/plain": [
       "0"
      ]
     },
     "execution_count": 21,
     "metadata": {},
     "output_type": "execute_result"
    }
   ],
   "source": [
    "def_new[def_new.is_sever_full.isnull()].shape[0]"
   ]
  },
  {
   "cell_type": "markdown",
   "id": "44e6bab2-a743-4fd7-b36e-3e328fd3ac8d",
   "metadata": {},
   "source": [
    "#### Q5"
   ]
  },
  {
   "cell_type": "code",
   "execution_count": 22,
   "id": "7ee39a8a-a92e-4ab6-b352-89f6d200ceb7",
   "metadata": {},
   "outputs": [
    {
     "data": {
      "text/html": [
       "<div>\n",
       "<style scoped>\n",
       "    .dataframe tbody tr th:only-of-type {\n",
       "        vertical-align: middle;\n",
       "    }\n",
       "\n",
       "    .dataframe tbody tr th {\n",
       "        vertical-align: top;\n",
       "    }\n",
       "\n",
       "    .dataframe thead th {\n",
       "        text-align: right;\n",
       "    }\n",
       "</style>\n",
       "<table border=\"1\" class=\"dataframe\">\n",
       "  <thead>\n",
       "    <tr style=\"text-align: right;\">\n",
       "      <th></th>\n",
       "      <th>week_id</th>\n",
       "      <th>ad_id</th>\n",
       "      <th>requester</th>\n",
       "      <th>region</th>\n",
       "      <th>is_success</th>\n",
       "      <th>is_sever</th>\n",
       "      <th>recommendation_type</th>\n",
       "      <th>rec_provider</th>\n",
       "      <th>Year</th>\n",
       "      <th>Quarter</th>\n",
       "      <th>binary_success</th>\n",
       "      <th>is_sever_full</th>\n",
       "    </tr>\n",
       "  </thead>\n",
       "  <tbody>\n",
       "    <tr>\n",
       "      <th>302211</th>\n",
       "      <td>2022-week_03</td>\n",
       "      <td>AD07HS7T8P</td>\n",
       "      <td>RelayFoods</td>\n",
       "      <td>DE</td>\n",
       "      <td>No</td>\n",
       "      <td>True</td>\n",
       "      <td>Qality</td>\n",
       "      <td>DNNQ</td>\n",
       "      <td>2022</td>\n",
       "      <td>Quarter 1</td>\n",
       "      <td>0</td>\n",
       "      <td>True</td>\n",
       "    </tr>\n",
       "    <tr>\n",
       "      <th>126295</th>\n",
       "      <td>2021-week_41</td>\n",
       "      <td>AD097T9JN8</td>\n",
       "      <td>Extreme DA</td>\n",
       "      <td>US</td>\n",
       "      <td>Yes</td>\n",
       "      <td>NaN</td>\n",
       "      <td>Yield</td>\n",
       "      <td>RNNY</td>\n",
       "      <td>2021</td>\n",
       "      <td>Quarter 4</td>\n",
       "      <td>1</td>\n",
       "      <td>False</td>\n",
       "    </tr>\n",
       "    <tr>\n",
       "      <th>131613</th>\n",
       "      <td>2021-week_42</td>\n",
       "      <td>AD088FY8NW</td>\n",
       "      <td>RelayFoods</td>\n",
       "      <td>DE</td>\n",
       "      <td>Yes</td>\n",
       "      <td>NaN</td>\n",
       "      <td>Qality</td>\n",
       "      <td>DNNQ</td>\n",
       "      <td>2021</td>\n",
       "      <td>Quarter 4</td>\n",
       "      <td>1</td>\n",
       "      <td>False</td>\n",
       "    </tr>\n",
       "    <tr>\n",
       "      <th>210958</th>\n",
       "      <td>2021-week_47</td>\n",
       "      <td>AD08JVQDTG</td>\n",
       "      <td>RelayFoods</td>\n",
       "      <td>JP</td>\n",
       "      <td>No</td>\n",
       "      <td>True</td>\n",
       "      <td>Qality</td>\n",
       "      <td>DNNQ</td>\n",
       "      <td>2021</td>\n",
       "      <td>Quarter 4</td>\n",
       "      <td>0</td>\n",
       "      <td>True</td>\n",
       "    </tr>\n",
       "    <tr>\n",
       "      <th>130949</th>\n",
       "      <td>2021-week_42</td>\n",
       "      <td>AD08C88N8F</td>\n",
       "      <td>Search Million Culture</td>\n",
       "      <td>DE</td>\n",
       "      <td>Yes</td>\n",
       "      <td>NaN</td>\n",
       "      <td>Qality</td>\n",
       "      <td>DNNQ</td>\n",
       "      <td>2021</td>\n",
       "      <td>Quarter 4</td>\n",
       "      <td>1</td>\n",
       "      <td>False</td>\n",
       "    </tr>\n",
       "    <tr>\n",
       "      <th>327835</th>\n",
       "      <td>2022-week_04</td>\n",
       "      <td>AD09KLSGJJ</td>\n",
       "      <td>Extreme DA</td>\n",
       "      <td>US</td>\n",
       "      <td>No</td>\n",
       "      <td>False</td>\n",
       "      <td>Yield</td>\n",
       "      <td>RuleBasedY</td>\n",
       "      <td>2022</td>\n",
       "      <td>Quarter 1</td>\n",
       "      <td>0</td>\n",
       "      <td>False</td>\n",
       "    </tr>\n",
       "    <tr>\n",
       "      <th>40843</th>\n",
       "      <td>2021-week_35</td>\n",
       "      <td>AD08IAIJTO</td>\n",
       "      <td>iDreamsky Technology</td>\n",
       "      <td>US</td>\n",
       "      <td>Yes</td>\n",
       "      <td>NaN</td>\n",
       "      <td>Qality</td>\n",
       "      <td>RNNQ</td>\n",
       "      <td>2021</td>\n",
       "      <td>Quarter 3</td>\n",
       "      <td>1</td>\n",
       "      <td>False</td>\n",
       "    </tr>\n",
       "    <tr>\n",
       "      <th>265122</th>\n",
       "      <td>2021-week_51</td>\n",
       "      <td>AD08HZSQOI</td>\n",
       "      <td>MoJoe Brewing Company</td>\n",
       "      <td>IN</td>\n",
       "      <td>No</td>\n",
       "      <td>True</td>\n",
       "      <td>Yield</td>\n",
       "      <td>RuleBasedY</td>\n",
       "      <td>2021</td>\n",
       "      <td>Quarter 4</td>\n",
       "      <td>0</td>\n",
       "      <td>True</td>\n",
       "    </tr>\n",
       "    <tr>\n",
       "      <th>101107</th>\n",
       "      <td>2021-week_40</td>\n",
       "      <td>AD0888S8T8</td>\n",
       "      <td>Search Million Culture</td>\n",
       "      <td>DE</td>\n",
       "      <td>No</td>\n",
       "      <td>False</td>\n",
       "      <td>Qality</td>\n",
       "      <td>UserPopQ</td>\n",
       "      <td>2021</td>\n",
       "      <td>Quarter 4</td>\n",
       "      <td>0</td>\n",
       "      <td>False</td>\n",
       "    </tr>\n",
       "    <tr>\n",
       "      <th>234393</th>\n",
       "      <td>2021-week_49</td>\n",
       "      <td>AD098RN7R8</td>\n",
       "      <td>RelayFoods</td>\n",
       "      <td>GB</td>\n",
       "      <td>Yes</td>\n",
       "      <td>NaN</td>\n",
       "      <td>Qality</td>\n",
       "      <td>DNNQ</td>\n",
       "      <td>2021</td>\n",
       "      <td>Quarter 4</td>\n",
       "      <td>1</td>\n",
       "      <td>False</td>\n",
       "    </tr>\n",
       "  </tbody>\n",
       "</table>\n",
       "</div>"
      ],
      "text/plain": [
       "             week_id       ad_id               requester region is_success  \\\n",
       "302211  2022-week_03  AD07HS7T8P              RelayFoods     DE         No   \n",
       "126295  2021-week_41  AD097T9JN8              Extreme DA     US        Yes   \n",
       "131613  2021-week_42  AD088FY8NW              RelayFoods     DE        Yes   \n",
       "210958  2021-week_47  AD08JVQDTG              RelayFoods     JP         No   \n",
       "130949  2021-week_42  AD08C88N8F  Search Million Culture     DE        Yes   \n",
       "327835  2022-week_04  AD09KLSGJJ              Extreme DA     US         No   \n",
       "40843   2021-week_35  AD08IAIJTO    iDreamsky Technology     US        Yes   \n",
       "265122  2021-week_51  AD08HZSQOI   MoJoe Brewing Company     IN         No   \n",
       "101107  2021-week_40  AD0888S8T8  Search Million Culture     DE         No   \n",
       "234393  2021-week_49  AD098RN7R8              RelayFoods     GB        Yes   \n",
       "\n",
       "       is_sever recommendation_type rec_provider  Year    Quarter  \\\n",
       "302211     True              Qality         DNNQ  2022  Quarter 1   \n",
       "126295      NaN               Yield         RNNY  2021  Quarter 4   \n",
       "131613      NaN              Qality         DNNQ  2021  Quarter 4   \n",
       "210958     True              Qality         DNNQ  2021  Quarter 4   \n",
       "130949      NaN              Qality         DNNQ  2021  Quarter 4   \n",
       "327835    False               Yield   RuleBasedY  2022  Quarter 1   \n",
       "40843       NaN              Qality         RNNQ  2021  Quarter 3   \n",
       "265122     True               Yield   RuleBasedY  2021  Quarter 4   \n",
       "101107    False              Qality     UserPopQ  2021  Quarter 4   \n",
       "234393      NaN              Qality         DNNQ  2021  Quarter 4   \n",
       "\n",
       "        binary_success is_sever_full  \n",
       "302211               0          True  \n",
       "126295               1         False  \n",
       "131613               1         False  \n",
       "210958               0          True  \n",
       "130949               1         False  \n",
       "327835               0         False  \n",
       "40843                1         False  \n",
       "265122               0          True  \n",
       "101107               0         False  \n",
       "234393               1         False  "
      ]
     },
     "execution_count": 22,
     "metadata": {},
     "output_type": "execute_result"
    }
   ],
   "source": [
    "def_new.is_success = def_new.is_success.str.capitalize()\n",
    "def_new.sample(10)"
   ]
  },
  {
   "cell_type": "markdown",
   "id": "e1a4707e-5673-4bec-bf9a-51aaf633b09f",
   "metadata": {},
   "source": [
    "### Subset selection"
   ]
  },
  {
   "cell_type": "markdown",
   "id": "6e4087a0-8706-471d-ae78-d9c47534f6b8",
   "metadata": {},
   "source": [
    "for each question, sub-select the data by using the conditional selection (`[]`) and the `.query` API. Use `.shape` on the subselection to obtain the result.  \n",
    "For example:\n",
    "`df.query('some_condition').shape`"
   ]
  },
  {
   "cell_type": "markdown",
   "id": "df326ef2-83c4-400f-bb51-f47db2401ee3",
   "metadata": {},
   "source": [
    "1. How many requests are there in US region? \n",
    "1. How many **successful** requests are there in US region? \n",
    "1. How many **successful** requests are there in US region, on week 52?\n",
    "1. How many requests where delivered by DNNQ, RNNY and UserPopQ together? \n",
    "1. How many requests where delivered by rule based providers? \n",
    "1. Select only the requests from 2021 - How many are there? \n",
    "1. Select the reqeusts from week 30 to week 40 - How many are there? \n",
    "1. Select all the data that comes from the most popular Ad\n",
    "1. Select all the data that comes from the least popular provider\n",
    "1. Select the data in which is_sever is None. How big is it? \n",
    "1. Select the data in which the requester is a 3 word company\n",
    "1. Select the data in which the requester is a 3 word company, and the ad_id has the letter 6 in it\n",
    "1. Select the data in which the requester is a 3 word company, and the multiplication of all the numbers in the ad_id is bigger than 30"
   ]
  },
  {
   "cell_type": "markdown",
   "id": "2041d2ae-b351-41d9-a994-31e389f90ad1",
   "metadata": {},
   "source": [
    "#### Q1"
   ]
  },
  {
   "cell_type": "code",
   "execution_count": 23,
   "id": "93138912-e4e5-4d44-b22a-8e8c677d57ce",
   "metadata": {},
   "outputs": [
    {
     "data": {
      "text/plain": [
       "103846"
      ]
     },
     "execution_count": 23,
     "metadata": {},
     "output_type": "execute_result"
    }
   ],
   "source": [
    "def_new.query('region == \"US\"').shape[0]"
   ]
  },
  {
   "cell_type": "markdown",
   "id": "0600a5a1-7c66-4dd3-a8af-0344a7c00909",
   "metadata": {},
   "source": [
    "#### Q2"
   ]
  },
  {
   "cell_type": "code",
   "execution_count": 24,
   "id": "a44c33a7-2618-481b-bb53-0850ac93b01f",
   "metadata": {},
   "outputs": [
    {
     "data": {
      "text/plain": [
       "88918"
      ]
     },
     "execution_count": 24,
     "metadata": {},
     "output_type": "execute_result"
    }
   ],
   "source": [
    "def_new.query('region == \"US\" and is_success == \"Yes\"').shape[0]"
   ]
  },
  {
   "cell_type": "markdown",
   "id": "ee7a1415-a1b2-4511-9660-37218594fd16",
   "metadata": {},
   "source": [
    "#### Q3"
   ]
  },
  {
   "cell_type": "code",
   "execution_count": 25,
   "id": "562f583e-0c81-41b4-833b-607a6afa3783",
   "metadata": {},
   "outputs": [
    {
     "data": {
      "text/plain": [
       "3342"
      ]
     },
     "execution_count": 25,
     "metadata": {},
     "output_type": "execute_result"
    }
   ],
   "source": [
    "def_new[def_new.week_id.str.endswith('52', na=False)].query('region == \"US\" and is_success == \"Yes\"').shape[0]\n"
   ]
  },
  {
   "cell_type": "markdown",
   "id": "9d1f3739-a6a9-403e-ac8f-d6b6d9f09914",
   "metadata": {},
   "source": [
    "#### Q4"
   ]
  },
  {
   "cell_type": "code",
   "execution_count": 26,
   "id": "fab72491-101d-4720-bf14-8d2a62c2c5d2",
   "metadata": {},
   "outputs": [
    {
     "data": {
      "text/plain": [
       "200093"
      ]
     },
     "execution_count": 26,
     "metadata": {},
     "output_type": "execute_result"
    }
   ],
   "source": [
    "def_new.query('rec_provider == \"DNNQ\" or rec_provider == \"RNNY\" or rec_provider == \"UserPopQ\"').shape[0]"
   ]
  },
  {
   "cell_type": "markdown",
   "id": "54e51f10-16ea-4c09-9ba1-54048eb7cd71",
   "metadata": {},
   "source": [
    "#### Q5"
   ]
  },
  {
   "cell_type": "code",
   "execution_count": 27,
   "id": "1004c5ea-bb51-4cfc-9105-e7bfe3befeb3",
   "metadata": {},
   "outputs": [
    {
     "data": {
      "text/html": [
       "<div>\n",
       "<style scoped>\n",
       "    .dataframe tbody tr th:only-of-type {\n",
       "        vertical-align: middle;\n",
       "    }\n",
       "\n",
       "    .dataframe tbody tr th {\n",
       "        vertical-align: top;\n",
       "    }\n",
       "\n",
       "    .dataframe thead th {\n",
       "        text-align: right;\n",
       "    }\n",
       "</style>\n",
       "<table border=\"1\" class=\"dataframe\">\n",
       "  <thead>\n",
       "    <tr style=\"text-align: right;\">\n",
       "      <th></th>\n",
       "      <th>week_id</th>\n",
       "      <th>ad_id</th>\n",
       "      <th>requester</th>\n",
       "      <th>region</th>\n",
       "      <th>is_success</th>\n",
       "      <th>is_sever</th>\n",
       "      <th>recommendation_type</th>\n",
       "      <th>Year</th>\n",
       "      <th>Quarter</th>\n",
       "      <th>binary_success</th>\n",
       "      <th>is_sever_full</th>\n",
       "    </tr>\n",
       "    <tr>\n",
       "      <th>rec_provider</th>\n",
       "      <th></th>\n",
       "      <th></th>\n",
       "      <th></th>\n",
       "      <th></th>\n",
       "      <th></th>\n",
       "      <th></th>\n",
       "      <th></th>\n",
       "      <th></th>\n",
       "      <th></th>\n",
       "      <th></th>\n",
       "      <th></th>\n",
       "    </tr>\n",
       "  </thead>\n",
       "  <tbody>\n",
       "    <tr>\n",
       "      <th>BooksQ</th>\n",
       "      <td>1720</td>\n",
       "      <td>1720</td>\n",
       "      <td>1720</td>\n",
       "      <td>1720</td>\n",
       "      <td>1720</td>\n",
       "      <td>281</td>\n",
       "      <td>1720</td>\n",
       "      <td>1720</td>\n",
       "      <td>1720</td>\n",
       "      <td>1720</td>\n",
       "      <td>1720</td>\n",
       "    </tr>\n",
       "    <tr>\n",
       "      <th>BooksY</th>\n",
       "      <td>4150</td>\n",
       "      <td>4150</td>\n",
       "      <td>4150</td>\n",
       "      <td>4150</td>\n",
       "      <td>4150</td>\n",
       "      <td>84</td>\n",
       "      <td>4150</td>\n",
       "      <td>4150</td>\n",
       "      <td>4150</td>\n",
       "      <td>4150</td>\n",
       "      <td>4150</td>\n",
       "    </tr>\n",
       "    <tr>\n",
       "      <th>DNNQ</th>\n",
       "      <td>117424</td>\n",
       "      <td>117424</td>\n",
       "      <td>117424</td>\n",
       "      <td>117424</td>\n",
       "      <td>117424</td>\n",
       "      <td>16632</td>\n",
       "      <td>117424</td>\n",
       "      <td>117424</td>\n",
       "      <td>117424</td>\n",
       "      <td>117424</td>\n",
       "      <td>117424</td>\n",
       "    </tr>\n",
       "    <tr>\n",
       "      <th>DNNY</th>\n",
       "      <td>45116</td>\n",
       "      <td>45116</td>\n",
       "      <td>45116</td>\n",
       "      <td>45116</td>\n",
       "      <td>45116</td>\n",
       "      <td>5110</td>\n",
       "      <td>45116</td>\n",
       "      <td>45116</td>\n",
       "      <td>45116</td>\n",
       "      <td>45116</td>\n",
       "      <td>45116</td>\n",
       "    </tr>\n",
       "    <tr>\n",
       "      <th>ManualQ</th>\n",
       "      <td>13844</td>\n",
       "      <td>13844</td>\n",
       "      <td>13844</td>\n",
       "      <td>13844</td>\n",
       "      <td>13844</td>\n",
       "      <td>650</td>\n",
       "      <td>13844</td>\n",
       "      <td>13844</td>\n",
       "      <td>13844</td>\n",
       "      <td>13844</td>\n",
       "      <td>13844</td>\n",
       "    </tr>\n",
       "    <tr>\n",
       "      <th>ManualY</th>\n",
       "      <td>1982</td>\n",
       "      <td>1982</td>\n",
       "      <td>1982</td>\n",
       "      <td>1982</td>\n",
       "      <td>1982</td>\n",
       "      <td>187</td>\n",
       "      <td>1982</td>\n",
       "      <td>1982</td>\n",
       "      <td>1982</td>\n",
       "      <td>1982</td>\n",
       "      <td>1982</td>\n",
       "    </tr>\n",
       "    <tr>\n",
       "      <th>RNNQ</th>\n",
       "      <td>20983</td>\n",
       "      <td>20983</td>\n",
       "      <td>20983</td>\n",
       "      <td>20983</td>\n",
       "      <td>20983</td>\n",
       "      <td>2045</td>\n",
       "      <td>20983</td>\n",
       "      <td>20983</td>\n",
       "      <td>20983</td>\n",
       "      <td>20983</td>\n",
       "      <td>20983</td>\n",
       "    </tr>\n",
       "    <tr>\n",
       "      <th>RNNY</th>\n",
       "      <td>12732</td>\n",
       "      <td>12732</td>\n",
       "      <td>12732</td>\n",
       "      <td>12732</td>\n",
       "      <td>12732</td>\n",
       "      <td>1024</td>\n",
       "      <td>12732</td>\n",
       "      <td>12732</td>\n",
       "      <td>12732</td>\n",
       "      <td>12732</td>\n",
       "      <td>12732</td>\n",
       "    </tr>\n",
       "    <tr>\n",
       "      <th>RuleBased</th>\n",
       "      <td>182</td>\n",
       "      <td>182</td>\n",
       "      <td>182</td>\n",
       "      <td>182</td>\n",
       "      <td>182</td>\n",
       "      <td>6</td>\n",
       "      <td>182</td>\n",
       "      <td>182</td>\n",
       "      <td>182</td>\n",
       "      <td>182</td>\n",
       "      <td>182</td>\n",
       "    </tr>\n",
       "    <tr>\n",
       "      <th>RuleBasedY</th>\n",
       "      <td>28154</td>\n",
       "      <td>28154</td>\n",
       "      <td>28154</td>\n",
       "      <td>28154</td>\n",
       "      <td>28154</td>\n",
       "      <td>11977</td>\n",
       "      <td>28154</td>\n",
       "      <td>28154</td>\n",
       "      <td>28154</td>\n",
       "      <td>28154</td>\n",
       "      <td>28154</td>\n",
       "    </tr>\n",
       "    <tr>\n",
       "      <th>UserPopQ</th>\n",
       "      <td>69937</td>\n",
       "      <td>69937</td>\n",
       "      <td>69937</td>\n",
       "      <td>69937</td>\n",
       "      <td>69937</td>\n",
       "      <td>17656</td>\n",
       "      <td>69937</td>\n",
       "      <td>69937</td>\n",
       "      <td>69937</td>\n",
       "      <td>69937</td>\n",
       "      <td>69937</td>\n",
       "    </tr>\n",
       "    <tr>\n",
       "      <th>UserPopSelectionQ</th>\n",
       "      <td>2417</td>\n",
       "      <td>2417</td>\n",
       "      <td>2417</td>\n",
       "      <td>2417</td>\n",
       "      <td>2417</td>\n",
       "      <td>447</td>\n",
       "      <td>2417</td>\n",
       "      <td>2417</td>\n",
       "      <td>2417</td>\n",
       "      <td>2417</td>\n",
       "      <td>2417</td>\n",
       "    </tr>\n",
       "    <tr>\n",
       "      <th>UserPopSelectionY</th>\n",
       "      <td>21</td>\n",
       "      <td>21</td>\n",
       "      <td>21</td>\n",
       "      <td>21</td>\n",
       "      <td>21</td>\n",
       "      <td>3</td>\n",
       "      <td>21</td>\n",
       "      <td>21</td>\n",
       "      <td>21</td>\n",
       "      <td>21</td>\n",
       "      <td>21</td>\n",
       "    </tr>\n",
       "    <tr>\n",
       "      <th>UserPopY</th>\n",
       "      <td>38600</td>\n",
       "      <td>38600</td>\n",
       "      <td>38600</td>\n",
       "      <td>38600</td>\n",
       "      <td>38600</td>\n",
       "      <td>10549</td>\n",
       "      <td>38600</td>\n",
       "      <td>38600</td>\n",
       "      <td>38600</td>\n",
       "      <td>38600</td>\n",
       "      <td>38600</td>\n",
       "    </tr>\n",
       "    <tr>\n",
       "      <th>XGBQ</th>\n",
       "      <td>12250</td>\n",
       "      <td>12250</td>\n",
       "      <td>12250</td>\n",
       "      <td>12250</td>\n",
       "      <td>12250</td>\n",
       "      <td>2388</td>\n",
       "      <td>12250</td>\n",
       "      <td>12250</td>\n",
       "      <td>12250</td>\n",
       "      <td>12250</td>\n",
       "      <td>12250</td>\n",
       "    </tr>\n",
       "    <tr>\n",
       "      <th>XGBY</th>\n",
       "      <td>4276</td>\n",
       "      <td>4276</td>\n",
       "      <td>4276</td>\n",
       "      <td>4276</td>\n",
       "      <td>4276</td>\n",
       "      <td>554</td>\n",
       "      <td>4276</td>\n",
       "      <td>4276</td>\n",
       "      <td>4276</td>\n",
       "      <td>4276</td>\n",
       "      <td>4276</td>\n",
       "    </tr>\n",
       "  </tbody>\n",
       "</table>\n",
       "</div>"
      ],
      "text/plain": [
       "                   week_id   ad_id  requester  region  is_success  is_sever  \\\n",
       "rec_provider                                                                  \n",
       "BooksQ                1720    1720       1720    1720        1720       281   \n",
       "BooksY                4150    4150       4150    4150        4150        84   \n",
       "DNNQ                117424  117424     117424  117424      117424     16632   \n",
       "DNNY                 45116   45116      45116   45116       45116      5110   \n",
       "ManualQ              13844   13844      13844   13844       13844       650   \n",
       "ManualY               1982    1982       1982    1982        1982       187   \n",
       "RNNQ                 20983   20983      20983   20983       20983      2045   \n",
       "RNNY                 12732   12732      12732   12732       12732      1024   \n",
       "RuleBased              182     182        182     182         182         6   \n",
       "RuleBasedY           28154   28154      28154   28154       28154     11977   \n",
       "UserPopQ             69937   69937      69937   69937       69937     17656   \n",
       "UserPopSelectionQ     2417    2417       2417    2417        2417       447   \n",
       "UserPopSelectionY       21      21         21      21          21         3   \n",
       "UserPopY             38600   38600      38600   38600       38600     10549   \n",
       "XGBQ                 12250   12250      12250   12250       12250      2388   \n",
       "XGBY                  4276    4276       4276    4276        4276       554   \n",
       "\n",
       "                   recommendation_type    Year  Quarter  binary_success  \\\n",
       "rec_provider                                                              \n",
       "BooksQ                            1720    1720     1720            1720   \n",
       "BooksY                            4150    4150     4150            4150   \n",
       "DNNQ                            117424  117424   117424          117424   \n",
       "DNNY                             45116   45116    45116           45116   \n",
       "ManualQ                          13844   13844    13844           13844   \n",
       "ManualY                           1982    1982     1982            1982   \n",
       "RNNQ                             20983   20983    20983           20983   \n",
       "RNNY                             12732   12732    12732           12732   \n",
       "RuleBased                          182     182      182             182   \n",
       "RuleBasedY                       28154   28154    28154           28154   \n",
       "UserPopQ                         69937   69937    69937           69937   \n",
       "UserPopSelectionQ                 2417    2417     2417            2417   \n",
       "UserPopSelectionY                   21      21       21              21   \n",
       "UserPopY                         38600   38600    38600           38600   \n",
       "XGBQ                             12250   12250    12250           12250   \n",
       "XGBY                              4276    4276     4276            4276   \n",
       "\n",
       "                   is_sever_full  \n",
       "rec_provider                      \n",
       "BooksQ                      1720  \n",
       "BooksY                      4150  \n",
       "DNNQ                      117424  \n",
       "DNNY                       45116  \n",
       "ManualQ                    13844  \n",
       "ManualY                     1982  \n",
       "RNNQ                       20983  \n",
       "RNNY                       12732  \n",
       "RuleBased                    182  \n",
       "RuleBasedY                 28154  \n",
       "UserPopQ                   69937  \n",
       "UserPopSelectionQ           2417  \n",
       "UserPopSelectionY             21  \n",
       "UserPopY                   38600  \n",
       "XGBQ                       12250  \n",
       "XGBY                        4276  "
      ]
     },
     "execution_count": 27,
     "metadata": {},
     "output_type": "execute_result"
    }
   ],
   "source": [
    "def_new.groupby('rec_provider',dropna=False).count()"
   ]
  },
  {
   "cell_type": "code",
   "execution_count": 28,
   "id": "5a7983d5-e92e-43f9-bee5-f2b8d4b5aac3",
   "metadata": {},
   "outputs": [
    {
     "data": {
      "text/plain": [
       "28336"
      ]
     },
     "execution_count": 28,
     "metadata": {},
     "output_type": "execute_result"
    }
   ],
   "source": [
    "def_new.query('rec_provider == \"RuleBased\" or rec_provider == \"RuleBasedY\"').shape[0]"
   ]
  },
  {
   "cell_type": "markdown",
   "id": "666619ec-5642-4acf-a27b-78efb947b30f",
   "metadata": {
    "tags": []
   },
   "source": [
    "#### Q6"
   ]
  },
  {
   "cell_type": "code",
   "execution_count": 29,
   "id": "9356a853-aa39-48df-bbf4-26d0834d1b38",
   "metadata": {},
   "outputs": [
    {
     "data": {
      "text/plain": [
       "271615"
      ]
     },
     "execution_count": 29,
     "metadata": {},
     "output_type": "execute_result"
    }
   ],
   "source": [
    "def_new.query('Year == \"2021\"').shape[0]"
   ]
  },
  {
   "cell_type": "markdown",
   "id": "5398aeec-6517-455b-97b5-83e821de2c75",
   "metadata": {},
   "source": [
    "#### Q7"
   ]
  },
  {
   "cell_type": "code",
   "execution_count": 30,
   "id": "b1ff2314-908a-4ce3-8e17-a3b9e25daa54",
   "metadata": {},
   "outputs": [],
   "source": [
    "week_numbers = def_new.week_id.apply(lambda str: str[-2:])\n",
    "week_numbers.astype(int)\n",
    "def_new = pd.concat([def_new, week_numbers], axis=1)\n",
    "def_new.columns = ['week_id', 'ad_id', 'requester', 'region', 'is_success', 'is_sever',\n",
    "       'recommendation_type', 'rec_provider', 'Year','Quarter','binary_success','is_sever_full','week_number']"
   ]
  },
  {
   "cell_type": "code",
   "execution_count": 31,
   "id": "7cf38d8e-c912-419a-9aff-b24591af06d6",
   "metadata": {},
   "outputs": [
    {
     "data": {
      "text/plain": [
       "115051"
      ]
     },
     "execution_count": 31,
     "metadata": {},
     "output_type": "execute_result"
    }
   ],
   "source": [
    "def_new.query('week_number >= \"30\" and week_number <= \"40\"').shape[0]"
   ]
  },
  {
   "cell_type": "markdown",
   "id": "2fcd3ab6-d881-4eb9-95e7-a5f40dd9e2dc",
   "metadata": {
    "tags": []
   },
   "source": [
    "#### Q8"
   ]
  },
  {
   "cell_type": "code",
   "execution_count": 32,
   "id": "e3b10dca-b6fb-4dc5-b547-8a4745b3e100",
   "metadata": {},
   "outputs": [
    {
     "data": {
      "text/plain": [
       "247"
      ]
     },
     "execution_count": 32,
     "metadata": {},
     "output_type": "execute_result"
    }
   ],
   "source": [
    "ad_success = def_new[def_new.is_success == \"Yes\"]\n",
    "ad_success['ad_id'].value_counts()\n",
    "ad_x = ad_success['ad_id'].mode()\n",
    "def_new[def_new.ad_id == ad_x[0]].shape[0]"
   ]
  },
  {
   "cell_type": "markdown",
   "id": "48ee7d20-336f-4ae4-a0bb-8144cd43feb1",
   "metadata": {
    "tags": []
   },
   "source": [
    "#### Q9"
   ]
  },
  {
   "cell_type": "code",
   "execution_count": 33,
   "id": "8af9a18c-bbd3-481b-a081-7aa3c9c73952",
   "metadata": {},
   "outputs": [
    {
     "data": {
      "text/plain": [
       "UserPopQ             17654\n",
       "DNNQ                 16630\n",
       "RuleBasedY           11978\n",
       "UserPopY             10544\n",
       "DNNY                  5111\n",
       "XGBQ                  2387\n",
       "RNNQ                  2045\n",
       "RNNY                  1023\n",
       "ManualQ                648\n",
       "XGBY                   554\n",
       "UserPopSelectionQ      447\n",
       "BooksQ                 281\n",
       "ManualY                187\n",
       "BooksY                  84\n",
       "RuleBased                6\n",
       "UserPopSelectionY        3\n",
       "Name: rec_provider, dtype: int64"
      ]
     },
     "execution_count": 33,
     "metadata": {},
     "output_type": "execute_result"
    }
   ],
   "source": [
    "provider_failure = def_new[def_new.is_success == \"No\"]\n",
    "provider_failure['rec_provider'].value_counts()"
   ]
  },
  {
   "cell_type": "code",
   "execution_count": 34,
   "id": "00622e9c-0c61-4374-8da5-e214a8be1f10",
   "metadata": {},
   "outputs": [
    {
     "data": {
      "text/plain": [
       "is_success\n",
       "No     17654\n",
       "Yes    52283\n",
       "Name: rec_provider, dtype: int64"
      ]
     },
     "execution_count": 34,
     "metadata": {},
     "output_type": "execute_result"
    }
   ],
   "source": [
    "provider_x = provider_failure['rec_provider'].mode()\n",
    "def_new[def_new.rec_provider == provider_x[0]].groupby('is_success').count()['rec_provider']"
   ]
  },
  {
   "cell_type": "code",
   "execution_count": 35,
   "id": "4b81fab1-8ba2-4ff2-b87d-ececd4d04a02",
   "metadata": {},
   "outputs": [
    {
     "data": {
      "text/plain": [
       "69937"
      ]
     },
     "execution_count": 35,
     "metadata": {},
     "output_type": "execute_result"
    }
   ],
   "source": [
    "def_new[def_new.rec_provider == provider_x[0]].shape[0]"
   ]
  },
  {
   "cell_type": "markdown",
   "id": "b899032b-917f-4de5-ab6e-b325b845bb89",
   "metadata": {
    "tags": []
   },
   "source": [
    "#### Q10"
   ]
  },
  {
   "cell_type": "code",
   "execution_count": 36,
   "id": "ac1334e0-da5e-4a0c-8317-0bd5b9e1b069",
   "metadata": {},
   "outputs": [
    {
     "data": {
      "text/plain": [
       "304195"
      ]
     },
     "execution_count": 36,
     "metadata": {},
     "output_type": "execute_result"
    }
   ],
   "source": [
    "def_new.is_sever.isna().sum()"
   ]
  },
  {
   "cell_type": "markdown",
   "id": "cf466230-d9a0-4395-a771-06268d586c80",
   "metadata": {
    "tags": []
   },
   "source": [
    "#### Q11"
   ]
  },
  {
   "cell_type": "code",
   "execution_count": 37,
   "id": "272464f7-b649-4d89-898a-c61bbac7020f",
   "metadata": {},
   "outputs": [
    {
     "data": {
      "text/plain": [
       "118141"
      ]
     },
     "execution_count": 37,
     "metadata": {},
     "output_type": "execute_result"
    }
   ],
   "source": [
    "requester_word_count = def_new.requester.apply(lambda str: len(str.split()))\n",
    "def_new[requester_word_count == 3].shape[0]"
   ]
  },
  {
   "cell_type": "markdown",
   "id": "aae3548f-fdca-49e0-95df-03fcbdffbcb7",
   "metadata": {
    "tags": []
   },
   "source": [
    "#### Q12"
   ]
  },
  {
   "cell_type": "code",
   "execution_count": 38,
   "id": "ae3cf678-e5fc-4224-bb1f-636ba5e026f0",
   "metadata": {},
   "outputs": [
    {
     "data": {
      "text/plain": [
       "5895"
      ]
     },
     "execution_count": 38,
     "metadata": {},
     "output_type": "execute_result"
    }
   ],
   "source": [
    "requester_find_6 = def_new.requester.apply(lambda str: str.find('6')>0)\n",
    "def_new[requester_find_6].shape[0]"
   ]
  },
  {
   "cell_type": "markdown",
   "id": "dbaf20fd-e43c-4ee9-a88c-b43f97a755f6",
   "metadata": {
    "tags": []
   },
   "source": [
    "#### Q13"
   ]
  },
  {
   "cell_type": "code",
   "execution_count": 39,
   "id": "5a5b0f06-5ebb-418d-8427-43dfa69072de",
   "metadata": {},
   "outputs": [
    {
     "data": {
      "text/plain": [
       "5895"
      ]
     },
     "execution_count": 39,
     "metadata": {},
     "output_type": "execute_result"
    }
   ],
   "source": [
    "def digit_mult(str):\n",
    "    mult = 1\n",
    "    at_least_one_digit = 0\n",
    "    for m in str:\n",
    "        if m.isdigit():\n",
    "            mult = mult* int(m)\n",
    "            at_least_one_digit = 1\n",
    "    return mult * at_least_one_digit\n",
    "        \n",
    "requester_find_digits_multiplier = def_new.requester.apply(lambda str: digit_mult(str))\n",
    "def_new[requester_find_digits_multiplier > 30].shape[0]"
   ]
  },
  {
   "cell_type": "markdown",
   "id": "11d8b056-c777-490a-b26d-949ee8755561",
   "metadata": {},
   "source": [
    "### Analysis"
   ]
  },
  {
   "cell_type": "markdown",
   "id": "ccae8707-2c86-424a-bd55-73496219adbe",
   "metadata": {},
   "source": [
    "1. How many weeks available in the data? Are there any missing weeks? \n",
    "1. How many regions available in the data? Are there any missing weeks per region? \n",
    "1. How many ads are being sent to annotation in each region per week?\n",
    "1. How many None values are there in is_sever column? \n",
    "1. Are ads being sent more than one time in a given week? what is the ad_id that was sent the most in a given week? (e.g. ad X was sent 50 times in week Y)\n",
    "1. Are there ads that are being sent in more than one week?\n",
    "   1. Which is the ad that was sent in most amount of weeks (e.g. ad X where sent in Y different weeks)\n",
    "   2. What are the weeks that the ad from above was sent in? \n",
    "   3. Is there an Ad that was succsefull in one week, but not succesfful in a different week? Show one.\n",
    "1. When is_sever is None, what is the number of successful requests? What is the number of non-successful requests? What do you learn from it about the reason for Nones in the first place? \n",
    "1. Per each region, What is the Quality/Yield traffic proportion WoW? \n",
    "1. How many different reqeusters are there? \n",
    "1. Which are the top 5 requesters per region? \n",
    "1. Which are the different rec_proivders?\n",
    "1. Are there different rec providers per region? \n",
    "1. Are there different rec providers per rec type?\n",
    "1. What are the notation rules distinguishing between quality vs yielding providers?\n",
    "1. Which is the most successful region of operation? \n",
    "1. Which is the most successful rec provider per each region? \n",
    "1. Present a table with a success rate, sever defects rate and CI (for each metric) per region\n",
    "1. Present a table with a success rate, sever defects rate and CI (for each metric) per rec provider\n",
    "1. Present a table with a success rate, sever defects rate and CI (for each metric) per region and rec provider combinations\n",
    "1. Present a table with a success rate, sever defects rate and CI (for each metric) per rec type (Q/Y)\n",
    "1. Present a table with a success rate, sever defects rate and CI (for each metric) per rec type and region\n",
    "1. Present WoW table/graph with success rate and CI (see image below) per region\n",
    "1. Present WoW table/graph with success rate and CI (see image below) per region and rec type\n",
    "1. Present WoW table/graph with success rate and CI (see image below) per region and rec provider\n",
    "1. Which are the requester to which we succeed the most?\n",
    "1. Which are the requester to which we produce the most critical defects?\n",
    "1. What is the overall success rate trend over time? \n",
    "1. What is the overall sever defect rate trend over time? \n",
    "1. Preset a WoW graph showing the number of requests per customer in each region (hint: [use stacked bars](https://plotly.com/python/bar-charts/)), from it:\n",
    "  1. Identify major traffic shape changes (addition/removal) of major clients\n",
    "1. Preset a WoW graph showing the **requests proportion** per customer in each region (hint: [use stacked bars](https://plotly.com/python/bar-charts/)), from it:\n",
    "  1. Identify major traffic shape changes (addition/removal) of major clients\n"
   ]
  },
  {
   "cell_type": "markdown",
   "id": "ccd49645-542e-4dbf-b0c4-b197c974a528",
   "metadata": {},
   "source": [
    "Analysis Bonus questions:\n",
    "1. Compute the per region success rate and CI in trailing weeks, Say, 4 weeks instead of 1 week - to allow for smoother estimations and smaller CIs"
   ]
  },
  {
   "cell_type": "markdown",
   "id": "e5fb4995-4230-4a19-bfcb-caaacc1f0315",
   "metadata": {
    "tags": []
   },
   "source": [
    "#### Q1"
   ]
  },
  {
   "cell_type": "code",
   "execution_count": 40,
   "id": "db14fd11-99af-4704-9cee-92dda8d3267b",
   "metadata": {},
   "outputs": [
    {
     "data": {
      "text/html": [
       "<div>\n",
       "<style scoped>\n",
       "    .dataframe tbody tr th:only-of-type {\n",
       "        vertical-align: middle;\n",
       "    }\n",
       "\n",
       "    .dataframe tbody tr th {\n",
       "        vertical-align: top;\n",
       "    }\n",
       "\n",
       "    .dataframe thead th {\n",
       "        text-align: right;\n",
       "    }\n",
       "</style>\n",
       "<table border=\"1\" class=\"dataframe\">\n",
       "  <thead>\n",
       "    <tr style=\"text-align: right;\">\n",
       "      <th></th>\n",
       "      <th>ad_id</th>\n",
       "    </tr>\n",
       "    <tr>\n",
       "      <th>week_id</th>\n",
       "      <th></th>\n",
       "    </tr>\n",
       "  </thead>\n",
       "  <tbody>\n",
       "    <tr>\n",
       "      <th>2021-week_33</th>\n",
       "      <td>14356</td>\n",
       "    </tr>\n",
       "    <tr>\n",
       "      <th>2021-week_34</th>\n",
       "      <td>14371</td>\n",
       "    </tr>\n",
       "    <tr>\n",
       "      <th>2021-week_35</th>\n",
       "      <td>14373</td>\n",
       "    </tr>\n",
       "    <tr>\n",
       "      <th>2021-week_36</th>\n",
       "      <td>14390</td>\n",
       "    </tr>\n",
       "    <tr>\n",
       "      <th>2021-week_37</th>\n",
       "      <td>14392</td>\n",
       "    </tr>\n",
       "    <tr>\n",
       "      <th>2021-week_38</th>\n",
       "      <td>14347</td>\n",
       "    </tr>\n",
       "    <tr>\n",
       "      <th>2021-week_39</th>\n",
       "      <td>14416</td>\n",
       "    </tr>\n",
       "    <tr>\n",
       "      <th>2021-week_40</th>\n",
       "      <td>14406</td>\n",
       "    </tr>\n",
       "    <tr>\n",
       "      <th>2021-week_41</th>\n",
       "      <td>14380</td>\n",
       "    </tr>\n",
       "    <tr>\n",
       "      <th>2021-week_42</th>\n",
       "      <td>14376</td>\n",
       "    </tr>\n",
       "    <tr>\n",
       "      <th>2021-week_43</th>\n",
       "      <td>14367</td>\n",
       "    </tr>\n",
       "    <tr>\n",
       "      <th>2021-week_44</th>\n",
       "      <td>14299</td>\n",
       "    </tr>\n",
       "    <tr>\n",
       "      <th>2021-week_45</th>\n",
       "      <td>14440</td>\n",
       "    </tr>\n",
       "    <tr>\n",
       "      <th>2021-week_46</th>\n",
       "      <td>14350</td>\n",
       "    </tr>\n",
       "    <tr>\n",
       "      <th>2021-week_47</th>\n",
       "      <td>14402</td>\n",
       "    </tr>\n",
       "    <tr>\n",
       "      <th>2021-week_48</th>\n",
       "      <td>14404</td>\n",
       "    </tr>\n",
       "    <tr>\n",
       "      <th>2021-week_49</th>\n",
       "      <td>14337</td>\n",
       "    </tr>\n",
       "    <tr>\n",
       "      <th>2021-week_50</th>\n",
       "      <td>14404</td>\n",
       "    </tr>\n",
       "    <tr>\n",
       "      <th>2021-week_51</th>\n",
       "      <td>12805</td>\n",
       "    </tr>\n",
       "    <tr>\n",
       "      <th>2022-week_01</th>\n",
       "      <td>14385</td>\n",
       "    </tr>\n",
       "    <tr>\n",
       "      <th>2022-week_02</th>\n",
       "      <td>14423</td>\n",
       "    </tr>\n",
       "    <tr>\n",
       "      <th>2022-week_03</th>\n",
       "      <td>14317</td>\n",
       "    </tr>\n",
       "    <tr>\n",
       "      <th>2022-week_04</th>\n",
       "      <td>14367</td>\n",
       "    </tr>\n",
       "    <tr>\n",
       "      <th>2022-week_05</th>\n",
       "      <td>14362</td>\n",
       "    </tr>\n",
       "    <tr>\n",
       "      <th>2022-week_06</th>\n",
       "      <td>14389</td>\n",
       "    </tr>\n",
       "    <tr>\n",
       "      <th>2022-week_52</th>\n",
       "      <td>15930</td>\n",
       "    </tr>\n",
       "  </tbody>\n",
       "</table>\n",
       "</div>"
      ],
      "text/plain": [
       "              ad_id\n",
       "week_id            \n",
       "2021-week_33  14356\n",
       "2021-week_34  14371\n",
       "2021-week_35  14373\n",
       "2021-week_36  14390\n",
       "2021-week_37  14392\n",
       "2021-week_38  14347\n",
       "2021-week_39  14416\n",
       "2021-week_40  14406\n",
       "2021-week_41  14380\n",
       "2021-week_42  14376\n",
       "2021-week_43  14367\n",
       "2021-week_44  14299\n",
       "2021-week_45  14440\n",
       "2021-week_46  14350\n",
       "2021-week_47  14402\n",
       "2021-week_48  14404\n",
       "2021-week_49  14337\n",
       "2021-week_50  14404\n",
       "2021-week_51  12805\n",
       "2022-week_01  14385\n",
       "2022-week_02  14423\n",
       "2022-week_03  14317\n",
       "2022-week_04  14367\n",
       "2022-week_05  14362\n",
       "2022-week_06  14389\n",
       "2022-week_52  15930"
      ]
     },
     "execution_count": 40,
     "metadata": {},
     "output_type": "execute_result"
    }
   ],
   "source": [
    "def_new[['ad_id','week_id']].groupby('week_id').count()\n",
    "#There are 5 regions, for each of them weeks 7 till 51 of year 2022 are not in the database also week 52 of year 2021 is missing"
   ]
  },
  {
   "cell_type": "markdown",
   "id": "8b120dfa-0954-4686-b1e0-e94bc518d6ce",
   "metadata": {
    "tags": []
   },
   "source": [
    "#### Q2"
   ]
  },
  {
   "cell_type": "code",
   "execution_count": 41,
   "id": "d91b47aa-e279-425d-b3ba-cdd6fbf55724",
   "metadata": {},
   "outputs": [
    {
     "data": {
      "text/html": [
       "<div>\n",
       "<style scoped>\n",
       "    .dataframe tbody tr th:only-of-type {\n",
       "        vertical-align: middle;\n",
       "    }\n",
       "\n",
       "    .dataframe tbody tr th {\n",
       "        vertical-align: top;\n",
       "    }\n",
       "\n",
       "    .dataframe thead th {\n",
       "        text-align: right;\n",
       "    }\n",
       "</style>\n",
       "<table border=\"1\" class=\"dataframe\">\n",
       "  <thead>\n",
       "    <tr style=\"text-align: right;\">\n",
       "      <th></th>\n",
       "      <th></th>\n",
       "    </tr>\n",
       "    <tr>\n",
       "      <th>region</th>\n",
       "      <th>week_id</th>\n",
       "    </tr>\n",
       "  </thead>\n",
       "  <tbody>\n",
       "    <tr>\n",
       "      <th rowspan=\"26\" valign=\"top\">DE</th>\n",
       "      <th>2021-week_33</th>\n",
       "    </tr>\n",
       "    <tr>\n",
       "      <th>2021-week_34</th>\n",
       "    </tr>\n",
       "    <tr>\n",
       "      <th>2021-week_35</th>\n",
       "    </tr>\n",
       "    <tr>\n",
       "      <th>2021-week_36</th>\n",
       "    </tr>\n",
       "    <tr>\n",
       "      <th>2021-week_37</th>\n",
       "    </tr>\n",
       "    <tr>\n",
       "      <th>2021-week_38</th>\n",
       "    </tr>\n",
       "    <tr>\n",
       "      <th>2021-week_39</th>\n",
       "    </tr>\n",
       "    <tr>\n",
       "      <th>2021-week_40</th>\n",
       "    </tr>\n",
       "    <tr>\n",
       "      <th>2021-week_41</th>\n",
       "    </tr>\n",
       "    <tr>\n",
       "      <th>2021-week_42</th>\n",
       "    </tr>\n",
       "    <tr>\n",
       "      <th>2021-week_43</th>\n",
       "    </tr>\n",
       "    <tr>\n",
       "      <th>2021-week_44</th>\n",
       "    </tr>\n",
       "    <tr>\n",
       "      <th>2021-week_45</th>\n",
       "    </tr>\n",
       "    <tr>\n",
       "      <th>2021-week_46</th>\n",
       "    </tr>\n",
       "    <tr>\n",
       "      <th>2021-week_47</th>\n",
       "    </tr>\n",
       "    <tr>\n",
       "      <th>2021-week_48</th>\n",
       "    </tr>\n",
       "    <tr>\n",
       "      <th>2021-week_49</th>\n",
       "    </tr>\n",
       "    <tr>\n",
       "      <th>2021-week_50</th>\n",
       "    </tr>\n",
       "    <tr>\n",
       "      <th>2021-week_51</th>\n",
       "    </tr>\n",
       "    <tr>\n",
       "      <th>2022-week_01</th>\n",
       "    </tr>\n",
       "    <tr>\n",
       "      <th>2022-week_02</th>\n",
       "    </tr>\n",
       "    <tr>\n",
       "      <th>2022-week_03</th>\n",
       "    </tr>\n",
       "    <tr>\n",
       "      <th>2022-week_04</th>\n",
       "    </tr>\n",
       "    <tr>\n",
       "      <th>2022-week_05</th>\n",
       "    </tr>\n",
       "    <tr>\n",
       "      <th>2022-week_06</th>\n",
       "    </tr>\n",
       "    <tr>\n",
       "      <th>2022-week_52</th>\n",
       "    </tr>\n",
       "    <tr>\n",
       "      <th rowspan=\"26\" valign=\"top\">GB</th>\n",
       "      <th>2021-week_33</th>\n",
       "    </tr>\n",
       "    <tr>\n",
       "      <th>2021-week_34</th>\n",
       "    </tr>\n",
       "    <tr>\n",
       "      <th>2021-week_35</th>\n",
       "    </tr>\n",
       "    <tr>\n",
       "      <th>2021-week_36</th>\n",
       "    </tr>\n",
       "    <tr>\n",
       "      <th>2021-week_37</th>\n",
       "    </tr>\n",
       "    <tr>\n",
       "      <th>2021-week_38</th>\n",
       "    </tr>\n",
       "    <tr>\n",
       "      <th>2021-week_39</th>\n",
       "    </tr>\n",
       "    <tr>\n",
       "      <th>2021-week_40</th>\n",
       "    </tr>\n",
       "    <tr>\n",
       "      <th>2021-week_41</th>\n",
       "    </tr>\n",
       "    <tr>\n",
       "      <th>2021-week_42</th>\n",
       "    </tr>\n",
       "    <tr>\n",
       "      <th>2021-week_43</th>\n",
       "    </tr>\n",
       "    <tr>\n",
       "      <th>2021-week_44</th>\n",
       "    </tr>\n",
       "    <tr>\n",
       "      <th>2021-week_45</th>\n",
       "    </tr>\n",
       "    <tr>\n",
       "      <th>2021-week_46</th>\n",
       "    </tr>\n",
       "    <tr>\n",
       "      <th>2021-week_47</th>\n",
       "    </tr>\n",
       "    <tr>\n",
       "      <th>2021-week_48</th>\n",
       "    </tr>\n",
       "    <tr>\n",
       "      <th>2021-week_49</th>\n",
       "    </tr>\n",
       "    <tr>\n",
       "      <th>2021-week_50</th>\n",
       "    </tr>\n",
       "    <tr>\n",
       "      <th>2021-week_51</th>\n",
       "    </tr>\n",
       "    <tr>\n",
       "      <th>2022-week_01</th>\n",
       "    </tr>\n",
       "    <tr>\n",
       "      <th>2022-week_02</th>\n",
       "    </tr>\n",
       "    <tr>\n",
       "      <th>2022-week_03</th>\n",
       "    </tr>\n",
       "    <tr>\n",
       "      <th>2022-week_04</th>\n",
       "    </tr>\n",
       "    <tr>\n",
       "      <th>2022-week_05</th>\n",
       "    </tr>\n",
       "    <tr>\n",
       "      <th>2022-week_06</th>\n",
       "    </tr>\n",
       "    <tr>\n",
       "      <th>2022-week_52</th>\n",
       "    </tr>\n",
       "    <tr>\n",
       "      <th rowspan=\"26\" valign=\"top\">IN</th>\n",
       "      <th>2021-week_33</th>\n",
       "    </tr>\n",
       "    <tr>\n",
       "      <th>2021-week_34</th>\n",
       "    </tr>\n",
       "    <tr>\n",
       "      <th>2021-week_35</th>\n",
       "    </tr>\n",
       "    <tr>\n",
       "      <th>2021-week_36</th>\n",
       "    </tr>\n",
       "    <tr>\n",
       "      <th>2021-week_37</th>\n",
       "    </tr>\n",
       "    <tr>\n",
       "      <th>2021-week_38</th>\n",
       "    </tr>\n",
       "    <tr>\n",
       "      <th>2021-week_39</th>\n",
       "    </tr>\n",
       "    <tr>\n",
       "      <th>2021-week_40</th>\n",
       "    </tr>\n",
       "    <tr>\n",
       "      <th>2021-week_41</th>\n",
       "    </tr>\n",
       "    <tr>\n",
       "      <th>2021-week_42</th>\n",
       "    </tr>\n",
       "    <tr>\n",
       "      <th>2021-week_43</th>\n",
       "    </tr>\n",
       "    <tr>\n",
       "      <th>2021-week_44</th>\n",
       "    </tr>\n",
       "    <tr>\n",
       "      <th>2021-week_45</th>\n",
       "    </tr>\n",
       "    <tr>\n",
       "      <th>2021-week_46</th>\n",
       "    </tr>\n",
       "    <tr>\n",
       "      <th>2021-week_47</th>\n",
       "    </tr>\n",
       "    <tr>\n",
       "      <th>2021-week_48</th>\n",
       "    </tr>\n",
       "    <tr>\n",
       "      <th>2021-week_49</th>\n",
       "    </tr>\n",
       "    <tr>\n",
       "      <th>2021-week_50</th>\n",
       "    </tr>\n",
       "    <tr>\n",
       "      <th>2021-week_51</th>\n",
       "    </tr>\n",
       "    <tr>\n",
       "      <th>2022-week_01</th>\n",
       "    </tr>\n",
       "    <tr>\n",
       "      <th>2022-week_02</th>\n",
       "    </tr>\n",
       "    <tr>\n",
       "      <th>2022-week_03</th>\n",
       "    </tr>\n",
       "    <tr>\n",
       "      <th>2022-week_04</th>\n",
       "    </tr>\n",
       "    <tr>\n",
       "      <th>2022-week_05</th>\n",
       "    </tr>\n",
       "    <tr>\n",
       "      <th>2022-week_06</th>\n",
       "    </tr>\n",
       "    <tr>\n",
       "      <th>2022-week_52</th>\n",
       "    </tr>\n",
       "    <tr>\n",
       "      <th rowspan=\"25\" valign=\"top\">JP</th>\n",
       "      <th>2021-week_33</th>\n",
       "    </tr>\n",
       "    <tr>\n",
       "      <th>2021-week_34</th>\n",
       "    </tr>\n",
       "    <tr>\n",
       "      <th>2021-week_35</th>\n",
       "    </tr>\n",
       "    <tr>\n",
       "      <th>2021-week_36</th>\n",
       "    </tr>\n",
       "    <tr>\n",
       "      <th>2021-week_37</th>\n",
       "    </tr>\n",
       "    <tr>\n",
       "      <th>2021-week_38</th>\n",
       "    </tr>\n",
       "    <tr>\n",
       "      <th>2021-week_39</th>\n",
       "    </tr>\n",
       "    <tr>\n",
       "      <th>2021-week_40</th>\n",
       "    </tr>\n",
       "    <tr>\n",
       "      <th>2021-week_41</th>\n",
       "    </tr>\n",
       "    <tr>\n",
       "      <th>2021-week_42</th>\n",
       "    </tr>\n",
       "    <tr>\n",
       "      <th>2021-week_43</th>\n",
       "    </tr>\n",
       "    <tr>\n",
       "      <th>2021-week_44</th>\n",
       "    </tr>\n",
       "    <tr>\n",
       "      <th>2021-week_45</th>\n",
       "    </tr>\n",
       "    <tr>\n",
       "      <th>2021-week_46</th>\n",
       "    </tr>\n",
       "    <tr>\n",
       "      <th>2021-week_47</th>\n",
       "    </tr>\n",
       "    <tr>\n",
       "      <th>2021-week_48</th>\n",
       "    </tr>\n",
       "    <tr>\n",
       "      <th>2021-week_49</th>\n",
       "    </tr>\n",
       "    <tr>\n",
       "      <th>2021-week_50</th>\n",
       "    </tr>\n",
       "    <tr>\n",
       "      <th>2022-week_01</th>\n",
       "    </tr>\n",
       "    <tr>\n",
       "      <th>2022-week_02</th>\n",
       "    </tr>\n",
       "    <tr>\n",
       "      <th>2022-week_03</th>\n",
       "    </tr>\n",
       "    <tr>\n",
       "      <th>2022-week_04</th>\n",
       "    </tr>\n",
       "    <tr>\n",
       "      <th>2022-week_05</th>\n",
       "    </tr>\n",
       "    <tr>\n",
       "      <th>2022-week_06</th>\n",
       "    </tr>\n",
       "    <tr>\n",
       "      <th>2022-week_52</th>\n",
       "    </tr>\n",
       "    <tr>\n",
       "      <th rowspan=\"26\" valign=\"top\">US</th>\n",
       "      <th>2021-week_33</th>\n",
       "    </tr>\n",
       "    <tr>\n",
       "      <th>2021-week_34</th>\n",
       "    </tr>\n",
       "    <tr>\n",
       "      <th>2021-week_35</th>\n",
       "    </tr>\n",
       "    <tr>\n",
       "      <th>2021-week_36</th>\n",
       "    </tr>\n",
       "    <tr>\n",
       "      <th>2021-week_37</th>\n",
       "    </tr>\n",
       "    <tr>\n",
       "      <th>2021-week_38</th>\n",
       "    </tr>\n",
       "    <tr>\n",
       "      <th>2021-week_39</th>\n",
       "    </tr>\n",
       "    <tr>\n",
       "      <th>2021-week_40</th>\n",
       "    </tr>\n",
       "    <tr>\n",
       "      <th>2021-week_41</th>\n",
       "    </tr>\n",
       "    <tr>\n",
       "      <th>2021-week_42</th>\n",
       "    </tr>\n",
       "    <tr>\n",
       "      <th>2021-week_43</th>\n",
       "    </tr>\n",
       "    <tr>\n",
       "      <th>2021-week_44</th>\n",
       "    </tr>\n",
       "    <tr>\n",
       "      <th>2021-week_45</th>\n",
       "    </tr>\n",
       "    <tr>\n",
       "      <th>2021-week_46</th>\n",
       "    </tr>\n",
       "    <tr>\n",
       "      <th>2021-week_47</th>\n",
       "    </tr>\n",
       "    <tr>\n",
       "      <th>2021-week_48</th>\n",
       "    </tr>\n",
       "    <tr>\n",
       "      <th>2021-week_49</th>\n",
       "    </tr>\n",
       "    <tr>\n",
       "      <th>2021-week_50</th>\n",
       "    </tr>\n",
       "    <tr>\n",
       "      <th>2021-week_51</th>\n",
       "    </tr>\n",
       "    <tr>\n",
       "      <th>2022-week_01</th>\n",
       "    </tr>\n",
       "    <tr>\n",
       "      <th>2022-week_02</th>\n",
       "    </tr>\n",
       "    <tr>\n",
       "      <th>2022-week_03</th>\n",
       "    </tr>\n",
       "    <tr>\n",
       "      <th>2022-week_04</th>\n",
       "    </tr>\n",
       "    <tr>\n",
       "      <th>2022-week_05</th>\n",
       "    </tr>\n",
       "    <tr>\n",
       "      <th>2022-week_06</th>\n",
       "    </tr>\n",
       "    <tr>\n",
       "      <th>2022-week_52</th>\n",
       "    </tr>\n",
       "  </tbody>\n",
       "</table>\n",
       "</div>"
      ],
      "text/plain": [
       "Empty DataFrame\n",
       "Columns: []\n",
       "Index: [(DE, 2021-week_33), (DE, 2021-week_34), (DE, 2021-week_35), (DE, 2021-week_36), (DE, 2021-week_37), (DE, 2021-week_38), (DE, 2021-week_39), (DE, 2021-week_40), (DE, 2021-week_41), (DE, 2021-week_42), (DE, 2021-week_43), (DE, 2021-week_44), (DE, 2021-week_45), (DE, 2021-week_46), (DE, 2021-week_47), (DE, 2021-week_48), (DE, 2021-week_49), (DE, 2021-week_50), (DE, 2021-week_51), (DE, 2022-week_01), (DE, 2022-week_02), (DE, 2022-week_03), (DE, 2022-week_04), (DE, 2022-week_05), (DE, 2022-week_06), (DE, 2022-week_52), (GB, 2021-week_33), (GB, 2021-week_34), (GB, 2021-week_35), (GB, 2021-week_36), (GB, 2021-week_37), (GB, 2021-week_38), (GB, 2021-week_39), (GB, 2021-week_40), (GB, 2021-week_41), (GB, 2021-week_42), (GB, 2021-week_43), (GB, 2021-week_44), (GB, 2021-week_45), (GB, 2021-week_46), (GB, 2021-week_47), (GB, 2021-week_48), (GB, 2021-week_49), (GB, 2021-week_50), (GB, 2021-week_51), (GB, 2022-week_01), (GB, 2022-week_02), (GB, 2022-week_03), (GB, 2022-week_04), (GB, 2022-week_05), (GB, 2022-week_06), (GB, 2022-week_52), (IN, 2021-week_33), (IN, 2021-week_34), (IN, 2021-week_35), (IN, 2021-week_36), (IN, 2021-week_37), (IN, 2021-week_38), (IN, 2021-week_39), (IN, 2021-week_40), (IN, 2021-week_41), (IN, 2021-week_42), (IN, 2021-week_43), (IN, 2021-week_44), (IN, 2021-week_45), (IN, 2021-week_46), (IN, 2021-week_47), (IN, 2021-week_48), (IN, 2021-week_49), (IN, 2021-week_50), (IN, 2021-week_51), (IN, 2022-week_01), (IN, 2022-week_02), (IN, 2022-week_03), (IN, 2022-week_04), (IN, 2022-week_05), (IN, 2022-week_06), (IN, 2022-week_52), (JP, 2021-week_33), (JP, 2021-week_34), (JP, 2021-week_35), (JP, 2021-week_36), (JP, 2021-week_37), (JP, 2021-week_38), (JP, 2021-week_39), (JP, 2021-week_40), (JP, 2021-week_41), (JP, 2021-week_42), (JP, 2021-week_43), (JP, 2021-week_44), (JP, 2021-week_45), (JP, 2021-week_46), (JP, 2021-week_47), (JP, 2021-week_48), (JP, 2021-week_49), (JP, 2021-week_50), (JP, 2022-week_01), (JP, 2022-week_02), (JP, 2022-week_03), (JP, 2022-week_04), ...]"
      ]
     },
     "execution_count": 41,
     "metadata": {},
     "output_type": "execute_result"
    }
   ],
   "source": [
    "# How many regions available in the data? Are there any missing weeks per region? \n",
    "pd. set_option('display.max_rows', None) # or 1000.\n",
    "def_new[['week_id','region']].groupby(['region','week_id']).count()\n",
    "#for all regions - weeks 7 till 51 of year 2022 are not in the database also week 52 of year 2021 is missing"
   ]
  },
  {
   "cell_type": "markdown",
   "id": "0e66d253-7d9c-461d-9ba3-85dbb1bb0c99",
   "metadata": {
    "tags": []
   },
   "source": [
    "#### Q3"
   ]
  },
  {
   "cell_type": "code",
   "execution_count": 42,
   "id": "1bbffad5-c83e-4e90-9d2b-e1cbfed0752d",
   "metadata": {},
   "outputs": [
    {
     "data": {
      "text/html": [
       "<div>\n",
       "<style scoped>\n",
       "    .dataframe tbody tr th:only-of-type {\n",
       "        vertical-align: middle;\n",
       "    }\n",
       "\n",
       "    .dataframe tbody tr th {\n",
       "        vertical-align: top;\n",
       "    }\n",
       "\n",
       "    .dataframe thead th {\n",
       "        text-align: right;\n",
       "    }\n",
       "</style>\n",
       "<table border=\"1\" class=\"dataframe\">\n",
       "  <thead>\n",
       "    <tr style=\"text-align: right;\">\n",
       "      <th></th>\n",
       "      <th></th>\n",
       "      <th>is_success</th>\n",
       "    </tr>\n",
       "    <tr>\n",
       "      <th>region</th>\n",
       "      <th>week_id</th>\n",
       "      <th></th>\n",
       "    </tr>\n",
       "  </thead>\n",
       "  <tbody>\n",
       "    <tr>\n",
       "      <th rowspan=\"5\" valign=\"top\">DE</th>\n",
       "      <th>2021-week_33</th>\n",
       "      <td>2395</td>\n",
       "    </tr>\n",
       "    <tr>\n",
       "      <th>2021-week_34</th>\n",
       "      <td>2360</td>\n",
       "    </tr>\n",
       "    <tr>\n",
       "      <th>2021-week_35</th>\n",
       "      <td>2393</td>\n",
       "    </tr>\n",
       "    <tr>\n",
       "      <th>2021-week_36</th>\n",
       "      <td>2401</td>\n",
       "    </tr>\n",
       "    <tr>\n",
       "      <th>2021-week_37</th>\n",
       "      <td>2404</td>\n",
       "    </tr>\n",
       "    <tr>\n",
       "      <th>...</th>\n",
       "      <th>...</th>\n",
       "      <td>...</td>\n",
       "    </tr>\n",
       "    <tr>\n",
       "      <th rowspan=\"5\" valign=\"top\">US</th>\n",
       "      <th>2022-week_03</th>\n",
       "      <td>3979</td>\n",
       "    </tr>\n",
       "    <tr>\n",
       "      <th>2022-week_04</th>\n",
       "      <td>3999</td>\n",
       "    </tr>\n",
       "    <tr>\n",
       "      <th>2022-week_05</th>\n",
       "      <td>3998</td>\n",
       "    </tr>\n",
       "    <tr>\n",
       "      <th>2022-week_06</th>\n",
       "      <td>3992</td>\n",
       "    </tr>\n",
       "    <tr>\n",
       "      <th>2022-week_52</th>\n",
       "      <td>3998</td>\n",
       "    </tr>\n",
       "  </tbody>\n",
       "</table>\n",
       "<p>129 rows × 1 columns</p>\n",
       "</div>"
      ],
      "text/plain": [
       "                     is_success\n",
       "region week_id                 \n",
       "DE     2021-week_33        2395\n",
       "       2021-week_34        2360\n",
       "       2021-week_35        2393\n",
       "       2021-week_36        2401\n",
       "       2021-week_37        2404\n",
       "...                         ...\n",
       "US     2022-week_03        3979\n",
       "       2022-week_04        3999\n",
       "       2022-week_05        3998\n",
       "       2022-week_06        3992\n",
       "       2022-week_52        3998\n",
       "\n",
       "[129 rows x 1 columns]"
      ]
     },
     "execution_count": 42,
     "metadata": {},
     "output_type": "execute_result"
    }
   ],
   "source": [
    "# How many ads are being sent to annotation in each region per week?\n",
    "pd. set_option('display.max_rows', 30)\n",
    "def_new[['week_id','region','is_success']].groupby(['region','week_id'], dropna = False).count()"
   ]
  },
  {
   "cell_type": "markdown",
   "id": "be4ea638-9946-4fc6-8d79-54596ef72a4e",
   "metadata": {
    "tags": []
   },
   "source": [
    "#### Q4"
   ]
  },
  {
   "cell_type": "markdown",
   "id": "cd869024-33fc-4a02-a321-a4d92b871300",
   "metadata": {},
   "source": [
    "How many None values are there in is_sever column?"
   ]
  },
  {
   "cell_type": "code",
   "execution_count": 43,
   "id": "78da7f16-5669-4740-a4a8-04f54dd07dce",
   "metadata": {},
   "outputs": [
    {
     "data": {
      "text/plain": [
       "304195"
      ]
     },
     "execution_count": 43,
     "metadata": {},
     "output_type": "execute_result"
    }
   ],
   "source": [
    "def_new.is_sever.isna().sum()"
   ]
  },
  {
   "cell_type": "markdown",
   "id": "e7a39c35-298d-479c-9f07-7ed9b637d2ac",
   "metadata": {
    "tags": []
   },
   "source": [
    "#### Q5"
   ]
  },
  {
   "cell_type": "markdown",
   "id": "8f7e11ee-e1e1-43f1-a7d1-8e7a0d03004a",
   "metadata": {},
   "source": [
    "Are ads being sent more than one time in a given week? what is the ad_id that was sent the most in a given week? (e.g. ad X was sent 50 times in week Y)"
   ]
  },
  {
   "cell_type": "code",
   "execution_count": 44,
   "id": "08d45de7-e7f6-4835-8aaa-7a076d8b0832",
   "metadata": {},
   "outputs": [],
   "source": [
    "# https://stackoverflow.com/questions/38933071/group-by-two-columns-and-count-the-occurrences-of-each-combination-in-pandas\n",
    "count_ad_per_week = def_new[['week_id','ad_id']].groupby(['week_id','ad_id'], dropna = False).size()\n",
    "ad_counted_per_week_df = count_ad_per_week.to_frame(name = 'size').reset_index()"
   ]
  },
  {
   "cell_type": "code",
   "execution_count": 45,
   "id": "a403180e-ad15-4863-ad1c-d2cbe4fa2739",
   "metadata": {},
   "outputs": [
    {
     "name": "stdout",
     "output_type": "stream",
     "text": [
      " maximum times an ad was being sent in one week is 81\n"
     ]
    }
   ],
   "source": [
    "print(f' maximum times an ad was being sent in one week is {ad_counted_per_week_df[\"size\"].max()}')"
   ]
  },
  {
   "cell_type": "code",
   "execution_count": 46,
   "id": "7180da94-75eb-4a6b-9d48-597b34a4e0e9",
   "metadata": {},
   "outputs": [
    {
     "data": {
      "text/html": [
       "<div>\n",
       "<style scoped>\n",
       "    .dataframe tbody tr th:only-of-type {\n",
       "        vertical-align: middle;\n",
       "    }\n",
       "\n",
       "    .dataframe tbody tr th {\n",
       "        vertical-align: top;\n",
       "    }\n",
       "\n",
       "    .dataframe thead th {\n",
       "        text-align: right;\n",
       "    }\n",
       "</style>\n",
       "<table border=\"1\" class=\"dataframe\">\n",
       "  <thead>\n",
       "    <tr style=\"text-align: right;\">\n",
       "      <th></th>\n",
       "      <th>week_id</th>\n",
       "      <th>ad_id</th>\n",
       "      <th>size</th>\n",
       "    </tr>\n",
       "  </thead>\n",
       "  <tbody>\n",
       "    <tr>\n",
       "      <th>109078</th>\n",
       "      <td>2021-week_40</td>\n",
       "      <td>AD098SWYF6</td>\n",
       "      <td>81</td>\n",
       "    </tr>\n",
       "  </tbody>\n",
       "</table>\n",
       "</div>"
      ],
      "text/plain": [
       "             week_id       ad_id  size\n",
       "109078  2021-week_40  AD098SWYF6    81"
      ]
     },
     "execution_count": 46,
     "metadata": {},
     "output_type": "execute_result"
    }
   ],
   "source": [
    "ad_counted_per_week_df[ad_counted_per_week_df['size'] == ad_counted_per_week_df['size'].max()].head(20)"
   ]
  },
  {
   "cell_type": "markdown",
   "id": "63e0e983-11ff-4cce-8c4e-9393b0144f2d",
   "metadata": {
    "tags": []
   },
   "source": [
    "#### Q6"
   ]
  },
  {
   "cell_type": "markdown",
   "id": "f1a17d1e-3381-4c56-b423-172c039b55dd",
   "metadata": {},
   "source": [
    "Are there ads that are being sent in more than one week?\n",
    "   1. Which is the ad that was sent in most amount of weeks (e.g. ad X where sent in Y different weeks)\n",
    "   2. What are the weeks that the ad from above was sent in? \n",
    "   3. Is there an Ad that was succsefull in one week, but not succesfful in a different week? Show one."
   ]
  },
  {
   "cell_type": "code",
   "execution_count": 47,
   "id": "ef0eeb73-4435-423b-b342-5ddebfe0e665",
   "metadata": {},
   "outputs": [
    {
     "data": {
      "text/html": [
       "<div>\n",
       "<style scoped>\n",
       "    .dataframe tbody tr th:only-of-type {\n",
       "        vertical-align: middle;\n",
       "    }\n",
       "\n",
       "    .dataframe tbody tr th {\n",
       "        vertical-align: top;\n",
       "    }\n",
       "\n",
       "    .dataframe thead th {\n",
       "        text-align: right;\n",
       "    }\n",
       "</style>\n",
       "<table border=\"1\" class=\"dataframe\">\n",
       "  <thead>\n",
       "    <tr style=\"text-align: right;\">\n",
       "      <th></th>\n",
       "      <th>ad_id</th>\n",
       "      <th>week_id</th>\n",
       "      <th>size</th>\n",
       "      <th>count_week</th>\n",
       "    </tr>\n",
       "  </thead>\n",
       "  <tbody>\n",
       "    <tr>\n",
       "      <th>0</th>\n",
       "      <td>AD00000088</td>\n",
       "      <td>2021-week_37</td>\n",
       "      <td>1</td>\n",
       "      <td>1</td>\n",
       "    </tr>\n",
       "    <tr>\n",
       "      <th>1</th>\n",
       "      <td>AD000000WF</td>\n",
       "      <td>2022-week_03</td>\n",
       "      <td>1</td>\n",
       "      <td>1</td>\n",
       "    </tr>\n",
       "    <tr>\n",
       "      <th>2</th>\n",
       "      <td>AD00000876</td>\n",
       "      <td>2021-week_34</td>\n",
       "      <td>1</td>\n",
       "      <td>1</td>\n",
       "    </tr>\n",
       "    <tr>\n",
       "      <th>3</th>\n",
       "      <td>AD00000888</td>\n",
       "      <td>2021-week_43</td>\n",
       "      <td>1</td>\n",
       "      <td>1</td>\n",
       "    </tr>\n",
       "    <tr>\n",
       "      <th>4</th>\n",
       "      <td>AD00000888</td>\n",
       "      <td>2022-week_02</td>\n",
       "      <td>1</td>\n",
       "      <td>1</td>\n",
       "    </tr>\n",
       "  </tbody>\n",
       "</table>\n",
       "</div>"
      ],
      "text/plain": [
       "        ad_id       week_id  size  count_week\n",
       "0  AD00000088  2021-week_37     1           1\n",
       "1  AD000000WF  2022-week_03     1           1\n",
       "2  AD00000876  2021-week_34     1           1\n",
       "3  AD00000888  2021-week_43     1           1\n",
       "4  AD00000888  2022-week_02     1           1"
      ]
     },
     "execution_count": 47,
     "metadata": {},
     "output_type": "execute_result"
    }
   ],
   "source": [
    "count_ad_over_weeks = def_new[['ad_id','week_id']].groupby(['ad_id','week_id'], dropna = False)\n",
    "count_ad_over_weeks = count_ad_over_weeks.size().to_frame(name = 'size').reset_index()\n",
    "count_ad_over_weeks['count_week'] = 1\n",
    "count_ad_over_weeks.head()\n",
    "#over_weeks_ad_count_df = count_ad_over_weeks.reset_index()"
   ]
  },
  {
   "cell_type": "code",
   "execution_count": 48,
   "id": "5aa76908-7dfa-4162-a70e-0357d56580e3",
   "metadata": {},
   "outputs": [
    {
     "data": {
      "text/html": [
       "<div>\n",
       "<style scoped>\n",
       "    .dataframe tbody tr th:only-of-type {\n",
       "        vertical-align: middle;\n",
       "    }\n",
       "\n",
       "    .dataframe tbody tr th {\n",
       "        vertical-align: top;\n",
       "    }\n",
       "\n",
       "    .dataframe thead th {\n",
       "        text-align: right;\n",
       "    }\n",
       "</style>\n",
       "<table border=\"1\" class=\"dataframe\">\n",
       "  <thead>\n",
       "    <tr style=\"text-align: right;\">\n",
       "      <th></th>\n",
       "      <th>ad_id</th>\n",
       "      <th>week_id</th>\n",
       "      <th>size</th>\n",
       "      <th>count_week</th>\n",
       "    </tr>\n",
       "  </thead>\n",
       "  <tbody>\n",
       "    <tr>\n",
       "      <th>0</th>\n",
       "      <td>AD00000088</td>\n",
       "      <td>2021-week_37</td>\n",
       "      <td>1</td>\n",
       "      <td>1</td>\n",
       "    </tr>\n",
       "    <tr>\n",
       "      <th>1</th>\n",
       "      <td>AD000000WF</td>\n",
       "      <td>2022-week_03</td>\n",
       "      <td>1</td>\n",
       "      <td>1</td>\n",
       "    </tr>\n",
       "    <tr>\n",
       "      <th>2</th>\n",
       "      <td>AD00000876</td>\n",
       "      <td>2021-week_34</td>\n",
       "      <td>1</td>\n",
       "      <td>1</td>\n",
       "    </tr>\n",
       "    <tr>\n",
       "      <th>3</th>\n",
       "      <td>AD00000888</td>\n",
       "      <td>2021-week_43</td>\n",
       "      <td>1</td>\n",
       "      <td>1</td>\n",
       "    </tr>\n",
       "    <tr>\n",
       "      <th>4</th>\n",
       "      <td>AD00000888</td>\n",
       "      <td>2022-week_02</td>\n",
       "      <td>1</td>\n",
       "      <td>1</td>\n",
       "    </tr>\n",
       "    <tr>\n",
       "      <th>...</th>\n",
       "      <td>...</td>\n",
       "      <td>...</td>\n",
       "      <td>...</td>\n",
       "      <td>...</td>\n",
       "    </tr>\n",
       "    <tr>\n",
       "      <th>358758</th>\n",
       "      <td>AD98988898</td>\n",
       "      <td>2021-week_43</td>\n",
       "      <td>1</td>\n",
       "      <td>1</td>\n",
       "    </tr>\n",
       "    <tr>\n",
       "      <th>358759</th>\n",
       "      <td>AD98988898</td>\n",
       "      <td>2022-week_05</td>\n",
       "      <td>1</td>\n",
       "      <td>1</td>\n",
       "    </tr>\n",
       "    <tr>\n",
       "      <th>358760</th>\n",
       "      <td>AD99798888</td>\n",
       "      <td>2021-week_42</td>\n",
       "      <td>1</td>\n",
       "      <td>1</td>\n",
       "    </tr>\n",
       "    <tr>\n",
       "      <th>358761</th>\n",
       "      <td>ADOO8X898E</td>\n",
       "      <td>2021-week_41</td>\n",
       "      <td>1</td>\n",
       "      <td>1</td>\n",
       "    </tr>\n",
       "    <tr>\n",
       "      <th>358762</th>\n",
       "      <td>ADOO8X898E</td>\n",
       "      <td>2021-week_50</td>\n",
       "      <td>1</td>\n",
       "      <td>1</td>\n",
       "    </tr>\n",
       "  </tbody>\n",
       "</table>\n",
       "<p>358763 rows × 4 columns</p>\n",
       "</div>"
      ],
      "text/plain": [
       "             ad_id       week_id  size  count_week\n",
       "0       AD00000088  2021-week_37     1           1\n",
       "1       AD000000WF  2022-week_03     1           1\n",
       "2       AD00000876  2021-week_34     1           1\n",
       "3       AD00000888  2021-week_43     1           1\n",
       "4       AD00000888  2022-week_02     1           1\n",
       "...            ...           ...   ...         ...\n",
       "358758  AD98988898  2021-week_43     1           1\n",
       "358759  AD98988898  2022-week_05     1           1\n",
       "358760  AD99798888  2021-week_42     1           1\n",
       "358761  ADOO8X898E  2021-week_41     1           1\n",
       "358762  ADOO8X898E  2021-week_50     1           1\n",
       "\n",
       "[358763 rows x 4 columns]"
      ]
     },
     "execution_count": 48,
     "metadata": {},
     "output_type": "execute_result"
    }
   ],
   "source": [
    "ca = count_ad_over_weeks#.query('ad_id == \"AD07PFFMP9\"')\n",
    "ca"
   ]
  },
  {
   "cell_type": "code",
   "execution_count": 49,
   "id": "5042e20d-f896-46e9-b582-dcf84c3d7a2d",
   "metadata": {},
   "outputs": [
    {
     "data": {
      "text/html": [
       "<div>\n",
       "<style scoped>\n",
       "    .dataframe tbody tr th:only-of-type {\n",
       "        vertical-align: middle;\n",
       "    }\n",
       "\n",
       "    .dataframe tbody tr th {\n",
       "        vertical-align: top;\n",
       "    }\n",
       "\n",
       "    .dataframe thead th {\n",
       "        text-align: right;\n",
       "    }\n",
       "</style>\n",
       "<table border=\"1\" class=\"dataframe\">\n",
       "  <thead>\n",
       "    <tr style=\"text-align: right;\">\n",
       "      <th></th>\n",
       "      <th>ad_id</th>\n",
       "      <th>week_id</th>\n",
       "      <th>size</th>\n",
       "      <th>count_week</th>\n",
       "    </tr>\n",
       "  </thead>\n",
       "  <tbody>\n",
       "    <tr>\n",
       "      <th>0</th>\n",
       "      <td>AD00000088</td>\n",
       "      <td>1</td>\n",
       "      <td>1</td>\n",
       "      <td>1</td>\n",
       "    </tr>\n",
       "    <tr>\n",
       "      <th>1</th>\n",
       "      <td>AD000000WF</td>\n",
       "      <td>1</td>\n",
       "      <td>1</td>\n",
       "      <td>1</td>\n",
       "    </tr>\n",
       "    <tr>\n",
       "      <th>2</th>\n",
       "      <td>AD00000876</td>\n",
       "      <td>1</td>\n",
       "      <td>1</td>\n",
       "      <td>1</td>\n",
       "    </tr>\n",
       "    <tr>\n",
       "      <th>3</th>\n",
       "      <td>AD00000888</td>\n",
       "      <td>2</td>\n",
       "      <td>2</td>\n",
       "      <td>2</td>\n",
       "    </tr>\n",
       "    <tr>\n",
       "      <th>4</th>\n",
       "      <td>AD0000088C</td>\n",
       "      <td>1</td>\n",
       "      <td>1</td>\n",
       "      <td>1</td>\n",
       "    </tr>\n",
       "    <tr>\n",
       "      <th>...</th>\n",
       "      <td>...</td>\n",
       "      <td>...</td>\n",
       "      <td>...</td>\n",
       "      <td>...</td>\n",
       "    </tr>\n",
       "    <tr>\n",
       "      <th>300722</th>\n",
       "      <td>AD98980890</td>\n",
       "      <td>1</td>\n",
       "      <td>1</td>\n",
       "      <td>1</td>\n",
       "    </tr>\n",
       "    <tr>\n",
       "      <th>300723</th>\n",
       "      <td>AD98988688</td>\n",
       "      <td>1</td>\n",
       "      <td>1</td>\n",
       "      <td>1</td>\n",
       "    </tr>\n",
       "    <tr>\n",
       "      <th>300724</th>\n",
       "      <td>AD98988898</td>\n",
       "      <td>2</td>\n",
       "      <td>2</td>\n",
       "      <td>2</td>\n",
       "    </tr>\n",
       "    <tr>\n",
       "      <th>300725</th>\n",
       "      <td>AD99798888</td>\n",
       "      <td>1</td>\n",
       "      <td>1</td>\n",
       "      <td>1</td>\n",
       "    </tr>\n",
       "    <tr>\n",
       "      <th>300726</th>\n",
       "      <td>ADOO8X898E</td>\n",
       "      <td>2</td>\n",
       "      <td>2</td>\n",
       "      <td>2</td>\n",
       "    </tr>\n",
       "  </tbody>\n",
       "</table>\n",
       "<p>300727 rows × 4 columns</p>\n",
       "</div>"
      ],
      "text/plain": [
       "             ad_id  week_id  size  count_week\n",
       "0       AD00000088        1     1           1\n",
       "1       AD000000WF        1     1           1\n",
       "2       AD00000876        1     1           1\n",
       "3       AD00000888        2     2           2\n",
       "4       AD0000088C        1     1           1\n",
       "...            ...      ...   ...         ...\n",
       "300722  AD98980890        1     1           1\n",
       "300723  AD98988688        1     1           1\n",
       "300724  AD98988898        2     2           2\n",
       "300725  AD99798888        1     1           1\n",
       "300726  ADOO8X898E        2     2           2\n",
       "\n",
       "[300727 rows x 4 columns]"
      ]
     },
     "execution_count": 49,
     "metadata": {},
     "output_type": "execute_result"
    }
   ],
   "source": [
    "ba = ca.groupby('ad_id', as_index=False).count()\n",
    "ba\n"
   ]
  },
  {
   "cell_type": "code",
   "execution_count": 50,
   "id": "cb5f6c61-93ab-49cf-be6d-fefc36d4076b",
   "metadata": {},
   "outputs": [
    {
     "data": {
      "text/html": [
       "<div>\n",
       "<style scoped>\n",
       "    .dataframe tbody tr th:only-of-type {\n",
       "        vertical-align: middle;\n",
       "    }\n",
       "\n",
       "    .dataframe tbody tr th {\n",
       "        vertical-align: top;\n",
       "    }\n",
       "\n",
       "    .dataframe thead th {\n",
       "        text-align: right;\n",
       "    }\n",
       "</style>\n",
       "<table border=\"1\" class=\"dataframe\">\n",
       "  <thead>\n",
       "    <tr style=\"text-align: right;\">\n",
       "      <th></th>\n",
       "      <th>ad_id</th>\n",
       "      <th>week_id</th>\n",
       "      <th>size</th>\n",
       "      <th>count_week</th>\n",
       "    </tr>\n",
       "  </thead>\n",
       "  <tbody>\n",
       "    <tr>\n",
       "      <th>84779</th>\n",
       "      <td>AD079VP6DH</td>\n",
       "      <td>26</td>\n",
       "      <td>26</td>\n",
       "      <td>26</td>\n",
       "    </tr>\n",
       "    <tr>\n",
       "      <th>118808</th>\n",
       "      <td>AD07PFFMP9</td>\n",
       "      <td>26</td>\n",
       "      <td>26</td>\n",
       "      <td>26</td>\n",
       "    </tr>\n",
       "    <tr>\n",
       "      <th>282865</th>\n",
       "      <td>AD098ZJV6Z</td>\n",
       "      <td>26</td>\n",
       "      <td>26</td>\n",
       "      <td>26</td>\n",
       "    </tr>\n",
       "  </tbody>\n",
       "</table>\n",
       "</div>"
      ],
      "text/plain": [
       "             ad_id  week_id  size  count_week\n",
       "84779   AD079VP6DH       26    26          26\n",
       "118808  AD07PFFMP9       26    26          26\n",
       "282865  AD098ZJV6Z       26    26          26"
      ]
     },
     "execution_count": 50,
     "metadata": {},
     "output_type": "execute_result"
    }
   ],
   "source": [
    "ba[ba['week_id'] == ba['week_id'].max()].head(10)"
   ]
  },
  {
   "cell_type": "markdown",
   "id": "43164a6c-c84b-44c0-a81e-6ba80f71ea31",
   "metadata": {
    "tags": []
   },
   "source": [
    "#### Q7"
   ]
  },
  {
   "cell_type": "markdown",
   "id": "5acc99a5-adcb-45e7-8179-0b199f6080f7",
   "metadata": {},
   "source": [
    "When is_sever is None, what is the number of successful requests? What is the number of non-successful requests? What do you learn from it about the reason for Nones in the first place? "
   ]
  },
  {
   "cell_type": "code",
   "execution_count": 51,
   "id": "11879790-f76e-41c8-95f3-15c9acad381a",
   "metadata": {},
   "outputs": [
    {
     "data": {
      "text/plain": [
       "69593"
      ]
     },
     "execution_count": 51,
     "metadata": {},
     "output_type": "execute_result"
    }
   ],
   "source": [
    "len(def_new[~def_new.is_sever.isnull()])"
   ]
  },
  {
   "cell_type": "code",
   "execution_count": 52,
   "id": "0a708104-8abb-4ac0-ba1f-c8a1d7619e62",
   "metadata": {},
   "outputs": [
    {
     "data": {
      "text/plain": [
       "69576"
      ]
     },
     "execution_count": 52,
     "metadata": {},
     "output_type": "execute_result"
    }
   ],
   "source": [
    "len(def_new[~def_new.is_sever.isnull()].query('is_success == \"No\"'))"
   ]
  },
  {
   "cell_type": "code",
   "execution_count": 53,
   "id": "648355e9-886e-4975-9af2-a1e062d8c823",
   "metadata": {},
   "outputs": [
    {
     "data": {
      "text/plain": [
       "304195"
      ]
     },
     "execution_count": 53,
     "metadata": {},
     "output_type": "execute_result"
    }
   ],
   "source": [
    "len(def_new[def_new.is_sever.isnull()])"
   ]
  },
  {
   "cell_type": "code",
   "execution_count": 54,
   "id": "cd62ecf5-6712-41dd-b4e1-89abdda8e3e9",
   "metadata": {},
   "outputs": [
    {
     "data": {
      "text/plain": [
       "304189"
      ]
     },
     "execution_count": 54,
     "metadata": {},
     "output_type": "execute_result"
    }
   ],
   "source": [
    "len(def_new[def_new.is_sever.isnull()].query('is_success == \"Yes\"'))"
   ]
  },
  {
   "cell_type": "code",
   "execution_count": 55,
   "id": "1550806b-e1b8-4e7b-86a3-167fc3cb70db",
   "metadata": {},
   "outputs": [
    {
     "data": {
      "text/plain": [
       "6"
      ]
     },
     "execution_count": 55,
     "metadata": {},
     "output_type": "execute_result"
    }
   ],
   "source": [
    "len(def_new[def_new.is_sever.isnull()].query('is_success == \"No\"'))"
   ]
  },
  {
   "cell_type": "code",
   "execution_count": 56,
   "id": "bdafdffe-703b-48f5-8d8a-e5e392242998",
   "metadata": {},
   "outputs": [
    {
     "data": {
      "text/html": [
       "<div>\n",
       "<style scoped>\n",
       "    .dataframe tbody tr th:only-of-type {\n",
       "        vertical-align: middle;\n",
       "    }\n",
       "\n",
       "    .dataframe tbody tr th {\n",
       "        vertical-align: top;\n",
       "    }\n",
       "\n",
       "    .dataframe thead th {\n",
       "        text-align: right;\n",
       "    }\n",
       "</style>\n",
       "<table border=\"1\" class=\"dataframe\">\n",
       "  <thead>\n",
       "    <tr style=\"text-align: right;\">\n",
       "      <th></th>\n",
       "      <th>week_id</th>\n",
       "      <th>ad_id</th>\n",
       "      <th>requester</th>\n",
       "      <th>region</th>\n",
       "      <th>is_success</th>\n",
       "      <th>is_sever</th>\n",
       "      <th>recommendation_type</th>\n",
       "      <th>rec_provider</th>\n",
       "      <th>Year</th>\n",
       "      <th>Quarter</th>\n",
       "      <th>binary_success</th>\n",
       "      <th>is_sever_full</th>\n",
       "      <th>week_number</th>\n",
       "    </tr>\n",
       "  </thead>\n",
       "  <tbody>\n",
       "    <tr>\n",
       "      <th>21850</th>\n",
       "      <td>2021-week_34</td>\n",
       "      <td>AD07PC78Q8</td>\n",
       "      <td>Search Million Culture</td>\n",
       "      <td>IN</td>\n",
       "      <td>No</td>\n",
       "      <td>NaN</td>\n",
       "      <td>Qality</td>\n",
       "      <td>UserPopQ</td>\n",
       "      <td>2021</td>\n",
       "      <td>Quarter 3</td>\n",
       "      <td>0</td>\n",
       "      <td>False</td>\n",
       "      <td>34</td>\n",
       "    </tr>\n",
       "    <tr>\n",
       "      <th>38128</th>\n",
       "      <td>2021-week_35</td>\n",
       "      <td>AD098877VQ</td>\n",
       "      <td>Crescendo Networks</td>\n",
       "      <td>JP</td>\n",
       "      <td>No</td>\n",
       "      <td>NaN</td>\n",
       "      <td>Yield</td>\n",
       "      <td>RuleBasedY</td>\n",
       "      <td>2021</td>\n",
       "      <td>Quarter 3</td>\n",
       "      <td>0</td>\n",
       "      <td>False</td>\n",
       "      <td>35</td>\n",
       "    </tr>\n",
       "    <tr>\n",
       "      <th>176209</th>\n",
       "      <td>2021-week_45</td>\n",
       "      <td>AD08GKSWQ8</td>\n",
       "      <td>Search Million Culture</td>\n",
       "      <td>GB</td>\n",
       "      <td>No</td>\n",
       "      <td>NaN</td>\n",
       "      <td>Qality</td>\n",
       "      <td>DNNQ</td>\n",
       "      <td>2021</td>\n",
       "      <td>Quarter 4</td>\n",
       "      <td>0</td>\n",
       "      <td>False</td>\n",
       "      <td>45</td>\n",
       "    </tr>\n",
       "    <tr>\n",
       "      <th>202294</th>\n",
       "      <td>2021-week_47</td>\n",
       "      <td>AD00KYSI8</td>\n",
       "      <td>Search Million Culture</td>\n",
       "      <td>DE</td>\n",
       "      <td>No</td>\n",
       "      <td>NaN</td>\n",
       "      <td>Qality</td>\n",
       "      <td>UserPopQ</td>\n",
       "      <td>2021</td>\n",
       "      <td>Quarter 4</td>\n",
       "      <td>0</td>\n",
       "      <td>False</td>\n",
       "      <td>47</td>\n",
       "    </tr>\n",
       "    <tr>\n",
       "      <th>230420</th>\n",
       "      <td>2021-week_49</td>\n",
       "      <td>AD08VPSSS</td>\n",
       "      <td>LocalVox Media</td>\n",
       "      <td>DE</td>\n",
       "      <td>No</td>\n",
       "      <td>NaN</td>\n",
       "      <td>Yield</td>\n",
       "      <td>DNNY</td>\n",
       "      <td>2021</td>\n",
       "      <td>Quarter 4</td>\n",
       "      <td>0</td>\n",
       "      <td>False</td>\n",
       "      <td>49</td>\n",
       "    </tr>\n",
       "    <tr>\n",
       "      <th>231917</th>\n",
       "      <td>2021-week_49</td>\n",
       "      <td>AD07GZP8HJ</td>\n",
       "      <td>MoJoe Brewing Company</td>\n",
       "      <td>DE</td>\n",
       "      <td>No</td>\n",
       "      <td>NaN</td>\n",
       "      <td>Yield</td>\n",
       "      <td>RuleBasedY</td>\n",
       "      <td>2021</td>\n",
       "      <td>Quarter 4</td>\n",
       "      <td>0</td>\n",
       "      <td>False</td>\n",
       "      <td>49</td>\n",
       "    </tr>\n",
       "  </tbody>\n",
       "</table>\n",
       "</div>"
      ],
      "text/plain": [
       "             week_id       ad_id               requester region is_success  \\\n",
       "21850   2021-week_34  AD07PC78Q8  Search Million Culture     IN         No   \n",
       "38128   2021-week_35  AD098877VQ      Crescendo Networks     JP         No   \n",
       "176209  2021-week_45  AD08GKSWQ8  Search Million Culture     GB         No   \n",
       "202294  2021-week_47   AD00KYSI8  Search Million Culture     DE         No   \n",
       "230420  2021-week_49   AD08VPSSS          LocalVox Media     DE         No   \n",
       "231917  2021-week_49  AD07GZP8HJ   MoJoe Brewing Company     DE         No   \n",
       "\n",
       "       is_sever recommendation_type rec_provider  Year    Quarter  \\\n",
       "21850       NaN              Qality     UserPopQ  2021  Quarter 3   \n",
       "38128       NaN               Yield   RuleBasedY  2021  Quarter 3   \n",
       "176209      NaN              Qality         DNNQ  2021  Quarter 4   \n",
       "202294      NaN              Qality     UserPopQ  2021  Quarter 4   \n",
       "230420      NaN               Yield         DNNY  2021  Quarter 4   \n",
       "231917      NaN               Yield   RuleBasedY  2021  Quarter 4   \n",
       "\n",
       "        binary_success is_sever_full week_number  \n",
       "21850                0         False          34  \n",
       "38128                0         False          35  \n",
       "176209               0         False          45  \n",
       "202294               0         False          47  \n",
       "230420               0         False          49  \n",
       "231917               0         False          49  "
      ]
     },
     "execution_count": 56,
     "metadata": {},
     "output_type": "execute_result"
    }
   ],
   "source": [
    "def_new[def_new.is_sever.isnull()].query('is_success == \"No\"')"
   ]
  },
  {
   "cell_type": "markdown",
   "id": "ee8ba0c4-e72a-4df0-a7df-a79fb3c6f46e",
   "metadata": {},
   "source": [
    "is_sever is used when is_success == No, to gauge if the lack of success is severe or not. there are only 17 rows where success == Yes and there is a is_sever information"
   ]
  },
  {
   "cell_type": "code",
   "execution_count": 57,
   "id": "cd885da1-4250-4071-a622-7bf3dbe96aa9",
   "metadata": {},
   "outputs": [
    {
     "data": {
      "text/html": [
       "<div>\n",
       "<style scoped>\n",
       "    .dataframe tbody tr th:only-of-type {\n",
       "        vertical-align: middle;\n",
       "    }\n",
       "\n",
       "    .dataframe tbody tr th {\n",
       "        vertical-align: top;\n",
       "    }\n",
       "\n",
       "    .dataframe thead th {\n",
       "        text-align: right;\n",
       "    }\n",
       "</style>\n",
       "<table border=\"1\" class=\"dataframe\">\n",
       "  <thead>\n",
       "    <tr style=\"text-align: right;\">\n",
       "      <th></th>\n",
       "      <th>week_id</th>\n",
       "      <th>ad_id</th>\n",
       "      <th>requester</th>\n",
       "      <th>region</th>\n",
       "      <th>is_success</th>\n",
       "      <th>is_sever</th>\n",
       "      <th>recommendation_type</th>\n",
       "      <th>rec_provider</th>\n",
       "      <th>Year</th>\n",
       "      <th>Quarter</th>\n",
       "      <th>binary_success</th>\n",
       "      <th>is_sever_full</th>\n",
       "      <th>week_number</th>\n",
       "    </tr>\n",
       "  </thead>\n",
       "  <tbody>\n",
       "    <tr>\n",
       "      <th>1455</th>\n",
       "      <td>2021-week_33</td>\n",
       "      <td>AD07CZZ7HN</td>\n",
       "      <td>Search Million Culture</td>\n",
       "      <td>DE</td>\n",
       "      <td>Yes</td>\n",
       "      <td>False</td>\n",
       "      <td>Qality</td>\n",
       "      <td>DNNQ</td>\n",
       "      <td>2021</td>\n",
       "      <td>Quarter 3</td>\n",
       "      <td>1</td>\n",
       "      <td>False</td>\n",
       "      <td>33</td>\n",
       "    </tr>\n",
       "    <tr>\n",
       "      <th>29302</th>\n",
       "      <td>2021-week_35</td>\n",
       "      <td>AD078WR7CG</td>\n",
       "      <td>Search Million Culture</td>\n",
       "      <td>DE</td>\n",
       "      <td>Yes</td>\n",
       "      <td>False</td>\n",
       "      <td>Qality</td>\n",
       "      <td>ManualQ</td>\n",
       "      <td>2021</td>\n",
       "      <td>Quarter 3</td>\n",
       "      <td>1</td>\n",
       "      <td>False</td>\n",
       "      <td>35</td>\n",
       "    </tr>\n",
       "    <tr>\n",
       "      <th>43268</th>\n",
       "      <td>2021-week_36</td>\n",
       "      <td>AD000NE8O8</td>\n",
       "      <td>Search Million Culture</td>\n",
       "      <td>DE</td>\n",
       "      <td>Yes</td>\n",
       "      <td>False</td>\n",
       "      <td>Qality</td>\n",
       "      <td>DNNQ</td>\n",
       "      <td>2021</td>\n",
       "      <td>Quarter 3</td>\n",
       "      <td>1</td>\n",
       "      <td>False</td>\n",
       "      <td>36</td>\n",
       "    </tr>\n",
       "    <tr>\n",
       "      <th>49148</th>\n",
       "      <td>2021-week_36</td>\n",
       "      <td>AD098ZJV6Z</td>\n",
       "      <td>Puentes Company</td>\n",
       "      <td>IN</td>\n",
       "      <td>Yes</td>\n",
       "      <td>True</td>\n",
       "      <td>Yield</td>\n",
       "      <td>UserPopY</td>\n",
       "      <td>2021</td>\n",
       "      <td>Quarter 3</td>\n",
       "      <td>1</td>\n",
       "      <td>True</td>\n",
       "      <td>36</td>\n",
       "    </tr>\n",
       "    <tr>\n",
       "      <th>49151</th>\n",
       "      <td>2021-week_36</td>\n",
       "      <td>AD098ZJV6Z</td>\n",
       "      <td>Puentes Company</td>\n",
       "      <td>IN</td>\n",
       "      <td>Yes</td>\n",
       "      <td>True</td>\n",
       "      <td>Yield</td>\n",
       "      <td>UserPopY</td>\n",
       "      <td>2021</td>\n",
       "      <td>Quarter 3</td>\n",
       "      <td>1</td>\n",
       "      <td>True</td>\n",
       "      <td>36</td>\n",
       "    </tr>\n",
       "    <tr>\n",
       "      <th>49153</th>\n",
       "      <td>2021-week_36</td>\n",
       "      <td>AD098ZJV6Z</td>\n",
       "      <td>Puentes Company</td>\n",
       "      <td>IN</td>\n",
       "      <td>Yes</td>\n",
       "      <td>True</td>\n",
       "      <td>Yield</td>\n",
       "      <td>UserPopY</td>\n",
       "      <td>2021</td>\n",
       "      <td>Quarter 3</td>\n",
       "      <td>1</td>\n",
       "      <td>True</td>\n",
       "      <td>36</td>\n",
       "    </tr>\n",
       "    <tr>\n",
       "      <th>61667</th>\n",
       "      <td>2021-week_37</td>\n",
       "      <td>AD07ZL888H</td>\n",
       "      <td>Search Million Culture</td>\n",
       "      <td>GB</td>\n",
       "      <td>Yes</td>\n",
       "      <td>True</td>\n",
       "      <td>Qality</td>\n",
       "      <td>UserPopQ</td>\n",
       "      <td>2021</td>\n",
       "      <td>Quarter 3</td>\n",
       "      <td>1</td>\n",
       "      <td>True</td>\n",
       "      <td>37</td>\n",
       "    </tr>\n",
       "    <tr>\n",
       "      <th>71687</th>\n",
       "      <td>2021-week_37</td>\n",
       "      <td>AD08898J9H</td>\n",
       "      <td>Extreme DA</td>\n",
       "      <td>US</td>\n",
       "      <td>Yes</td>\n",
       "      <td>True</td>\n",
       "      <td>Yield</td>\n",
       "      <td>RNNY</td>\n",
       "      <td>2021</td>\n",
       "      <td>Quarter 3</td>\n",
       "      <td>1</td>\n",
       "      <td>True</td>\n",
       "      <td>37</td>\n",
       "    </tr>\n",
       "    <tr>\n",
       "      <th>78517</th>\n",
       "      <td>2021-week_38</td>\n",
       "      <td>AD098ZJV6Z</td>\n",
       "      <td>Puentes Company</td>\n",
       "      <td>IN</td>\n",
       "      <td>Yes</td>\n",
       "      <td>True</td>\n",
       "      <td>Yield</td>\n",
       "      <td>UserPopY</td>\n",
       "      <td>2021</td>\n",
       "      <td>Quarter 3</td>\n",
       "      <td>1</td>\n",
       "      <td>True</td>\n",
       "      <td>38</td>\n",
       "    </tr>\n",
       "    <tr>\n",
       "      <th>89331</th>\n",
       "      <td>2021-week_39</td>\n",
       "      <td>AD07MJLL68</td>\n",
       "      <td>Tab Solutions</td>\n",
       "      <td>GB</td>\n",
       "      <td>Yes</td>\n",
       "      <td>True</td>\n",
       "      <td>Qality</td>\n",
       "      <td>XGBQ</td>\n",
       "      <td>2021</td>\n",
       "      <td>Quarter 3</td>\n",
       "      <td>1</td>\n",
       "      <td>True</td>\n",
       "      <td>39</td>\n",
       "    </tr>\n",
       "    <tr>\n",
       "      <th>115758</th>\n",
       "      <td>2021-week_41</td>\n",
       "      <td>AD08LXLFF6</td>\n",
       "      <td>Tab Solutions</td>\n",
       "      <td>DE</td>\n",
       "      <td>Yes</td>\n",
       "      <td>True</td>\n",
       "      <td>Qality</td>\n",
       "      <td>ManualQ</td>\n",
       "      <td>2021</td>\n",
       "      <td>Quarter 4</td>\n",
       "      <td>1</td>\n",
       "      <td>True</td>\n",
       "      <td>41</td>\n",
       "    </tr>\n",
       "    <tr>\n",
       "      <th>130960</th>\n",
       "      <td>2021-week_42</td>\n",
       "      <td>AD098XQDW6</td>\n",
       "      <td>RelayFoods</td>\n",
       "      <td>DE</td>\n",
       "      <td>Yes</td>\n",
       "      <td>True</td>\n",
       "      <td>Qality</td>\n",
       "      <td>UserPopQ</td>\n",
       "      <td>2021</td>\n",
       "      <td>Quarter 4</td>\n",
       "      <td>1</td>\n",
       "      <td>True</td>\n",
       "      <td>42</td>\n",
       "    </tr>\n",
       "    <tr>\n",
       "      <th>139725</th>\n",
       "      <td>2021-week_42</td>\n",
       "      <td>AD08KGDRVY</td>\n",
       "      <td>Search Million Culture</td>\n",
       "      <td>JP</td>\n",
       "      <td>Yes</td>\n",
       "      <td>True</td>\n",
       "      <td>Qality</td>\n",
       "      <td>DNNQ</td>\n",
       "      <td>2021</td>\n",
       "      <td>Quarter 4</td>\n",
       "      <td>1</td>\n",
       "      <td>True</td>\n",
       "      <td>42</td>\n",
       "    </tr>\n",
       "    <tr>\n",
       "      <th>230462</th>\n",
       "      <td>2021-week_49</td>\n",
       "      <td>AD076VMQC8</td>\n",
       "      <td>RelayFoods</td>\n",
       "      <td>DE</td>\n",
       "      <td>Yes</td>\n",
       "      <td>True</td>\n",
       "      <td>Qality</td>\n",
       "      <td>UserPopQ</td>\n",
       "      <td>2021</td>\n",
       "      <td>Quarter 4</td>\n",
       "      <td>1</td>\n",
       "      <td>True</td>\n",
       "      <td>49</td>\n",
       "    </tr>\n",
       "    <tr>\n",
       "      <th>253134</th>\n",
       "      <td>2021-week_50</td>\n",
       "      <td>AD08LMZJGL</td>\n",
       "      <td>Puentes Company</td>\n",
       "      <td>IN</td>\n",
       "      <td>Yes</td>\n",
       "      <td>True</td>\n",
       "      <td>Yield</td>\n",
       "      <td>UserPopY</td>\n",
       "      <td>2021</td>\n",
       "      <td>Quarter 4</td>\n",
       "      <td>1</td>\n",
       "      <td>True</td>\n",
       "      <td>50</td>\n",
       "    </tr>\n",
       "    <tr>\n",
       "      <th>306922</th>\n",
       "      <td>2022-week_03</td>\n",
       "      <td>AD076KQVXZ</td>\n",
       "      <td>RelayFoods</td>\n",
       "      <td>IN</td>\n",
       "      <td>Yes</td>\n",
       "      <td>False</td>\n",
       "      <td>Qality</td>\n",
       "      <td>UserPopQ</td>\n",
       "      <td>2022</td>\n",
       "      <td>Quarter 1</td>\n",
       "      <td>1</td>\n",
       "      <td>False</td>\n",
       "      <td>03</td>\n",
       "    </tr>\n",
       "    <tr>\n",
       "      <th>308486</th>\n",
       "      <td>2022-week_03</td>\n",
       "      <td>AD07G8K6JH</td>\n",
       "      <td>Search Million Culture</td>\n",
       "      <td>IN</td>\n",
       "      <td>Yes</td>\n",
       "      <td>False</td>\n",
       "      <td>Yield</td>\n",
       "      <td>RuleBasedY</td>\n",
       "      <td>2022</td>\n",
       "      <td>Quarter 1</td>\n",
       "      <td>1</td>\n",
       "      <td>False</td>\n",
       "      <td>03</td>\n",
       "    </tr>\n",
       "  </tbody>\n",
       "</table>\n",
       "</div>"
      ],
      "text/plain": [
       "             week_id       ad_id               requester region is_success  \\\n",
       "1455    2021-week_33  AD07CZZ7HN  Search Million Culture     DE        Yes   \n",
       "29302   2021-week_35  AD078WR7CG  Search Million Culture     DE        Yes   \n",
       "43268   2021-week_36  AD000NE8O8  Search Million Culture     DE        Yes   \n",
       "49148   2021-week_36  AD098ZJV6Z         Puentes Company     IN        Yes   \n",
       "49151   2021-week_36  AD098ZJV6Z         Puentes Company     IN        Yes   \n",
       "49153   2021-week_36  AD098ZJV6Z         Puentes Company     IN        Yes   \n",
       "61667   2021-week_37  AD07ZL888H  Search Million Culture     GB        Yes   \n",
       "71687   2021-week_37  AD08898J9H              Extreme DA     US        Yes   \n",
       "78517   2021-week_38  AD098ZJV6Z         Puentes Company     IN        Yes   \n",
       "89331   2021-week_39  AD07MJLL68           Tab Solutions     GB        Yes   \n",
       "115758  2021-week_41  AD08LXLFF6           Tab Solutions     DE        Yes   \n",
       "130960  2021-week_42  AD098XQDW6              RelayFoods     DE        Yes   \n",
       "139725  2021-week_42  AD08KGDRVY  Search Million Culture     JP        Yes   \n",
       "230462  2021-week_49  AD076VMQC8              RelayFoods     DE        Yes   \n",
       "253134  2021-week_50  AD08LMZJGL         Puentes Company     IN        Yes   \n",
       "306922  2022-week_03  AD076KQVXZ              RelayFoods     IN        Yes   \n",
       "308486  2022-week_03  AD07G8K6JH  Search Million Culture     IN        Yes   \n",
       "\n",
       "       is_sever recommendation_type rec_provider  Year    Quarter  \\\n",
       "1455      False              Qality         DNNQ  2021  Quarter 3   \n",
       "29302     False              Qality      ManualQ  2021  Quarter 3   \n",
       "43268     False              Qality         DNNQ  2021  Quarter 3   \n",
       "49148      True               Yield     UserPopY  2021  Quarter 3   \n",
       "49151      True               Yield     UserPopY  2021  Quarter 3   \n",
       "49153      True               Yield     UserPopY  2021  Quarter 3   \n",
       "61667      True              Qality     UserPopQ  2021  Quarter 3   \n",
       "71687      True               Yield         RNNY  2021  Quarter 3   \n",
       "78517      True               Yield     UserPopY  2021  Quarter 3   \n",
       "89331      True              Qality         XGBQ  2021  Quarter 3   \n",
       "115758     True              Qality      ManualQ  2021  Quarter 4   \n",
       "130960     True              Qality     UserPopQ  2021  Quarter 4   \n",
       "139725     True              Qality         DNNQ  2021  Quarter 4   \n",
       "230462     True              Qality     UserPopQ  2021  Quarter 4   \n",
       "253134     True               Yield     UserPopY  2021  Quarter 4   \n",
       "306922    False              Qality     UserPopQ  2022  Quarter 1   \n",
       "308486    False               Yield   RuleBasedY  2022  Quarter 1   \n",
       "\n",
       "        binary_success is_sever_full week_number  \n",
       "1455                 1         False          33  \n",
       "29302                1         False          35  \n",
       "43268                1         False          36  \n",
       "49148                1          True          36  \n",
       "49151                1          True          36  \n",
       "49153                1          True          36  \n",
       "61667                1          True          37  \n",
       "71687                1          True          37  \n",
       "78517                1          True          38  \n",
       "89331                1          True          39  \n",
       "115758               1          True          41  \n",
       "130960               1          True          42  \n",
       "139725               1          True          42  \n",
       "230462               1          True          49  \n",
       "253134               1          True          50  \n",
       "306922               1         False          03  \n",
       "308486               1         False          03  "
      ]
     },
     "execution_count": 57,
     "metadata": {},
     "output_type": "execute_result"
    }
   ],
   "source": [
    "def_new[~def_new.is_sever.isnull()].query('is_success == \"Yes\"')"
   ]
  },
  {
   "cell_type": "markdown",
   "id": "6016325a-7960-4511-bc4b-7e11eb2e71c3",
   "metadata": {
    "tags": []
   },
   "source": [
    "#### Q8"
   ]
  },
  {
   "cell_type": "markdown",
   "id": "6d0cd08c-fb2b-4298-8988-1c2c936176b1",
   "metadata": {},
   "source": [
    "Per each region, What is the Quality/Yield traffic proportion WoW? "
   ]
  },
  {
   "cell_type": "code",
   "execution_count": 58,
   "id": "347fa1c7-e73b-46e6-9ddf-6e0d7e5b2310",
   "metadata": {},
   "outputs": [
    {
     "data": {
      "text/html": [
       "<div>\n",
       "<style scoped>\n",
       "    .dataframe tbody tr th:only-of-type {\n",
       "        vertical-align: middle;\n",
       "    }\n",
       "\n",
       "    .dataframe tbody tr th {\n",
       "        vertical-align: top;\n",
       "    }\n",
       "\n",
       "    .dataframe thead th {\n",
       "        text-align: right;\n",
       "    }\n",
       "</style>\n",
       "<table border=\"1\" class=\"dataframe\">\n",
       "  <thead>\n",
       "    <tr style=\"text-align: right;\">\n",
       "      <th></th>\n",
       "      <th></th>\n",
       "      <th>ad_id</th>\n",
       "    </tr>\n",
       "    <tr>\n",
       "      <th>week_id</th>\n",
       "      <th>recommendation_type</th>\n",
       "      <th></th>\n",
       "    </tr>\n",
       "  </thead>\n",
       "  <tbody>\n",
       "    <tr>\n",
       "      <th rowspan=\"2\" valign=\"top\">2021-week_33</th>\n",
       "      <th>Qality</th>\n",
       "      <td>10002</td>\n",
       "    </tr>\n",
       "    <tr>\n",
       "      <th>Yield</th>\n",
       "      <td>4354</td>\n",
       "    </tr>\n",
       "    <tr>\n",
       "      <th rowspan=\"2\" valign=\"top\">2021-week_34</th>\n",
       "      <th>Qality</th>\n",
       "      <td>9609</td>\n",
       "    </tr>\n",
       "    <tr>\n",
       "      <th>Yield</th>\n",
       "      <td>4762</td>\n",
       "    </tr>\n",
       "    <tr>\n",
       "      <th>2021-week_35</th>\n",
       "      <th>Qality</th>\n",
       "      <td>9365</td>\n",
       "    </tr>\n",
       "    <tr>\n",
       "      <th>...</th>\n",
       "      <th>...</th>\n",
       "      <td>...</td>\n",
       "    </tr>\n",
       "    <tr>\n",
       "      <th>2022-week_05</th>\n",
       "      <th>Yield</th>\n",
       "      <td>4998</td>\n",
       "    </tr>\n",
       "    <tr>\n",
       "      <th rowspan=\"2\" valign=\"top\">2022-week_06</th>\n",
       "      <th>Qality</th>\n",
       "      <td>9715</td>\n",
       "    </tr>\n",
       "    <tr>\n",
       "      <th>Yield</th>\n",
       "      <td>4674</td>\n",
       "    </tr>\n",
       "    <tr>\n",
       "      <th rowspan=\"2\" valign=\"top\">2022-week_52</th>\n",
       "      <th>Qality</th>\n",
       "      <td>9490</td>\n",
       "    </tr>\n",
       "    <tr>\n",
       "      <th>Yield</th>\n",
       "      <td>6440</td>\n",
       "    </tr>\n",
       "  </tbody>\n",
       "</table>\n",
       "<p>52 rows × 1 columns</p>\n",
       "</div>"
      ],
      "text/plain": [
       "                                  ad_id\n",
       "week_id      recommendation_type       \n",
       "2021-week_33 Qality               10002\n",
       "             Yield                 4354\n",
       "2021-week_34 Qality                9609\n",
       "             Yield                 4762\n",
       "2021-week_35 Qality                9365\n",
       "...                                 ...\n",
       "2022-week_05 Yield                 4998\n",
       "2022-week_06 Qality                9715\n",
       "             Yield                 4674\n",
       "2022-week_52 Qality                9490\n",
       "             Yield                 6440\n",
       "\n",
       "[52 rows x 1 columns]"
      ]
     },
     "execution_count": 58,
     "metadata": {},
     "output_type": "execute_result"
    }
   ],
   "source": [
    "def_new[['week_id','recommendation_type','ad_id']].groupby(['week_id','recommendation_type']).count()"
   ]
  },
  {
   "cell_type": "code",
   "execution_count": 59,
   "id": "4657cb5e-cd25-43e3-9463-12ef0e797bb4",
   "metadata": {},
   "outputs": [
    {
     "data": {
      "text/plain": [
       "Index(['2021-week_33', '2021-week_34', '2021-week_35', '2021-week_36',\n",
       "       '2021-week_37', '2021-week_38', '2021-week_39', '2021-week_40',\n",
       "       '2021-week_41', '2021-week_42', '2021-week_43', '2021-week_44',\n",
       "       '2021-week_45', '2021-week_46', '2021-week_47', '2021-week_48',\n",
       "       '2021-week_49', '2021-week_50', '2021-week_51', '2022-week_01',\n",
       "       '2022-week_02', '2022-week_03', '2022-week_04', '2022-week_05',\n",
       "       '2022-week_06', '2022-week_52'],\n",
       "      dtype='object', name='week_id')"
      ]
     },
     "execution_count": 59,
     "metadata": {},
     "output_type": "execute_result"
    }
   ],
   "source": [
    "bn = def_new[['week_id','recommendation_type','ad_id']].groupby(['week_id','recommendation_type']).count()\n",
    "bn = bn.unstack()\n",
    "bn.index"
   ]
  },
  {
   "cell_type": "code",
   "execution_count": 60,
   "id": "b7572400-9b53-4d01-b3f2-659b42f7bd0c",
   "metadata": {},
   "outputs": [
    {
     "data": {
      "text/plain": [
       "MultiIndex([('ad_id', 'Qality'),\n",
       "            ('ad_id',  'Yield')],\n",
       "           names=[None, 'recommendation_type'])"
      ]
     },
     "execution_count": 60,
     "metadata": {},
     "output_type": "execute_result"
    }
   ],
   "source": [
    "bn.columns"
   ]
  },
  {
   "cell_type": "code",
   "execution_count": 61,
   "id": "5e1eaf5c-c9af-4295-a194-1522e8c93fe8",
   "metadata": {},
   "outputs": [
    {
     "data": {
      "text/html": [
       "<div>\n",
       "<style scoped>\n",
       "    .dataframe tbody tr th:only-of-type {\n",
       "        vertical-align: middle;\n",
       "    }\n",
       "\n",
       "    .dataframe tbody tr th {\n",
       "        vertical-align: top;\n",
       "    }\n",
       "\n",
       "    .dataframe thead tr th {\n",
       "        text-align: left;\n",
       "    }\n",
       "\n",
       "    .dataframe thead tr:last-of-type th {\n",
       "        text-align: right;\n",
       "    }\n",
       "</style>\n",
       "<table border=\"1\" class=\"dataframe\">\n",
       "  <thead>\n",
       "    <tr>\n",
       "      <th></th>\n",
       "      <th colspan=\"2\" halign=\"left\">ad_id</th>\n",
       "    </tr>\n",
       "    <tr>\n",
       "      <th>recommendation_type</th>\n",
       "      <th>Qality</th>\n",
       "      <th>Yield</th>\n",
       "    </tr>\n",
       "    <tr>\n",
       "      <th>week_id</th>\n",
       "      <th></th>\n",
       "      <th></th>\n",
       "    </tr>\n",
       "  </thead>\n",
       "  <tbody>\n",
       "    <tr>\n",
       "      <th>2021-week_33</th>\n",
       "      <td>10002</td>\n",
       "      <td>4354</td>\n",
       "    </tr>\n",
       "    <tr>\n",
       "      <th>2021-week_34</th>\n",
       "      <td>9609</td>\n",
       "      <td>4762</td>\n",
       "    </tr>\n",
       "    <tr>\n",
       "      <th>2021-week_35</th>\n",
       "      <td>9365</td>\n",
       "      <td>5008</td>\n",
       "    </tr>\n",
       "    <tr>\n",
       "      <th>2021-week_36</th>\n",
       "      <td>9715</td>\n",
       "      <td>4675</td>\n",
       "    </tr>\n",
       "    <tr>\n",
       "      <th>2021-week_37</th>\n",
       "      <td>9701</td>\n",
       "      <td>4691</td>\n",
       "    </tr>\n",
       "  </tbody>\n",
       "</table>\n",
       "</div>"
      ],
      "text/plain": [
       "                     ad_id      \n",
       "recommendation_type Qality Yield\n",
       "week_id                         \n",
       "2021-week_33         10002  4354\n",
       "2021-week_34          9609  4762\n",
       "2021-week_35          9365  5008\n",
       "2021-week_36          9715  4675\n",
       "2021-week_37          9701  4691"
      ]
     },
     "execution_count": 61,
     "metadata": {},
     "output_type": "execute_result"
    }
   ],
   "source": [
    "bn.head(5)"
   ]
  },
  {
   "cell_type": "code",
   "execution_count": 62,
   "id": "b233169d-8dc2-4e73-9315-f20cf4b9cae2",
   "metadata": {},
   "outputs": [],
   "source": [
    "bn['proportion_Qal_to_Yei'] = bn[('ad_id', 'Qality')] / bn[('ad_id', 'Yield')]"
   ]
  },
  {
   "cell_type": "code",
   "execution_count": 63,
   "id": "a54d23b4-e0bd-4a4c-b0bf-5b1410d93c66",
   "metadata": {},
   "outputs": [
    {
     "data": {
      "text/html": [
       "<div>\n",
       "<style scoped>\n",
       "    .dataframe tbody tr th:only-of-type {\n",
       "        vertical-align: middle;\n",
       "    }\n",
       "\n",
       "    .dataframe tbody tr th {\n",
       "        vertical-align: top;\n",
       "    }\n",
       "\n",
       "    .dataframe thead tr th {\n",
       "        text-align: left;\n",
       "    }\n",
       "\n",
       "    .dataframe thead tr:last-of-type th {\n",
       "        text-align: right;\n",
       "    }\n",
       "</style>\n",
       "<table border=\"1\" class=\"dataframe\">\n",
       "  <thead>\n",
       "    <tr>\n",
       "      <th></th>\n",
       "      <th colspan=\"2\" halign=\"left\">ad_id</th>\n",
       "      <th>proportion_Qal_to_Yei</th>\n",
       "    </tr>\n",
       "    <tr>\n",
       "      <th>recommendation_type</th>\n",
       "      <th>Qality</th>\n",
       "      <th>Yield</th>\n",
       "      <th></th>\n",
       "    </tr>\n",
       "    <tr>\n",
       "      <th>week_id</th>\n",
       "      <th></th>\n",
       "      <th></th>\n",
       "      <th></th>\n",
       "    </tr>\n",
       "  </thead>\n",
       "  <tbody>\n",
       "    <tr>\n",
       "      <th>2021-week_33</th>\n",
       "      <td>10002</td>\n",
       "      <td>4354</td>\n",
       "      <td>2.297198</td>\n",
       "    </tr>\n",
       "    <tr>\n",
       "      <th>2021-week_34</th>\n",
       "      <td>9609</td>\n",
       "      <td>4762</td>\n",
       "      <td>2.017850</td>\n",
       "    </tr>\n",
       "    <tr>\n",
       "      <th>2021-week_35</th>\n",
       "      <td>9365</td>\n",
       "      <td>5008</td>\n",
       "      <td>1.870008</td>\n",
       "    </tr>\n",
       "    <tr>\n",
       "      <th>2021-week_36</th>\n",
       "      <td>9715</td>\n",
       "      <td>4675</td>\n",
       "      <td>2.078075</td>\n",
       "    </tr>\n",
       "    <tr>\n",
       "      <th>2021-week_37</th>\n",
       "      <td>9701</td>\n",
       "      <td>4691</td>\n",
       "      <td>2.068003</td>\n",
       "    </tr>\n",
       "  </tbody>\n",
       "</table>\n",
       "</div>"
      ],
      "text/plain": [
       "                     ad_id       proportion_Qal_to_Yei\n",
       "recommendation_type Qality Yield                      \n",
       "week_id                                               \n",
       "2021-week_33         10002  4354              2.297198\n",
       "2021-week_34          9609  4762              2.017850\n",
       "2021-week_35          9365  5008              1.870008\n",
       "2021-week_36          9715  4675              2.078075\n",
       "2021-week_37          9701  4691              2.068003"
      ]
     },
     "execution_count": 63,
     "metadata": {},
     "output_type": "execute_result"
    }
   ],
   "source": [
    "bn.head()"
   ]
  },
  {
   "cell_type": "code",
   "execution_count": 64,
   "id": "ce1dea12-c902-43fb-94c0-9bfd6dbe63ae",
   "metadata": {},
   "outputs": [],
   "source": [
    "bn = bn.reset_index()"
   ]
  },
  {
   "cell_type": "code",
   "execution_count": 65,
   "id": "03d2855c-c150-46a7-aedc-e66a1d186f7c",
   "metadata": {},
   "outputs": [
    {
     "data": {
      "application/vnd.plotly.v1+json": {
       "config": {
        "plotlyServerURL": "https://plot.ly"
       },
       "data": [
        {
         "hovertemplate": "week_id=%{x}<br>proportion_Qal_to_Yei=%{y}<extra></extra>",
         "legendgroup": "",
         "line": {
          "color": "#636efa",
          "dash": "solid"
         },
         "marker": {
          "symbol": "circle"
         },
         "mode": "lines",
         "name": "",
         "orientation": "v",
         "showlegend": false,
         "type": "scatter",
         "x": [
          "2021-week_33",
          "2021-week_34",
          "2021-week_35",
          "2021-week_36",
          "2021-week_37",
          "2021-week_38",
          "2021-week_39",
          "2021-week_40",
          "2021-week_41",
          "2021-week_42",
          "2021-week_43",
          "2021-week_44",
          "2021-week_45",
          "2021-week_46",
          "2021-week_47",
          "2021-week_48",
          "2021-week_49",
          "2021-week_50",
          "2021-week_51",
          "2022-week_01",
          "2022-week_02",
          "2022-week_03",
          "2022-week_04",
          "2022-week_05",
          "2022-week_06",
          "2022-week_52"
         ],
         "xaxis": "x",
         "y": [
          2.2971979788700048,
          2.01784964300714,
          1.8700079872204474,
          2.0780748663101605,
          2.0680025580899595,
          1.8275522270398108,
          1.5398167723749119,
          1.6036508223386952,
          1.5933273219116322,
          2.105638366817887,
          1.8170588235294118,
          1.7786630392537894,
          1.6475980931426475,
          1.3687685704853088,
          1.5288849868305532,
          1.2918058870326175,
          1.9585224927775484,
          1.6327910802412722,
          1.377460081693279,
          1.4531036834924966,
          1.510967966573816,
          1.6567081091111524,
          2.0445009535918626,
          1.8735494197679072,
          2.0785194694052205,
          1.4736024844720497
         ],
         "yaxis": "y"
        }
       ],
       "layout": {
        "autosize": true,
        "legend": {
         "tracegroupgap": 0
        },
        "margin": {
         "t": 60
        },
        "template": {
         "data": {
          "bar": [
           {
            "error_x": {
             "color": "#2a3f5f"
            },
            "error_y": {
             "color": "#2a3f5f"
            },
            "marker": {
             "line": {
              "color": "#E5ECF6",
              "width": 0.5
             },
             "pattern": {
              "fillmode": "overlay",
              "size": 10,
              "solidity": 0.2
             }
            },
            "type": "bar"
           }
          ],
          "barpolar": [
           {
            "marker": {
             "line": {
              "color": "#E5ECF6",
              "width": 0.5
             },
             "pattern": {
              "fillmode": "overlay",
              "size": 10,
              "solidity": 0.2
             }
            },
            "type": "barpolar"
           }
          ],
          "carpet": [
           {
            "aaxis": {
             "endlinecolor": "#2a3f5f",
             "gridcolor": "white",
             "linecolor": "white",
             "minorgridcolor": "white",
             "startlinecolor": "#2a3f5f"
            },
            "baxis": {
             "endlinecolor": "#2a3f5f",
             "gridcolor": "white",
             "linecolor": "white",
             "minorgridcolor": "white",
             "startlinecolor": "#2a3f5f"
            },
            "type": "carpet"
           }
          ],
          "choropleth": [
           {
            "colorbar": {
             "outlinewidth": 0,
             "ticks": ""
            },
            "type": "choropleth"
           }
          ],
          "contour": [
           {
            "colorbar": {
             "outlinewidth": 0,
             "ticks": ""
            },
            "colorscale": [
             [
              0,
              "#0d0887"
             ],
             [
              0.1111111111111111,
              "#46039f"
             ],
             [
              0.2222222222222222,
              "#7201a8"
             ],
             [
              0.3333333333333333,
              "#9c179e"
             ],
             [
              0.4444444444444444,
              "#bd3786"
             ],
             [
              0.5555555555555556,
              "#d8576b"
             ],
             [
              0.6666666666666666,
              "#ed7953"
             ],
             [
              0.7777777777777778,
              "#fb9f3a"
             ],
             [
              0.8888888888888888,
              "#fdca26"
             ],
             [
              1,
              "#f0f921"
             ]
            ],
            "type": "contour"
           }
          ],
          "contourcarpet": [
           {
            "colorbar": {
             "outlinewidth": 0,
             "ticks": ""
            },
            "type": "contourcarpet"
           }
          ],
          "heatmap": [
           {
            "colorbar": {
             "outlinewidth": 0,
             "ticks": ""
            },
            "colorscale": [
             [
              0,
              "#0d0887"
             ],
             [
              0.1111111111111111,
              "#46039f"
             ],
             [
              0.2222222222222222,
              "#7201a8"
             ],
             [
              0.3333333333333333,
              "#9c179e"
             ],
             [
              0.4444444444444444,
              "#bd3786"
             ],
             [
              0.5555555555555556,
              "#d8576b"
             ],
             [
              0.6666666666666666,
              "#ed7953"
             ],
             [
              0.7777777777777778,
              "#fb9f3a"
             ],
             [
              0.8888888888888888,
              "#fdca26"
             ],
             [
              1,
              "#f0f921"
             ]
            ],
            "type": "heatmap"
           }
          ],
          "heatmapgl": [
           {
            "colorbar": {
             "outlinewidth": 0,
             "ticks": ""
            },
            "colorscale": [
             [
              0,
              "#0d0887"
             ],
             [
              0.1111111111111111,
              "#46039f"
             ],
             [
              0.2222222222222222,
              "#7201a8"
             ],
             [
              0.3333333333333333,
              "#9c179e"
             ],
             [
              0.4444444444444444,
              "#bd3786"
             ],
             [
              0.5555555555555556,
              "#d8576b"
             ],
             [
              0.6666666666666666,
              "#ed7953"
             ],
             [
              0.7777777777777778,
              "#fb9f3a"
             ],
             [
              0.8888888888888888,
              "#fdca26"
             ],
             [
              1,
              "#f0f921"
             ]
            ],
            "type": "heatmapgl"
           }
          ],
          "histogram": [
           {
            "marker": {
             "pattern": {
              "fillmode": "overlay",
              "size": 10,
              "solidity": 0.2
             }
            },
            "type": "histogram"
           }
          ],
          "histogram2d": [
           {
            "colorbar": {
             "outlinewidth": 0,
             "ticks": ""
            },
            "colorscale": [
             [
              0,
              "#0d0887"
             ],
             [
              0.1111111111111111,
              "#46039f"
             ],
             [
              0.2222222222222222,
              "#7201a8"
             ],
             [
              0.3333333333333333,
              "#9c179e"
             ],
             [
              0.4444444444444444,
              "#bd3786"
             ],
             [
              0.5555555555555556,
              "#d8576b"
             ],
             [
              0.6666666666666666,
              "#ed7953"
             ],
             [
              0.7777777777777778,
              "#fb9f3a"
             ],
             [
              0.8888888888888888,
              "#fdca26"
             ],
             [
              1,
              "#f0f921"
             ]
            ],
            "type": "histogram2d"
           }
          ],
          "histogram2dcontour": [
           {
            "colorbar": {
             "outlinewidth": 0,
             "ticks": ""
            },
            "colorscale": [
             [
              0,
              "#0d0887"
             ],
             [
              0.1111111111111111,
              "#46039f"
             ],
             [
              0.2222222222222222,
              "#7201a8"
             ],
             [
              0.3333333333333333,
              "#9c179e"
             ],
             [
              0.4444444444444444,
              "#bd3786"
             ],
             [
              0.5555555555555556,
              "#d8576b"
             ],
             [
              0.6666666666666666,
              "#ed7953"
             ],
             [
              0.7777777777777778,
              "#fb9f3a"
             ],
             [
              0.8888888888888888,
              "#fdca26"
             ],
             [
              1,
              "#f0f921"
             ]
            ],
            "type": "histogram2dcontour"
           }
          ],
          "mesh3d": [
           {
            "colorbar": {
             "outlinewidth": 0,
             "ticks": ""
            },
            "type": "mesh3d"
           }
          ],
          "parcoords": [
           {
            "line": {
             "colorbar": {
              "outlinewidth": 0,
              "ticks": ""
             }
            },
            "type": "parcoords"
           }
          ],
          "pie": [
           {
            "automargin": true,
            "type": "pie"
           }
          ],
          "scatter": [
           {
            "marker": {
             "colorbar": {
              "outlinewidth": 0,
              "ticks": ""
             }
            },
            "type": "scatter"
           }
          ],
          "scatter3d": [
           {
            "line": {
             "colorbar": {
              "outlinewidth": 0,
              "ticks": ""
             }
            },
            "marker": {
             "colorbar": {
              "outlinewidth": 0,
              "ticks": ""
             }
            },
            "type": "scatter3d"
           }
          ],
          "scattercarpet": [
           {
            "marker": {
             "colorbar": {
              "outlinewidth": 0,
              "ticks": ""
             }
            },
            "type": "scattercarpet"
           }
          ],
          "scattergeo": [
           {
            "marker": {
             "colorbar": {
              "outlinewidth": 0,
              "ticks": ""
             }
            },
            "type": "scattergeo"
           }
          ],
          "scattergl": [
           {
            "marker": {
             "colorbar": {
              "outlinewidth": 0,
              "ticks": ""
             }
            },
            "type": "scattergl"
           }
          ],
          "scattermapbox": [
           {
            "marker": {
             "colorbar": {
              "outlinewidth": 0,
              "ticks": ""
             }
            },
            "type": "scattermapbox"
           }
          ],
          "scatterpolar": [
           {
            "marker": {
             "colorbar": {
              "outlinewidth": 0,
              "ticks": ""
             }
            },
            "type": "scatterpolar"
           }
          ],
          "scatterpolargl": [
           {
            "marker": {
             "colorbar": {
              "outlinewidth": 0,
              "ticks": ""
             }
            },
            "type": "scatterpolargl"
           }
          ],
          "scatterternary": [
           {
            "marker": {
             "colorbar": {
              "outlinewidth": 0,
              "ticks": ""
             }
            },
            "type": "scatterternary"
           }
          ],
          "surface": [
           {
            "colorbar": {
             "outlinewidth": 0,
             "ticks": ""
            },
            "colorscale": [
             [
              0,
              "#0d0887"
             ],
             [
              0.1111111111111111,
              "#46039f"
             ],
             [
              0.2222222222222222,
              "#7201a8"
             ],
             [
              0.3333333333333333,
              "#9c179e"
             ],
             [
              0.4444444444444444,
              "#bd3786"
             ],
             [
              0.5555555555555556,
              "#d8576b"
             ],
             [
              0.6666666666666666,
              "#ed7953"
             ],
             [
              0.7777777777777778,
              "#fb9f3a"
             ],
             [
              0.8888888888888888,
              "#fdca26"
             ],
             [
              1,
              "#f0f921"
             ]
            ],
            "type": "surface"
           }
          ],
          "table": [
           {
            "cells": {
             "fill": {
              "color": "#EBF0F8"
             },
             "line": {
              "color": "white"
             }
            },
            "header": {
             "fill": {
              "color": "#C8D4E3"
             },
             "line": {
              "color": "white"
             }
            },
            "type": "table"
           }
          ]
         },
         "layout": {
          "annotationdefaults": {
           "arrowcolor": "#2a3f5f",
           "arrowhead": 0,
           "arrowwidth": 1
          },
          "autotypenumbers": "strict",
          "coloraxis": {
           "colorbar": {
            "outlinewidth": 0,
            "ticks": ""
           }
          },
          "colorscale": {
           "diverging": [
            [
             0,
             "#8e0152"
            ],
            [
             0.1,
             "#c51b7d"
            ],
            [
             0.2,
             "#de77ae"
            ],
            [
             0.3,
             "#f1b6da"
            ],
            [
             0.4,
             "#fde0ef"
            ],
            [
             0.5,
             "#f7f7f7"
            ],
            [
             0.6,
             "#e6f5d0"
            ],
            [
             0.7,
             "#b8e186"
            ],
            [
             0.8,
             "#7fbc41"
            ],
            [
             0.9,
             "#4d9221"
            ],
            [
             1,
             "#276419"
            ]
           ],
           "sequential": [
            [
             0,
             "#0d0887"
            ],
            [
             0.1111111111111111,
             "#46039f"
            ],
            [
             0.2222222222222222,
             "#7201a8"
            ],
            [
             0.3333333333333333,
             "#9c179e"
            ],
            [
             0.4444444444444444,
             "#bd3786"
            ],
            [
             0.5555555555555556,
             "#d8576b"
            ],
            [
             0.6666666666666666,
             "#ed7953"
            ],
            [
             0.7777777777777778,
             "#fb9f3a"
            ],
            [
             0.8888888888888888,
             "#fdca26"
            ],
            [
             1,
             "#f0f921"
            ]
           ],
           "sequentialminus": [
            [
             0,
             "#0d0887"
            ],
            [
             0.1111111111111111,
             "#46039f"
            ],
            [
             0.2222222222222222,
             "#7201a8"
            ],
            [
             0.3333333333333333,
             "#9c179e"
            ],
            [
             0.4444444444444444,
             "#bd3786"
            ],
            [
             0.5555555555555556,
             "#d8576b"
            ],
            [
             0.6666666666666666,
             "#ed7953"
            ],
            [
             0.7777777777777778,
             "#fb9f3a"
            ],
            [
             0.8888888888888888,
             "#fdca26"
            ],
            [
             1,
             "#f0f921"
            ]
           ]
          },
          "colorway": [
           "#636efa",
           "#EF553B",
           "#00cc96",
           "#ab63fa",
           "#FFA15A",
           "#19d3f3",
           "#FF6692",
           "#B6E880",
           "#FF97FF",
           "#FECB52"
          ],
          "font": {
           "color": "#2a3f5f"
          },
          "geo": {
           "bgcolor": "white",
           "lakecolor": "white",
           "landcolor": "#E5ECF6",
           "showlakes": true,
           "showland": true,
           "subunitcolor": "white"
          },
          "hoverlabel": {
           "align": "left"
          },
          "hovermode": "closest",
          "mapbox": {
           "style": "light"
          },
          "paper_bgcolor": "white",
          "plot_bgcolor": "#E5ECF6",
          "polar": {
           "angularaxis": {
            "gridcolor": "white",
            "linecolor": "white",
            "ticks": ""
           },
           "bgcolor": "#E5ECF6",
           "radialaxis": {
            "gridcolor": "white",
            "linecolor": "white",
            "ticks": ""
           }
          },
          "scene": {
           "xaxis": {
            "backgroundcolor": "#E5ECF6",
            "gridcolor": "white",
            "gridwidth": 2,
            "linecolor": "white",
            "showbackground": true,
            "ticks": "",
            "zerolinecolor": "white"
           },
           "yaxis": {
            "backgroundcolor": "#E5ECF6",
            "gridcolor": "white",
            "gridwidth": 2,
            "linecolor": "white",
            "showbackground": true,
            "ticks": "",
            "zerolinecolor": "white"
           },
           "zaxis": {
            "backgroundcolor": "#E5ECF6",
            "gridcolor": "white",
            "gridwidth": 2,
            "linecolor": "white",
            "showbackground": true,
            "ticks": "",
            "zerolinecolor": "white"
           }
          },
          "shapedefaults": {
           "line": {
            "color": "#2a3f5f"
           }
          },
          "ternary": {
           "aaxis": {
            "gridcolor": "white",
            "linecolor": "white",
            "ticks": ""
           },
           "baxis": {
            "gridcolor": "white",
            "linecolor": "white",
            "ticks": ""
           },
           "bgcolor": "#E5ECF6",
           "caxis": {
            "gridcolor": "white",
            "linecolor": "white",
            "ticks": ""
           }
          },
          "title": {
           "x": 0.05
          },
          "xaxis": {
           "automargin": true,
           "gridcolor": "white",
           "linecolor": "white",
           "ticks": "",
           "title": {
            "standoff": 15
           },
           "zerolinecolor": "white",
           "zerolinewidth": 2
          },
          "yaxis": {
           "automargin": true,
           "gridcolor": "white",
           "linecolor": "white",
           "ticks": "",
           "title": {
            "standoff": 15
           },
           "zerolinecolor": "white",
           "zerolinewidth": 2
          }
         }
        },
        "xaxis": {
         "anchor": "y",
         "autorange": true,
         "domain": [
          0,
          1
         ],
         "range": [
          0,
          25
         ],
         "title": {
          "text": "week_id"
         },
         "type": "category"
        },
        "yaxis": {
         "anchor": "x",
         "autorange": true,
         "domain": [
          0,
          1
         ],
         "range": [
          1.2359507708194293,
          2.353053095083193
         ],
         "title": {
          "text": "proportion_Qal_to_Yei"
         },
         "type": "linear"
        }
       }
      },
      "image/png": "[encoded data removed]",
      "text/html": [
       "<div>                            <div id=\"4c72a1d1-8c57-4b09-83da-74ac5c61ce54\" class=\"plotly-graph-div\" style=\"height:525px; width:100%;\"></div>            <script type=\"text/javascript\">                require([\"plotly\"], function(Plotly) {                    window.PLOTLYENV=window.PLOTLYENV || {};                                    if (document.getElementById(\"4c72a1d1-8c57-4b09-83da-74ac5c61ce54\")) {                    Plotly.newPlot(                        \"4c72a1d1-8c57-4b09-83da-74ac5c61ce54\",                        [{\"hovertemplate\":\"week_id=%{x}<br>proportion_Qal_to_Yei=%{y}<extra></extra>\",\"legendgroup\":\"\",\"line\":{\"color\":\"#636efa\",\"dash\":\"solid\"},\"marker\":{\"symbol\":\"circle\"},\"mode\":\"lines\",\"name\":\"\",\"orientation\":\"v\",\"showlegend\":false,\"x\":[\"2021-week_33\",\"2021-week_34\",\"2021-week_35\",\"2021-week_36\",\"2021-week_37\",\"2021-week_38\",\"2021-week_39\",\"2021-week_40\",\"2021-week_41\",\"2021-week_42\",\"2021-week_43\",\"2021-week_44\",\"2021-week_45\",\"2021-week_46\",\"2021-week_47\",\"2021-week_48\",\"2021-week_49\",\"2021-week_50\",\"2021-week_51\",\"2022-week_01\",\"2022-week_02\",\"2022-week_03\",\"2022-week_04\",\"2022-week_05\",\"2022-week_06\",\"2022-week_52\"],\"xaxis\":\"x\",\"y\":[2.2971979788700048,2.01784964300714,1.8700079872204474,2.0780748663101605,2.0680025580899595,1.8275522270398108,1.5398167723749119,1.6036508223386952,1.5933273219116322,2.105638366817887,1.8170588235294118,1.7786630392537894,1.6475980931426475,1.3687685704853088,1.5288849868305532,1.2918058870326175,1.9585224927775484,1.6327910802412722,1.377460081693279,1.4531036834924966,1.510967966573816,1.6567081091111524,2.0445009535918626,1.8735494197679072,2.0785194694052205,1.4736024844720497],\"yaxis\":\"y\",\"type\":\"scatter\"}],                        {\"template\":{\"data\":{\"bar\":[{\"error_x\":{\"color\":\"#2a3f5f\"},\"error_y\":{\"color\":\"#2a3f5f\"},\"marker\":{\"line\":{\"color\":\"#E5ECF6\",\"width\":0.5},\"pattern\":{\"fillmode\":\"overlay\",\"size\":10,\"solidity\":0.2}},\"type\":\"bar\"}],\"barpolar\":[{\"marker\":{\"line\":{\"color\":\"#E5ECF6\",\"width\":0.5},\"pattern\":{\"fillmode\":\"overlay\",\"size\":10,\"solidity\":0.2}},\"type\":\"barpolar\"}],\"carpet\":[{\"aaxis\":{\"endlinecolor\":\"#2a3f5f\",\"gridcolor\":\"white\",\"linecolor\":\"white\",\"minorgridcolor\":\"white\",\"startlinecolor\":\"#2a3f5f\"},\"baxis\":{\"endlinecolor\":\"#2a3f5f\",\"gridcolor\":\"white\",\"linecolor\":\"white\",\"minorgridcolor\":\"white\",\"startlinecolor\":\"#2a3f5f\"},\"type\":\"carpet\"}],\"choropleth\":[{\"colorbar\":{\"outlinewidth\":0,\"ticks\":\"\"},\"type\":\"choropleth\"}],\"contour\":[{\"colorbar\":{\"outlinewidth\":0,\"ticks\":\"\"},\"colorscale\":[[0.0,\"#0d0887\"],[0.1111111111111111,\"#46039f\"],[0.2222222222222222,\"#7201a8\"],[0.3333333333333333,\"#9c179e\"],[0.4444444444444444,\"#bd3786\"],[0.5555555555555556,\"#d8576b\"],[0.6666666666666666,\"#ed7953\"],[0.7777777777777778,\"#fb9f3a\"],[0.8888888888888888,\"#fdca26\"],[1.0,\"#f0f921\"]],\"type\":\"contour\"}],\"contourcarpet\":[{\"colorbar\":{\"outlinewidth\":0,\"ticks\":\"\"},\"type\":\"contourcarpet\"}],\"heatmap\":[{\"colorbar\":{\"outlinewidth\":0,\"ticks\":\"\"},\"colorscale\":[[0.0,\"#0d0887\"],[0.1111111111111111,\"#46039f\"],[0.2222222222222222,\"#7201a8\"],[0.3333333333333333,\"#9c179e\"],[0.4444444444444444,\"#bd3786\"],[0.5555555555555556,\"#d8576b\"],[0.6666666666666666,\"#ed7953\"],[0.7777777777777778,\"#fb9f3a\"],[0.8888888888888888,\"#fdca26\"],[1.0,\"#f0f921\"]],\"type\":\"heatmap\"}],\"heatmapgl\":[{\"colorbar\":{\"outlinewidth\":0,\"ticks\":\"\"},\"colorscale\":[[0.0,\"#0d0887\"],[0.1111111111111111,\"#46039f\"],[0.2222222222222222,\"#7201a8\"],[0.3333333333333333,\"#9c179e\"],[0.4444444444444444,\"#bd3786\"],[0.5555555555555556,\"#d8576b\"],[0.6666666666666666,\"#ed7953\"],[0.7777777777777778,\"#fb9f3a\"],[0.8888888888888888,\"#fdca26\"],[1.0,\"#f0f921\"]],\"type\":\"heatmapgl\"}],\"histogram\":[{\"marker\":{\"pattern\":{\"fillmode\":\"overlay\",\"size\":10,\"solidity\":0.2}},\"type\":\"histogram\"}],\"histogram2d\":[{\"colorbar\":{\"outlinewidth\":0,\"ticks\":\"\"},\"colorscale\":[[0.0,\"#0d0887\"],[0.1111111111111111,\"#46039f\"],[0.2222222222222222,\"#7201a8\"],[0.3333333333333333,\"#9c179e\"],[0.4444444444444444,\"#bd3786\"],[0.5555555555555556,\"#d8576b\"],[0.6666666666666666,\"#ed7953\"],[0.7777777777777778,\"#fb9f3a\"],[0.8888888888888888,\"#fdca26\"],[1.0,\"#f0f921\"]],\"type\":\"histogram2d\"}],\"histogram2dcontour\":[{\"colorbar\":{\"outlinewidth\":0,\"ticks\":\"\"},\"colorscale\":[[0.0,\"#0d0887\"],[0.1111111111111111,\"#46039f\"],[0.2222222222222222,\"#7201a8\"],[0.3333333333333333,\"#9c179e\"],[0.4444444444444444,\"#bd3786\"],[0.5555555555555556,\"#d8576b\"],[0.6666666666666666,\"#ed7953\"],[0.7777777777777778,\"#fb9f3a\"],[0.8888888888888888,\"#fdca26\"],[1.0,\"#f0f921\"]],\"type\":\"histogram2dcontour\"}],\"mesh3d\":[{\"colorbar\":{\"outlinewidth\":0,\"ticks\":\"\"},\"type\":\"mesh3d\"}],\"parcoords\":[{\"line\":{\"colorbar\":{\"outlinewidth\":0,\"ticks\":\"\"}},\"type\":\"parcoords\"}],\"pie\":[{\"automargin\":true,\"type\":\"pie\"}],\"scatter\":[{\"marker\":{\"colorbar\":{\"outlinewidth\":0,\"ticks\":\"\"}},\"type\":\"scatter\"}],\"scatter3d\":[{\"line\":{\"colorbar\":{\"outlinewidth\":0,\"ticks\":\"\"}},\"marker\":{\"colorbar\":{\"outlinewidth\":0,\"ticks\":\"\"}},\"type\":\"scatter3d\"}],\"scattercarpet\":[{\"marker\":{\"colorbar\":{\"outlinewidth\":0,\"ticks\":\"\"}},\"type\":\"scattercarpet\"}],\"scattergeo\":[{\"marker\":{\"colorbar\":{\"outlinewidth\":0,\"ticks\":\"\"}},\"type\":\"scattergeo\"}],\"scattergl\":[{\"marker\":{\"colorbar\":{\"outlinewidth\":0,\"ticks\":\"\"}},\"type\":\"scattergl\"}],\"scattermapbox\":[{\"marker\":{\"colorbar\":{\"outlinewidth\":0,\"ticks\":\"\"}},\"type\":\"scattermapbox\"}],\"scatterpolar\":[{\"marker\":{\"colorbar\":{\"outlinewidth\":0,\"ticks\":\"\"}},\"type\":\"scatterpolar\"}],\"scatterpolargl\":[{\"marker\":{\"colorbar\":{\"outlinewidth\":0,\"ticks\":\"\"}},\"type\":\"scatterpolargl\"}],\"scatterternary\":[{\"marker\":{\"colorbar\":{\"outlinewidth\":0,\"ticks\":\"\"}},\"type\":\"scatterternary\"}],\"surface\":[{\"colorbar\":{\"outlinewidth\":0,\"ticks\":\"\"},\"colorscale\":[[0.0,\"#0d0887\"],[0.1111111111111111,\"#46039f\"],[0.2222222222222222,\"#7201a8\"],[0.3333333333333333,\"#9c179e\"],[0.4444444444444444,\"#bd3786\"],[0.5555555555555556,\"#d8576b\"],[0.6666666666666666,\"#ed7953\"],[0.7777777777777778,\"#fb9f3a\"],[0.8888888888888888,\"#fdca26\"],[1.0,\"#f0f921\"]],\"type\":\"surface\"}],\"table\":[{\"cells\":{\"fill\":{\"color\":\"#EBF0F8\"},\"line\":{\"color\":\"white\"}},\"header\":{\"fill\":{\"color\":\"#C8D4E3\"},\"line\":{\"color\":\"white\"}},\"type\":\"table\"}]},\"layout\":{\"annotationdefaults\":{\"arrowcolor\":\"#2a3f5f\",\"arrowhead\":0,\"arrowwidth\":1},\"autotypenumbers\":\"strict\",\"coloraxis\":{\"colorbar\":{\"outlinewidth\":0,\"ticks\":\"\"}},\"colorscale\":{\"diverging\":[[0,\"#8e0152\"],[0.1,\"#c51b7d\"],[0.2,\"#de77ae\"],[0.3,\"#f1b6da\"],[0.4,\"#fde0ef\"],[0.5,\"#f7f7f7\"],[0.6,\"#e6f5d0\"],[0.7,\"#b8e186\"],[0.8,\"#7fbc41\"],[0.9,\"#4d9221\"],[1,\"#276419\"]],\"sequential\":[[0.0,\"#0d0887\"],[0.1111111111111111,\"#46039f\"],[0.2222222222222222,\"#7201a8\"],[0.3333333333333333,\"#9c179e\"],[0.4444444444444444,\"#bd3786\"],[0.5555555555555556,\"#d8576b\"],[0.6666666666666666,\"#ed7953\"],[0.7777777777777778,\"#fb9f3a\"],[0.8888888888888888,\"#fdca26\"],[1.0,\"#f0f921\"]],\"sequentialminus\":[[0.0,\"#0d0887\"],[0.1111111111111111,\"#46039f\"],[0.2222222222222222,\"#7201a8\"],[0.3333333333333333,\"#9c179e\"],[0.4444444444444444,\"#bd3786\"],[0.5555555555555556,\"#d8576b\"],[0.6666666666666666,\"#ed7953\"],[0.7777777777777778,\"#fb9f3a\"],[0.8888888888888888,\"#fdca26\"],[1.0,\"#f0f921\"]]},\"colorway\":[\"#636efa\",\"#EF553B\",\"#00cc96\",\"#ab63fa\",\"#FFA15A\",\"#19d3f3\",\"#FF6692\",\"#B6E880\",\"#FF97FF\",\"#FECB52\"],\"font\":{\"color\":\"#2a3f5f\"},\"geo\":{\"bgcolor\":\"white\",\"lakecolor\":\"white\",\"landcolor\":\"#E5ECF6\",\"showlakes\":true,\"showland\":true,\"subunitcolor\":\"white\"},\"hoverlabel\":{\"align\":\"left\"},\"hovermode\":\"closest\",\"mapbox\":{\"style\":\"light\"},\"paper_bgcolor\":\"white\",\"plot_bgcolor\":\"#E5ECF6\",\"polar\":{\"angularaxis\":{\"gridcolor\":\"white\",\"linecolor\":\"white\",\"ticks\":\"\"},\"bgcolor\":\"#E5ECF6\",\"radialaxis\":{\"gridcolor\":\"white\",\"linecolor\":\"white\",\"ticks\":\"\"}},\"scene\":{\"xaxis\":{\"backgroundcolor\":\"#E5ECF6\",\"gridcolor\":\"white\",\"gridwidth\":2,\"linecolor\":\"white\",\"showbackground\":true,\"ticks\":\"\",\"zerolinecolor\":\"white\"},\"yaxis\":{\"backgroundcolor\":\"#E5ECF6\",\"gridcolor\":\"white\",\"gridwidth\":2,\"linecolor\":\"white\",\"showbackground\":true,\"ticks\":\"\",\"zerolinecolor\":\"white\"},\"zaxis\":{\"backgroundcolor\":\"#E5ECF6\",\"gridcolor\":\"white\",\"gridwidth\":2,\"linecolor\":\"white\",\"showbackground\":true,\"ticks\":\"\",\"zerolinecolor\":\"white\"}},\"shapedefaults\":{\"line\":{\"color\":\"#2a3f5f\"}},\"ternary\":{\"aaxis\":{\"gridcolor\":\"white\",\"linecolor\":\"white\",\"ticks\":\"\"},\"baxis\":{\"gridcolor\":\"white\",\"linecolor\":\"white\",\"ticks\":\"\"},\"bgcolor\":\"#E5ECF6\",\"caxis\":{\"gridcolor\":\"white\",\"linecolor\":\"white\",\"ticks\":\"\"}},\"title\":{\"x\":0.05},\"xaxis\":{\"automargin\":true,\"gridcolor\":\"white\",\"linecolor\":\"white\",\"ticks\":\"\",\"title\":{\"standoff\":15},\"zerolinecolor\":\"white\",\"zerolinewidth\":2},\"yaxis\":{\"automargin\":true,\"gridcolor\":\"white\",\"linecolor\":\"white\",\"ticks\":\"\",\"title\":{\"standoff\":15},\"zerolinecolor\":\"white\",\"zerolinewidth\":2}}},\"xaxis\":{\"anchor\":\"y\",\"domain\":[0.0,1.0],\"title\":{\"text\":\"week_id\"}},\"yaxis\":{\"anchor\":\"x\",\"domain\":[0.0,1.0],\"title\":{\"text\":\"proportion_Qal_to_Yei\"}},\"legend\":{\"tracegroupgap\":0},\"margin\":{\"t\":60}},                        {\"responsive\": true}                    ).then(function(){\n",
       "                            \n",
       "var gd = document.getElementById('4c72a1d1-8c57-4b09-83da-74ac5c61ce54');\n",
       "var x = new MutationObserver(function (mutations, observer) {{\n",
       "        var display = window.getComputedStyle(gd).display;\n",
       "        if (!display || display === 'none') {{\n",
       "            console.log([gd, 'removed!']);\n",
       "            Plotly.purge(gd);\n",
       "            observer.disconnect();\n",
       "        }}\n",
       "}});\n",
       "\n",
       "// Listen for the removal of the full notebook cells\n",
       "var notebookContainer = gd.closest('#notebook-container');\n",
       "if (notebookContainer) {{\n",
       "    x.observe(notebookContainer, {childList: true});\n",
       "}}\n",
       "\n",
       "// Listen for the clearing of the current output cell\n",
       "var outputEl = gd.closest('.output');\n",
       "if (outputEl) {{\n",
       "    x.observe(outputEl, {childList: true});\n",
       "}}\n",
       "\n",
       "                        })                };                });            </script>        </div>"
      ]
     },
     "metadata": {},
     "output_type": "display_data"
    }
   ],
   "source": [
    "import plotly_express as px\n",
    "px.line(bn, x='week_id',y='proportion_Qal_to_Yei')"
   ]
  },
  {
   "cell_type": "markdown",
   "id": "5e6fb932-3912-4737-a5c4-be0d3fdbdb66",
   "metadata": {
    "tags": []
   },
   "source": [
    "#### Q9"
   ]
  },
  {
   "cell_type": "markdown",
   "id": "f4af9b6e-e218-447c-ba4d-cdaeb35ddf74",
   "metadata": {},
   "source": [
    "How many different reqeusters are there? "
   ]
  },
  {
   "cell_type": "code",
   "execution_count": 66,
   "id": "80c60d96-e535-4fab-9876-d30754b71b1f",
   "metadata": {},
   "outputs": [
    {
     "data": {
      "text/plain": [
       "36"
      ]
     },
     "execution_count": 66,
     "metadata": {},
     "output_type": "execute_result"
    }
   ],
   "source": [
    "len(def_new['requester'].drop_duplicates())"
   ]
  },
  {
   "cell_type": "code",
   "execution_count": 67,
   "id": "d5cd7864-e3e1-46dd-8bd5-003b772dedf2",
   "metadata": {},
   "outputs": [
    {
     "data": {
      "text/plain": [
       "36"
      ]
     },
     "execution_count": 67,
     "metadata": {},
     "output_type": "execute_result"
    }
   ],
   "source": [
    "len(def_new.groupby(['requester']).count())"
   ]
  },
  {
   "cell_type": "markdown",
   "id": "c9c250ea-72ab-4c0b-8aff-24a14fce8011",
   "metadata": {},
   "source": [
    "#### Q10"
   ]
  },
  {
   "cell_type": "markdown",
   "id": "17bf9c69-7ea6-463f-9e41-37f18bfc8b47",
   "metadata": {},
   "source": [
    "Which are the top 5 requesters per region? "
   ]
  },
  {
   "cell_type": "markdown",
   "id": "8f3deb93-fc12-4994-9675-f9d418d48ac7",
   "metadata": {},
   "source": [
    "https://cmdlinetips.com/2019/03/how-to-get-top-n-rows-with-in-each-group-in-pandas/"
   ]
  },
  {
   "cell_type": "code",
   "execution_count": 68,
   "id": "845851fd-48fe-4b7e-9904-7b4925f4fb8b",
   "metadata": {},
   "outputs": [
    {
     "data": {
      "text/html": [
       "<div>\n",
       "<style scoped>\n",
       "    .dataframe tbody tr th:only-of-type {\n",
       "        vertical-align: middle;\n",
       "    }\n",
       "\n",
       "    .dataframe tbody tr th {\n",
       "        vertical-align: top;\n",
       "    }\n",
       "\n",
       "    .dataframe thead th {\n",
       "        text-align: right;\n",
       "    }\n",
       "</style>\n",
       "<table border=\"1\" class=\"dataframe\">\n",
       "  <thead>\n",
       "    <tr style=\"text-align: right;\">\n",
       "      <th></th>\n",
       "      <th></th>\n",
       "      <th>week_id</th>\n",
       "    </tr>\n",
       "    <tr>\n",
       "      <th>region</th>\n",
       "      <th>requester</th>\n",
       "      <th></th>\n",
       "    </tr>\n",
       "  </thead>\n",
       "  <tbody>\n",
       "    <tr>\n",
       "      <th rowspan=\"5\" valign=\"top\">DE</th>\n",
       "      <th>Allthetopbananas.com</th>\n",
       "      <td>51</td>\n",
       "    </tr>\n",
       "    <tr>\n",
       "      <th>Bizanga</th>\n",
       "      <td>107</td>\n",
       "    </tr>\n",
       "    <tr>\n",
       "      <th>Crescendo Networks</th>\n",
       "      <td>573</td>\n",
       "    </tr>\n",
       "    <tr>\n",
       "      <th>Cuiker</th>\n",
       "      <td>6</td>\n",
       "    </tr>\n",
       "    <tr>\n",
       "      <th>Extreme DA</th>\n",
       "      <td>115</td>\n",
       "    </tr>\n",
       "    <tr>\n",
       "      <th>...</th>\n",
       "      <th>...</th>\n",
       "      <td>...</td>\n",
       "    </tr>\n",
       "    <tr>\n",
       "      <th rowspan=\"5\" valign=\"top\">US</th>\n",
       "      <th>Sensor Tower</th>\n",
       "      <td>3503</td>\n",
       "    </tr>\n",
       "    <tr>\n",
       "      <th>Tab Solutions</th>\n",
       "      <td>9790</td>\n",
       "    </tr>\n",
       "    <tr>\n",
       "      <th>VarVee</th>\n",
       "      <td>119</td>\n",
       "    </tr>\n",
       "    <tr>\n",
       "      <th>aPriori Technologies</th>\n",
       "      <td>57</td>\n",
       "    </tr>\n",
       "    <tr>\n",
       "      <th>iDreamsky Technology</th>\n",
       "      <td>1137</td>\n",
       "    </tr>\n",
       "  </tbody>\n",
       "</table>\n",
       "<p>110 rows × 1 columns</p>\n",
       "</div>"
      ],
      "text/plain": [
       "                             week_id\n",
       "region requester                    \n",
       "DE     Allthetopbananas.com       51\n",
       "       Bizanga                   107\n",
       "       Crescendo Networks        573\n",
       "       Cuiker                      6\n",
       "       Extreme DA                115\n",
       "...                              ...\n",
       "US     Sensor Tower             3503\n",
       "       Tab Solutions            9790\n",
       "       VarVee                    119\n",
       "       aPriori Technologies       57\n",
       "       iDreamsky Technology     1137\n",
       "\n",
       "[110 rows x 1 columns]"
      ]
     },
     "execution_count": 68,
     "metadata": {},
     "output_type": "execute_result"
    }
   ],
   "source": [
    "cf = def_new[['region','requester','week_id']].groupby(['region','requester']).count()\n",
    "cf"
   ]
  },
  {
   "cell_type": "code",
   "execution_count": 69,
   "id": "e949b968-3ec5-4c3a-a1e1-2bdefc01ffc1",
   "metadata": {},
   "outputs": [
    {
     "data": {
      "text/html": [
       "<div>\n",
       "<style scoped>\n",
       "    .dataframe tbody tr th:only-of-type {\n",
       "        vertical-align: middle;\n",
       "    }\n",
       "\n",
       "    .dataframe tbody tr th {\n",
       "        vertical-align: top;\n",
       "    }\n",
       "\n",
       "    .dataframe thead th {\n",
       "        text-align: right;\n",
       "    }\n",
       "</style>\n",
       "<table border=\"1\" class=\"dataframe\">\n",
       "  <thead>\n",
       "    <tr style=\"text-align: right;\">\n",
       "      <th></th>\n",
       "      <th></th>\n",
       "      <th>week_id</th>\n",
       "    </tr>\n",
       "    <tr>\n",
       "      <th>region</th>\n",
       "      <th>requester</th>\n",
       "      <th></th>\n",
       "    </tr>\n",
       "  </thead>\n",
       "  <tbody>\n",
       "    <tr>\n",
       "      <th>US</th>\n",
       "      <th>Extreme DA</th>\n",
       "      <td>57215</td>\n",
       "    </tr>\n",
       "    <tr>\n",
       "      <th>IN</th>\n",
       "      <th>Puentes Company</th>\n",
       "      <td>29427</td>\n",
       "    </tr>\n",
       "    <tr>\n",
       "      <th>GB</th>\n",
       "      <th>Search Million Culture</th>\n",
       "      <td>28002</td>\n",
       "    </tr>\n",
       "    <tr>\n",
       "      <th>JP</th>\n",
       "      <th>RelayFoods</th>\n",
       "      <td>24574</td>\n",
       "    </tr>\n",
       "    <tr>\n",
       "      <th>DE</th>\n",
       "      <th>Search Million Culture</th>\n",
       "      <td>23657</td>\n",
       "    </tr>\n",
       "    <tr>\n",
       "      <th>...</th>\n",
       "      <th>...</th>\n",
       "      <td>...</td>\n",
       "    </tr>\n",
       "    <tr>\n",
       "      <th rowspan=\"4\" valign=\"top\">US</th>\n",
       "      <th>PureSafe water systems</th>\n",
       "      <td>1</td>\n",
       "    </tr>\n",
       "    <tr>\n",
       "      <th>Derceto</th>\n",
       "      <td>1</td>\n",
       "    </tr>\n",
       "    <tr>\n",
       "      <th>Cuiker</th>\n",
       "      <td>1</td>\n",
       "    </tr>\n",
       "    <tr>\n",
       "      <th>Marketo Japan</th>\n",
       "      <td>1</td>\n",
       "    </tr>\n",
       "    <tr>\n",
       "      <th>JP</th>\n",
       "      <th>Cuiker</th>\n",
       "      <td>1</td>\n",
       "    </tr>\n",
       "  </tbody>\n",
       "</table>\n",
       "<p>110 rows × 1 columns</p>\n",
       "</div>"
      ],
      "text/plain": [
       "                               week_id\n",
       "region requester                      \n",
       "US     Extreme DA                57215\n",
       "IN     Puentes Company           29427\n",
       "GB     Search Million Culture    28002\n",
       "JP     RelayFoods                24574\n",
       "DE     Search Million Culture    23657\n",
       "...                                ...\n",
       "US     PureSafe water systems        1\n",
       "       Derceto                       1\n",
       "       Cuiker                        1\n",
       "       Marketo Japan                 1\n",
       "JP     Cuiker                        1\n",
       "\n",
       "[110 rows x 1 columns]"
      ]
     },
     "execution_count": 69,
     "metadata": {},
     "output_type": "execute_result"
    }
   ],
   "source": [
    "cf = cf.apply(lambda x : x.sort_values(ascending = False))\n",
    "cf"
   ]
  },
  {
   "cell_type": "code",
   "execution_count": 70,
   "id": "6fe4855c-5b2d-4442-b9dd-0ac3667471e4",
   "metadata": {},
   "outputs": [
    {
     "data": {
      "text/html": [
       "<div>\n",
       "<style scoped>\n",
       "    .dataframe tbody tr th:only-of-type {\n",
       "        vertical-align: middle;\n",
       "    }\n",
       "\n",
       "    .dataframe tbody tr th {\n",
       "        vertical-align: top;\n",
       "    }\n",
       "\n",
       "    .dataframe thead th {\n",
       "        text-align: right;\n",
       "    }\n",
       "</style>\n",
       "<table border=\"1\" class=\"dataframe\">\n",
       "  <thead>\n",
       "    <tr style=\"text-align: right;\">\n",
       "      <th></th>\n",
       "      <th></th>\n",
       "      <th>week_id</th>\n",
       "    </tr>\n",
       "    <tr>\n",
       "      <th>region</th>\n",
       "      <th>requester</th>\n",
       "      <th></th>\n",
       "    </tr>\n",
       "  </thead>\n",
       "  <tbody>\n",
       "    <tr>\n",
       "      <th rowspan=\"5\" valign=\"top\">DE</th>\n",
       "      <th>MoJoe Brewing Company</th>\n",
       "      <td>8616</td>\n",
       "    </tr>\n",
       "    <tr>\n",
       "      <th>RelayFoods</th>\n",
       "      <td>17313</td>\n",
       "    </tr>\n",
       "    <tr>\n",
       "      <th>SOLOMO365</th>\n",
       "      <td>2435</td>\n",
       "    </tr>\n",
       "    <tr>\n",
       "      <th>Search Million Culture</th>\n",
       "      <td>23657</td>\n",
       "    </tr>\n",
       "    <tr>\n",
       "      <th>iDreamsky Technology</th>\n",
       "      <td>3542</td>\n",
       "    </tr>\n",
       "    <tr>\n",
       "      <th rowspan=\"5\" valign=\"top\">GB</th>\n",
       "      <th>Fancy</th>\n",
       "      <td>13678</td>\n",
       "    </tr>\n",
       "    <tr>\n",
       "      <th>MoJoe Brewing Company</th>\n",
       "      <td>9530</td>\n",
       "    </tr>\n",
       "    <tr>\n",
       "      <th>RelayFoods</th>\n",
       "      <td>15920</td>\n",
       "    </tr>\n",
       "    <tr>\n",
       "      <th>Search Million Culture</th>\n",
       "      <td>28002</td>\n",
       "    </tr>\n",
       "    <tr>\n",
       "      <th>iDreamsky Technology</th>\n",
       "      <td>3919</td>\n",
       "    </tr>\n",
       "    <tr>\n",
       "      <th rowspan=\"5\" valign=\"top\">IN</th>\n",
       "      <th>MoJoe Brewing Company</th>\n",
       "      <td>7191</td>\n",
       "    </tr>\n",
       "    <tr>\n",
       "      <th>Puentes Company</th>\n",
       "      <td>29427</td>\n",
       "    </tr>\n",
       "    <tr>\n",
       "      <th>RelayFoods</th>\n",
       "      <td>17352</td>\n",
       "    </tr>\n",
       "    <tr>\n",
       "      <th>Search Million Culture</th>\n",
       "      <td>21365</td>\n",
       "    </tr>\n",
       "    <tr>\n",
       "      <th>iDreamsky Technology</th>\n",
       "      <td>1995</td>\n",
       "    </tr>\n",
       "    <tr>\n",
       "      <th rowspan=\"5\" valign=\"top\">JP</th>\n",
       "      <th>LocalVox Media</th>\n",
       "      <td>1724</td>\n",
       "    </tr>\n",
       "    <tr>\n",
       "      <th>MoJoe Brewing Company</th>\n",
       "      <td>3549</td>\n",
       "    </tr>\n",
       "    <tr>\n",
       "      <th>RelayFoods</th>\n",
       "      <td>24574</td>\n",
       "    </tr>\n",
       "    <tr>\n",
       "      <th>Search Million Culture</th>\n",
       "      <td>7906</td>\n",
       "    </tr>\n",
       "    <tr>\n",
       "      <th>Tab Solutions</th>\n",
       "      <td>1366</td>\n",
       "    </tr>\n",
       "    <tr>\n",
       "      <th rowspan=\"5\" valign=\"top\">US</th>\n",
       "      <th>Extreme DA</th>\n",
       "      <td>57215</td>\n",
       "    </tr>\n",
       "    <tr>\n",
       "      <th>Fancy</th>\n",
       "      <td>18668</td>\n",
       "    </tr>\n",
       "    <tr>\n",
       "      <th>Search Million Culture</th>\n",
       "      <td>5610</td>\n",
       "    </tr>\n",
       "    <tr>\n",
       "      <th>Sensor Tower</th>\n",
       "      <td>3503</td>\n",
       "    </tr>\n",
       "    <tr>\n",
       "      <th>Tab Solutions</th>\n",
       "      <td>9790</td>\n",
       "    </tr>\n",
       "  </tbody>\n",
       "</table>\n",
       "</div>"
      ],
      "text/plain": [
       "                               week_id\n",
       "region requester                      \n",
       "DE     MoJoe Brewing Company      8616\n",
       "       RelayFoods                17313\n",
       "       SOLOMO365                  2435\n",
       "       Search Million Culture    23657\n",
       "       iDreamsky Technology       3542\n",
       "GB     Fancy                     13678\n",
       "       MoJoe Brewing Company      9530\n",
       "       RelayFoods                15920\n",
       "       Search Million Culture    28002\n",
       "       iDreamsky Technology       3919\n",
       "IN     MoJoe Brewing Company      7191\n",
       "       Puentes Company           29427\n",
       "       RelayFoods                17352\n",
       "       Search Million Culture    21365\n",
       "       iDreamsky Technology       1995\n",
       "JP     LocalVox Media             1724\n",
       "       MoJoe Brewing Company      3549\n",
       "       RelayFoods                24574\n",
       "       Search Million Culture     7906\n",
       "       Tab Solutions              1366\n",
       "US     Extreme DA                57215\n",
       "       Fancy                     18668\n",
       "       Search Million Culture     5610\n",
       "       Sensor Tower               3503\n",
       "       Tab Solutions              9790"
      ]
     },
     "execution_count": 70,
     "metadata": {},
     "output_type": "execute_result"
    }
   ],
   "source": [
    "cf2 = cf.groupby(['region']).head(5)\n",
    "cf2.sort_values(['region','requester','week_id'],ascending=[True,True,False])"
   ]
  },
  {
   "cell_type": "markdown",
   "id": "e35bddf5-8243-46c6-838f-c4fabb705fe2",
   "metadata": {},
   "source": [
    "#### Q11"
   ]
  },
  {
   "cell_type": "markdown",
   "id": "b36d7092-f794-470b-9cdc-79e4941cc033",
   "metadata": {},
   "source": [
    "Which are the different rec_proivders?"
   ]
  },
  {
   "cell_type": "code",
   "execution_count": 71,
   "id": "a29c5832-e44e-4ee3-b930-25b8e6815ea0",
   "metadata": {},
   "outputs": [
    {
     "data": {
      "text/html": [
       "<div>\n",
       "<style scoped>\n",
       "    .dataframe tbody tr th:only-of-type {\n",
       "        vertical-align: middle;\n",
       "    }\n",
       "\n",
       "    .dataframe tbody tr th {\n",
       "        vertical-align: top;\n",
       "    }\n",
       "\n",
       "    .dataframe thead th {\n",
       "        text-align: right;\n",
       "    }\n",
       "</style>\n",
       "<table border=\"1\" class=\"dataframe\">\n",
       "  <thead>\n",
       "    <tr style=\"text-align: right;\">\n",
       "      <th></th>\n",
       "      <th>index</th>\n",
       "      <th>rec_provider</th>\n",
       "    </tr>\n",
       "  </thead>\n",
       "  <tbody>\n",
       "    <tr>\n",
       "      <th>0</th>\n",
       "      <td>0</td>\n",
       "      <td>DNNQ</td>\n",
       "    </tr>\n",
       "    <tr>\n",
       "      <th>1</th>\n",
       "      <td>1</td>\n",
       "      <td>DNNY</td>\n",
       "    </tr>\n",
       "    <tr>\n",
       "      <th>2</th>\n",
       "      <td>3</td>\n",
       "      <td>BooksQ</td>\n",
       "    </tr>\n",
       "    <tr>\n",
       "      <th>3</th>\n",
       "      <td>6</td>\n",
       "      <td>UserPopQ</td>\n",
       "    </tr>\n",
       "    <tr>\n",
       "      <th>4</th>\n",
       "      <td>17</td>\n",
       "      <td>UserPopY</td>\n",
       "    </tr>\n",
       "    <tr>\n",
       "      <th>5</th>\n",
       "      <td>22</td>\n",
       "      <td>RuleBasedY</td>\n",
       "    </tr>\n",
       "    <tr>\n",
       "      <th>6</th>\n",
       "      <td>24</td>\n",
       "      <td>ManualY</td>\n",
       "    </tr>\n",
       "    <tr>\n",
       "      <th>7</th>\n",
       "      <td>27</td>\n",
       "      <td>ManualQ</td>\n",
       "    </tr>\n",
       "    <tr>\n",
       "      <th>8</th>\n",
       "      <td>76</td>\n",
       "      <td>BooksY</td>\n",
       "    </tr>\n",
       "    <tr>\n",
       "      <th>9</th>\n",
       "      <td>2396</td>\n",
       "      <td>XGBQ</td>\n",
       "    </tr>\n",
       "    <tr>\n",
       "      <th>10</th>\n",
       "      <td>2399</td>\n",
       "      <td>XGBY</td>\n",
       "    </tr>\n",
       "    <tr>\n",
       "      <th>11</th>\n",
       "      <td>2409</td>\n",
       "      <td>RNNQ</td>\n",
       "    </tr>\n",
       "    <tr>\n",
       "      <th>12</th>\n",
       "      <td>2450</td>\n",
       "      <td>RNNY</td>\n",
       "    </tr>\n",
       "    <tr>\n",
       "      <th>13</th>\n",
       "      <td>4981</td>\n",
       "      <td>RuleBased</td>\n",
       "    </tr>\n",
       "    <tr>\n",
       "      <th>14</th>\n",
       "      <td>309185</td>\n",
       "      <td>UserPopSelectionQ</td>\n",
       "    </tr>\n",
       "    <tr>\n",
       "      <th>15</th>\n",
       "      <td>352263</td>\n",
       "      <td>UserPopSelectionY</td>\n",
       "    </tr>\n",
       "  </tbody>\n",
       "</table>\n",
       "</div>"
      ],
      "text/plain": [
       "     index       rec_provider\n",
       "0        0               DNNQ\n",
       "1        1               DNNY\n",
       "2        3             BooksQ\n",
       "3        6           UserPopQ\n",
       "4       17           UserPopY\n",
       "5       22         RuleBasedY\n",
       "6       24            ManualY\n",
       "7       27            ManualQ\n",
       "8       76             BooksY\n",
       "9     2396               XGBQ\n",
       "10    2399               XGBY\n",
       "11    2409               RNNQ\n",
       "12    2450               RNNY\n",
       "13    4981          RuleBased\n",
       "14  309185  UserPopSelectionQ\n",
       "15  352263  UserPopSelectionY"
      ]
     },
     "execution_count": 71,
     "metadata": {},
     "output_type": "execute_result"
    }
   ],
   "source": [
    "def_new['rec_provider'].drop_duplicates().reset_index()"
   ]
  },
  {
   "cell_type": "markdown",
   "id": "5ddc2915-fa0b-455e-97ac-eaba58cafc2d",
   "metadata": {},
   "source": [
    "#### Q12"
   ]
  },
  {
   "cell_type": "markdown",
   "id": "6d048b25-b865-4144-851c-68279a92ffc1",
   "metadata": {},
   "source": [
    "Are there different rec providers per region? "
   ]
  },
  {
   "cell_type": "code",
   "execution_count": 85,
   "id": "a7a5aede-9c45-4e8d-9e39-8b3e65ef5062",
   "metadata": {},
   "outputs": [
    {
     "data": {
      "text/html": [
       "<div>\n",
       "<style scoped>\n",
       "    .dataframe tbody tr th:only-of-type {\n",
       "        vertical-align: middle;\n",
       "    }\n",
       "\n",
       "    .dataframe tbody tr th {\n",
       "        vertical-align: top;\n",
       "    }\n",
       "\n",
       "    .dataframe thead th {\n",
       "        text-align: right;\n",
       "    }\n",
       "</style>\n",
       "<table border=\"1\" class=\"dataframe\">\n",
       "  <thead>\n",
       "    <tr style=\"text-align: right;\">\n",
       "      <th></th>\n",
       "      <th>index</th>\n",
       "      <th>rec_provider</th>\n",
       "    </tr>\n",
       "    <tr>\n",
       "      <th>region</th>\n",
       "      <th></th>\n",
       "      <th></th>\n",
       "    </tr>\n",
       "  </thead>\n",
       "  <tbody>\n",
       "    <tr>\n",
       "      <th>DE</th>\n",
       "      <td>9</td>\n",
       "      <td>9</td>\n",
       "    </tr>\n",
       "    <tr>\n",
       "      <th>GB</th>\n",
       "      <td>12</td>\n",
       "      <td>12</td>\n",
       "    </tr>\n",
       "    <tr>\n",
       "      <th>IN</th>\n",
       "      <td>6</td>\n",
       "      <td>6</td>\n",
       "    </tr>\n",
       "    <tr>\n",
       "      <th>JP</th>\n",
       "      <td>9</td>\n",
       "      <td>9</td>\n",
       "    </tr>\n",
       "    <tr>\n",
       "      <th>US</th>\n",
       "      <td>14</td>\n",
       "      <td>14</td>\n",
       "    </tr>\n",
       "  </tbody>\n",
       "</table>\n",
       "</div>"
      ],
      "text/plain": [
       "        index  rec_provider\n",
       "region                     \n",
       "DE          9             9\n",
       "GB         12            12\n",
       "IN          6             6\n",
       "JP          9             9\n",
       "US         14            14"
      ]
     },
     "execution_count": 85,
     "metadata": {},
     "output_type": "execute_result"
    }
   ],
   "source": [
    "r_pro = def_new[['region','rec_provider']].drop_duplicates().reset_index()\n",
    "r_pro.groupby('region').count()"
   ]
  },
  {
   "cell_type": "markdown",
   "id": "c3bff2b4-522b-4445-a465-5be1d242f17f",
   "metadata": {},
   "source": [
    "As seen by the count of providers, there is a difference, for example below, we can find the providers for JP and IN"
   ]
  },
  {
   "cell_type": "code",
   "execution_count": 88,
   "id": "d18cf95b-17cb-43bb-b019-2f94433b3649",
   "metadata": {},
   "outputs": [
    {
     "data": {
      "text/html": [
       "<div>\n",
       "<style scoped>\n",
       "    .dataframe tbody tr th:only-of-type {\n",
       "        vertical-align: middle;\n",
       "    }\n",
       "\n",
       "    .dataframe tbody tr th {\n",
       "        vertical-align: top;\n",
       "    }\n",
       "\n",
       "    .dataframe thead th {\n",
       "        text-align: right;\n",
       "    }\n",
       "</style>\n",
       "<table border=\"1\" class=\"dataframe\">\n",
       "  <thead>\n",
       "    <tr style=\"text-align: right;\">\n",
       "      <th></th>\n",
       "      <th>index</th>\n",
       "      <th>region</th>\n",
       "      <th>rec_provider</th>\n",
       "    </tr>\n",
       "  </thead>\n",
       "  <tbody>\n",
       "    <tr>\n",
       "      <th>27</th>\n",
       "      <td>8771</td>\n",
       "      <td>JP</td>\n",
       "      <td>ManualQ</td>\n",
       "    </tr>\n",
       "    <tr>\n",
       "      <th>28</th>\n",
       "      <td>8772</td>\n",
       "      <td>JP</td>\n",
       "      <td>UserPopQ</td>\n",
       "    </tr>\n",
       "    <tr>\n",
       "      <th>29</th>\n",
       "      <td>8774</td>\n",
       "      <td>JP</td>\n",
       "      <td>RuleBasedY</td>\n",
       "    </tr>\n",
       "    <tr>\n",
       "      <th>30</th>\n",
       "      <td>8781</td>\n",
       "      <td>JP</td>\n",
       "      <td>DNNQ</td>\n",
       "    </tr>\n",
       "    <tr>\n",
       "      <th>31</th>\n",
       "      <td>8786</td>\n",
       "      <td>JP</td>\n",
       "      <td>ManualY</td>\n",
       "    </tr>\n",
       "    <tr>\n",
       "      <th>32</th>\n",
       "      <td>8793</td>\n",
       "      <td>JP</td>\n",
       "      <td>DNNY</td>\n",
       "    </tr>\n",
       "    <tr>\n",
       "      <th>33</th>\n",
       "      <td>8797</td>\n",
       "      <td>JP</td>\n",
       "      <td>UserPopY</td>\n",
       "    </tr>\n",
       "    <tr>\n",
       "      <th>48</th>\n",
       "      <td>309185</td>\n",
       "      <td>JP</td>\n",
       "      <td>UserPopSelectionQ</td>\n",
       "    </tr>\n",
       "    <tr>\n",
       "      <th>49</th>\n",
       "      <td>352263</td>\n",
       "      <td>JP</td>\n",
       "      <td>UserPopSelectionY</td>\n",
       "    </tr>\n",
       "  </tbody>\n",
       "</table>\n",
       "</div>"
      ],
      "text/plain": [
       "     index region       rec_provider\n",
       "27    8771     JP            ManualQ\n",
       "28    8772     JP           UserPopQ\n",
       "29    8774     JP         RuleBasedY\n",
       "30    8781     JP               DNNQ\n",
       "31    8786     JP            ManualY\n",
       "32    8793     JP               DNNY\n",
       "33    8797     JP           UserPopY\n",
       "48  309185     JP  UserPopSelectionQ\n",
       "49  352263     JP  UserPopSelectionY"
      ]
     },
     "metadata": {},
     "output_type": "display_data"
    },
    {
     "data": {
      "text/html": [
       "<div>\n",
       "<style scoped>\n",
       "    .dataframe tbody tr th:only-of-type {\n",
       "        vertical-align: middle;\n",
       "    }\n",
       "\n",
       "    .dataframe tbody tr th {\n",
       "        vertical-align: top;\n",
       "    }\n",
       "\n",
       "    .dataframe thead th {\n",
       "        text-align: right;\n",
       "    }\n",
       "</style>\n",
       "<table border=\"1\" class=\"dataframe\">\n",
       "  <thead>\n",
       "    <tr style=\"text-align: right;\">\n",
       "      <th></th>\n",
       "      <th>index</th>\n",
       "      <th>region</th>\n",
       "      <th>rec_provider</th>\n",
       "    </tr>\n",
       "  </thead>\n",
       "  <tbody>\n",
       "    <tr>\n",
       "      <th>21</th>\n",
       "      <td>5575</td>\n",
       "      <td>IN</td>\n",
       "      <td>UserPopY</td>\n",
       "    </tr>\n",
       "    <tr>\n",
       "      <th>22</th>\n",
       "      <td>5576</td>\n",
       "      <td>IN</td>\n",
       "      <td>RuleBasedY</td>\n",
       "    </tr>\n",
       "    <tr>\n",
       "      <th>23</th>\n",
       "      <td>5577</td>\n",
       "      <td>IN</td>\n",
       "      <td>UserPopQ</td>\n",
       "    </tr>\n",
       "    <tr>\n",
       "      <th>24</th>\n",
       "      <td>5582</td>\n",
       "      <td>IN</td>\n",
       "      <td>ManualY</td>\n",
       "    </tr>\n",
       "    <tr>\n",
       "      <th>25</th>\n",
       "      <td>5585</td>\n",
       "      <td>IN</td>\n",
       "      <td>ManualQ</td>\n",
       "    </tr>\n",
       "    <tr>\n",
       "      <th>26</th>\n",
       "      <td>7773</td>\n",
       "      <td>IN</td>\n",
       "      <td>RuleBased</td>\n",
       "    </tr>\n",
       "  </tbody>\n",
       "</table>\n",
       "</div>"
      ],
      "text/plain": [
       "    index region rec_provider\n",
       "21   5575     IN     UserPopY\n",
       "22   5576     IN   RuleBasedY\n",
       "23   5577     IN     UserPopQ\n",
       "24   5582     IN      ManualY\n",
       "25   5585     IN      ManualQ\n",
       "26   7773     IN    RuleBased"
      ]
     },
     "metadata": {},
     "output_type": "display_data"
    },
    {
     "data": {
      "text/plain": [
       "(None, None)"
      ]
     },
     "execution_count": 88,
     "metadata": {},
     "output_type": "execute_result"
    }
   ],
   "source": [
    "r_df = r_pro.groupby('region').head(15)\n",
    "#r_df.query('region == \"JP\" or region == \"IN\"')\n",
    "display(r_df.query('region == \"JP\"')), display(r_df.query('region == \"IN\"'))"
   ]
  },
  {
   "cell_type": "markdown",
   "id": "d9985fb9-74c6-4cb8-addc-c3b5e47f5066",
   "metadata": {},
   "source": [
    "#### Q13"
   ]
  },
  {
   "cell_type": "markdown",
   "id": "0b2fd8dc-68ae-45cc-b7ef-486ec603d4b6",
   "metadata": {},
   "source": [
    "Are there different rec providers per rec type?"
   ]
  },
  {
   "cell_type": "code",
   "execution_count": 89,
   "id": "41fbcf63-6c0c-4e26-aedb-8bba02fb63c8",
   "metadata": {},
   "outputs": [
    {
     "data": {
      "text/html": [
       "<div>\n",
       "<style scoped>\n",
       "    .dataframe tbody tr th:only-of-type {\n",
       "        vertical-align: middle;\n",
       "    }\n",
       "\n",
       "    .dataframe tbody tr th {\n",
       "        vertical-align: top;\n",
       "    }\n",
       "\n",
       "    .dataframe thead th {\n",
       "        text-align: right;\n",
       "    }\n",
       "</style>\n",
       "<table border=\"1\" class=\"dataframe\">\n",
       "  <thead>\n",
       "    <tr style=\"text-align: right;\">\n",
       "      <th></th>\n",
       "      <th>week_id</th>\n",
       "      <th>ad_id</th>\n",
       "      <th>requester</th>\n",
       "      <th>region</th>\n",
       "      <th>is_success</th>\n",
       "      <th>is_sever</th>\n",
       "      <th>recommendation_type</th>\n",
       "      <th>rec_provider</th>\n",
       "      <th>Year</th>\n",
       "      <th>Quarter</th>\n",
       "      <th>binary_success</th>\n",
       "      <th>is_sever_full</th>\n",
       "      <th>week_number</th>\n",
       "    </tr>\n",
       "  </thead>\n",
       "  <tbody>\n",
       "    <tr>\n",
       "      <th>0</th>\n",
       "      <td>2021-week_33</td>\n",
       "      <td>AD0088VOS</td>\n",
       "      <td>Search Million Culture</td>\n",
       "      <td>DE</td>\n",
       "      <td>Yes</td>\n",
       "      <td>NaN</td>\n",
       "      <td>Qality</td>\n",
       "      <td>DNNQ</td>\n",
       "      <td>2021</td>\n",
       "      <td>Quarter 3</td>\n",
       "      <td>1</td>\n",
       "      <td>False</td>\n",
       "      <td>33</td>\n",
       "    </tr>\n",
       "    <tr>\n",
       "      <th>1</th>\n",
       "      <td>2021-week_33</td>\n",
       "      <td>AD07KYS8JM</td>\n",
       "      <td>MoJoe Brewing Company</td>\n",
       "      <td>DE</td>\n",
       "      <td>Yes</td>\n",
       "      <td>NaN</td>\n",
       "      <td>Yield</td>\n",
       "      <td>DNNY</td>\n",
       "      <td>2021</td>\n",
       "      <td>Quarter 3</td>\n",
       "      <td>1</td>\n",
       "      <td>False</td>\n",
       "      <td>33</td>\n",
       "    </tr>\n",
       "    <tr>\n",
       "      <th>2</th>\n",
       "      <td>2021-week_33</td>\n",
       "      <td>AD08PDP6Y9</td>\n",
       "      <td>Search Million Culture</td>\n",
       "      <td>DE</td>\n",
       "      <td>Yes</td>\n",
       "      <td>NaN</td>\n",
       "      <td>Qality</td>\n",
       "      <td>DNNQ</td>\n",
       "      <td>2021</td>\n",
       "      <td>Quarter 3</td>\n",
       "      <td>1</td>\n",
       "      <td>False</td>\n",
       "      <td>33</td>\n",
       "    </tr>\n",
       "    <tr>\n",
       "      <th>3</th>\n",
       "      <td>2021-week_33</td>\n",
       "      <td>AD89608808</td>\n",
       "      <td>Search Million Culture</td>\n",
       "      <td>DE</td>\n",
       "      <td>Yes</td>\n",
       "      <td>NaN</td>\n",
       "      <td>Qality</td>\n",
       "      <td>BooksQ</td>\n",
       "      <td>2021</td>\n",
       "      <td>Quarter 3</td>\n",
       "      <td>1</td>\n",
       "      <td>False</td>\n",
       "      <td>33</td>\n",
       "    </tr>\n",
       "    <tr>\n",
       "      <th>4</th>\n",
       "      <td>2021-week_33</td>\n",
       "      <td>AD07CMVHP6</td>\n",
       "      <td>Search Million Culture</td>\n",
       "      <td>DE</td>\n",
       "      <td>Yes</td>\n",
       "      <td>NaN</td>\n",
       "      <td>Qality</td>\n",
       "      <td>DNNQ</td>\n",
       "      <td>2021</td>\n",
       "      <td>Quarter 3</td>\n",
       "      <td>1</td>\n",
       "      <td>False</td>\n",
       "      <td>33</td>\n",
       "    </tr>\n",
       "  </tbody>\n",
       "</table>\n",
       "</div>"
      ],
      "text/plain": [
       "        week_id       ad_id               requester region is_success  \\\n",
       "0  2021-week_33   AD0088VOS  Search Million Culture     DE        Yes   \n",
       "1  2021-week_33  AD07KYS8JM   MoJoe Brewing Company     DE        Yes   \n",
       "2  2021-week_33  AD08PDP6Y9  Search Million Culture     DE        Yes   \n",
       "3  2021-week_33  AD89608808  Search Million Culture     DE        Yes   \n",
       "4  2021-week_33  AD07CMVHP6  Search Million Culture     DE        Yes   \n",
       "\n",
       "  is_sever recommendation_type rec_provider  Year    Quarter  binary_success  \\\n",
       "0      NaN              Qality         DNNQ  2021  Quarter 3               1   \n",
       "1      NaN               Yield         DNNY  2021  Quarter 3               1   \n",
       "2      NaN              Qality         DNNQ  2021  Quarter 3               1   \n",
       "3      NaN              Qality       BooksQ  2021  Quarter 3               1   \n",
       "4      NaN              Qality         DNNQ  2021  Quarter 3               1   \n",
       "\n",
       "  is_sever_full week_number  \n",
       "0         False          33  \n",
       "1         False          33  \n",
       "2         False          33  \n",
       "3         False          33  \n",
       "4         False          33  "
      ]
     },
     "execution_count": 89,
     "metadata": {},
     "output_type": "execute_result"
    }
   ],
   "source": [
    "def_new.head()"
   ]
  },
  {
   "cell_type": "code",
   "execution_count": 90,
   "id": "30de58b3-3c82-41cf-b0d8-45e151ec1b4b",
   "metadata": {},
   "outputs": [
    {
     "data": {
      "text/html": [
       "<div>\n",
       "<style scoped>\n",
       "    .dataframe tbody tr th:only-of-type {\n",
       "        vertical-align: middle;\n",
       "    }\n",
       "\n",
       "    .dataframe tbody tr th {\n",
       "        vertical-align: top;\n",
       "    }\n",
       "\n",
       "    .dataframe thead th {\n",
       "        text-align: right;\n",
       "    }\n",
       "</style>\n",
       "<table border=\"1\" class=\"dataframe\">\n",
       "  <thead>\n",
       "    <tr style=\"text-align: right;\">\n",
       "      <th></th>\n",
       "      <th></th>\n",
       "      <th>ad_id</th>\n",
       "    </tr>\n",
       "    <tr>\n",
       "      <th>recommendation_type</th>\n",
       "      <th>rec_provider</th>\n",
       "      <th></th>\n",
       "    </tr>\n",
       "  </thead>\n",
       "  <tbody>\n",
       "    <tr>\n",
       "      <th rowspan=\"9\" valign=\"top\">Qality</th>\n",
       "      <th>BooksQ</th>\n",
       "      <td>1720</td>\n",
       "    </tr>\n",
       "    <tr>\n",
       "      <th>DNNQ</th>\n",
       "      <td>117424</td>\n",
       "    </tr>\n",
       "    <tr>\n",
       "      <th>ManualQ</th>\n",
       "      <td>10220</td>\n",
       "    </tr>\n",
       "    <tr>\n",
       "      <th>ManualY</th>\n",
       "      <td>1439</td>\n",
       "    </tr>\n",
       "    <tr>\n",
       "      <th>RNNQ</th>\n",
       "      <td>20983</td>\n",
       "    </tr>\n",
       "    <tr>\n",
       "      <th>RuleBased</th>\n",
       "      <td>182</td>\n",
       "    </tr>\n",
       "    <tr>\n",
       "      <th>UserPopQ</th>\n",
       "      <td>69937</td>\n",
       "    </tr>\n",
       "    <tr>\n",
       "      <th>UserPopSelectionQ</th>\n",
       "      <td>2417</td>\n",
       "    </tr>\n",
       "    <tr>\n",
       "      <th>XGBQ</th>\n",
       "      <td>12250</td>\n",
       "    </tr>\n",
       "    <tr>\n",
       "      <th rowspan=\"9\" valign=\"top\">Yield</th>\n",
       "      <th>BooksY</th>\n",
       "      <td>4150</td>\n",
       "    </tr>\n",
       "    <tr>\n",
       "      <th>DNNY</th>\n",
       "      <td>45116</td>\n",
       "    </tr>\n",
       "    <tr>\n",
       "      <th>ManualQ</th>\n",
       "      <td>3624</td>\n",
       "    </tr>\n",
       "    <tr>\n",
       "      <th>ManualY</th>\n",
       "      <td>543</td>\n",
       "    </tr>\n",
       "    <tr>\n",
       "      <th>RNNY</th>\n",
       "      <td>12732</td>\n",
       "    </tr>\n",
       "    <tr>\n",
       "      <th>RuleBasedY</th>\n",
       "      <td>28154</td>\n",
       "    </tr>\n",
       "    <tr>\n",
       "      <th>UserPopSelectionY</th>\n",
       "      <td>21</td>\n",
       "    </tr>\n",
       "    <tr>\n",
       "      <th>UserPopY</th>\n",
       "      <td>38600</td>\n",
       "    </tr>\n",
       "    <tr>\n",
       "      <th>XGBY</th>\n",
       "      <td>4276</td>\n",
       "    </tr>\n",
       "  </tbody>\n",
       "</table>\n",
       "</div>"
      ],
      "text/plain": [
       "                                        ad_id\n",
       "recommendation_type rec_provider             \n",
       "Qality              BooksQ               1720\n",
       "                    DNNQ               117424\n",
       "                    ManualQ             10220\n",
       "                    ManualY              1439\n",
       "                    RNNQ                20983\n",
       "                    RuleBased             182\n",
       "                    UserPopQ            69937\n",
       "                    UserPopSelectionQ    2417\n",
       "                    XGBQ                12250\n",
       "Yield               BooksY               4150\n",
       "                    DNNY                45116\n",
       "                    ManualQ              3624\n",
       "                    ManualY               543\n",
       "                    RNNY                12732\n",
       "                    RuleBasedY          28154\n",
       "                    UserPopSelectionY      21\n",
       "                    UserPopY            38600\n",
       "                    XGBY                 4276"
      ]
     },
     "execution_count": 90,
     "metadata": {},
     "output_type": "execute_result"
    }
   ],
   "source": [
    "def_new[['recommendation_type','rec_provider','ad_id']].groupby(['recommendation_type','rec_provider']).count()"
   ]
  },
  {
   "cell_type": "markdown",
   "id": "35ade38e-20e7-4591-839a-df2eab639044",
   "metadata": {},
   "source": [
    "Yes there are different rec_providers for example for Qality we have XGBQ and for Yield we have XGBY\n",
    "\n",
    "Basically we have the same rec_provider just with an ending of Q for Qality and ending of Y for Yield (some exceptions: RulebasedY for Yield and Rulebased for Qality"
   ]
  },
  {
   "cell_type": "markdown",
   "id": "cf92460e-157a-4fc4-869c-3edf74226b67",
   "metadata": {},
   "source": [
    "#### Q14"
   ]
  },
  {
   "cell_type": "markdown",
   "id": "7fa23bf3-1164-4c4b-a95c-9d94a4195552",
   "metadata": {},
   "source": [
    "What are the notation rules distinguishing between quality vs yielding providers?"
   ]
  },
  {
   "cell_type": "markdown",
   "id": "1f222553-7487-41f9-b90c-a59c97fc20c4",
   "metadata": {},
   "source": [
    "**answered above in Q13**"
   ]
  },
  {
   "cell_type": "markdown",
   "id": "2e528bd2-122f-4694-96fc-94f3fecc4064",
   "metadata": {},
   "source": [
    "#### Q15"
   ]
  },
  {
   "cell_type": "markdown",
   "id": "4389ee28-0d62-4791-b5f7-e27935b07330",
   "metadata": {},
   "source": [
    "Which is the most successful region of operation? "
   ]
  },
  {
   "cell_type": "code",
   "execution_count": 97,
   "id": "af8bc626-c9be-4dec-a22a-c1444b79e9b9",
   "metadata": {},
   "outputs": [
    {
     "data": {
      "text/html": [
       "<div>\n",
       "<style scoped>\n",
       "    .dataframe tbody tr th:only-of-type {\n",
       "        vertical-align: middle;\n",
       "    }\n",
       "\n",
       "    .dataframe tbody tr th {\n",
       "        vertical-align: top;\n",
       "    }\n",
       "\n",
       "    .dataframe thead th {\n",
       "        text-align: right;\n",
       "    }\n",
       "</style>\n",
       "<table border=\"1\" class=\"dataframe\">\n",
       "  <thead>\n",
       "    <tr style=\"text-align: right;\">\n",
       "      <th></th>\n",
       "      <th>region</th>\n",
       "      <th>binary_success</th>\n",
       "    </tr>\n",
       "  </thead>\n",
       "  <tbody>\n",
       "    <tr>\n",
       "      <th>0</th>\n",
       "      <td>DE</td>\n",
       "      <td>50624</td>\n",
       "    </tr>\n",
       "    <tr>\n",
       "      <th>1</th>\n",
       "      <td>GB</td>\n",
       "      <td>69509</td>\n",
       "    </tr>\n",
       "    <tr>\n",
       "      <th>2</th>\n",
       "      <td>IN</td>\n",
       "      <td>63355</td>\n",
       "    </tr>\n",
       "    <tr>\n",
       "      <th>3</th>\n",
       "      <td>JP</td>\n",
       "      <td>31800</td>\n",
       "    </tr>\n",
       "    <tr>\n",
       "      <th>4</th>\n",
       "      <td>US</td>\n",
       "      <td>88918</td>\n",
       "    </tr>\n",
       "  </tbody>\n",
       "</table>\n",
       "</div>"
      ],
      "text/plain": [
       "  region  binary_success\n",
       "0     DE           50624\n",
       "1     GB           69509\n",
       "2     IN           63355\n",
       "3     JP           31800\n",
       "4     US           88918"
      ]
     },
     "execution_count": 97,
     "metadata": {},
     "output_type": "execute_result"
    }
   ],
   "source": [
    "su_reg = def_new[['region','binary_success']].groupby(['region']).sum()\n",
    "su_reg = su_reg.reset_index()\n",
    "su_reg"
   ]
  },
  {
   "cell_type": "markdown",
   "id": "64419275-4f0e-409e-be59-7295b080c687",
   "metadata": {},
   "source": [
    "In absolute numbers - the US region is the most successful"
   ]
  },
  {
   "cell_type": "code",
   "execution_count": 96,
   "id": "cd7a5427-7250-418e-b45d-87841186b65e",
   "metadata": {},
   "outputs": [
    {
     "data": {
      "text/html": [
       "<div>\n",
       "<style scoped>\n",
       "    .dataframe tbody tr th:only-of-type {\n",
       "        vertical-align: middle;\n",
       "    }\n",
       "\n",
       "    .dataframe tbody tr th {\n",
       "        vertical-align: top;\n",
       "    }\n",
       "\n",
       "    .dataframe thead th {\n",
       "        text-align: right;\n",
       "    }\n",
       "</style>\n",
       "<table border=\"1\" class=\"dataframe\">\n",
       "  <thead>\n",
       "    <tr style=\"text-align: right;\">\n",
       "      <th></th>\n",
       "      <th>region</th>\n",
       "      <th>binary_success</th>\n",
       "    </tr>\n",
       "  </thead>\n",
       "  <tbody>\n",
       "    <tr>\n",
       "      <th>0</th>\n",
       "      <td>DE</td>\n",
       "      <td>62177</td>\n",
       "    </tr>\n",
       "    <tr>\n",
       "      <th>1</th>\n",
       "      <td>GB</td>\n",
       "      <td>82984</td>\n",
       "    </tr>\n",
       "    <tr>\n",
       "      <th>2</th>\n",
       "      <td>IN</td>\n",
       "      <td>83154</td>\n",
       "    </tr>\n",
       "    <tr>\n",
       "      <th>3</th>\n",
       "      <td>JP</td>\n",
       "      <td>41627</td>\n",
       "    </tr>\n",
       "    <tr>\n",
       "      <th>4</th>\n",
       "      <td>US</td>\n",
       "      <td>103846</td>\n",
       "    </tr>\n",
       "  </tbody>\n",
       "</table>\n",
       "</div>"
      ],
      "text/plain": [
       "  region  binary_success\n",
       "0     DE           62177\n",
       "1     GB           82984\n",
       "2     IN           83154\n",
       "3     JP           41627\n",
       "4     US          103846"
      ]
     },
     "execution_count": 96,
     "metadata": {},
     "output_type": "execute_result"
    }
   ],
   "source": [
    "count_reg = def_new[['region','binary_success']].groupby(['region']).count()\n",
    "count_reg = count_reg.reset_index()\n",
    "count_reg"
   ]
  },
  {
   "cell_type": "code",
   "execution_count": 98,
   "id": "32833754-d22f-4564-bf26-3fbf7ec64302",
   "metadata": {},
   "outputs": [],
   "source": [
    "su_reg['total_count'] = count_reg['binary_success']"
   ]
  },
  {
   "cell_type": "code",
   "execution_count": 101,
   "id": "ce6264e6-bde4-4cdb-9044-9d969f098208",
   "metadata": {},
   "outputs": [],
   "source": [
    "su_reg['proportion_success'] = su_reg['binary_success'] / su_reg['total_count']"
   ]
  },
  {
   "cell_type": "code",
   "execution_count": 104,
   "id": "17dcbade-11d3-478a-8ee3-71eace52d376",
   "metadata": {},
   "outputs": [
    {
     "data": {
      "text/html": [
       "<div>\n",
       "<style scoped>\n",
       "    .dataframe tbody tr th:only-of-type {\n",
       "        vertical-align: middle;\n",
       "    }\n",
       "\n",
       "    .dataframe tbody tr th {\n",
       "        vertical-align: top;\n",
       "    }\n",
       "\n",
       "    .dataframe thead th {\n",
       "        text-align: right;\n",
       "    }\n",
       "</style>\n",
       "<table border=\"1\" class=\"dataframe\">\n",
       "  <thead>\n",
       "    <tr style=\"text-align: right;\">\n",
       "      <th></th>\n",
       "      <th>region</th>\n",
       "      <th>binary_success</th>\n",
       "      <th>total_count</th>\n",
       "      <th>proportion_success</th>\n",
       "    </tr>\n",
       "  </thead>\n",
       "  <tbody>\n",
       "    <tr>\n",
       "      <th>4</th>\n",
       "      <td>US</td>\n",
       "      <td>88918</td>\n",
       "      <td>103846</td>\n",
       "      <td>0.856249</td>\n",
       "    </tr>\n",
       "    <tr>\n",
       "      <th>1</th>\n",
       "      <td>GB</td>\n",
       "      <td>69509</td>\n",
       "      <td>82984</td>\n",
       "      <td>0.837619</td>\n",
       "    </tr>\n",
       "    <tr>\n",
       "      <th>0</th>\n",
       "      <td>DE</td>\n",
       "      <td>50624</td>\n",
       "      <td>62177</td>\n",
       "      <td>0.814192</td>\n",
       "    </tr>\n",
       "    <tr>\n",
       "      <th>3</th>\n",
       "      <td>JP</td>\n",
       "      <td>31800</td>\n",
       "      <td>41627</td>\n",
       "      <td>0.763927</td>\n",
       "    </tr>\n",
       "    <tr>\n",
       "      <th>2</th>\n",
       "      <td>IN</td>\n",
       "      <td>63355</td>\n",
       "      <td>83154</td>\n",
       "      <td>0.761900</td>\n",
       "    </tr>\n",
       "  </tbody>\n",
       "</table>\n",
       "</div>"
      ],
      "text/plain": [
       "  region  binary_success  total_count  proportion_success\n",
       "4     US           88918       103846            0.856249\n",
       "1     GB           69509        82984            0.837619\n",
       "0     DE           50624        62177            0.814192\n",
       "3     JP           31800        41627            0.763927\n",
       "2     IN           63355        83154            0.761900"
      ]
     },
     "execution_count": 104,
     "metadata": {},
     "output_type": "execute_result"
    }
   ],
   "source": [
    "su_reg.sort_values('proportion_success',ascending=False)"
   ]
  },
  {
   "cell_type": "markdown",
   "id": "52a91050-3ab7-4516-9a30-7b688503b082",
   "metadata": {},
   "source": [
    "Proportion wise the US region is still the most successful"
   ]
  },
  {
   "cell_type": "markdown",
   "id": "b4e4d018-5979-4cfe-b8e7-4da107894953",
   "metadata": {},
   "source": [
    "#### Q16"
   ]
  },
  {
   "cell_type": "markdown",
   "id": "ec23b8de-d8e7-403f-80eb-4d0ec5903783",
   "metadata": {},
   "source": [
    "Which is the most successful rec provider per each region? "
   ]
  },
  {
   "cell_type": "code",
   "execution_count": null,
   "id": "41a6e2d5-f8aa-4649-8aa4-82e7db2fcd06",
   "metadata": {},
   "outputs": [],
   "source": []
  },
  {
   "cell_type": "markdown",
   "id": "9204f151-463e-4d59-8336-2ac5650509da",
   "metadata": {},
   "source": [
    "#### Q17"
   ]
  },
  {
   "cell_type": "markdown",
   "id": "e7a497d4-e7fd-45d1-b520-41fdbe046b4d",
   "metadata": {},
   "source": [
    "Present a table with a success rate, sever defects rate and CI (for each metric) per region"
   ]
  },
  {
   "cell_type": "code",
   "execution_count": null,
   "id": "fd6cf594-f086-47e2-82df-c48825991ec7",
   "metadata": {},
   "outputs": [],
   "source": []
  },
  {
   "cell_type": "markdown",
   "id": "36e5154b-9975-4458-b8ed-a16f8d398393",
   "metadata": {},
   "source": [
    "#### Q18"
   ]
  },
  {
   "cell_type": "markdown",
   "id": "a31b2c7b-4b8d-450f-920a-112a87d91b0c",
   "metadata": {},
   "source": [
    "Present a table with a success rate, sever defects rate and CI (for each metric) per rec provider"
   ]
  },
  {
   "cell_type": "code",
   "execution_count": null,
   "id": "7148a666-31cb-4b96-9632-3d5cdf90651d",
   "metadata": {},
   "outputs": [],
   "source": []
  },
  {
   "cell_type": "markdown",
   "id": "e6211109-c7aa-4b34-96e5-909793114b24",
   "metadata": {},
   "source": [
    "#### Q19"
   ]
  },
  {
   "cell_type": "markdown",
   "id": "601d023a-dec2-4dcd-983d-71ab5472d3c3",
   "metadata": {},
   "source": [
    "Present a table with a success rate, sever defects rate and CI (for each metric) per region and rec provider combinations"
   ]
  },
  {
   "cell_type": "code",
   "execution_count": null,
   "id": "5a43568b-6857-41f5-b614-ede00f7a67a5",
   "metadata": {},
   "outputs": [],
   "source": []
  },
  {
   "cell_type": "markdown",
   "id": "41649dcb-ae76-49b6-99d2-560063efcfd2",
   "metadata": {},
   "source": [
    "#### Q20"
   ]
  },
  {
   "cell_type": "markdown",
   "id": "436fcbf3-9177-4ab6-9282-6b061eb3acaf",
   "metadata": {},
   "source": [
    "Present a table with a success rate, sever defects rate and CI (for each metric) per rec type (Q/Y)"
   ]
  },
  {
   "cell_type": "code",
   "execution_count": null,
   "id": "02707328-c15e-49ed-a68d-d7821ff03137",
   "metadata": {},
   "outputs": [],
   "source": []
  },
  {
   "cell_type": "markdown",
   "id": "7f91d66f-3fee-434d-998c-b87c543a4434",
   "metadata": {},
   "source": [
    "#### Q21"
   ]
  },
  {
   "cell_type": "markdown",
   "id": "463fd129-eedd-421f-9a0e-3cbe5991718e",
   "metadata": {},
   "source": [
    "Present a table with a success rate, sever defects rate and CI (for each metric) per rec type and region"
   ]
  },
  {
   "cell_type": "code",
   "execution_count": null,
   "id": "5f1f3d7c-4ded-4657-8d28-877123572539",
   "metadata": {},
   "outputs": [],
   "source": []
  },
  {
   "cell_type": "markdown",
   "id": "e187a00c-a437-4268-8888-f2775a8429bd",
   "metadata": {},
   "source": [
    "#### Q22"
   ]
  },
  {
   "cell_type": "markdown",
   "id": "e0fec45e-5000-48c4-9e84-893c243bd145",
   "metadata": {},
   "source": [
    "Present WoW table/graph with success rate and CI (see image below) per region"
   ]
  },
  {
   "cell_type": "code",
   "execution_count": null,
   "id": "7c792830-8162-4ee9-baff-66e49c241ae3",
   "metadata": {},
   "outputs": [],
   "source": []
  },
  {
   "cell_type": "markdown",
   "id": "f76a99d3-2bec-41f8-a91a-2225e7c7f2e9",
   "metadata": {},
   "source": [
    "#### Q23"
   ]
  },
  {
   "cell_type": "markdown",
   "id": "2726473b-bffc-43f6-851a-6d5cb0aba330",
   "metadata": {},
   "source": [
    "Present WoW table/graph with success rate and CI (see image below) per region and rec type"
   ]
  },
  {
   "cell_type": "code",
   "execution_count": null,
   "id": "aeb9398d-fb6c-4b8e-a7af-fca50b8e2973",
   "metadata": {},
   "outputs": [],
   "source": []
  },
  {
   "cell_type": "markdown",
   "id": "0fe0ae10-ac3d-455c-9a81-cb8905cb253d",
   "metadata": {},
   "source": [
    "#### Q24"
   ]
  },
  {
   "cell_type": "markdown",
   "id": "226bcabc-1a37-446f-b61f-8027804d072a",
   "metadata": {},
   "source": [
    "Present WoW table/graph with success rate and CI (see image below) per region and rec provider"
   ]
  },
  {
   "cell_type": "code",
   "execution_count": null,
   "id": "6d956ec2-e418-4c75-80a2-8f244983b066",
   "metadata": {},
   "outputs": [],
   "source": []
  },
  {
   "cell_type": "markdown",
   "id": "9c7a39ff-da15-4929-88ff-6863fab5ead2",
   "metadata": {},
   "source": [
    "#### Q25"
   ]
  },
  {
   "cell_type": "markdown",
   "id": "d7f177c2-97d9-4727-9a2b-a7d65ecc8127",
   "metadata": {},
   "source": [
    "Which are the requester to which we succeed the most?"
   ]
  },
  {
   "cell_type": "code",
   "execution_count": null,
   "id": "aedd8315-da66-45a1-8903-90b7c8e51a96",
   "metadata": {},
   "outputs": [],
   "source": []
  },
  {
   "cell_type": "markdown",
   "id": "cee788b8-2765-401d-9977-7a8366bf6df2",
   "metadata": {},
   "source": [
    "#### Q26"
   ]
  },
  {
   "cell_type": "markdown",
   "id": "eb31501d-d0ce-4b0a-aa19-60520600caef",
   "metadata": {},
   "source": [
    "Which are the requester to which we produce the most critical defects?"
   ]
  },
  {
   "cell_type": "code",
   "execution_count": null,
   "id": "2f799df0-e4a1-4983-a0d9-e9b9be832d3f",
   "metadata": {},
   "outputs": [],
   "source": []
  },
  {
   "cell_type": "markdown",
   "id": "43a25c11-45bc-46a9-ab36-276aeb188c7b",
   "metadata": {},
   "source": [
    "#### Q27"
   ]
  },
  {
   "cell_type": "markdown",
   "id": "f1683118-637b-4534-8f11-c47853c4cd8b",
   "metadata": {},
   "source": [
    "What is the overall success rate trend over time? "
   ]
  },
  {
   "cell_type": "code",
   "execution_count": null,
   "id": "97bf5d10-db9b-49a7-9b58-6034f04f9ce5",
   "metadata": {},
   "outputs": [],
   "source": []
  },
  {
   "cell_type": "markdown",
   "id": "ef087123-5451-4df7-b722-b4ad19c8eafe",
   "metadata": {},
   "source": [
    "#### Q28"
   ]
  },
  {
   "cell_type": "markdown",
   "id": "ecf4ecc0-884d-4ab2-a394-6f6e1c8f5564",
   "metadata": {},
   "source": [
    "What is the overall sever defect rate trend over time? "
   ]
  },
  {
   "cell_type": "code",
   "execution_count": null,
   "id": "9579e8ff-94ab-45ce-aeab-cfb37056f672",
   "metadata": {},
   "outputs": [],
   "source": []
  },
  {
   "cell_type": "markdown",
   "id": "fb5c94ad-c71a-4db7-a55a-54c3e50a94d7",
   "metadata": {},
   "source": [
    "#### Q29"
   ]
  },
  {
   "cell_type": "markdown",
   "id": "e693753a-3644-47d1-943d-7cb647310b41",
   "metadata": {},
   "source": [
    "Preset a WoW graph showing the number of requests per customer in each region (hint: [use stacked bars](https://plotly.com/python/bar-charts/)), from it:\n",
    "  1. Identify major traffic shape changes (addition/removal) of major clients  "
   ]
  },
  {
   "cell_type": "code",
   "execution_count": null,
   "id": "b32cef05-d93c-4232-a7cb-f306cfcce7f7",
   "metadata": {},
   "outputs": [],
   "source": []
  },
  {
   "cell_type": "markdown",
   "id": "0ac0f2b7-8b11-4baa-b367-90c798c99ed1",
   "metadata": {},
   "source": [
    "#### Q30"
   ]
  },
  {
   "cell_type": "markdown",
   "id": "e696bc03-58b7-4812-9446-cc1c516c9a09",
   "metadata": {},
   "source": [
    "Preset a WoW graph showing the **requests proportion** per customer in each region (hint: [use stacked bars](https://plotly.com/python/bar-charts/)), from it:\n",
    "  1. Identify major traffic shape changes (addition/removal) of major clients\n",
    "\n"
   ]
  },
  {
   "cell_type": "code",
   "execution_count": null,
   "id": "0de3ced9-eee4-4287-b8a9-aedc15c81f57",
   "metadata": {},
   "outputs": [],
   "source": []
  },
  {
   "cell_type": "markdown",
   "id": "c7f23002-d22d-473e-af6e-85e136802292",
   "metadata": {},
   "source": [
    "#### Q31"
   ]
  },
  {
   "cell_type": "markdown",
   "id": "905e4e19-8ceb-44b1-8496-eb14e107ccbd",
   "metadata": {},
   "source": [
    "* Are there duplicated ads? To compact the data, remove duplicated ads and instead add an ad_count column **(pay attention, this is not trivial at all)**\n",
    "\n",
    "at_least_one_digit### Compactization"
   ]
  },
  {
   "cell_type": "code",
   "execution_count": null,
   "id": "2731c30a-ea9d-4f77-9531-2b685a919ab6",
   "metadata": {},
   "outputs": [],
   "source": []
  },
  {
   "cell_type": "markdown",
   "id": "cbd7201c-98c2-4d59-a76e-e098dc5d9e43",
   "metadata": {},
   "source": [
    "### Merges and joins"
   ]
  },
  {
   "cell_type": "markdown",
   "id": "d78fa97c-4736-41c5-a649-931808eb8b30",
   "metadata": {},
   "source": [
    "The Wow samples and annotations task were sent and recieve seperatly, per each week. The dataset you were working on was constructed from those files. You can see the files under the `data/weekly` folder, here are the first 10 files:"
   ]
  },
  {
   "cell_type": "code",
   "execution_count": 8,
   "id": "81341f62-9161-4f1a-a678-251baba01564",
   "metadata": {},
   "outputs": [
    {
     "data": {
      "text/plain": [
       "['.ipynb_checkpoints',\n",
       " '2021_33_DE_Qality_annotation_result.csv',\n",
       " '2021_33_DE_Yield_annotation_result.csv',\n",
       " '2021_33_DE__Sample.csv',\n",
       " '2021_33_GB_Qality_annotation_result.csv',\n",
       " '2021_33_GB_Yield_annotation_result.csv',\n",
       " '2021_33_GB__Sample.csv',\n",
       " '2021_33_IN_Qality_annotation_result.csv',\n",
       " '2021_33_IN_Yield_annotation_result.csv',\n",
       " '2021_33_IN__Sample.csv']"
      ]
     },
     "execution_count": 8,
     "metadata": {},
     "output_type": "execute_result"
    }
   ],
   "source": [
    "import pandas as pd\n",
    "import os\n",
    "os.chdir('/Users/lironavineri/ML/Python-ML--Pandas/data/weekly')  \n",
    "weekly_files = os.listdir('/Users/lironavineri/ML/Python-ML--Pandas/data/weekly')\n",
    "sorted(weekly_files)[:10]"
   ]
  },
  {
   "cell_type": "markdown",
   "id": "a0882bd4-9b7a-4ea1-a047-348e5e3f0980",
   "metadata": {},
   "source": [
    "Your task is to reconstruct the dataset above. "
   ]
  },
  {
   "cell_type": "markdown",
   "id": "947a9131-40f3-4e0a-a817-d090a79bbd72",
   "metadata": {},
   "source": [
    "### Solution\n",
    "\n",
    "Pseodu-code: \n",
    "1. for every week between 33 and 51 for year 2021 and for every week between 1 and 6 + week 52 of year 2022\n",
    "1. for every region of the list: ['DE','GB','IN','JP','US']\n",
    "1. merge quality annotations with quality samples\n",
    "1. merge yield annotations with yield samples\n",
    "1. Concatenate final Qality and Yield anotation results"
   ]
  },
  {
   "cell_type": "code",
   "execution_count": 9,
   "id": "b0d2f868-42d2-4395-97a4-e89076e68226",
   "metadata": {},
   "outputs": [],
   "source": [
    "region_list = ['DE','GB','IN','JP','US']\n",
    "weeks_2021 = [*range(33,52)]\n",
    "y_2021 = ['2021'] * len(weeks_2021)\n",
    "weeks_2022 = [*range(1,7), 52]\n",
    "#w_52 = pd.Series(52)\n",
    "#weeks_2022 = weeks_2022.append(w_52)\n",
    "y_2022 = ['2022'] * len(weeks_2022)            \n",
    "weeks_s = weeks_2021\n",
    "weeks_s.extend(weeks_2022)\n",
    "years_s = y_2021\n",
    "years_s.extend(y_2022)"
   ]
  },
  {
   "cell_type": "code",
   "execution_count": 10,
   "id": "037205fc-5e6d-46b4-95cc-3cd52db9ac21",
   "metadata": {},
   "outputs": [
    {
     "data": {
      "text/html": [
       "<div>\n",
       "<style scoped>\n",
       "    .dataframe tbody tr th:only-of-type {\n",
       "        vertical-align: middle;\n",
       "    }\n",
       "\n",
       "    .dataframe tbody tr th {\n",
       "        vertical-align: top;\n",
       "    }\n",
       "\n",
       "    .dataframe thead th {\n",
       "        text-align: right;\n",
       "    }\n",
       "</style>\n",
       "<table border=\"1\" class=\"dataframe\">\n",
       "  <thead>\n",
       "    <tr style=\"text-align: right;\">\n",
       "      <th></th>\n",
       "      <th>week_number</th>\n",
       "      <th>year</th>\n",
       "    </tr>\n",
       "  </thead>\n",
       "  <tbody>\n",
       "    <tr>\n",
       "      <th>0</th>\n",
       "      <td>33</td>\n",
       "      <td>2021</td>\n",
       "    </tr>\n",
       "    <tr>\n",
       "      <th>1</th>\n",
       "      <td>34</td>\n",
       "      <td>2021</td>\n",
       "    </tr>\n",
       "    <tr>\n",
       "      <th>2</th>\n",
       "      <td>35</td>\n",
       "      <td>2021</td>\n",
       "    </tr>\n",
       "    <tr>\n",
       "      <th>3</th>\n",
       "      <td>36</td>\n",
       "      <td>2021</td>\n",
       "    </tr>\n",
       "    <tr>\n",
       "      <th>4</th>\n",
       "      <td>37</td>\n",
       "      <td>2021</td>\n",
       "    </tr>\n",
       "  </tbody>\n",
       "</table>\n",
       "</div>"
      ],
      "text/plain": [
       "   week_number  year\n",
       "0           33  2021\n",
       "1           34  2021\n",
       "2           35  2021\n",
       "3           36  2021\n",
       "4           37  2021"
      ]
     },
     "execution_count": 10,
     "metadata": {},
     "output_type": "execute_result"
    }
   ],
   "source": [
    "#print(y_2021)\n",
    "#print(years_s)\n",
    "#print(weeks_s)\n",
    "frame = { 'week_number': weeks_s, 'year': years_s }\n",
    "time_list = pd.DataFrame(frame)\n",
    "time_list.head()"
   ]
  },
  {
   "cell_type": "code",
   "execution_count": 11,
   "id": "5a40aa13-46f0-4390-8cb7-b45e8967372f",
   "metadata": {},
   "outputs": [],
   "source": [
    "time_list = time_list.reset_index()"
   ]
  },
  {
   "cell_type": "code",
   "execution_count": 47,
   "id": "92a7bd46-ffb4-4198-964d-fedb9f759367",
   "metadata": {},
   "outputs": [
    {
     "name": "stdout",
     "output_type": "stream",
     "text": [
      "\n",
      "Week 51 Qal or Yeild do not exist so it has been passed\n",
      "\n"
     ]
    }
   ],
   "source": [
    "import numpy as np\n",
    "\n",
    "ad_annotations = pd.DataFrame()\n",
    "\n",
    "for index, row in time_list.iterrows():\n",
    "    for rg in region_list:\n",
    "#        print(rg)\n",
    "#        print(row['week_number'], row['year'])\n",
    "        w_num = str(row['week_number'])\n",
    "#        print(w_num)\n",
    "        if row['week_number'] < 10: w_num = '0' + str(row['week_number'])\n",
    "        sample_url = str(row['year']) + '_' + w_num + '_' + rg + '__Sample.csv'\n",
    "        url_qal = str(row['year']) + '_' + w_num + '_' + rg + '_Qality_annotation_result.csv'\n",
    "#        print(url_qal)\n",
    "        \n",
    "        ###  dealing with the missing week for region JP ###\n",
    "        if (w_num == '51' and rg == 'JP'):             \n",
    "            print('\\nWeek 51 Qal or Yeild do not exist so it has been passed\\n')\n",
    "            continue\n",
    "        \n",
    "        url_yie = str(row['year']) + '_' + w_num + '_' + rg + '_Yield_annotation_result.csv'\n",
    "\n",
    "        #### First splitting to Qality and Yield\n",
    "        sample_df = pd.read_csv(sample_url, sep=',')\n",
    "#        len(sample_df)\n",
    "        qality_sample_df = sample_df[sample_df.recommendation_type == 'Qality']\n",
    "#        len(qality_sample_df)\n",
    "        yeild_sample_df = sample_df[sample_df.recommendation_type == 'Yield']\n",
    "#        len(yeild_sample_df)\n",
    "        qal_df = pd.read_csv(url_qal, sep=',')\n",
    "#        len(qal_df)\n",
    "        \n",
    "        #### next, Merging        \n",
    "        qal_ad_annotations_df = qality_sample_df.merge(qal_df, on='ad_id', how='left')\n",
    "#        len(qal_ad_annotations_df)\n",
    "        yei_df = pd.read_csv(url_yie, sep=',')\n",
    "#        len(yei_df)\n",
    "        yeild_ad_annotations_df = yeild_sample_df.merge(yei_df, on='ad_id', how='left')\n",
    "#        len(yeild_ad_annotations_df)\n",
    "\n",
    "        ### Adding it all together ###\n",
    "        ad_annotations = pd.concat([ad_annotations,qal_ad_annotations_df,yeild_ad_annotations_df])\n",
    "\n",
    "\n",
    "del ad_annotations['region_y']\n",
    "ad_annotations = ad_annotations[['week_id', 'ad_id', 'requester', 'region_x','is_success','is_sever', 'recommendation_type', 'rec_provider']]\n",
    "ad_annotations = ad_annotations.rename(columns={'region_x':'region'})\n",
    "ad_annotations.sort_values(['week_id','region','ad_id'])\n",
    "\n",
    "ad_annotations.to_csv('ad_annotations_assembeled.csv',index=False)\n",
    "#### and then merge all annotations yeild + qality into one file\n",
    "\n",
    "\n"
   ]
  },
  {
   "cell_type": "code",
   "execution_count": 49,
   "id": "962a00a4-8bb1-4d8e-be61-1881eaa19843",
   "metadata": {},
   "outputs": [
    {
     "data": {
      "text/html": [
       "<div>\n",
       "<style scoped>\n",
       "    .dataframe tbody tr th:only-of-type {\n",
       "        vertical-align: middle;\n",
       "    }\n",
       "\n",
       "    .dataframe tbody tr th {\n",
       "        vertical-align: top;\n",
       "    }\n",
       "\n",
       "    .dataframe thead th {\n",
       "        text-align: right;\n",
       "    }\n",
       "</style>\n",
       "<table border=\"1\" class=\"dataframe\">\n",
       "  <thead>\n",
       "    <tr style=\"text-align: right;\">\n",
       "      <th></th>\n",
       "      <th>week_id</th>\n",
       "      <th>ad_id</th>\n",
       "      <th>requester</th>\n",
       "      <th>region</th>\n",
       "      <th>is_success</th>\n",
       "      <th>is_sever</th>\n",
       "      <th>recommendation_type</th>\n",
       "      <th>rec_provider</th>\n",
       "    </tr>\n",
       "  </thead>\n",
       "  <tbody>\n",
       "    <tr>\n",
       "      <th>2711</th>\n",
       "      <td>2021-week_38</td>\n",
       "      <td>AD007XR868</td>\n",
       "      <td>Search Million Culture</td>\n",
       "      <td>GB</td>\n",
       "      <td>yes</td>\n",
       "      <td>NaN</td>\n",
       "      <td>Qality</td>\n",
       "      <td>DNNQ</td>\n",
       "    </tr>\n",
       "    <tr>\n",
       "      <th>1495</th>\n",
       "      <td>2021-week_46</td>\n",
       "      <td>AD0888TR8J</td>\n",
       "      <td>Puentes Company</td>\n",
       "      <td>IN</td>\n",
       "      <td>yes</td>\n",
       "      <td>NaN</td>\n",
       "      <td>Yield</td>\n",
       "      <td>UserPopY</td>\n",
       "    </tr>\n",
       "    <tr>\n",
       "      <th>987</th>\n",
       "      <td>2022-week_05</td>\n",
       "      <td>AD08AL8DJS</td>\n",
       "      <td>Search Million Culture</td>\n",
       "      <td>GB</td>\n",
       "      <td>yes</td>\n",
       "      <td>NaN</td>\n",
       "      <td>Qality</td>\n",
       "      <td>DNNQ</td>\n",
       "    </tr>\n",
       "    <tr>\n",
       "      <th>673</th>\n",
       "      <td>2021-week_35</td>\n",
       "      <td>AD08CK8QST</td>\n",
       "      <td>Search Million Culture</td>\n",
       "      <td>DE</td>\n",
       "      <td>yes</td>\n",
       "      <td>NaN</td>\n",
       "      <td>Qality</td>\n",
       "      <td>DNNQ</td>\n",
       "    </tr>\n",
       "    <tr>\n",
       "      <th>291</th>\n",
       "      <td>2021-week_42</td>\n",
       "      <td>AD008IR8RJ</td>\n",
       "      <td>Modanisa</td>\n",
       "      <td>IN</td>\n",
       "      <td>yes</td>\n",
       "      <td>NaN</td>\n",
       "      <td>Yield</td>\n",
       "      <td>RuleBasedY</td>\n",
       "    </tr>\n",
       "    <tr>\n",
       "      <th>430</th>\n",
       "      <td>2021-week_33</td>\n",
       "      <td>AD087Z9C8Q</td>\n",
       "      <td>RelayFoods</td>\n",
       "      <td>JP</td>\n",
       "      <td>yes</td>\n",
       "      <td>NaN</td>\n",
       "      <td>Qality</td>\n",
       "      <td>DNNQ</td>\n",
       "    </tr>\n",
       "    <tr>\n",
       "      <th>14</th>\n",
       "      <td>2021-week_43</td>\n",
       "      <td>AD07V6GHYS</td>\n",
       "      <td>Fancy</td>\n",
       "      <td>GB</td>\n",
       "      <td>yes</td>\n",
       "      <td>NaN</td>\n",
       "      <td>Qality</td>\n",
       "      <td>DNNQ</td>\n",
       "    </tr>\n",
       "    <tr>\n",
       "      <th>197</th>\n",
       "      <td>2022-week_04</td>\n",
       "      <td>AD07HM8KM8</td>\n",
       "      <td>Fancy</td>\n",
       "      <td>US</td>\n",
       "      <td>no</td>\n",
       "      <td>True</td>\n",
       "      <td>Qality</td>\n",
       "      <td>RNNQ</td>\n",
       "    </tr>\n",
       "    <tr>\n",
       "      <th>848</th>\n",
       "      <td>2021-week_49</td>\n",
       "      <td>AD008YFX8S</td>\n",
       "      <td>Search Million Culture</td>\n",
       "      <td>GB</td>\n",
       "      <td>yes</td>\n",
       "      <td>NaN</td>\n",
       "      <td>Qality</td>\n",
       "      <td>UserPopQ</td>\n",
       "    </tr>\n",
       "    <tr>\n",
       "      <th>1648</th>\n",
       "      <td>2021-week_38</td>\n",
       "      <td>AD00887KDF</td>\n",
       "      <td>SOLOMO365</td>\n",
       "      <td>DE</td>\n",
       "      <td>yes</td>\n",
       "      <td>NaN</td>\n",
       "      <td>Qality</td>\n",
       "      <td>UserPopQ</td>\n",
       "    </tr>\n",
       "    <tr>\n",
       "      <th>774</th>\n",
       "      <td>2021-week_33</td>\n",
       "      <td>AD08RSCPWZ</td>\n",
       "      <td>Search Million Culture</td>\n",
       "      <td>IN</td>\n",
       "      <td>no</td>\n",
       "      <td>True</td>\n",
       "      <td>Qality</td>\n",
       "      <td>UserPopQ</td>\n",
       "    </tr>\n",
       "    <tr>\n",
       "      <th>674</th>\n",
       "      <td>2022-week_04</td>\n",
       "      <td>AD088MAR88</td>\n",
       "      <td>RelayFoods</td>\n",
       "      <td>GB</td>\n",
       "      <td>yes</td>\n",
       "      <td>NaN</td>\n",
       "      <td>Qality</td>\n",
       "      <td>RNNQ</td>\n",
       "    </tr>\n",
       "    <tr>\n",
       "      <th>2310</th>\n",
       "      <td>2021-week_39</td>\n",
       "      <td>AD00ADX7ZH</td>\n",
       "      <td>Extreme DA</td>\n",
       "      <td>US</td>\n",
       "      <td>yes</td>\n",
       "      <td>NaN</td>\n",
       "      <td>Yield</td>\n",
       "      <td>DNNY</td>\n",
       "    </tr>\n",
       "    <tr>\n",
       "      <th>650</th>\n",
       "      <td>2022-week_02</td>\n",
       "      <td>AD08Y9X8YF</td>\n",
       "      <td>RelayFoods</td>\n",
       "      <td>JP</td>\n",
       "      <td>yes</td>\n",
       "      <td>NaN</td>\n",
       "      <td>Qality</td>\n",
       "      <td>UserPopQ</td>\n",
       "    </tr>\n",
       "    <tr>\n",
       "      <th>943</th>\n",
       "      <td>2021-week_42</td>\n",
       "      <td>AD0088Z8VU</td>\n",
       "      <td>Tab Solutions</td>\n",
       "      <td>US</td>\n",
       "      <td>yes</td>\n",
       "      <td>NaN</td>\n",
       "      <td>Qality</td>\n",
       "      <td>RNNQ</td>\n",
       "    </tr>\n",
       "    <tr>\n",
       "      <th>756</th>\n",
       "      <td>2021-week_38</td>\n",
       "      <td>AD07MKKKZK</td>\n",
       "      <td>Extreme DA</td>\n",
       "      <td>US</td>\n",
       "      <td>no</td>\n",
       "      <td>True</td>\n",
       "      <td>Yield</td>\n",
       "      <td>UserPopY</td>\n",
       "    </tr>\n",
       "    <tr>\n",
       "      <th>492</th>\n",
       "      <td>2021-week_43</td>\n",
       "      <td>AD07DGD8Z8</td>\n",
       "      <td>Search Million Culture</td>\n",
       "      <td>IN</td>\n",
       "      <td>yes</td>\n",
       "      <td>NaN</td>\n",
       "      <td>Qality</td>\n",
       "      <td>UserPopQ</td>\n",
       "    </tr>\n",
       "    <tr>\n",
       "      <th>791</th>\n",
       "      <td>2022-week_01</td>\n",
       "      <td>AD07W8KYF8</td>\n",
       "      <td>Puentes Company</td>\n",
       "      <td>IN</td>\n",
       "      <td>no</td>\n",
       "      <td>True</td>\n",
       "      <td>Yield</td>\n",
       "      <td>UserPopY</td>\n",
       "    </tr>\n",
       "    <tr>\n",
       "      <th>11</th>\n",
       "      <td>2022-week_01</td>\n",
       "      <td>AD00G887I8</td>\n",
       "      <td>MoJoe Brewing Company</td>\n",
       "      <td>GB</td>\n",
       "      <td>yes</td>\n",
       "      <td>NaN</td>\n",
       "      <td>Yield</td>\n",
       "      <td>DNNY</td>\n",
       "    </tr>\n",
       "    <tr>\n",
       "      <th>444</th>\n",
       "      <td>2021-week_50</td>\n",
       "      <td>AD0798CPF9</td>\n",
       "      <td>RelayFoods</td>\n",
       "      <td>JP</td>\n",
       "      <td>no</td>\n",
       "      <td>False</td>\n",
       "      <td>Qality</td>\n",
       "      <td>UserPopQ</td>\n",
       "    </tr>\n",
       "    <tr>\n",
       "      <th>209</th>\n",
       "      <td>2021-week_51</td>\n",
       "      <td>AD09CD8FYQ</td>\n",
       "      <td>Extreme DA</td>\n",
       "      <td>US</td>\n",
       "      <td>no</td>\n",
       "      <td>True</td>\n",
       "      <td>Yield</td>\n",
       "      <td>UserPopY</td>\n",
       "    </tr>\n",
       "    <tr>\n",
       "      <th>1060</th>\n",
       "      <td>2021-week_38</td>\n",
       "      <td>AD08N88V0N</td>\n",
       "      <td>Search Million Culture</td>\n",
       "      <td>GB</td>\n",
       "      <td>yes</td>\n",
       "      <td>NaN</td>\n",
       "      <td>Qality</td>\n",
       "      <td>DNNQ</td>\n",
       "    </tr>\n",
       "    <tr>\n",
       "      <th>1097</th>\n",
       "      <td>2021-week_46</td>\n",
       "      <td>AD08ZHGL66</td>\n",
       "      <td>RelayFoods</td>\n",
       "      <td>JP</td>\n",
       "      <td>yes</td>\n",
       "      <td>NaN</td>\n",
       "      <td>Qality</td>\n",
       "      <td>DNNQ</td>\n",
       "    </tr>\n",
       "    <tr>\n",
       "      <th>2483</th>\n",
       "      <td>2022-week_52</td>\n",
       "      <td>AD08L8W8KX</td>\n",
       "      <td>Extreme DA</td>\n",
       "      <td>US</td>\n",
       "      <td>yes</td>\n",
       "      <td>NaN</td>\n",
       "      <td>Yield</td>\n",
       "      <td>DNNY</td>\n",
       "    </tr>\n",
       "    <tr>\n",
       "      <th>342</th>\n",
       "      <td>2021-week_44</td>\n",
       "      <td>AD000AQ08X</td>\n",
       "      <td>Modanisa</td>\n",
       "      <td>GB</td>\n",
       "      <td>no</td>\n",
       "      <td>True</td>\n",
       "      <td>Yield</td>\n",
       "      <td>RuleBasedY</td>\n",
       "    </tr>\n",
       "    <tr>\n",
       "      <th>83</th>\n",
       "      <td>2021-week_42</td>\n",
       "      <td>AD08JQK8JZ</td>\n",
       "      <td>MoJoe Brewing Company</td>\n",
       "      <td>DE</td>\n",
       "      <td>yes</td>\n",
       "      <td>NaN</td>\n",
       "      <td>Yield</td>\n",
       "      <td>DNNY</td>\n",
       "    </tr>\n",
       "    <tr>\n",
       "      <th>735</th>\n",
       "      <td>2021-week_43</td>\n",
       "      <td>AD098TPH78</td>\n",
       "      <td>Search Million Culture</td>\n",
       "      <td>DE</td>\n",
       "      <td>no</td>\n",
       "      <td>True</td>\n",
       "      <td>Qality</td>\n",
       "      <td>UserPopQ</td>\n",
       "    </tr>\n",
       "    <tr>\n",
       "      <th>406</th>\n",
       "      <td>2022-week_03</td>\n",
       "      <td>AD09JMZSH8</td>\n",
       "      <td>MoJoe Brewing Company</td>\n",
       "      <td>IN</td>\n",
       "      <td>yes</td>\n",
       "      <td>NaN</td>\n",
       "      <td>Yield</td>\n",
       "      <td>RuleBasedY</td>\n",
       "    </tr>\n",
       "    <tr>\n",
       "      <th>1248</th>\n",
       "      <td>2021-week_37</td>\n",
       "      <td>AD08GM88NL</td>\n",
       "      <td>Extreme DA</td>\n",
       "      <td>US</td>\n",
       "      <td>yes</td>\n",
       "      <td>NaN</td>\n",
       "      <td>Yield</td>\n",
       "      <td>DNNY</td>\n",
       "    </tr>\n",
       "    <tr>\n",
       "      <th>341</th>\n",
       "      <td>2022-week_04</td>\n",
       "      <td>AD008QFI99</td>\n",
       "      <td>Bizanga</td>\n",
       "      <td>GB</td>\n",
       "      <td>yes</td>\n",
       "      <td>NaN</td>\n",
       "      <td>Yield</td>\n",
       "      <td>DNNY</td>\n",
       "    </tr>\n",
       "  </tbody>\n",
       "</table>\n",
       "</div>"
      ],
      "text/plain": [
       "           week_id       ad_id               requester region is_success  \\\n",
       "2711  2021-week_38  AD007XR868  Search Million Culture     GB        yes   \n",
       "1495  2021-week_46  AD0888TR8J         Puentes Company     IN        yes   \n",
       "987   2022-week_05  AD08AL8DJS  Search Million Culture     GB        yes   \n",
       "673   2021-week_35  AD08CK8QST  Search Million Culture     DE        yes   \n",
       "291   2021-week_42  AD008IR8RJ                Modanisa     IN        yes   \n",
       "430   2021-week_33  AD087Z9C8Q              RelayFoods     JP        yes   \n",
       "14    2021-week_43  AD07V6GHYS                   Fancy     GB        yes   \n",
       "197   2022-week_04  AD07HM8KM8                   Fancy     US         no   \n",
       "848   2021-week_49  AD008YFX8S  Search Million Culture     GB        yes   \n",
       "1648  2021-week_38  AD00887KDF               SOLOMO365     DE        yes   \n",
       "774   2021-week_33  AD08RSCPWZ  Search Million Culture     IN         no   \n",
       "674   2022-week_04  AD088MAR88              RelayFoods     GB        yes   \n",
       "2310  2021-week_39  AD00ADX7ZH              Extreme DA     US        yes   \n",
       "650   2022-week_02  AD08Y9X8YF              RelayFoods     JP        yes   \n",
       "943   2021-week_42  AD0088Z8VU           Tab Solutions     US        yes   \n",
       "756   2021-week_38  AD07MKKKZK              Extreme DA     US         no   \n",
       "492   2021-week_43  AD07DGD8Z8  Search Million Culture     IN        yes   \n",
       "791   2022-week_01  AD07W8KYF8         Puentes Company     IN         no   \n",
       "11    2022-week_01  AD00G887I8   MoJoe Brewing Company     GB        yes   \n",
       "444   2021-week_50  AD0798CPF9              RelayFoods     JP         no   \n",
       "209   2021-week_51  AD09CD8FYQ              Extreme DA     US         no   \n",
       "1060  2021-week_38  AD08N88V0N  Search Million Culture     GB        yes   \n",
       "1097  2021-week_46  AD08ZHGL66              RelayFoods     JP        yes   \n",
       "2483  2022-week_52  AD08L8W8KX              Extreme DA     US        yes   \n",
       "342   2021-week_44  AD000AQ08X                Modanisa     GB         no   \n",
       "83    2021-week_42  AD08JQK8JZ   MoJoe Brewing Company     DE        yes   \n",
       "735   2021-week_43  AD098TPH78  Search Million Culture     DE         no   \n",
       "406   2022-week_03  AD09JMZSH8   MoJoe Brewing Company     IN        yes   \n",
       "1248  2021-week_37  AD08GM88NL              Extreme DA     US        yes   \n",
       "341   2022-week_04  AD008QFI99                 Bizanga     GB        yes   \n",
       "\n",
       "     is_sever recommendation_type rec_provider  \n",
       "2711      NaN              Qality         DNNQ  \n",
       "1495      NaN               Yield     UserPopY  \n",
       "987       NaN              Qality         DNNQ  \n",
       "673       NaN              Qality         DNNQ  \n",
       "291       NaN               Yield   RuleBasedY  \n",
       "430       NaN              Qality         DNNQ  \n",
       "14        NaN              Qality         DNNQ  \n",
       "197      True              Qality         RNNQ  \n",
       "848       NaN              Qality     UserPopQ  \n",
       "1648      NaN              Qality     UserPopQ  \n",
       "774      True              Qality     UserPopQ  \n",
       "674       NaN              Qality         RNNQ  \n",
       "2310      NaN               Yield         DNNY  \n",
       "650       NaN              Qality     UserPopQ  \n",
       "943       NaN              Qality         RNNQ  \n",
       "756      True               Yield     UserPopY  \n",
       "492       NaN              Qality     UserPopQ  \n",
       "791      True               Yield     UserPopY  \n",
       "11        NaN               Yield         DNNY  \n",
       "444     False              Qality     UserPopQ  \n",
       "209      True               Yield     UserPopY  \n",
       "1060      NaN              Qality         DNNQ  \n",
       "1097      NaN              Qality         DNNQ  \n",
       "2483      NaN               Yield         DNNY  \n",
       "342      True               Yield   RuleBasedY  \n",
       "83        NaN               Yield         DNNY  \n",
       "735      True              Qality     UserPopQ  \n",
       "406       NaN               Yield   RuleBasedY  \n",
       "1248      NaN               Yield         DNNY  \n",
       "341       NaN               Yield         DNNY  "
      ]
     },
     "execution_count": 49,
     "metadata": {},
     "output_type": "execute_result"
    }
   ],
   "source": [
    "ad_annotations.sample(30)"
   ]
  },
  {
   "cell_type": "code",
   "execution_count": 50,
   "id": "515aa2ca-bdc3-4a35-ab25-f5ce6d123e2d",
   "metadata": {},
   "outputs": [
    {
     "data": {
      "text/plain": [
       "373788"
      ]
     },
     "execution_count": 50,
     "metadata": {},
     "output_type": "execute_result"
    }
   ],
   "source": [
    "len(ad_annotations)"
   ]
  },
  {
   "cell_type": "markdown",
   "id": "2405d189-8570-4c86-aa35-320a173779a1",
   "metadata": {},
   "source": [
    "### Visualizations"
   ]
  },
  {
   "cell_type": "markdown",
   "id": "8323da48-3adf-4a9b-b692-7dc528990d5c",
   "metadata": {},
   "source": [
    "Produce the following success rate graph per region:"
   ]
  },
  {
   "cell_type": "code",
   "execution_count": 96,
   "id": "42143ac6-1cee-42f8-9eeb-fe7d04683434",
   "metadata": {},
   "outputs": [
    {
     "data": {
      "application/vnd.plotly.v1+json": {
       "config": {
        "plotlyServerURL": "https://plot.ly"
       },
       "data": [
        {
         "error_y": {
          "array": [
           0.015841741621591608,
           0.01620214133972794,
           0.015814452025429384,
           0.016145568698129116,
           0.015802442584340257,
           0.015825607925248994,
           0.015061892331367835,
           0.0160341253686106,
           0.01555439002263373,
           0.01595113950476852,
           0.016805771202111207,
           0.017227572153532284,
           0.015736208288505252,
           0.015679366056619636,
           0.015286521429184956,
           0.015241020400256865,
           0.015220579606453408,
           0.01505302634999722,
           0.015813279692510337,
           0.01533148596761587,
           0.014638324950638286,
           0.01501922906209145,
           0.01427749197808858,
           0.014498196879692341,
           0.01478049052356122,
           0.015652663592974052
          ]
         },
         "hovertemplate": "region=DE<br>week_id=%{x}<br>Success_rate=%{y}<extra></extra>",
         "legendgroup": "DE",
         "line": {
          "color": "#1F77B4",
          "dash": "solid"
         },
         "mode": "lines",
         "name": "DE",
         "orientation": "v",
         "showlegend": true,
         "type": "scatter",
         "visible": true,
         "x": [
          "2021-week_33",
          "2021-week_34",
          "2021-week_35",
          "2021-week_36",
          "2021-week_37",
          "2021-week_38",
          "2021-week_39",
          "2021-week_40",
          "2021-week_41",
          "2021-week_42",
          "2021-week_43",
          "2021-week_44",
          "2021-week_45",
          "2021-week_46",
          "2021-week_47",
          "2021-week_48",
          "2021-week_49",
          "2021-week_50",
          "2021-week_51",
          "2022-week_01",
          "2022-week_02",
          "2022-week_03",
          "2022-week_04",
          "2022-week_05",
          "2022-week_06",
          "2022-week_52"
         ],
         "xaxis": "x",
         "y": [
          0.8058455114822547,
          0.7978813559322034,
          0.8069368992895947,
          0.795085381091212,
          0.8061564059900166,
          0.8058333333333333,
          0.8284171167428334,
          0.799082951229679,
          0.8145060441850771,
          0.8021702838063439,
          0.7714762301918265,
          0.7647058823529411,
          0.8084929225645295,
          0.8152081563296517,
          0.822037422037422,
          0.8221670802315963,
          0.8263976460697772,
          0.828761429758936,
          0.8050601410203235,
          0.8209825145711906,
          0.8412698412698413,
          0.8322119428090833,
          0.8528541226215645,
          0.8459277917716205,
          0.8354011579818031,
          0.8131821998320738
         ],
         "yaxis": "y"
        },
        {
         "error_y": {
          "array": [
           0.01242144189123231,
           0.012688393581111483,
           0.012179235430522127,
           0.012749658978748957,
           0.0123317370436007,
           0.012795604789887916,
           0.013795857356650693,
           0.013559944295216992,
           0.012979117072354458,
           0.013092245021972182,
           0.013247918909018198,
           0.012948213869355511,
           0.012223261768773653,
           0.01172523089593593,
           0.011228133004979626,
           0.01250638771630859,
           0.012723836238285208,
           0.012722301032230276,
           0.013050111873481996,
           0.012844275791000531,
           0.013031084029980173,
           0.013322502177332624,
           0.013159417708097034,
           0.01334460381812566,
           0.01233568682610417,
           0.013022105780641668
          ]
         },
         "hovertemplate": "region=GB<br>week_id=%{x}<br>Success_rate=%{y}<extra></extra>",
         "legendgroup": "GB",
         "line": {
          "color": "#FF7F0E",
          "dash": "solid"
         },
         "mode": "lines",
         "name": "GB",
         "orientation": "v",
         "showlegend": true,
         "type": "scatter",
         "visible": true,
         "x": [
          "2021-week_33",
          "2021-week_34",
          "2021-week_35",
          "2021-week_36",
          "2021-week_37",
          "2021-week_38",
          "2021-week_39",
          "2021-week_40",
          "2021-week_41",
          "2021-week_42",
          "2021-week_43",
          "2021-week_44",
          "2021-week_45",
          "2021-week_46",
          "2021-week_47",
          "2021-week_48",
          "2021-week_49",
          "2021-week_50",
          "2021-week_51",
          "2022-week_01",
          "2022-week_02",
          "2022-week_03",
          "2022-week_04",
          "2022-week_05",
          "2022-week_06",
          "2022-week_52"
         ],
         "xaxis": "x",
         "y": [
          0.849685534591195,
          0.8412299968622529,
          0.855095045185416,
          0.8379557494546588,
          0.8522477208425023,
          0.8378293601003765,
          0.8019338739862757,
          0.8103394581127374,
          0.8310430980637101,
          0.8297536323436513,
          0.8221875,
          0.8327067669172933,
          0.8534992223950233,
          0.8689503456945318,
          0.8810269254852849,
          0.8449347420758235,
          0.8396994364433312,
          0.839375,
          0.8301886792452831,
          0.8361015355687872,
          0.829940494832446,
          0.8214173228346456,
          0.8275426405559065,
          0.8207309388783869,
          0.8518518518518519,
          0.8307692307692308
         ],
         "yaxis": "y"
        },
        {
         "error_y": {
          "array": [
           0.015347218618285904,
           0.014897880227176688,
           0.014860306773267502,
           0.014660689575409037,
           0.014709438690326034,
           0.014601333562365404,
           0.014671274587798391,
           0.014636873424272754,
           0.014676957841904701,
           0.01476153813126855,
           0.015128610715464355,
           0.014519907636613526,
           0.014120255756661985,
           0.014388819222128972,
           0.01439742111856086,
           0.014597814772436908,
           0.01457338392852597,
           0.014683093394967333,
           0.015080046843528481,
           0.015097034376713019,
           0.01499219457845864,
           0.01469733568108528,
           0.014698874294937854,
           0.014938635370407039,
           0.015048540439883512,
           0.014777430668554704
          ]
         },
         "hovertemplate": "region=IN<br>week_id=%{x}<br>Success_rate=%{y}<extra></extra>",
         "legendgroup": "IN",
         "line": {
          "color": "#2CA02C",
          "dash": "solid"
         },
         "mode": "lines",
         "name": "IN",
         "orientation": "v",
         "showlegend": true,
         "type": "scatter",
         "visible": true,
         "x": [
          "2021-week_33",
          "2021-week_34",
          "2021-week_35",
          "2021-week_36",
          "2021-week_37",
          "2021-week_38",
          "2021-week_39",
          "2021-week_40",
          "2021-week_41",
          "2021-week_42",
          "2021-week_43",
          "2021-week_44",
          "2021-week_45",
          "2021-week_46",
          "2021-week_47",
          "2021-week_48",
          "2021-week_49",
          "2021-week_50",
          "2021-week_51",
          "2022-week_01",
          "2022-week_02",
          "2022-week_03",
          "2022-week_04",
          "2022-week_05",
          "2022-week_06",
          "2022-week_52"
         ],
         "xaxis": "x",
         "y": [
          0.7324780976220275,
          0.7530288909599254,
          0.7559987535057651,
          0.7650171179582944,
          0.7659440779139177,
          0.7716535433070866,
          0.7646326276463262,
          0.7684111563773112,
          0.7641568139390168,
          0.7605107443164123,
          0.746536523929471,
          0.7755359394703657,
          0.7895065584009994,
          0.7755417956656346,
          0.780119534444794,
          0.7750556792873051,
          0.7710616974632007,
          0.7658841940532082,
          0.7439403356121814,
          0.7471733668341709,
          0.7498440424204617,
          0.7639538509510446,
          0.7591510304521686,
          0.7529668956901936,
          0.7489028213166145,
          0.7628023876845743
         ],
         "yaxis": "y"
        },
        {
         "error_y": {
          "array": [
           0.022567061594892267,
           0.022492280006980565,
           0.02229880039235783,
           0.02239881765693253,
           0.02211079183999325,
           0.022753255531973833,
           0.022254932348179785,
           0.022036884230609056,
           0.021095958009834617,
           0.02041165793670121,
           0.020130744269165966,
           0.020300209168818098,
           0.020029105629969075,
           0.02070255736749451,
           0.0201784859515891,
           0.02080016955288089,
           0.020099328552167072,
           0.019449261659700134,
           0.019160373459579678,
           0.019405142510941303,
           0.019311174573904865,
           0.019658333506847977,
           0.018711462868199576,
           0.01961364401032071,
           0.013779104169256108
          ]
         },
         "hovertemplate": "region=JP<br>week_id=%{x}<br>Success_rate=%{y}<extra></extra>",
         "legendgroup": "JP",
         "line": {
          "color": "#D62728",
          "dash": "solid"
         },
         "mode": "lines",
         "name": "JP",
         "orientation": "v",
         "showlegend": true,
         "type": "scatter",
         "visible": true,
         "x": [
          "2021-week_33",
          "2021-week_34",
          "2021-week_35",
          "2021-week_36",
          "2021-week_37",
          "2021-week_38",
          "2021-week_39",
          "2021-week_40",
          "2021-week_41",
          "2021-week_42",
          "2021-week_43",
          "2021-week_44",
          "2021-week_45",
          "2021-week_46",
          "2021-week_47",
          "2021-week_48",
          "2021-week_49",
          "2021-week_50",
          "2022-week_01",
          "2022-week_02",
          "2022-week_03",
          "2022-week_04",
          "2022-week_05",
          "2022-week_06",
          "2022-week_52"
         ],
         "xaxis": "x",
         "y": [
          0.6908752327746741,
          0.6985616010006254,
          0.7132911392405064,
          0.7061044682190056,
          0.7019464720194647,
          0.6875784190715182,
          0.7112366603892027,
          0.7132262051915945,
          0.7603305785123967,
          0.776735459662289,
          0.7853566958698373,
          0.7774333539987601,
          0.7833846153846153,
          0.7696664568911264,
          0.7779141104294478,
          0.7609907120743034,
          0.7901077996195307,
          0.8021091811414393,
          0.8117573483427142,
          0.8029739776951673,
          0.8111533586818758,
          0.8007566204287516,
          0.821917808219178,
          0.7991266375545851,
          0.8045254556882464
         ],
         "yaxis": "y"
        },
        {
         "error_y": {
          "array": [
           0.00981399866983586,
           0.010190785679489786,
           0.010122150292841805,
           0.00975653771750121,
           0.010444868594931845,
           0.01099898337228462,
           0.010384180737036546,
           0.010235909438609515,
           0.010450003620656931,
           0.010727282163406423,
           0.010676396756148438,
           0.011203739243283,
           0.010089114594750538,
           0.010118566527706435,
           0.011148898544602024,
           0.011123352488979239,
           0.010903209992149013,
           0.011149009055661477,
           0.011832036362231785,
           0.011610715695170786,
           0.011433707387973224,
           0.01159959951566055,
           0.011629960773033693,
           0.011480135898660416,
           0.011367426136776687,
           0.011480135898660416
          ]
         },
         "hovertemplate": "region=US<br>week_id=%{x}<br>Success_rate=%{y}<extra></extra>",
         "legendgroup": "US",
         "line": {
          "color": "#9467BD",
          "dash": "solid"
         },
         "mode": "lines",
         "name": "US",
         "orientation": "v",
         "showlegend": true,
         "type": "scatter",
         "visible": true,
         "x": [
          "2021-week_33",
          "2021-week_34",
          "2021-week_35",
          "2021-week_36",
          "2021-week_37",
          "2021-week_38",
          "2021-week_39",
          "2021-week_40",
          "2021-week_41",
          "2021-week_42",
          "2021-week_43",
          "2021-week_44",
          "2021-week_45",
          "2021-week_46",
          "2021-week_47",
          "2021-week_48",
          "2021-week_49",
          "2021-week_50",
          "2021-week_51",
          "2022-week_01",
          "2022-week_02",
          "2022-week_03",
          "2022-week_04",
          "2022-week_05",
          "2022-week_06",
          "2022-week_52"
         ],
         "xaxis": "x",
         "y": [
          0.8877705083039759,
          0.8764353469795307,
          0.8792064289301859,
          0.8891402714932126,
          0.8701005025125628,
          0.8526315789473684,
          0.8711855927963982,
          0.8758465011286681,
          0.8694889779559118,
          0.8606393606393606,
          0.8625782227784731,
          0.8457300275482094,
          0.8796296296296297,
          0.8788485607008761,
          0.8475212819228843,
          0.8476309226932668,
          0.8555332999499249,
          0.8476572287647206,
          0.8230730730730731,
          0.8306310800698429,
          0.8366533864541833,
          0.8326212616235235,
          0.8304576144036009,
          0.8359179589794897,
          0.8401803607214429,
          0.8359179589794897
         ],
         "yaxis": "y"
        }
       ],
       "layout": {
        "autosize": true,
        "legend": {
         "title": {
          "text": "region"
         },
         "tracegroupgap": 0
        },
        "template": {
         "data": {
          "pie": [
           {
            "automargin": true,
            "type": "pie"
           }
          ]
         },
         "layout": {
          "xaxis": {
           "showgrid": true,
           "title": {
            "standoff": 15
           }
          },
          "yaxis": {
           "showgrid": true,
           "title": {
            "standoff": 15
           }
          }
         }
        },
        "title": {
         "text": "Success rate per region",
         "x": 0.5
        },
        "xaxis": {
         "anchor": "y",
         "autorange": true,
         "domain": [
          0,
          1
         ],
         "range": [
          -1.3888888888888888,
          26.38888888888889
         ],
         "title": {
          "text": "week_id"
         },
         "type": "category"
        },
        "yaxis": {
         "anchor": "x",
         "autorange": true,
         "domain": [
          0,
          1
         ],
         "range": [
          0.6518211832244794,
          0.9119007895257788
         ],
         "title": {
          "text": "Success_rate"
         },
         "type": "linear"
        }
       }
      },
      "image/png": "[encoded data removed]",
      "text/html": [
       "<div>                            <div id=\"32261b76-eb75-499b-99b1-d1e45facf405\" class=\"plotly-graph-div\" style=\"height:500px; width:100%;\"></div>            <script type=\"text/javascript\">                require([\"plotly\"], function(Plotly) {                    window.PLOTLYENV=window.PLOTLYENV || {};                                    if (document.getElementById(\"32261b76-eb75-499b-99b1-d1e45facf405\")) {                    Plotly.newPlot(                        \"32261b76-eb75-499b-99b1-d1e45facf405\",                        [{\"error_y\": {\"array\": [0.015841741621591608, 0.01620214133972794, 0.015814452025429384, 0.016145568698129116, 0.015802442584340257, 0.015825607925248994, 0.015061892331367835, 0.0160341253686106, 0.01555439002263373, 0.01595113950476852, 0.016805771202111207, 0.017227572153532284, 0.015736208288505252, 0.015679366056619636, 0.015286521429184956, 0.015241020400256865, 0.015220579606453408, 0.01505302634999722, 0.015813279692510337, 0.01533148596761587, 0.014638324950638286, 0.01501922906209145, 0.01427749197808858, 0.014498196879692341, 0.01478049052356122, 0.015652663592974052]}, \"hovertemplate\": \"region=DE<br>week_id=%{x}<br>Success_rate=%{y}<extra></extra>\", \"legendgroup\": \"DE\", \"line\": {\"color\": \"#1F77B4\", \"dash\": \"solid\"}, \"mode\": \"lines\", \"name\": \"DE\", \"orientation\": \"v\", \"showlegend\": true, \"type\": \"scatter\", \"x\": [\"2021-week_33\", \"2021-week_34\", \"2021-week_35\", \"2021-week_36\", \"2021-week_37\", \"2021-week_38\", \"2021-week_39\", \"2021-week_40\", \"2021-week_41\", \"2021-week_42\", \"2021-week_43\", \"2021-week_44\", \"2021-week_45\", \"2021-week_46\", \"2021-week_47\", \"2021-week_48\", \"2021-week_49\", \"2021-week_50\", \"2021-week_51\", \"2022-week_01\", \"2022-week_02\", \"2022-week_03\", \"2022-week_04\", \"2022-week_05\", \"2022-week_06\", \"2022-week_52\"], \"xaxis\": \"x\", \"y\": [0.8058455114822547, 0.7978813559322034, 0.8069368992895947, 0.795085381091212, 0.8061564059900166, 0.8058333333333333, 0.8284171167428334, 0.799082951229679, 0.8145060441850771, 0.8021702838063439, 0.7714762301918265, 0.7647058823529411, 0.8084929225645295, 0.8152081563296517, 0.822037422037422, 0.8221670802315963, 0.8263976460697772, 0.828761429758936, 0.8050601410203235, 0.8209825145711906, 0.8412698412698413, 0.8322119428090833, 0.8528541226215645, 0.8459277917716205, 0.8354011579818031, 0.8131821998320738], \"yaxis\": \"y\"}, {\"error_y\": {\"array\": [0.01242144189123231, 0.012688393581111483, 0.012179235430522127, 0.012749658978748957, 0.0123317370436007, 0.012795604789887916, 0.013795857356650693, 0.013559944295216992, 0.012979117072354458, 0.013092245021972182, 0.013247918909018198, 0.012948213869355511, 0.012223261768773653, 0.01172523089593593, 0.011228133004979626, 0.01250638771630859, 0.012723836238285208, 0.012722301032230276, 0.013050111873481996, 0.012844275791000531, 0.013031084029980173, 0.013322502177332624, 0.013159417708097034, 0.01334460381812566, 0.01233568682610417, 0.013022105780641668]}, \"hovertemplate\": \"region=GB<br>week_id=%{x}<br>Success_rate=%{y}<extra></extra>\", \"legendgroup\": \"GB\", \"line\": {\"color\": \"#FF7F0E\", \"dash\": \"solid\"}, \"mode\": \"lines\", \"name\": \"GB\", \"orientation\": \"v\", \"showlegend\": true, \"type\": \"scatter\", \"x\": [\"2021-week_33\", \"2021-week_34\", \"2021-week_35\", \"2021-week_36\", \"2021-week_37\", \"2021-week_38\", \"2021-week_39\", \"2021-week_40\", \"2021-week_41\", \"2021-week_42\", \"2021-week_43\", \"2021-week_44\", \"2021-week_45\", \"2021-week_46\", \"2021-week_47\", \"2021-week_48\", \"2021-week_49\", \"2021-week_50\", \"2021-week_51\", \"2022-week_01\", \"2022-week_02\", \"2022-week_03\", \"2022-week_04\", \"2022-week_05\", \"2022-week_06\", \"2022-week_52\"], \"xaxis\": \"x\", \"y\": [0.849685534591195, 0.8412299968622529, 0.855095045185416, 0.8379557494546588, 0.8522477208425023, 0.8378293601003765, 0.8019338739862757, 0.8103394581127374, 0.8310430980637101, 0.8297536323436513, 0.8221875, 0.8327067669172933, 0.8534992223950233, 0.8689503456945318, 0.8810269254852849, 0.8449347420758235, 0.8396994364433312, 0.839375, 0.8301886792452831, 0.8361015355687872, 0.829940494832446, 0.8214173228346456, 0.8275426405559065, 0.8207309388783869, 0.8518518518518519, 0.8307692307692308], \"yaxis\": \"y\"}, {\"error_y\": {\"array\": [0.015347218618285904, 0.014897880227176688, 0.014860306773267502, 0.014660689575409037, 0.014709438690326034, 0.014601333562365404, 0.014671274587798391, 0.014636873424272754, 0.014676957841904701, 0.01476153813126855, 0.015128610715464355, 0.014519907636613526, 0.014120255756661985, 0.014388819222128972, 0.01439742111856086, 0.014597814772436908, 0.01457338392852597, 0.014683093394967333, 0.015080046843528481, 0.015097034376713019, 0.01499219457845864, 0.01469733568108528, 0.014698874294937854, 0.014938635370407039, 0.015048540439883512, 0.014777430668554704]}, \"hovertemplate\": \"region=IN<br>week_id=%{x}<br>Success_rate=%{y}<extra></extra>\", \"legendgroup\": \"IN\", \"line\": {\"color\": \"#2CA02C\", \"dash\": \"solid\"}, \"mode\": \"lines\", \"name\": \"IN\", \"orientation\": \"v\", \"showlegend\": true, \"type\": \"scatter\", \"x\": [\"2021-week_33\", \"2021-week_34\", \"2021-week_35\", \"2021-week_36\", \"2021-week_37\", \"2021-week_38\", \"2021-week_39\", \"2021-week_40\", \"2021-week_41\", \"2021-week_42\", \"2021-week_43\", \"2021-week_44\", \"2021-week_45\", \"2021-week_46\", \"2021-week_47\", \"2021-week_48\", \"2021-week_49\", \"2021-week_50\", \"2021-week_51\", \"2022-week_01\", \"2022-week_02\", \"2022-week_03\", \"2022-week_04\", \"2022-week_05\", \"2022-week_06\", \"2022-week_52\"], \"xaxis\": \"x\", \"y\": [0.7324780976220275, 0.7530288909599254, 0.7559987535057651, 0.7650171179582944, 0.7659440779139177, 0.7716535433070866, 0.7646326276463262, 0.7684111563773112, 0.7641568139390168, 0.7605107443164123, 0.746536523929471, 0.7755359394703657, 0.7895065584009994, 0.7755417956656346, 0.780119534444794, 0.7750556792873051, 0.7710616974632007, 0.7658841940532082, 0.7439403356121814, 0.7471733668341709, 0.7498440424204617, 0.7639538509510446, 0.7591510304521686, 0.7529668956901936, 0.7489028213166145, 0.7628023876845743], \"yaxis\": \"y\"}, {\"error_y\": {\"array\": [0.022567061594892267, 0.022492280006980565, 0.02229880039235783, 0.02239881765693253, 0.02211079183999325, 0.022753255531973833, 0.022254932348179785, 0.022036884230609056, 0.021095958009834617, 0.02041165793670121, 0.020130744269165966, 0.020300209168818098, 0.020029105629969075, 0.02070255736749451, 0.0201784859515891, 0.02080016955288089, 0.020099328552167072, 0.019449261659700134, 0.019160373459579678, 0.019405142510941303, 0.019311174573904865, 0.019658333506847977, 0.018711462868199576, 0.01961364401032071, 0.013779104169256108]}, \"hovertemplate\": \"region=JP<br>week_id=%{x}<br>Success_rate=%{y}<extra></extra>\", \"legendgroup\": \"JP\", \"line\": {\"color\": \"#D62728\", \"dash\": \"solid\"}, \"mode\": \"lines\", \"name\": \"JP\", \"orientation\": \"v\", \"showlegend\": true, \"type\": \"scatter\", \"x\": [\"2021-week_33\", \"2021-week_34\", \"2021-week_35\", \"2021-week_36\", \"2021-week_37\", \"2021-week_38\", \"2021-week_39\", \"2021-week_40\", \"2021-week_41\", \"2021-week_42\", \"2021-week_43\", \"2021-week_44\", \"2021-week_45\", \"2021-week_46\", \"2021-week_47\", \"2021-week_48\", \"2021-week_49\", \"2021-week_50\", \"2022-week_01\", \"2022-week_02\", \"2022-week_03\", \"2022-week_04\", \"2022-week_05\", \"2022-week_06\", \"2022-week_52\"], \"xaxis\": \"x\", \"y\": [0.6908752327746741, 0.6985616010006254, 0.7132911392405064, 0.7061044682190056, 0.7019464720194647, 0.6875784190715182, 0.7112366603892027, 0.7132262051915945, 0.7603305785123967, 0.776735459662289, 0.7853566958698373, 0.7774333539987601, 0.7833846153846153, 0.7696664568911264, 0.7779141104294478, 0.7609907120743034, 0.7901077996195307, 0.8021091811414393, 0.8117573483427142, 0.8029739776951673, 0.8111533586818758, 0.8007566204287516, 0.821917808219178, 0.7991266375545851, 0.8045254556882464], \"yaxis\": \"y\"}, {\"error_y\": {\"array\": [0.00981399866983586, 0.010190785679489786, 0.010122150292841805, 0.00975653771750121, 0.010444868594931845, 0.01099898337228462, 0.010384180737036546, 0.010235909438609515, 0.010450003620656931, 0.010727282163406423, 0.010676396756148438, 0.011203739243283, 0.010089114594750538, 0.010118566527706435, 0.011148898544602024, 0.011123352488979239, 0.010903209992149013, 0.011149009055661477, 0.011832036362231785, 0.011610715695170786, 0.011433707387973224, 0.01159959951566055, 0.011629960773033693, 0.011480135898660416, 0.011367426136776687, 0.011480135898660416]}, \"hovertemplate\": \"region=US<br>week_id=%{x}<br>Success_rate=%{y}<extra></extra>\", \"legendgroup\": \"US\", \"line\": {\"color\": \"#9467BD\", \"dash\": \"solid\"}, \"mode\": \"lines\", \"name\": \"US\", \"orientation\": \"v\", \"showlegend\": true, \"type\": \"scatter\", \"x\": [\"2021-week_33\", \"2021-week_34\", \"2021-week_35\", \"2021-week_36\", \"2021-week_37\", \"2021-week_38\", \"2021-week_39\", \"2021-week_40\", \"2021-week_41\", \"2021-week_42\", \"2021-week_43\", \"2021-week_44\", \"2021-week_45\", \"2021-week_46\", \"2021-week_47\", \"2021-week_48\", \"2021-week_49\", \"2021-week_50\", \"2021-week_51\", \"2022-week_01\", \"2022-week_02\", \"2022-week_03\", \"2022-week_04\", \"2022-week_05\", \"2022-week_06\", \"2022-week_52\"], \"xaxis\": \"x\", \"y\": [0.8877705083039759, 0.8764353469795307, 0.8792064289301859, 0.8891402714932126, 0.8701005025125628, 0.8526315789473684, 0.8711855927963982, 0.8758465011286681, 0.8694889779559118, 0.8606393606393606, 0.8625782227784731, 0.8457300275482094, 0.8796296296296297, 0.8788485607008761, 0.8475212819228843, 0.8476309226932668, 0.8555332999499249, 0.8476572287647206, 0.8230730730730731, 0.8306310800698429, 0.8366533864541833, 0.8326212616235235, 0.8304576144036009, 0.8359179589794897, 0.8401803607214429, 0.8359179589794897], \"yaxis\": \"y\"}],                        {\"height\": 500, \"legend\": {\"title\": {\"text\": \"region\"}, \"tracegroupgap\": 0}, \"template\": {\"data\": {\"pie\": [{\"automargin\": true, \"type\": \"pie\"}]}, \"layout\": {\"xaxis\": {\"showgrid\": true, \"title\": {\"standoff\": 15}}, \"yaxis\": {\"showgrid\": true, \"title\": {\"standoff\": 15}}}}, \"title\": {\"text\": \"Success rate per region\", \"x\": 0.5}, \"xaxis\": {\"anchor\": \"y\", \"domain\": [0.0, 1.0], \"title\": {\"text\": \"week_id\"}}, \"yaxis\": {\"anchor\": \"x\", \"domain\": [0.0, 1.0], \"title\": {\"text\": \"Success_rate\"}}},                        {\"responsive\": true}                    ).then(function(){\n",
       "                            \n",
       "var gd = document.getElementById('32261b76-eb75-499b-99b1-d1e45facf405');\n",
       "var x = new MutationObserver(function (mutations, observer) {{\n",
       "        var display = window.getComputedStyle(gd).display;\n",
       "        if (!display || display === 'none') {{\n",
       "            console.log([gd, 'removed!']);\n",
       "            Plotly.purge(gd);\n",
       "            observer.disconnect();\n",
       "        }}\n",
       "}});\n",
       "\n",
       "// Listen for the removal of the full notebook cells\n",
       "var notebookContainer = gd.closest('#notebook-container');\n",
       "if (notebookContainer) {{\n",
       "    x.observe(notebookContainer, {childList: true});\n",
       "}}\n",
       "\n",
       "// Listen for the clearing of the current output cell\n",
       "var outputEl = gd.closest('.output');\n",
       "if (outputEl) {{\n",
       "    x.observe(outputEl, {childList: true});\n",
       "}}\n",
       "\n",
       "                        })                };                });            </script>        </div>"
      ]
     },
     "metadata": {},
     "output_type": "display_data"
    }
   ],
   "source": []
  },
  {
   "cell_type": "markdown",
   "id": "f417703c-0d93-4aee-8a3c-24d6c9e66978",
   "metadata": {},
   "source": [
    "Produce the following requestser proportion graph:"
   ]
  },
  {
   "cell_type": "code",
   "execution_count": 103,
   "id": "5d89892f-ca63-4273-b917-2c0d4ef91a79",
   "metadata": {},
   "outputs": [
    {
     "data": {
      "application/vnd.plotly.v1+json": {
       "config": {
        "linkText": "Export to plot.ly",
        "plotlyServerURL": "https://plot.ly",
        "showLink": true
       },
       "data": [
        {
         "marker": {
          "color": "rgba(255, 153, 51, 0.6)",
          "line": {
           "color": "rgba(255, 153, 51, 1.0)",
           "width": 1
          }
         },
         "name": "Allthetopbananas.com",
         "orientation": "v",
         "text": "",
         "type": "bar",
         "visible": true,
         "x": [
          "2021-week_33",
          "2021-week_34",
          "2021-week_35",
          "2021-week_36",
          "2021-week_37",
          "2021-week_38",
          "2021-week_39",
          "2021-week_40",
          "2021-week_41",
          "2021-week_42",
          "2021-week_43",
          "2021-week_44",
          "2021-week_45",
          "2021-week_46",
          "2021-week_47",
          "2021-week_48",
          "2021-week_49",
          "2021-week_50",
          "2021-week_51",
          "2022-week_01",
          "2022-week_02",
          "2022-week_03",
          "2022-week_04",
          "2022-week_05",
          "2022-week_06",
          "2022-week_52"
         ],
         "y": [
          0.0004876010030649206,
          0.00020875374017117806,
          0.0004870242816391846,
          0.0009728978457261987,
          0.000764313507504169,
          0.0009758137589740016,
          0.000416204217536071,
          0.0009718172983479105,
          0.0006954102920723226,
          0.0002782415136338342,
          0.00020881186051367718,
          0.0006993496048674732,
          0.00110803324099723,
          0.0007665505226480836,
          0.00034717400361060965,
          0.0004859761177450708,
          0.0005579967915184488,
          0.0005554012774229381,
          0.00046856696602889497,
          0.0004171011470281543,
          0.0004853359217915829,
          0.0005587762799469162,
          0.0005568316280364725,
          0.00034814092744743074,
          0.00027799013135033706,
          0.0008788449466415569
         ]
        },
        {
         "marker": {
          "color": "rgba(55, 128, 191, 0.6)",
          "line": {
           "color": "rgba(55, 128, 191, 1.0)",
           "width": 1
          }
         },
         "name": "Altammune",
         "orientation": "v",
         "text": "",
         "type": "bar",
         "visible": true,
         "x": [
          "2021-week_33",
          "2021-week_34",
          "2021-week_35",
          "2021-week_36",
          "2021-week_37",
          "2021-week_38",
          "2021-week_39",
          "2021-week_40",
          "2021-week_41",
          "2021-week_42",
          "2021-week_43",
          "2021-week_44",
          "2021-week_45",
          "2021-week_46",
          "2021-week_47",
          "2021-week_48",
          "2021-week_49",
          "2021-week_50",
          "2021-week_51",
          "2022-week_01",
          "2022-week_02",
          "2022-week_03",
          "2022-week_04",
          "2022-week_05",
          "2022-week_06",
          "2022-week_52"
         ],
         "y": [
          "",
          "",
          6.957489737702637e-05,
          "",
          "",
          6.970098278385725e-05,
          "",
          0.00013883104262113008,
          "",
          6.956037840845854e-05,
          "",
          "",
          "",
          "",
          "",
          "",
          "",
          "",
          "",
          "",
          "",
          "",
          "",
          "",
          "",
          ""
         ]
        },
        {
         "marker": {
          "color": "rgba(50, 171, 96, 0.6)",
          "line": {
           "color": "rgba(50, 171, 96, 1.0)",
           "width": 1
          }
         },
         "name": "Bizanga",
         "orientation": "v",
         "text": "",
         "type": "bar",
         "visible": true,
         "x": [
          "2021-week_33",
          "2021-week_34",
          "2021-week_35",
          "2021-week_36",
          "2021-week_37",
          "2021-week_38",
          "2021-week_39",
          "2021-week_40",
          "2021-week_41",
          "2021-week_42",
          "2021-week_43",
          "2021-week_44",
          "2021-week_45",
          "2021-week_46",
          "2021-week_47",
          "2021-week_48",
          "2021-week_49",
          "2021-week_50",
          "2021-week_51",
          "2022-week_01",
          "2022-week_02",
          "2022-week_03",
          "2022-week_04",
          "2022-week_05",
          "2022-week_06",
          "2022-week_52"
         ],
         "y": [
          0.007174700473669545,
          0.006888873425648877,
          0.005705141584916162,
          0.005281445448227936,
          0.005350194552529183,
          0.005436676657140866,
          0.004786348501664817,
          0.004442593363876163,
          0.005980528511821975,
          0.006886477462437396,
          0.004941880698823693,
          0.004126162668718092,
          0.004224376731301939,
          0.006202090592334495,
          0.007082349673656437,
          0.006248264371008053,
          0.0076724558833786705,
          0.006803665648430992,
          0.006794221007418977,
          0.007438303788668752,
          0.006378700686403661,
          0.004540057274568694,
          0.003758613489246189,
          0.0034117810889848213,
          0.003891861838904719,
          0.006089139987445072
         ]
        },
        {
         "marker": {
          "color": "rgba(128, 0, 128, 0.6)",
          "line": {
           "color": "rgba(128, 0, 128, 1.0)",
           "width": 1
          }
         },
         "name": "Crescendo Networks",
         "orientation": "v",
         "text": "",
         "type": "bar",
         "visible": true,
         "x": [
          "2021-week_33",
          "2021-week_34",
          "2021-week_35",
          "2021-week_36",
          "2021-week_37",
          "2021-week_38",
          "2021-week_39",
          "2021-week_40",
          "2021-week_41",
          "2021-week_42",
          "2021-week_43",
          "2021-week_44",
          "2021-week_45",
          "2021-week_46",
          "2021-week_47",
          "2021-week_48",
          "2021-week_49",
          "2021-week_50",
          "2021-week_51",
          "2022-week_01",
          "2022-week_02",
          "2022-week_03",
          "2022-week_04",
          "2022-week_05",
          "2022-week_06",
          "2022-week_52"
         ],
         "y": [
          0.0030649205906937865,
          0.0057059355646788676,
          0.00480066791901482,
          0.007366226546212648,
          0.006183991106170094,
          0.006482191398898725,
          0.0054106548279689234,
          0.017700957934194086,
          0.006397774687065368,
          0.0034084585420144685,
          0.004106633256768985,
          0.004685642352612071,
          0.0033240997229916896,
          0.010871080139372822,
          0.003749479238994584,
          0.003748958622604832,
          0.004463974332147591,
          0.003957234101638433,
          0.006247559547051933,
          0.0026416405978449773,
          0.0033973514525410804,
          0.002584340294754488,
          0.0030625739542005986,
          0.003342152903495335,
          0.002084925985127528,
          0.005712492153170119
         ]
        },
        {
         "marker": {
          "color": "rgba(219, 64, 82, 0.6)",
          "line": {
           "color": "rgba(219, 64, 82, 1.0)",
           "width": 1
          }
         },
         "name": "Cue",
         "orientation": "v",
         "text": "",
         "type": "bar",
         "visible": true,
         "x": [
          "2021-week_33",
          "2021-week_34",
          "2021-week_35",
          "2021-week_36",
          "2021-week_37",
          "2021-week_38",
          "2021-week_39",
          "2021-week_40",
          "2021-week_41",
          "2021-week_42",
          "2021-week_43",
          "2021-week_44",
          "2021-week_45",
          "2021-week_46",
          "2021-week_47",
          "2021-week_48",
          "2021-week_49",
          "2021-week_50",
          "2021-week_51",
          "2022-week_01",
          "2022-week_02",
          "2022-week_03",
          "2022-week_04",
          "2022-week_05",
          "2022-week_06",
          "2022-week_52"
         ],
         "y": [
          "",
          6.958458005705935e-05,
          "",
          "",
          "",
          0.0001394019655677145,
          "",
          6.941552131056504e-05,
          "",
          "",
          "",
          "",
          "",
          "",
          "",
          "",
          "",
          "",
          "",
          "",
          "",
          "",
          "",
          "",
          "",
          ""
         ]
        },
        {
         "marker": {
          "color": "rgba(0, 128, 128, 0.6)",
          "line": {
           "color": "rgba(0, 128, 128, 1.0)",
           "width": 1
          }
         },
         "name": "Cuiker",
         "orientation": "v",
         "text": "",
         "type": "bar",
         "visible": true,
         "x": [
          "2021-week_33",
          "2021-week_34",
          "2021-week_35",
          "2021-week_36",
          "2021-week_37",
          "2021-week_38",
          "2021-week_39",
          "2021-week_40",
          "2021-week_41",
          "2021-week_42",
          "2021-week_43",
          "2021-week_44",
          "2021-week_45",
          "2021-week_46",
          "2021-week_47",
          "2021-week_48",
          "2021-week_49",
          "2021-week_50",
          "2021-week_51",
          "2022-week_01",
          "2022-week_02",
          "2022-week_03",
          "2022-week_04",
          "2022-week_05",
          "2022-week_06",
          "2022-week_52"
         ],
         "y": [
          6.965728615213152e-05,
          6.958458005705935e-05,
          6.957489737702637e-05,
          6.949270326615705e-05,
          "",
          "",
          "",
          "",
          6.954102920723227e-05,
          6.956037840845854e-05,
          6.960395350455906e-05,
          "",
          6.925207756232688e-05,
          6.968641114982578e-05,
          0.00013886960144424384,
          "",
          0.0002092487968194183,
          0.00013885031935573453,
          7.809449433814917e-05,
          6.951685783802571e-05,
          6.933370311308327e-05,
          6.984703499336453e-05,
          "",
          "",
          6.949753283758427e-05,
          6.277463904582549e-05
         ]
        },
        {
         "marker": {
          "color": "rgba(255, 255, 51, 0.6)",
          "line": {
           "color": "rgba(255, 255, 51, 1.0)",
           "width": 1
          }
         },
         "name": "Derceto",
         "orientation": "v",
         "text": "",
         "type": "bar",
         "visible": true,
         "x": [
          "2021-week_33",
          "2021-week_34",
          "2021-week_35",
          "2021-week_36",
          "2021-week_37",
          "2021-week_38",
          "2021-week_39",
          "2021-week_40",
          "2021-week_41",
          "2021-week_42",
          "2021-week_43",
          "2021-week_44",
          "2021-week_45",
          "2021-week_46",
          "2021-week_47",
          "2021-week_48",
          "2021-week_49",
          "2021-week_50",
          "2021-week_51",
          "2022-week_01",
          "2022-week_02",
          "2022-week_03",
          "2022-week_04",
          "2022-week_05",
          "2022-week_06",
          "2022-week_52"
         ],
         "y": [
          "",
          "",
          "",
          "",
          6.948304613674263e-05,
          "",
          "",
          "",
          "",
          "",
          "",
          "",
          "",
          "",
          "",
          "",
          "",
          "",
          "",
          "",
          "",
          "",
          "",
          "",
          "",
          ""
         ]
        },
        {
         "marker": {
          "color": "rgba(128, 128, 0, 0.6)",
          "line": {
           "color": "rgba(128, 128, 0, 1.0)",
           "width": 1
          }
         },
         "name": "Doctorfun Entertainment, Ltd",
         "orientation": "v",
         "text": "",
         "type": "bar",
         "visible": true,
         "x": [
          "2021-week_33",
          "2021-week_34",
          "2021-week_35",
          "2021-week_36",
          "2021-week_37",
          "2021-week_38",
          "2021-week_39",
          "2021-week_40",
          "2021-week_41",
          "2021-week_42",
          "2021-week_43",
          "2021-week_44",
          "2021-week_45",
          "2021-week_46",
          "2021-week_47",
          "2021-week_48",
          "2021-week_49",
          "2021-week_50",
          "2021-week_51",
          "2022-week_01",
          "2022-week_02",
          "2022-week_03",
          "2022-week_04",
          "2022-week_05",
          "2022-week_06",
          "2022-week_52"
         ],
         "y": [
          "",
          "",
          0.0002782995895081055,
          0.00048644892286309936,
          0.0009032795997776543,
          0.0010455147417578587,
          0.0012486126526082132,
          0.0009718172983479105,
          0.0012517385257301808,
          0.0017390094602114635,
          0.0009744553490638268,
          0.0009091544863277152,
          6.925207756232688e-05,
          6.968641114982578e-05,
          "",
          0.00013885031935573453,
          0.0002092487968194183,
          "",
          7.809449433814917e-05,
          6.951685783802571e-05,
          0.0004853359217915829,
          0.0007683173849270099,
          0.0008352474420547087,
          0.0007659100403843476,
          0.0008339703940510112,
          6.277463904582549e-05
         ]
        },
        {
         "marker": {
          "color": "rgba(251, 128, 114, 0.6)",
          "line": {
           "color": "rgba(251, 128, 114, 1.0)",
           "width": 1
          }
         },
         "name": "Earth Networks",
         "orientation": "v",
         "text": "",
         "type": "bar",
         "visible": true,
         "x": [
          "2021-week_33",
          "2021-week_34",
          "2021-week_35",
          "2021-week_36",
          "2021-week_37",
          "2021-week_38",
          "2021-week_39",
          "2021-week_40",
          "2021-week_41",
          "2021-week_42",
          "2021-week_43",
          "2021-week_44",
          "2021-week_45",
          "2021-week_46",
          "2021-week_47",
          "2021-week_48",
          "2021-week_49",
          "2021-week_50",
          "2021-week_51",
          "2022-week_01",
          "2022-week_02",
          "2022-week_03",
          "2022-week_04",
          "2022-week_05",
          "2022-week_06",
          "2022-week_52"
         ],
         "y": [
          "",
          "",
          6.957489737702637e-05,
          0.0001389854065323141,
          "",
          "",
          "",
          "",
          6.954102920723227e-05,
          "",
          "",
          "",
          "",
          "",
          "",
          "",
          "",
          "",
          "",
          "",
          "",
          "",
          "",
          "",
          "",
          ""
         ]
        },
        {
         "marker": {
          "color": "rgba(128, 177, 211, 0.6)",
          "line": {
           "color": "rgba(128, 177, 211, 1.0)",
           "width": 1
          }
         },
         "name": "Extreme DA",
         "orientation": "v",
         "text": "",
         "type": "bar",
         "visible": true,
         "x": [
          "2021-week_33",
          "2021-week_34",
          "2021-week_35",
          "2021-week_36",
          "2021-week_37",
          "2021-week_38",
          "2021-week_39",
          "2021-week_40",
          "2021-week_41",
          "2021-week_42",
          "2021-week_43",
          "2021-week_44",
          "2021-week_45",
          "2021-week_46",
          "2021-week_47",
          "2021-week_48",
          "2021-week_49",
          "2021-week_50",
          "2021-week_51",
          "2022-week_01",
          "2022-week_02",
          "2022-week_03",
          "2022-week_04",
          "2022-week_05",
          "2022-week_06",
          "2022-week_52"
         ],
         "y": [
          0.03517692950682642,
          0.08892909331292186,
          0.09601335838029638,
          0.09263377345378736,
          0.0883129516397999,
          0.14776608350177736,
          0.170019422863485,
          0.1646536165486603,
          0.1588317107093185,
          0.14322481914301613,
          0.15653929143175332,
          0.16791384012868033,
          0.18421052631578946,
          0.19658536585365854,
          0.20844327176781002,
          0.18286587059150236,
          0.12582827648741018,
          0.13843376839766733,
          0.21288559156579462,
          0.20208550573514078,
          0.19663038202870414,
          0.17531605783334497,
          0.16906800306257394,
          0.17156384904609387,
          0.16686357634303983,
          0.16064030131826743
         ]
        },
        {
         "marker": {
          "color": "rgba(128, 177, 211, 0.6)",
          "line": {
           "color": "rgba(128, 177, 211, 0.8999999999999999)",
           "width": 1
          }
         },
         "name": "Fancy",
         "orientation": "v",
         "text": "",
         "type": "bar",
         "visible": true,
         "x": [
          "2021-week_33",
          "2021-week_34",
          "2021-week_35",
          "2021-week_36",
          "2021-week_37",
          "2021-week_38",
          "2021-week_39",
          "2021-week_40",
          "2021-week_41",
          "2021-week_42",
          "2021-week_43",
          "2021-week_44",
          "2021-week_45",
          "2021-week_46",
          "2021-week_47",
          "2021-week_48",
          "2021-week_49",
          "2021-week_50",
          "2021-week_51",
          "2022-week_01",
          "2022-week_02",
          "2022-week_03",
          "2022-week_04",
          "2022-week_05",
          "2022-week_06",
          "2022-week_52"
         ],
         "y": [
          0.06485093340763444,
          0.05260594252313687,
          0.06129548458916023,
          0.0739402362751911,
          0.0821289605336298,
          0.08106224297762599,
          0.07450055493895671,
          0.08322921005136749,
          0.10069541029207232,
          0.07957707289927657,
          0.08561286281060765,
          0.0904259039093643,
          0.09217451523545707,
          0.0713588850174216,
          0.039786140813775864,
          0.07025826159400167,
          0.11494733905280044,
          0.11170508192168842,
          0.09160484185864896,
          0.06743135210288495,
          0.0704430423628926,
          0.09170915694628763,
          0.12382543328461057,
          0.13681938448684028,
          0.15671693654875252,
          0.08242310106716887
         ]
        },
        {
         "marker": {
          "color": "rgba(255, 153, 51, 0.6)",
          "line": {
           "color": "rgba(255, 153, 51, 0.8999999999999999)",
           "width": 1
          }
         },
         "name": "FlagTap",
         "orientation": "v",
         "text": "",
         "type": "bar",
         "visible": true,
         "x": [
          "2021-week_33",
          "2021-week_34",
          "2021-week_35",
          "2021-week_36",
          "2021-week_37",
          "2021-week_38",
          "2021-week_39",
          "2021-week_40",
          "2021-week_41",
          "2021-week_42",
          "2021-week_43",
          "2021-week_44",
          "2021-week_45",
          "2021-week_46",
          "2021-week_47",
          "2021-week_48",
          "2021-week_49",
          "2021-week_50",
          "2021-week_51",
          "2022-week_01",
          "2022-week_02",
          "2022-week_03",
          "2022-week_04",
          "2022-week_05",
          "2022-week_06",
          "2022-week_52"
         ],
         "y": [
          0.00013931457230426304,
          "",
          "",
          "",
          "",
          "",
          "",
          "",
          "",
          "",
          "",
          "",
          "",
          "",
          "",
          "",
          "",
          "",
          "",
          "",
          "",
          "",
          "",
          "",
          "",
          ""
         ]
        },
        {
         "marker": {
          "color": "rgba(55, 128, 191, 0.6)",
          "line": {
           "color": "rgba(55, 128, 191, 0.8999999999999999)",
           "width": 1
          }
         },
         "name": "Fry Multimedia",
         "orientation": "v",
         "text": "",
         "type": "bar",
         "visible": true,
         "x": [
          "2021-week_33",
          "2021-week_34",
          "2021-week_35",
          "2021-week_36",
          "2021-week_37",
          "2021-week_38",
          "2021-week_39",
          "2021-week_40",
          "2021-week_41",
          "2021-week_42",
          "2021-week_43",
          "2021-week_44",
          "2021-week_45",
          "2021-week_46",
          "2021-week_47",
          "2021-week_48",
          "2021-week_49",
          "2021-week_50",
          "2021-week_51",
          "2022-week_01",
          "2022-week_02",
          "2022-week_03",
          "2022-week_04",
          "2022-week_05",
          "2022-week_06",
          "2022-week_52"
         ],
         "y": [
          0.01567288938422959,
          0.017744067914550136,
          0.017950323523272804,
          0.01716469770674079,
          0.017857142857142856,
          0.01575242210915174,
          0.014567147613762486,
          0.018256282104678605,
          0.0196105702364395,
          0.0134251530328325,
          0.012111087909793277,
          0.01258829288761452,
          0.010110803324099723,
          0.00975609756097561,
          0.011803916122760728,
          0.014509858372674257,
          0.012624677408104903,
          0.009233546237156345,
          0.01101132370167903,
          0.016336461591936045,
          0.016501421340913817,
          0.014178948103653,
          0.012041483956288717,
          0.009956830524996518,
          0.012162068246577246,
          0.006528562460765851
         ]
        },
        {
         "marker": {
          "color": "rgba(50, 171, 96, 0.6)",
          "line": {
           "color": "rgba(50, 171, 96, 0.8999999999999999)",
           "width": 1
          }
         },
         "name": "G-mode",
         "orientation": "v",
         "text": "",
         "type": "bar",
         "visible": true,
         "x": [
          "2021-week_33",
          "2021-week_34",
          "2021-week_35",
          "2021-week_36",
          "2021-week_37",
          "2021-week_38",
          "2021-week_39",
          "2021-week_40",
          "2021-week_41",
          "2021-week_42",
          "2021-week_43",
          "2021-week_44",
          "2021-week_45",
          "2021-week_46",
          "2021-week_47",
          "2021-week_48",
          "2021-week_49",
          "2021-week_50",
          "2021-week_51",
          "2022-week_01",
          "2022-week_02",
          "2022-week_03",
          "2022-week_04",
          "2022-week_05",
          "2022-week_06",
          "2022-week_52"
         ],
         "y": [
          0.0026469768737809973,
          0.0026442140421682556,
          0.0030612954845891604,
          0.005628908964558721,
          0.005350194552529183,
          0.002997142259705862,
          0.004786348501664817,
          0.004928502013050118,
          0.005563282336578581,
          0.0025041736227045075,
          0.0021577225586413306,
          0.002587593538009651,
          0.004293628808864266,
          0.0029965156794425087,
          0.002846826829606999,
          0.0036101083032490976,
          0.00411522633744856,
          0.002360455429047487,
          0.004607575165950801,
          0.0022940563086548487,
          0.003328017749427997,
          0.002374799189774394,
          0.0027841581401823624,
          0.002297730121153043,
          0.0014594481895892695,
          0.004331450094161958
         ]
        },
        {
         "marker": {
          "color": "rgba(128, 0, 128, 0.6)",
          "line": {
           "color": "rgba(128, 0, 128, 0.8999999999999999)",
           "width": 1
          }
         },
         "name": "Glory Medical",
         "orientation": "v",
         "text": "",
         "type": "bar",
         "visible": true,
         "x": [
          "2021-week_33",
          "2021-week_34",
          "2021-week_35",
          "2021-week_36",
          "2021-week_37",
          "2021-week_38",
          "2021-week_39",
          "2021-week_40",
          "2021-week_41",
          "2021-week_42",
          "2021-week_43",
          "2021-week_44",
          "2021-week_45",
          "2021-week_46",
          "2021-week_47",
          "2021-week_48",
          "2021-week_49",
          "2021-week_50",
          "2021-week_51",
          "2022-week_01",
          "2022-week_02",
          "2022-week_03",
          "2022-week_04",
          "2022-week_05",
          "2022-week_06",
          "2022-week_52"
         ],
         "y": [
          0.0034132070214544443,
          0.0007654303806276529,
          0.00013914979475405275,
          0.0006254343293954135,
          0.0002084491384102279,
          0.00034850491391928625,
          0.0002081021087680355,
          0.00020824656393169514,
          6.954102920723227e-05,
          6.956037840845854e-05,
          6.960395350455906e-05,
          0.0003496748024337366,
          "",
          0.00013937282229965157,
          0.00020830440216636578,
          0.00027770063871146905,
          0.0004184975936388366,
          0.0003471257983893363,
          0.00031237797735259666,
          0.00013903371567605143,
          0.00013866740622616653,
          6.984703499336453e-05,
          "",
          0.0001392563709789723,
          "",
          6.277463904582549e-05
         ]
        },
        {
         "marker": {
          "color": "rgba(219, 64, 82, 0.6)",
          "line": {
           "color": "rgba(219, 64, 82, 0.8999999999999999)",
           "width": 1
          }
         },
         "name": "Joules Clothing",
         "orientation": "v",
         "text": "",
         "type": "bar",
         "visible": true,
         "x": [
          "2021-week_33",
          "2021-week_34",
          "2021-week_35",
          "2021-week_36",
          "2021-week_37",
          "2021-week_38",
          "2021-week_39",
          "2021-week_40",
          "2021-week_41",
          "2021-week_42",
          "2021-week_43",
          "2021-week_44",
          "2021-week_45",
          "2021-week_46",
          "2021-week_47",
          "2021-week_48",
          "2021-week_49",
          "2021-week_50",
          "2021-week_51",
          "2022-week_01",
          "2022-week_02",
          "2022-week_03",
          "2022-week_04",
          "2022-week_05",
          "2022-week_06",
          "2022-week_52"
         ],
         "y": [
          0.00027862914460852607,
          6.958458005705935e-05,
          0.00034787448688513185,
          0.00020847810979847116,
          "",
          6.970098278385725e-05,
          "",
          "",
          6.954102920723227e-05,
          0.0001391207568169171,
          "",
          0.00020980488146024197,
          6.925207756232688e-05,
          0.00013937282229965157,
          6.943480072212192e-05,
          "",
          "",
          "",
          "",
          "",
          6.933370311308327e-05,
          "",
          "",
          "",
          "",
          ""
         ]
        },
        {
         "marker": {
          "color": "rgba(0, 128, 128, 0.6)",
          "line": {
           "color": "rgba(0, 128, 128, 0.8999999999999999)",
           "width": 1
          }
         },
         "name": "Jun Group",
         "orientation": "v",
         "text": "",
         "type": "bar",
         "visible": true,
         "x": [
          "2021-week_33",
          "2021-week_34",
          "2021-week_35",
          "2021-week_36",
          "2021-week_37",
          "2021-week_38",
          "2021-week_39",
          "2021-week_40",
          "2021-week_41",
          "2021-week_42",
          "2021-week_43",
          "2021-week_44",
          "2021-week_45",
          "2021-week_46",
          "2021-week_47",
          "2021-week_48",
          "2021-week_49",
          "2021-week_50",
          "2021-week_51",
          "2022-week_01",
          "2022-week_02",
          "2022-week_03",
          "2022-week_04",
          "2022-week_05",
          "2022-week_06",
          "2022-week_52"
         ],
         "y": [
          "",
          "",
          "",
          "",
          "",
          "",
          "",
          "",
          "",
          "",
          "",
          6.993496048674733e-05,
          "",
          "",
          "",
          "",
          "",
          "",
          7.809449433814917e-05,
          "",
          "",
          "",
          0.00013920790700911812,
          "",
          "",
          ""
         ]
        },
        {
         "marker": {
          "color": "rgba(255, 255, 51, 0.6)",
          "line": {
           "color": "rgba(255, 255, 51, 0.8999999999999999)",
           "width": 1
          }
         },
         "name": "LocalVox Media",
         "orientation": "v",
         "text": "",
         "type": "bar",
         "visible": true,
         "x": [
          "2021-week_33",
          "2021-week_34",
          "2021-week_35",
          "2021-week_36",
          "2021-week_37",
          "2021-week_38",
          "2021-week_39",
          "2021-week_40",
          "2021-week_41",
          "2021-week_42",
          "2021-week_43",
          "2021-week_44",
          "2021-week_45",
          "2021-week_46",
          "2021-week_47",
          "2021-week_48",
          "2021-week_49",
          "2021-week_50",
          "2021-week_51",
          "2022-week_01",
          "2022-week_02",
          "2022-week_03",
          "2022-week_04",
          "2022-week_05",
          "2022-week_06",
          "2022-week_52"
         ],
         "y": [
          0.015254945667316801,
          0.020875374017117806,
          0.01551520211507688,
          0.01535788742182071,
          0.01764869371873263,
          0.015961525057503312,
          0.013665371809100999,
          0.016034985422740525,
          0.015716272600834493,
          0.011268781302170284,
          0.009396533723115472,
          0.014546471781243443,
          0.017243767313019392,
          0.016445993031358887,
          0.017914178586307457,
          0.01825881699527909,
          0.02218037246285834,
          0.016870313801721742,
          0.01663412729402577,
          0.016127911018421967,
          0.01504541357553907,
          0.011175525598938325,
          0.0119022760492796,
          0.011001253307338811,
          0.010146639794287303,
          0.021468926553672316
         ]
        },
        {
         "marker": {
          "color": "rgba(128, 128, 0, 0.6)",
          "line": {
           "color": "rgba(128, 128, 0, 0.8999999999999999)",
           "width": 1
          }
         },
         "name": "Marketo Japan",
         "orientation": "v",
         "text": "",
         "type": "bar",
         "visible": true,
         "x": [
          "2021-week_33",
          "2021-week_34",
          "2021-week_35",
          "2021-week_36",
          "2021-week_37",
          "2021-week_38",
          "2021-week_39",
          "2021-week_40",
          "2021-week_41",
          "2021-week_42",
          "2021-week_43",
          "2021-week_44",
          "2021-week_45",
          "2021-week_46",
          "2021-week_47",
          "2021-week_48",
          "2021-week_49",
          "2021-week_50",
          "2021-week_51",
          "2022-week_01",
          "2022-week_02",
          "2022-week_03",
          "2022-week_04",
          "2022-week_05",
          "2022-week_06",
          "2022-week_52"
         ],
         "y": [
          "",
          "",
          "",
          "",
          6.948304613674263e-05,
          "",
          "",
          "",
          "",
          "",
          "",
          "",
          "",
          "",
          "",
          "",
          "",
          "",
          "",
          "",
          "",
          "",
          "",
          "",
          "",
          ""
         ]
        },
        {
         "marker": {
          "color": "rgba(251, 128, 114, 0.6)",
          "line": {
           "color": "rgba(251, 128, 114, 0.8999999999999999)",
           "width": 1
          }
         },
         "name": "Metranome",
         "orientation": "v",
         "text": "",
         "type": "bar",
         "visible": true,
         "x": [
          "2021-week_33",
          "2021-week_34",
          "2021-week_35",
          "2021-week_36",
          "2021-week_37",
          "2021-week_38",
          "2021-week_39",
          "2021-week_40",
          "2021-week_41",
          "2021-week_42",
          "2021-week_43",
          "2021-week_44",
          "2021-week_45",
          "2021-week_46",
          "2021-week_47",
          "2021-week_48",
          "2021-week_49",
          "2021-week_50",
          "2021-week_51",
          "2022-week_01",
          "2022-week_02",
          "2022-week_03",
          "2022-week_04",
          "2022-week_05",
          "2022-week_06",
          "2022-week_52"
         ],
         "y": [
          0.00027862914460852607,
          0.00020875374017117806,
          0.0002782995895081055,
          0.00034746351633078526,
          6.948304613674263e-05,
          6.970098278385725e-05,
          0.00013873473917869035,
          0.00013883104262113008,
          "",
          "",
          "",
          6.993496048674733e-05,
          "",
          6.968641114982578e-05,
          "",
          "",
          0.0001394991978796122,
          0.00013885031935573453,
          7.809449433814917e-05,
          "",
          "",
          "",
          0.00013920790700911812,
          6.962818548948615e-05,
          6.949753283758427e-05,
          6.277463904582549e-05
         ]
        },
        {
         "marker": {
          "color": "rgba(251, 128, 114, 0.6)",
          "line": {
           "color": "rgba(251, 128, 114, 0.7999999999999998)",
           "width": 1
          }
         },
         "name": "Mission Street Manufacturing",
         "orientation": "v",
         "text": "",
         "type": "bar",
         "visible": true,
         "x": [
          "2021-week_33",
          "2021-week_34",
          "2021-week_35",
          "2021-week_36",
          "2021-week_37",
          "2021-week_38",
          "2021-week_39",
          "2021-week_40",
          "2021-week_41",
          "2021-week_42",
          "2021-week_43",
          "2021-week_44",
          "2021-week_45",
          "2021-week_46",
          "2021-week_47",
          "2021-week_48",
          "2021-week_49",
          "2021-week_50",
          "2021-week_51",
          "2022-week_01",
          "2022-week_02",
          "2022-week_03",
          "2022-week_04",
          "2022-week_05",
          "2022-week_06",
          "2022-week_52"
         ],
         "y": [
          0.0009752020061298412,
          0.0006958458005705936,
          0.0010436234606553956,
          0.00034746351633078526,
          0.0003474152306837132,
          0.0006273088450547153,
          0.000416204217536071,
          0.0003470776065528252,
          0.0004172461752433936,
          0.00041736227045075126,
          0.00041762372102735435,
          0.0009091544863277152,
          0.0006232686980609418,
          0.0005574912891986063,
          0.0005554784057769754,
          0.00041655095806720355,
          0.0009067447862174793,
          0.00041655095806720355,
          0.0003904724716907458,
          0.0003475842891901286,
          0.00020800110933924982,
          0.0004889292449535517,
          6.960395350455906e-05,
          0.00020888455646845844,
          0.0005559802627006741,
          0.00025109855618330194
         ]
        },
        {
         "marker": {
          "color": "rgba(128, 177, 211, 0.6)",
          "line": {
           "color": "rgba(128, 177, 211, 0.7999999999999998)",
           "width": 1
          }
         },
         "name": "MoJoe Brewing Company",
         "orientation": "v",
         "text": "",
         "type": "bar",
         "visible": true,
         "x": [
          "2021-week_33",
          "2021-week_34",
          "2021-week_35",
          "2021-week_36",
          "2021-week_37",
          "2021-week_38",
          "2021-week_39",
          "2021-week_40",
          "2021-week_41",
          "2021-week_42",
          "2021-week_43",
          "2021-week_44",
          "2021-week_45",
          "2021-week_46",
          "2021-week_47",
          "2021-week_48",
          "2021-week_49",
          "2021-week_50",
          "2021-week_51",
          "2022-week_01",
          "2022-week_02",
          "2022-week_03",
          "2022-week_04",
          "2022-week_05",
          "2022-week_06",
          "2022-week_52"
         ],
         "y": [
          0.09424630816383393,
          0.07890891378470531,
          0.10387532178390037,
          0.08881167477414871,
          0.09672040022234575,
          0.0759740712344044,
          0.08011931187569367,
          0.07309454394002499,
          0.05744089012517385,
          0.041666666666666664,
          0.0680030625739542,
          0.06007413105811595,
          0.056509695290858725,
          0.09874564459930314,
          0.0611026246354673,
          0.13732296584282144,
          0.0823045267489712,
          0.12454873646209386,
          0.07169074580242094,
          0.07897115050399722,
          0.08028842820495043,
          0.10169728295033875,
          0.06507969652676272,
          0.08174348976465673,
          0.06393773021057753,
          0.14055241682360325
         ]
        },
        {
         "marker": {
          "color": "rgba(255, 153, 51, 0.6)",
          "line": {
           "color": "rgba(255, 153, 51, 0.7999999999999998)",
           "width": 1
          }
         },
         "name": "Modanisa",
         "orientation": "v",
         "text": "",
         "type": "bar",
         "visible": true,
         "x": [
          "2021-week_33",
          "2021-week_34",
          "2021-week_35",
          "2021-week_36",
          "2021-week_37",
          "2021-week_38",
          "2021-week_39",
          "2021-week_40",
          "2021-week_41",
          "2021-week_42",
          "2021-week_43",
          "2021-week_44",
          "2021-week_45",
          "2021-week_46",
          "2021-week_47",
          "2021-week_48",
          "2021-week_49",
          "2021-week_50",
          "2021-week_51",
          "2022-week_01",
          "2022-week_02",
          "2022-week_03",
          "2022-week_04",
          "2022-week_05",
          "2022-week_06",
          "2022-week_52"
         ],
         "y": [
          0.009055447199777097,
          0.008141395866675945,
          0.007583663814095874,
          0.007157748436414177,
          0.006461923290717065,
          0.005854882553844009,
          0.02746947835738069,
          0.024711925586561156,
          0.026564673157162728,
          0.022746243739565943,
          0.03048653163499687,
          0.01594517099097839,
          0.006232686980609419,
          0.006480836236933798,
          0.007290654075822803,
          0.006525965009719522,
          0.006277463904582548,
          0.005762288253262983,
          0.004919953143303397,
          0.004449078901633646,
          0.003328017749427997,
          0.0034923517496682267,
          0.0027841581401823624,
          0.004108062943879683,
          0.0025714087149906178,
          0.004331450094161958
         ]
        },
        {
         "marker": {
          "color": "rgba(55, 128, 191, 0.6)",
          "line": {
           "color": "rgba(55, 128, 191, 0.7999999999999998)",
           "width": 1
          }
         },
         "name": "OpenDesks, Inc.",
         "orientation": "v",
         "text": "",
         "type": "bar",
         "visible": true,
         "x": [
          "2021-week_33",
          "2021-week_34",
          "2021-week_35",
          "2021-week_36",
          "2021-week_37",
          "2021-week_38",
          "2021-week_39",
          "2021-week_40",
          "2021-week_41",
          "2021-week_42",
          "2021-week_43",
          "2021-week_44",
          "2021-week_45",
          "2021-week_46",
          "2021-week_47",
          "2021-week_48",
          "2021-week_49",
          "2021-week_50",
          "2021-week_51",
          "2022-week_01",
          "2022-week_02",
          "2022-week_03",
          "2022-week_04",
          "2022-week_05",
          "2022-week_06",
          "2022-week_52"
         ],
         "y": [
          0.00041794371691278906,
          0.0004175074803423561,
          0.0004870242816391846,
          0.001320361362056984,
          0.0009032795997776543,
          0.0012546176901094305,
          0.00201165371809101,
          0.0023601277245592113,
          0.0018080667593880389,
          0.0019476905954368391,
          0.001113663256072945,
          0.0018882439331421778,
          0.001592797783933518,
          0.0029965156794425087,
          0.002569087626718511,
          0.0014579283532352124,
          0.0015344911766757342,
          0.0008331019161344071,
          0.002420929324482624,
          0.00145985401459854,
          0.0016640088747139985,
          0.001187399594887197,
          0.0009048513955592678,
          0.0008355382258738338,
          0.0009034679268885954,
          0.0018832391713747645
         ]
        },
        {
         "marker": {
          "color": "rgba(50, 171, 96, 0.6)",
          "line": {
           "color": "rgba(50, 171, 96, 0.7999999999999998)",
           "width": 1
          }
         },
         "name": "PageBites",
         "orientation": "v",
         "text": "",
         "type": "bar",
         "visible": true,
         "x": [
          "2021-week_33",
          "2021-week_34",
          "2021-week_35",
          "2021-week_36",
          "2021-week_37",
          "2021-week_38",
          "2021-week_39",
          "2021-week_40",
          "2021-week_41",
          "2021-week_42",
          "2021-week_43",
          "2021-week_44",
          "2021-week_45",
          "2021-week_46",
          "2021-week_47",
          "2021-week_48",
          "2021-week_49",
          "2021-week_50",
          "2021-week_51",
          "2022-week_01",
          "2022-week_02",
          "2022-week_03",
          "2022-week_04",
          "2022-week_05",
          "2022-week_06",
          "2022-week_52"
         ],
         "y": [
          0.0016021175814990248,
          0.0006958458005705936,
          0.001113198358032422,
          0.0008339124391938846,
          0.0012506948304613673,
          0.0007667108106224297,
          0.00048557158712541623,
          6.941552131056504e-05,
          0.0004867872044506259,
          0.0005564830272676684,
          0.00027841581401823624,
          0.00020980488146024197,
          "",
          "",
          "",
          "",
          "",
          "",
          "",
          "",
          0.00013866740622616653,
          0.0002095411049800936,
          0.00020881186051367718,
          0.00020888455646845844,
          0.00027799013135033706,
          ""
         ]
        },
        {
         "marker": {
          "color": "rgba(128, 0, 128, 0.6)",
          "line": {
           "color": "rgba(128, 0, 128, 0.7999999999999998)",
           "width": 1
          }
         },
         "name": "Pole Star",
         "orientation": "v",
         "text": "",
         "type": "bar",
         "visible": true,
         "x": [
          "2021-week_33",
          "2021-week_34",
          "2021-week_35",
          "2021-week_36",
          "2021-week_37",
          "2021-week_38",
          "2021-week_39",
          "2021-week_40",
          "2021-week_41",
          "2021-week_42",
          "2021-week_43",
          "2021-week_44",
          "2021-week_45",
          "2021-week_46",
          "2021-week_47",
          "2021-week_48",
          "2021-week_49",
          "2021-week_50",
          "2021-week_51",
          "2022-week_01",
          "2022-week_02",
          "2022-week_03",
          "2022-week_04",
          "2022-week_05",
          "2022-week_06",
          "2022-week_52"
         ],
         "y": [
          0.0030649205906937865,
          0.0017396145014264839,
          "",
          "",
          6.948304613674263e-05,
          6.970098278385725e-05,
          0.00013873473917869035,
          6.941552131056504e-05,
          0.0011821974965229485,
          0.00020868113522537563,
          0.00020881186051367718,
          0.0006294146443807259,
          0.0017313019390581717,
          0.0011149825783972125,
          "",
          "",
          0.0001394991978796122,
          6.942515967786726e-05,
          7.809449433814917e-05,
          0.0003475842891901286,
          0.0003466685155654163,
          0.00034923517496682265,
          0.0015312869771002993,
          0.001392563709789723,
          0.0016679407881020224,
          0.00012554927809165097
         ]
        },
        {
         "marker": {
          "color": "rgba(219, 64, 82, 0.6)",
          "line": {
           "color": "rgba(219, 64, 82, 0.7999999999999998)",
           "width": 1
          }
         },
         "name": "Puentes Company",
         "orientation": "v",
         "text": "",
         "type": "bar",
         "visible": true,
         "x": [
          "2021-week_33",
          "2021-week_34",
          "2021-week_35",
          "2021-week_36",
          "2021-week_37",
          "2021-week_38",
          "2021-week_39",
          "2021-week_40",
          "2021-week_41",
          "2021-week_42",
          "2021-week_43",
          "2021-week_44",
          "2021-week_45",
          "2021-week_46",
          "2021-week_47",
          "2021-week_48",
          "2021-week_49",
          "2021-week_50",
          "2021-week_51",
          "2022-week_01",
          "2022-week_02",
          "2022-week_03",
          "2022-week_04",
          "2022-week_05",
          "2022-week_06",
          "2022-week_52"
         ],
         "y": [
          0.09452493730844247,
          0.08197063530721592,
          0.07521046406456551,
          0.07588603196664351,
          0.07406892718176765,
          0.0683069631281801,
          0.06804938956714761,
          0.06976259891711786,
          0.08817802503477051,
          0.07206455203116305,
          0.06333959768914875,
          0.07720819637736905,
          0.10297783933518005,
          0.0932404181184669,
          0.09061241494236912,
          0.0814357123021383,
          0.09130222501220618,
          0.08497639544570952,
          0.10378758297540024,
          0.09336114007646855,
          0.09061914996879983,
          0.06635468324369631,
          0.05902415257186608,
          0.05653808661746275,
          0.0583084300507332,
          0.06936597614563716
         ]
        },
        {
         "marker": {
          "color": "rgba(0, 128, 128, 0.6)",
          "line": {
           "color": "rgba(0, 128, 128, 0.7999999999999998)",
           "width": 1
          }
         },
         "name": "PureSafe water systems",
         "orientation": "v",
         "text": "",
         "type": "bar",
         "visible": true,
         "x": [
          "2021-week_33",
          "2021-week_34",
          "2021-week_35",
          "2021-week_36",
          "2021-week_37",
          "2021-week_38",
          "2021-week_39",
          "2021-week_40",
          "2021-week_41",
          "2021-week_42",
          "2021-week_43",
          "2021-week_44",
          "2021-week_45",
          "2021-week_46",
          "2021-week_47",
          "2021-week_48",
          "2021-week_49",
          "2021-week_50",
          "2021-week_51",
          "2022-week_01",
          "2022-week_02",
          "2022-week_03",
          "2022-week_04",
          "2022-week_05",
          "2022-week_06",
          "2022-week_52"
         ],
         "y": [
          "",
          "",
          "",
          "",
          "",
          "",
          "",
          "",
          "",
          "",
          "",
          "",
          "",
          "",
          "",
          "",
          "",
          "",
          "",
          "",
          "",
          "",
          "",
          6.962818548948615e-05,
          "",
          ""
         ]
        },
        {
         "marker": {
          "color": "rgba(255, 255, 51, 0.6)",
          "line": {
           "color": "rgba(255, 255, 51, 0.7999999999999998)",
           "width": 1
          }
         },
         "name": "RelayFoods",
         "orientation": "v",
         "text": "",
         "type": "bar",
         "visible": true,
         "x": [
          "2021-week_33",
          "2021-week_34",
          "2021-week_35",
          "2021-week_36",
          "2021-week_37",
          "2021-week_38",
          "2021-week_39",
          "2021-week_40",
          "2021-week_41",
          "2021-week_42",
          "2021-week_43",
          "2021-week_44",
          "2021-week_45",
          "2021-week_46",
          "2021-week_47",
          "2021-week_48",
          "2021-week_49",
          "2021-week_50",
          "2021-week_51",
          "2022-week_01",
          "2022-week_02",
          "2022-week_03",
          "2022-week_04",
          "2022-week_05",
          "2022-week_06",
          "2022-week_52"
         ],
         "y": [
          0.10929228197269435,
          0.06297404495163872,
          0.06880957350587907,
          0.06949270326615706,
          0.06663424124513619,
          0.06754025231755768,
          0.052372364039955606,
          0.04602249062890462,
          0.05660639777468707,
          0.2598775737340011,
          0.24131690680030626,
          0.2721169312539338,
          0.3479224376731302,
          0.31679442508710803,
          0.3327315650604083,
          0.2905442932518745,
          0.32370788867964007,
          0.3126214940294363,
          0.28621632174931666,
          0.26930830726451166,
          0.2656867503293351,
          0.24760773905147726,
          0.247511658662212,
          0.22629160284082997,
          0.23650010424629925,
          0.3747018204645323
         ]
        },
        {
         "marker": {
          "color": "rgba(128, 128, 0, 0.6)",
          "line": {
           "color": "rgba(128, 128, 0, 0.7999999999999998)",
           "width": 1
          }
         },
         "name": "SOLOMO365",
         "orientation": "v",
         "text": "",
         "type": "bar",
         "visible": true,
         "x": [
          "2021-week_33",
          "2021-week_34",
          "2021-week_35",
          "2021-week_36",
          "2021-week_37",
          "2021-week_38",
          "2021-week_39",
          "2021-week_40",
          "2021-week_41",
          "2021-week_42",
          "2021-week_43",
          "2021-week_44",
          "2021-week_45",
          "2021-week_46",
          "2021-week_47",
          "2021-week_48",
          "2021-week_49",
          "2021-week_50",
          "2021-week_51",
          "2022-week_01",
          "2022-week_02",
          "2022-week_03",
          "2022-week_04",
          "2022-week_05",
          "2022-week_06",
          "2022-week_52"
         ],
         "y": [
          0.05544719977709668,
          0.06039941548952752,
          0.05976483684686565,
          0.05573314801945796,
          0.055586436909394105,
          0.05813061964173695,
          0.049944506104328525,
          0.014993752603082049,
          "",
          "",
          "",
          "",
          "",
          "",
          "",
          "",
          "",
          "",
          "",
          "",
          "",
          "",
          "",
          "",
          "",
          ""
         ]
        },
        {
         "marker": {
          "color": "rgba(128, 128, 0, 0.6)",
          "line": {
           "color": "rgba(128, 128, 0, 0.7)",
           "width": 1
          }
         },
         "name": "Search Million Culture",
         "orientation": "v",
         "text": "",
         "type": "bar",
         "visible": true,
         "x": [
          "2021-week_33",
          "2021-week_34",
          "2021-week_35",
          "2021-week_36",
          "2021-week_37",
          "2021-week_38",
          "2021-week_39",
          "2021-week_40",
          "2021-week_41",
          "2021-week_42",
          "2021-week_43",
          "2021-week_44",
          "2021-week_45",
          "2021-week_46",
          "2021-week_47",
          "2021-week_48",
          "2021-week_49",
          "2021-week_50",
          "2021-week_51",
          "2022-week_01",
          "2022-week_02",
          "2022-week_03",
          "2022-week_04",
          "2022-week_05",
          "2022-week_06",
          "2022-week_52"
         ],
         "y": [
          0.35218723878517694,
          0.39043907870016004,
          0.35030960829332775,
          0.35392633773453785,
          0.3494302390216787,
          0.33372830556910854,
          0.3140260821309656,
          0.3306261280022213,
          0.3364394993045897,
          0.25994713411240955,
          0.24110809493979257,
          0.1897335478005455,
          0.0853185595567867,
          0.09337979094076655,
          0.09665324260519373,
          0.11538461538461539,
          0.13287298598033062,
          0.12350735906692585,
          0.12526356891839124,
          0.19443865137295793,
          0.2046730915898218,
          0.23342879094782426,
          0.25440245005916334,
          0.25163626235900294,
          0.23816804503440128,
          0.0743879472693032
         ]
        },
        {
         "marker": {
          "color": "rgba(251, 128, 114, 0.6)",
          "line": {
           "color": "rgba(251, 128, 114, 0.7)",
           "width": 1
          }
         },
         "name": "Sensor Tower",
         "orientation": "v",
         "text": "",
         "type": "bar",
         "visible": true,
         "x": [
          "2021-week_33",
          "2021-week_34",
          "2021-week_35",
          "2021-week_36",
          "2021-week_37",
          "2021-week_38",
          "2021-week_39",
          "2021-week_40",
          "2021-week_41",
          "2021-week_42",
          "2021-week_43",
          "2021-week_44",
          "2021-week_45",
          "2021-week_46",
          "2021-week_47",
          "2021-week_48",
          "2021-week_49",
          "2021-week_50",
          "2021-week_51",
          "2022-week_01",
          "2022-week_02",
          "2022-week_03",
          "2022-week_04",
          "2022-week_05",
          "2022-week_06",
          "2022-week_52"
         ],
         "y": [
          0.03629144608526052,
          0.03374852132767379,
          0.031308703819661866,
          0.018763029881862403,
          0.012854363535297387,
          0.008712622847982156,
          0.0076997780244173145,
          0.006455643481882549,
          0.00674547983310153,
          0.006816917084028937,
          0.005568316280364725,
          0.005384991957479544,
          0.00574792243767313,
          0.004320557491289199,
          0.004443827246215803,
          0.005554012774229381,
          0.007463207086559252,
          0.004859761177450708,
          0.003358063256540414,
          0.003475842891901286,
          0.0029813492338625807,
          0.00447021023957533,
          0.004315445117282661,
          0.003899178387411224,
          0.004169851970255056,
          0.004205900816070308
         ]
        },
        {
         "marker": {
          "color": "rgba(128, 177, 211, 0.6)",
          "line": {
           "color": "rgba(128, 177, 211, 0.7)",
           "width": 1
          }
         },
         "name": "Tab Solutions",
         "orientation": "v",
         "text": "",
         "type": "bar",
         "visible": true,
         "x": [
          "2021-week_33",
          "2021-week_34",
          "2021-week_35",
          "2021-week_36",
          "2021-week_37",
          "2021-week_38",
          "2021-week_39",
          "2021-week_40",
          "2021-week_41",
          "2021-week_42",
          "2021-week_43",
          "2021-week_44",
          "2021-week_45",
          "2021-week_46",
          "2021-week_47",
          "2021-week_48",
          "2021-week_49",
          "2021-week_50",
          "2021-week_51",
          "2022-week_01",
          "2022-week_02",
          "2022-week_03",
          "2022-week_04",
          "2022-week_05",
          "2022-week_06",
          "2022-week_52"
         ],
         "y": [
          0.0672192811368069,
          0.054345557024563354,
          0.04981562652195088,
          0.055524669909659485,
          0.05885214007782101,
          0.04000836411793406,
          0.05292730299667037,
          0.06774954879911148,
          0.0672461752433936,
          0.047996661101836396,
          0.04719148047609104,
          0.05063291139240506,
          0.04113573407202216,
          0.014355400696864112,
          0.016594917372587142,
          0.0197167453485143,
          0.031317569923972936,
          0.02256317689530686,
          0.019992190550566186,
          0.010983663538408064,
          0.012618733966581155,
          0.01494726548858001,
          0.016565740934085055,
          0.01392563709789723,
          0.01709639307804573,
          0.013998744507219083
         ]
        },
        {
         "marker": {
          "color": "rgba(255, 153, 51, 0.6)",
          "line": {
           "color": "rgba(255, 153, 51, 0.7)",
           "width": 1
          }
         },
         "name": "VarVee",
         "orientation": "v",
         "text": "",
         "type": "bar",
         "visible": true,
         "x": [
          "2021-week_33",
          "2021-week_34",
          "2021-week_35",
          "2021-week_36",
          "2021-week_37",
          "2021-week_38",
          "2021-week_39",
          "2021-week_40",
          "2021-week_41",
          "2021-week_42",
          "2021-week_43",
          "2021-week_44",
          "2021-week_45",
          "2021-week_46",
          "2021-week_47",
          "2021-week_48",
          "2021-week_49",
          "2021-week_50",
          "2021-week_51",
          "2022-week_01",
          "2022-week_02",
          "2022-week_03",
          "2022-week_04",
          "2022-week_05",
          "2022-week_06",
          "2022-week_52"
         ],
         "y": [
          0.00229869044302034,
          0.004662166863822976,
          0.004870242816391846,
          0.006879777623349548,
          0.0074346859366314615,
          0.007179201226737297,
          0.005063817980022198,
          0.004789670970428988,
          0.005563282336578581,
          0.0023650528658875902,
          0.0029929700006960393,
          0.003217008182390377,
          0.003601108033240997,
          0.0024390243902439024,
          0.002707957228162755,
          0.0017356289919466814,
          0.0004882471925786427,
          0.0006248264371008053,
          0.00046856696602889497,
          0.00027806743135210286,
          0.0006933370311308326,
          0.0007683173849270099,
          0.0010440593025683859,
          0.0007659100403843476,
          0.0006949753283758427,
          0.0003766478342749529
         ]
        },
        {
         "marker": {
          "color": "rgba(55, 128, 191, 0.6)",
          "line": {
           "color": "rgba(55, 128, 191, 0.7)",
           "width": 1
          }
         },
         "name": "aPriori Technologies",
         "orientation": "v",
         "text": "",
         "type": "bar",
         "visible": true,
         "x": [
          "2021-week_33",
          "2021-week_34",
          "2021-week_35",
          "2021-week_36",
          "2021-week_37",
          "2021-week_38",
          "2021-week_39",
          "2021-week_40",
          "2021-week_41",
          "2021-week_42",
          "2021-week_43",
          "2021-week_44",
          "2021-week_45",
          "2021-week_46",
          "2021-week_47",
          "2021-week_48",
          "2021-week_49",
          "2021-week_50",
          "2021-week_51",
          "2022-week_01",
          "2022-week_02",
          "2022-week_03",
          "2022-week_04",
          "2022-week_05",
          "2022-week_06",
          "2022-week_52"
         ],
         "y": [
          0.002995263304541655,
          0.0029225523623964927,
          0.003965769150490503,
          0.0029881862404447534,
          0.0027098387993329627,
          0.002439534397435004,
          0.0039539400665926745,
          0.004442593363876163,
          0.0035465924895688454,
          0.002295492487479132,
          0.002853762093686921,
          0.002307853696062662,
          0.003670360110803324,
          0.005156794425087108,
          0.004999305651992779,
          0.003262982504859761,
          0.0034874799469903047,
          0.00354068314357123,
          0.004139008199921906,
          0.0032672923183872087,
          0.002010677390279415,
          0.0017461758748341133,
          0.0020881186051367718,
          0.002297730121153043,
          0.002015428452289944,
          0.0038292529817953547
         ]
        },
        {
         "marker": {
          "color": "rgba(50, 171, 96, 0.6)",
          "line": {
           "color": "rgba(50, 171, 96, 0.7)",
           "width": 1
          }
         },
         "name": "iDreamsky Technology",
         "orientation": "v",
         "text": "",
         "type": "bar",
         "visible": true,
         "x": [
          "2021-week_33",
          "2021-week_34",
          "2021-week_35",
          "2021-week_36",
          "2021-week_37",
          "2021-week_38",
          "2021-week_39",
          "2021-week_40",
          "2021-week_41",
          "2021-week_42",
          "2021-week_43",
          "2021-week_44",
          "2021-week_45",
          "2021-week_46",
          "2021-week_47",
          "2021-week_48",
          "2021-week_49",
          "2021-week_50",
          "2021-week_51",
          "2022-week_01",
          "2022-week_02",
          "2022-week_03",
          "2022-week_04",
          "2022-week_05",
          "2022-week_06",
          "2022-week_52"
         ],
         "y": [
          0.021872387851769294,
          0.021153712337346045,
          0.035761497251791556,
          0.04211257817929118,
          0.04175931072818232,
          0.05123022234613508,
          0.04557436182019978,
          0.042759961127308066,
          0.032753824756606396,
          0.018433500278241515,
          0.018932275353240064,
          0.020560878383103713,
          0.0260387811634349,
          0.04494773519163763,
          0.08734897930842939,
          0.036239933351846706,
          0.02483085722257097,
          0.02513190780338795,
          0.026395939086294416,
          0.024261383385470976,
          0.021770782777508147,
          0.01990640497310889,
          0.016356929073571377,
          0.016362623590029244,
          0.018555841267634997,
          0.02366603892027621
         ]
        }
       ],
       "layout": {
        "autosize": true,
        "barmode": "stack",
        "legend": {
         "bgcolor": "#F5F6F9",
         "font": {
          "color": "#4D5663"
         },
         "traceorder": "normal"
        },
        "paper_bgcolor": "#F5F6F9",
        "plot_bgcolor": "#F5F6F9",
        "template": {
         "data": {
          "bar": [
           {
            "error_x": {
             "color": "#2a3f5f"
            },
            "error_y": {
             "color": "#2a3f5f"
            },
            "marker": {
             "line": {
              "color": "#E5ECF6",
              "width": 0.5
             }
            },
            "type": "bar"
           }
          ],
          "barpolar": [
           {
            "marker": {
             "line": {
              "color": "#E5ECF6",
              "width": 0.5
             }
            },
            "type": "barpolar"
           }
          ],
          "carpet": [
           {
            "aaxis": {
             "endlinecolor": "#2a3f5f",
             "gridcolor": "white",
             "linecolor": "white",
             "minorgridcolor": "white",
             "startlinecolor": "#2a3f5f"
            },
            "baxis": {
             "endlinecolor": "#2a3f5f",
             "gridcolor": "white",
             "linecolor": "white",
             "minorgridcolor": "white",
             "startlinecolor": "#2a3f5f"
            },
            "type": "carpet"
           }
          ],
          "choropleth": [
           {
            "colorbar": {
             "outlinewidth": 0,
             "ticks": ""
            },
            "type": "choropleth"
           }
          ],
          "contour": [
           {
            "colorbar": {
             "outlinewidth": 0,
             "ticks": ""
            },
            "colorscale": [
             [
              0,
              "#0d0887"
             ],
             [
              0.1111111111111111,
              "#46039f"
             ],
             [
              0.2222222222222222,
              "#7201a8"
             ],
             [
              0.3333333333333333,
              "#9c179e"
             ],
             [
              0.4444444444444444,
              "#bd3786"
             ],
             [
              0.5555555555555556,
              "#d8576b"
             ],
             [
              0.6666666666666666,
              "#ed7953"
             ],
             [
              0.7777777777777778,
              "#fb9f3a"
             ],
             [
              0.8888888888888888,
              "#fdca26"
             ],
             [
              1,
              "#f0f921"
             ]
            ],
            "type": "contour"
           }
          ],
          "contourcarpet": [
           {
            "colorbar": {
             "outlinewidth": 0,
             "ticks": ""
            },
            "type": "contourcarpet"
           }
          ],
          "heatmap": [
           {
            "colorbar": {
             "outlinewidth": 0,
             "ticks": ""
            },
            "colorscale": [
             [
              0,
              "#0d0887"
             ],
             [
              0.1111111111111111,
              "#46039f"
             ],
             [
              0.2222222222222222,
              "#7201a8"
             ],
             [
              0.3333333333333333,
              "#9c179e"
             ],
             [
              0.4444444444444444,
              "#bd3786"
             ],
             [
              0.5555555555555556,
              "#d8576b"
             ],
             [
              0.6666666666666666,
              "#ed7953"
             ],
             [
              0.7777777777777778,
              "#fb9f3a"
             ],
             [
              0.8888888888888888,
              "#fdca26"
             ],
             [
              1,
              "#f0f921"
             ]
            ],
            "type": "heatmap"
           }
          ],
          "heatmapgl": [
           {
            "colorbar": {
             "outlinewidth": 0,
             "ticks": ""
            },
            "colorscale": [
             [
              0,
              "#0d0887"
             ],
             [
              0.1111111111111111,
              "#46039f"
             ],
             [
              0.2222222222222222,
              "#7201a8"
             ],
             [
              0.3333333333333333,
              "#9c179e"
             ],
             [
              0.4444444444444444,
              "#bd3786"
             ],
             [
              0.5555555555555556,
              "#d8576b"
             ],
             [
              0.6666666666666666,
              "#ed7953"
             ],
             [
              0.7777777777777778,
              "#fb9f3a"
             ],
             [
              0.8888888888888888,
              "#fdca26"
             ],
             [
              1,
              "#f0f921"
             ]
            ],
            "type": "heatmapgl"
           }
          ],
          "histogram": [
           {
            "marker": {
             "colorbar": {
              "outlinewidth": 0,
              "ticks": ""
             }
            },
            "type": "histogram"
           }
          ],
          "histogram2d": [
           {
            "colorbar": {
             "outlinewidth": 0,
             "ticks": ""
            },
            "colorscale": [
             [
              0,
              "#0d0887"
             ],
             [
              0.1111111111111111,
              "#46039f"
             ],
             [
              0.2222222222222222,
              "#7201a8"
             ],
             [
              0.3333333333333333,
              "#9c179e"
             ],
             [
              0.4444444444444444,
              "#bd3786"
             ],
             [
              0.5555555555555556,
              "#d8576b"
             ],
             [
              0.6666666666666666,
              "#ed7953"
             ],
             [
              0.7777777777777778,
              "#fb9f3a"
             ],
             [
              0.8888888888888888,
              "#fdca26"
             ],
             [
              1,
              "#f0f921"
             ]
            ],
            "type": "histogram2d"
           }
          ],
          "histogram2dcontour": [
           {
            "colorbar": {
             "outlinewidth": 0,
             "ticks": ""
            },
            "colorscale": [
             [
              0,
              "#0d0887"
             ],
             [
              0.1111111111111111,
              "#46039f"
             ],
             [
              0.2222222222222222,
              "#7201a8"
             ],
             [
              0.3333333333333333,
              "#9c179e"
             ],
             [
              0.4444444444444444,
              "#bd3786"
             ],
             [
              0.5555555555555556,
              "#d8576b"
             ],
             [
              0.6666666666666666,
              "#ed7953"
             ],
             [
              0.7777777777777778,
              "#fb9f3a"
             ],
             [
              0.8888888888888888,
              "#fdca26"
             ],
             [
              1,
              "#f0f921"
             ]
            ],
            "type": "histogram2dcontour"
           }
          ],
          "mesh3d": [
           {
            "colorbar": {
             "outlinewidth": 0,
             "ticks": ""
            },
            "type": "mesh3d"
           }
          ],
          "parcoords": [
           {
            "line": {
             "colorbar": {
              "outlinewidth": 0,
              "ticks": ""
             }
            },
            "type": "parcoords"
           }
          ],
          "pie": [
           {
            "automargin": true,
            "type": "pie"
           }
          ],
          "scatter": [
           {
            "marker": {
             "colorbar": {
              "outlinewidth": 0,
              "ticks": ""
             }
            },
            "type": "scatter"
           }
          ],
          "scatter3d": [
           {
            "line": {
             "colorbar": {
              "outlinewidth": 0,
              "ticks": ""
             }
            },
            "marker": {
             "colorbar": {
              "outlinewidth": 0,
              "ticks": ""
             }
            },
            "type": "scatter3d"
           }
          ],
          "scattercarpet": [
           {
            "marker": {
             "colorbar": {
              "outlinewidth": 0,
              "ticks": ""
             }
            },
            "type": "scattercarpet"
           }
          ],
          "scattergeo": [
           {
            "marker": {
             "colorbar": {
              "outlinewidth": 0,
              "ticks": ""
             }
            },
            "type": "scattergeo"
           }
          ],
          "scattergl": [
           {
            "marker": {
             "colorbar": {
              "outlinewidth": 0,
              "ticks": ""
             }
            },
            "type": "scattergl"
           }
          ],
          "scattermapbox": [
           {
            "marker": {
             "colorbar": {
              "outlinewidth": 0,
              "ticks": ""
             }
            },
            "type": "scattermapbox"
           }
          ],
          "scatterpolar": [
           {
            "marker": {
             "colorbar": {
              "outlinewidth": 0,
              "ticks": ""
             }
            },
            "type": "scatterpolar"
           }
          ],
          "scatterpolargl": [
           {
            "marker": {
             "colorbar": {
              "outlinewidth": 0,
              "ticks": ""
             }
            },
            "type": "scatterpolargl"
           }
          ],
          "scatterternary": [
           {
            "marker": {
             "colorbar": {
              "outlinewidth": 0,
              "ticks": ""
             }
            },
            "type": "scatterternary"
           }
          ],
          "surface": [
           {
            "colorbar": {
             "outlinewidth": 0,
             "ticks": ""
            },
            "colorscale": [
             [
              0,
              "#0d0887"
             ],
             [
              0.1111111111111111,
              "#46039f"
             ],
             [
              0.2222222222222222,
              "#7201a8"
             ],
             [
              0.3333333333333333,
              "#9c179e"
             ],
             [
              0.4444444444444444,
              "#bd3786"
             ],
             [
              0.5555555555555556,
              "#d8576b"
             ],
             [
              0.6666666666666666,
              "#ed7953"
             ],
             [
              0.7777777777777778,
              "#fb9f3a"
             ],
             [
              0.8888888888888888,
              "#fdca26"
             ],
             [
              1,
              "#f0f921"
             ]
            ],
            "type": "surface"
           }
          ],
          "table": [
           {
            "cells": {
             "fill": {
              "color": "#EBF0F8"
             },
             "line": {
              "color": "white"
             }
            },
            "header": {
             "fill": {
              "color": "#C8D4E3"
             },
             "line": {
              "color": "white"
             }
            },
            "type": "table"
           }
          ]
         },
         "layout": {
          "annotationdefaults": {
           "arrowcolor": "#2a3f5f",
           "arrowhead": 0,
           "arrowwidth": 1
          },
          "autotypenumbers": "strict",
          "coloraxis": {
           "colorbar": {
            "outlinewidth": 0,
            "ticks": ""
           }
          },
          "colorscale": {
           "diverging": [
            [
             0,
             "#8e0152"
            ],
            [
             0.1,
             "#c51b7d"
            ],
            [
             0.2,
             "#de77ae"
            ],
            [
             0.3,
             "#f1b6da"
            ],
            [
             0.4,
             "#fde0ef"
            ],
            [
             0.5,
             "#f7f7f7"
            ],
            [
             0.6,
             "#e6f5d0"
            ],
            [
             0.7,
             "#b8e186"
            ],
            [
             0.8,
             "#7fbc41"
            ],
            [
             0.9,
             "#4d9221"
            ],
            [
             1,
             "#276419"
            ]
           ],
           "sequential": [
            [
             0,
             "#0d0887"
            ],
            [
             0.1111111111111111,
             "#46039f"
            ],
            [
             0.2222222222222222,
             "#7201a8"
            ],
            [
             0.3333333333333333,
             "#9c179e"
            ],
            [
             0.4444444444444444,
             "#bd3786"
            ],
            [
             0.5555555555555556,
             "#d8576b"
            ],
            [
             0.6666666666666666,
             "#ed7953"
            ],
            [
             0.7777777777777778,
             "#fb9f3a"
            ],
            [
             0.8888888888888888,
             "#fdca26"
            ],
            [
             1,
             "#f0f921"
            ]
           ],
           "sequentialminus": [
            [
             0,
             "#0d0887"
            ],
            [
             0.1111111111111111,
             "#46039f"
            ],
            [
             0.2222222222222222,
             "#7201a8"
            ],
            [
             0.3333333333333333,
             "#9c179e"
            ],
            [
             0.4444444444444444,
             "#bd3786"
            ],
            [
             0.5555555555555556,
             "#d8576b"
            ],
            [
             0.6666666666666666,
             "#ed7953"
            ],
            [
             0.7777777777777778,
             "#fb9f3a"
            ],
            [
             0.8888888888888888,
             "#fdca26"
            ],
            [
             1,
             "#f0f921"
            ]
           ]
          },
          "colorway": [
           "#636efa",
           "#EF553B",
           "#00cc96",
           "#ab63fa",
           "#FFA15A",
           "#19d3f3",
           "#FF6692",
           "#B6E880",
           "#FF97FF",
           "#FECB52"
          ],
          "font": {
           "color": "#2a3f5f"
          },
          "geo": {
           "bgcolor": "white",
           "lakecolor": "white",
           "landcolor": "#E5ECF6",
           "showlakes": true,
           "showland": true,
           "subunitcolor": "white"
          },
          "hoverlabel": {
           "align": "left"
          },
          "hovermode": "closest",
          "mapbox": {
           "style": "light"
          },
          "paper_bgcolor": "white",
          "plot_bgcolor": "#E5ECF6",
          "polar": {
           "angularaxis": {
            "gridcolor": "white",
            "linecolor": "white",
            "ticks": ""
           },
           "bgcolor": "#E5ECF6",
           "radialaxis": {
            "gridcolor": "white",
            "linecolor": "white",
            "ticks": ""
           }
          },
          "scene": {
           "xaxis": {
            "backgroundcolor": "#E5ECF6",
            "gridcolor": "white",
            "gridwidth": 2,
            "linecolor": "white",
            "showbackground": true,
            "ticks": "",
            "zerolinecolor": "white"
           },
           "yaxis": {
            "backgroundcolor": "#E5ECF6",
            "gridcolor": "white",
            "gridwidth": 2,
            "linecolor": "white",
            "showbackground": true,
            "ticks": "",
            "zerolinecolor": "white"
           },
           "zaxis": {
            "backgroundcolor": "#E5ECF6",
            "gridcolor": "white",
            "gridwidth": 2,
            "linecolor": "white",
            "showbackground": true,
            "ticks": "",
            "zerolinecolor": "white"
           }
          },
          "shapedefaults": {
           "line": {
            "color": "#2a3f5f"
           }
          },
          "ternary": {
           "aaxis": {
            "gridcolor": "white",
            "linecolor": "white",
            "ticks": ""
           },
           "baxis": {
            "gridcolor": "white",
            "linecolor": "white",
            "ticks": ""
           },
           "bgcolor": "#E5ECF6",
           "caxis": {
            "gridcolor": "white",
            "linecolor": "white",
            "ticks": ""
           }
          },
          "title": {
           "x": 0.05
          },
          "xaxis": {
           "automargin": true,
           "gridcolor": "white",
           "linecolor": "white",
           "ticks": "",
           "title": {
            "standoff": 15
           },
           "zerolinecolor": "white",
           "zerolinewidth": 2
          },
          "yaxis": {
           "automargin": true,
           "gridcolor": "white",
           "linecolor": "white",
           "ticks": "",
           "title": {
            "standoff": 15
           },
           "zerolinecolor": "white",
           "zerolinewidth": 2
          }
         }
        },
        "title": {
         "font": {
          "color": "#4D5663"
         }
        },
        "xaxis": {
         "autorange": true,
         "gridcolor": "#E1E5ED",
         "range": [
          -0.5,
          25.5
         ],
         "showgrid": true,
         "tickfont": {
          "color": "#4D5663"
         },
         "title": {
          "font": {
           "color": "#4D5663"
          },
          "text": ""
         },
         "type": "category",
         "zerolinecolor": "#E1E5ED"
        },
        "yaxis": {
         "autorange": true,
         "gridcolor": "#E1E5ED",
         "range": [
          0,
          1.0526315789473686
         ],
         "showgrid": true,
         "tickfont": {
          "color": "#4D5663"
         },
         "title": {
          "font": {
           "color": "#4D5663"
          },
          "text": ""
         },
         "type": "linear",
         "zerolinecolor": "#E1E5ED"
        }
       }
      },
      "image/png": "[encoded data removed]",
      "text/html": [
       "<div>                            <div id=\"87e783d2-8496-4ebd-b03e-132298be48dd\" class=\"plotly-graph-div\" style=\"height:525px; width:100%;\"></div>            <script type=\"text/javascript\">                require([\"plotly\"], function(Plotly) {                    window.PLOTLYENV=window.PLOTLYENV || {};\n",
       "                    window.PLOTLYENV.BASE_URL='https://plot.ly';                                    if (document.getElementById(\"87e783d2-8496-4ebd-b03e-132298be48dd\")) {                    Plotly.newPlot(                        \"87e783d2-8496-4ebd-b03e-132298be48dd\",                        [{\"marker\": {\"color\": \"rgba(255, 153, 51, 0.6)\", \"line\": {\"color\": \"rgba(255, 153, 51, 1.0)\", \"width\": 1}}, \"name\": \"Allthetopbananas.com\", \"orientation\": \"v\", \"text\": \"\", \"type\": \"bar\", \"x\": [\"2021-week_33\", \"2021-week_34\", \"2021-week_35\", \"2021-week_36\", \"2021-week_37\", \"2021-week_38\", \"2021-week_39\", \"2021-week_40\", \"2021-week_41\", \"2021-week_42\", \"2021-week_43\", \"2021-week_44\", \"2021-week_45\", \"2021-week_46\", \"2021-week_47\", \"2021-week_48\", \"2021-week_49\", \"2021-week_50\", \"2021-week_51\", \"2022-week_01\", \"2022-week_02\", \"2022-week_03\", \"2022-week_04\", \"2022-week_05\", \"2022-week_06\", \"2022-week_52\"], \"y\": [0.0004876010030649206, 0.00020875374017117806, 0.0004870242816391846, 0.0009728978457261987, 0.000764313507504169, 0.0009758137589740016, 0.000416204217536071, 0.0009718172983479105, 0.0006954102920723226, 0.0002782415136338342, 0.00020881186051367718, 0.0006993496048674732, 0.00110803324099723, 0.0007665505226480836, 0.00034717400361060965, 0.0004859761177450708, 0.0005579967915184488, 0.0005554012774229381, 0.00046856696602889497, 0.0004171011470281543, 0.0004853359217915829, 0.0005587762799469162, 0.0005568316280364725, 0.00034814092744743074, 0.00027799013135033706, 0.0008788449466415569]}, {\"marker\": {\"color\": \"rgba(55, 128, 191, 0.6)\", \"line\": {\"color\": \"rgba(55, 128, 191, 1.0)\", \"width\": 1}}, \"name\": \"Altammune\", \"orientation\": \"v\", \"text\": \"\", \"type\": \"bar\", \"x\": [\"2021-week_33\", \"2021-week_34\", \"2021-week_35\", \"2021-week_36\", \"2021-week_37\", \"2021-week_38\", \"2021-week_39\", \"2021-week_40\", \"2021-week_41\", \"2021-week_42\", \"2021-week_43\", \"2021-week_44\", \"2021-week_45\", \"2021-week_46\", \"2021-week_47\", \"2021-week_48\", \"2021-week_49\", \"2021-week_50\", \"2021-week_51\", \"2022-week_01\", \"2022-week_02\", \"2022-week_03\", \"2022-week_04\", \"2022-week_05\", \"2022-week_06\", \"2022-week_52\"], \"y\": [\"\", \"\", 6.957489737702637e-05, \"\", \"\", 6.970098278385725e-05, \"\", 0.00013883104262113008, \"\", 6.956037840845854e-05, \"\", \"\", \"\", \"\", \"\", \"\", \"\", \"\", \"\", \"\", \"\", \"\", \"\", \"\", \"\", \"\"]}, {\"marker\": {\"color\": \"rgba(50, 171, 96, 0.6)\", \"line\": {\"color\": \"rgba(50, 171, 96, 1.0)\", \"width\": 1}}, \"name\": \"Bizanga\", \"orientation\": \"v\", \"text\": \"\", \"type\": \"bar\", \"x\": [\"2021-week_33\", \"2021-week_34\", \"2021-week_35\", \"2021-week_36\", \"2021-week_37\", \"2021-week_38\", \"2021-week_39\", \"2021-week_40\", \"2021-week_41\", \"2021-week_42\", \"2021-week_43\", \"2021-week_44\", \"2021-week_45\", \"2021-week_46\", \"2021-week_47\", \"2021-week_48\", \"2021-week_49\", \"2021-week_50\", \"2021-week_51\", \"2022-week_01\", \"2022-week_02\", \"2022-week_03\", \"2022-week_04\", \"2022-week_05\", \"2022-week_06\", \"2022-week_52\"], \"y\": [0.007174700473669545, 0.006888873425648877, 0.005705141584916162, 0.005281445448227936, 0.005350194552529183, 0.005436676657140866, 0.004786348501664817, 0.004442593363876163, 0.005980528511821975, 0.006886477462437396, 0.004941880698823693, 0.004126162668718092, 0.004224376731301939, 0.006202090592334495, 0.007082349673656437, 0.006248264371008053, 0.0076724558833786705, 0.006803665648430992, 0.006794221007418977, 0.007438303788668752, 0.006378700686403661, 0.004540057274568694, 0.003758613489246189, 0.0034117810889848213, 0.003891861838904719, 0.006089139987445072]}, {\"marker\": {\"color\": \"rgba(128, 0, 128, 0.6)\", \"line\": {\"color\": \"rgba(128, 0, 128, 1.0)\", \"width\": 1}}, \"name\": \"Crescendo Networks\", \"orientation\": \"v\", \"text\": \"\", \"type\": \"bar\", \"x\": [\"2021-week_33\", \"2021-week_34\", \"2021-week_35\", \"2021-week_36\", \"2021-week_37\", \"2021-week_38\", \"2021-week_39\", \"2021-week_40\", \"2021-week_41\", \"2021-week_42\", \"2021-week_43\", \"2021-week_44\", \"2021-week_45\", \"2021-week_46\", \"2021-week_47\", \"2021-week_48\", \"2021-week_49\", \"2021-week_50\", \"2021-week_51\", \"2022-week_01\", \"2022-week_02\", \"2022-week_03\", \"2022-week_04\", \"2022-week_05\", \"2022-week_06\", \"2022-week_52\"], \"y\": [0.0030649205906937865, 0.0057059355646788676, 0.00480066791901482, 0.007366226546212648, 0.006183991106170094, 0.006482191398898725, 0.0054106548279689234, 0.017700957934194086, 0.006397774687065368, 0.0034084585420144685, 0.004106633256768985, 0.004685642352612071, 0.0033240997229916896, 0.010871080139372822, 0.003749479238994584, 0.003748958622604832, 0.004463974332147591, 0.003957234101638433, 0.006247559547051933, 0.0026416405978449773, 0.0033973514525410804, 0.002584340294754488, 0.0030625739542005986, 0.003342152903495335, 0.002084925985127528, 0.005712492153170119]}, {\"marker\": {\"color\": \"rgba(219, 64, 82, 0.6)\", \"line\": {\"color\": \"rgba(219, 64, 82, 1.0)\", \"width\": 1}}, \"name\": \"Cue\", \"orientation\": \"v\", \"text\": \"\", \"type\": \"bar\", \"x\": [\"2021-week_33\", \"2021-week_34\", \"2021-week_35\", \"2021-week_36\", \"2021-week_37\", \"2021-week_38\", \"2021-week_39\", \"2021-week_40\", \"2021-week_41\", \"2021-week_42\", \"2021-week_43\", \"2021-week_44\", \"2021-week_45\", \"2021-week_46\", \"2021-week_47\", \"2021-week_48\", \"2021-week_49\", \"2021-week_50\", \"2021-week_51\", \"2022-week_01\", \"2022-week_02\", \"2022-week_03\", \"2022-week_04\", \"2022-week_05\", \"2022-week_06\", \"2022-week_52\"], \"y\": [\"\", 6.958458005705935e-05, \"\", \"\", \"\", 0.0001394019655677145, \"\", 6.941552131056504e-05, \"\", \"\", \"\", \"\", \"\", \"\", \"\", \"\", \"\", \"\", \"\", \"\", \"\", \"\", \"\", \"\", \"\", \"\"]}, {\"marker\": {\"color\": \"rgba(0, 128, 128, 0.6)\", \"line\": {\"color\": \"rgba(0, 128, 128, 1.0)\", \"width\": 1}}, \"name\": \"Cuiker\", \"orientation\": \"v\", \"text\": \"\", \"type\": \"bar\", \"x\": [\"2021-week_33\", \"2021-week_34\", \"2021-week_35\", \"2021-week_36\", \"2021-week_37\", \"2021-week_38\", \"2021-week_39\", \"2021-week_40\", \"2021-week_41\", \"2021-week_42\", \"2021-week_43\", \"2021-week_44\", \"2021-week_45\", \"2021-week_46\", \"2021-week_47\", \"2021-week_48\", \"2021-week_49\", \"2021-week_50\", \"2021-week_51\", \"2022-week_01\", \"2022-week_02\", \"2022-week_03\", \"2022-week_04\", \"2022-week_05\", \"2022-week_06\", \"2022-week_52\"], \"y\": [6.965728615213152e-05, 6.958458005705935e-05, 6.957489737702637e-05, 6.949270326615705e-05, \"\", \"\", \"\", \"\", 6.954102920723227e-05, 6.956037840845854e-05, 6.960395350455906e-05, \"\", 6.925207756232688e-05, 6.968641114982578e-05, 0.00013886960144424384, \"\", 0.0002092487968194183, 0.00013885031935573453, 7.809449433814917e-05, 6.951685783802571e-05, 6.933370311308327e-05, 6.984703499336453e-05, \"\", \"\", 6.949753283758427e-05, 6.277463904582549e-05]}, {\"marker\": {\"color\": \"rgba(255, 255, 51, 0.6)\", \"line\": {\"color\": \"rgba(255, 255, 51, 1.0)\", \"width\": 1}}, \"name\": \"Derceto\", \"orientation\": \"v\", \"text\": \"\", \"type\": \"bar\", \"x\": [\"2021-week_33\", \"2021-week_34\", \"2021-week_35\", \"2021-week_36\", \"2021-week_37\", \"2021-week_38\", \"2021-week_39\", \"2021-week_40\", \"2021-week_41\", \"2021-week_42\", \"2021-week_43\", \"2021-week_44\", \"2021-week_45\", \"2021-week_46\", \"2021-week_47\", \"2021-week_48\", \"2021-week_49\", \"2021-week_50\", \"2021-week_51\", \"2022-week_01\", \"2022-week_02\", \"2022-week_03\", \"2022-week_04\", \"2022-week_05\", \"2022-week_06\", \"2022-week_52\"], \"y\": [\"\", \"\", \"\", \"\", 6.948304613674263e-05, \"\", \"\", \"\", \"\", \"\", \"\", \"\", \"\", \"\", \"\", \"\", \"\", \"\", \"\", \"\", \"\", \"\", \"\", \"\", \"\", \"\"]}, {\"marker\": {\"color\": \"rgba(128, 128, 0, 0.6)\", \"line\": {\"color\": \"rgba(128, 128, 0, 1.0)\", \"width\": 1}}, \"name\": \"Doctorfun Entertainment, Ltd\", \"orientation\": \"v\", \"text\": \"\", \"type\": \"bar\", \"x\": [\"2021-week_33\", \"2021-week_34\", \"2021-week_35\", \"2021-week_36\", \"2021-week_37\", \"2021-week_38\", \"2021-week_39\", \"2021-week_40\", \"2021-week_41\", \"2021-week_42\", \"2021-week_43\", \"2021-week_44\", \"2021-week_45\", \"2021-week_46\", \"2021-week_47\", \"2021-week_48\", \"2021-week_49\", \"2021-week_50\", \"2021-week_51\", \"2022-week_01\", \"2022-week_02\", \"2022-week_03\", \"2022-week_04\", \"2022-week_05\", \"2022-week_06\", \"2022-week_52\"], \"y\": [\"\", \"\", 0.0002782995895081055, 0.00048644892286309936, 0.0009032795997776543, 0.0010455147417578587, 0.0012486126526082132, 0.0009718172983479105, 0.0012517385257301808, 0.0017390094602114635, 0.0009744553490638268, 0.0009091544863277152, 6.925207756232688e-05, 6.968641114982578e-05, \"\", 0.00013885031935573453, 0.0002092487968194183, \"\", 7.809449433814917e-05, 6.951685783802571e-05, 0.0004853359217915829, 0.0007683173849270099, 0.0008352474420547087, 0.0007659100403843476, 0.0008339703940510112, 6.277463904582549e-05]}, {\"marker\": {\"color\": \"rgba(251, 128, 114, 0.6)\", \"line\": {\"color\": \"rgba(251, 128, 114, 1.0)\", \"width\": 1}}, \"name\": \"Earth Networks\", \"orientation\": \"v\", \"text\": \"\", \"type\": \"bar\", \"x\": [\"2021-week_33\", \"2021-week_34\", \"2021-week_35\", \"2021-week_36\", \"2021-week_37\", \"2021-week_38\", \"2021-week_39\", \"2021-week_40\", \"2021-week_41\", \"2021-week_42\", \"2021-week_43\", \"2021-week_44\", \"2021-week_45\", \"2021-week_46\", \"2021-week_47\", \"2021-week_48\", \"2021-week_49\", \"2021-week_50\", \"2021-week_51\", \"2022-week_01\", \"2022-week_02\", \"2022-week_03\", \"2022-week_04\", \"2022-week_05\", \"2022-week_06\", \"2022-week_52\"], \"y\": [\"\", \"\", 6.957489737702637e-05, 0.0001389854065323141, \"\", \"\", \"\", \"\", 6.954102920723227e-05, \"\", \"\", \"\", \"\", \"\", \"\", \"\", \"\", \"\", \"\", \"\", \"\", \"\", \"\", \"\", \"\", \"\"]}, {\"marker\": {\"color\": \"rgba(128, 177, 211, 0.6)\", \"line\": {\"color\": \"rgba(128, 177, 211, 1.0)\", \"width\": 1}}, \"name\": \"Extreme DA\", \"orientation\": \"v\", \"text\": \"\", \"type\": \"bar\", \"x\": [\"2021-week_33\", \"2021-week_34\", \"2021-week_35\", \"2021-week_36\", \"2021-week_37\", \"2021-week_38\", \"2021-week_39\", \"2021-week_40\", \"2021-week_41\", \"2021-week_42\", \"2021-week_43\", \"2021-week_44\", \"2021-week_45\", \"2021-week_46\", \"2021-week_47\", \"2021-week_48\", \"2021-week_49\", \"2021-week_50\", \"2021-week_51\", \"2022-week_01\", \"2022-week_02\", \"2022-week_03\", \"2022-week_04\", \"2022-week_05\", \"2022-week_06\", \"2022-week_52\"], \"y\": [0.03517692950682642, 0.08892909331292186, 0.09601335838029638, 0.09263377345378736, 0.0883129516397999, 0.14776608350177736, 0.170019422863485, 0.1646536165486603, 0.1588317107093185, 0.14322481914301613, 0.15653929143175332, 0.16791384012868033, 0.18421052631578946, 0.19658536585365854, 0.20844327176781002, 0.18286587059150236, 0.12582827648741018, 0.13843376839766733, 0.21288559156579462, 0.20208550573514078, 0.19663038202870414, 0.17531605783334497, 0.16906800306257394, 0.17156384904609387, 0.16686357634303983, 0.16064030131826743]}, {\"marker\": {\"color\": \"rgba(128, 177, 211, 0.6)\", \"line\": {\"color\": \"rgba(128, 177, 211, 0.8999999999999999)\", \"width\": 1}}, \"name\": \"Fancy\", \"orientation\": \"v\", \"text\": \"\", \"type\": \"bar\", \"x\": [\"2021-week_33\", \"2021-week_34\", \"2021-week_35\", \"2021-week_36\", \"2021-week_37\", \"2021-week_38\", \"2021-week_39\", \"2021-week_40\", \"2021-week_41\", \"2021-week_42\", \"2021-week_43\", \"2021-week_44\", \"2021-week_45\", \"2021-week_46\", \"2021-week_47\", \"2021-week_48\", \"2021-week_49\", \"2021-week_50\", \"2021-week_51\", \"2022-week_01\", \"2022-week_02\", \"2022-week_03\", \"2022-week_04\", \"2022-week_05\", \"2022-week_06\", \"2022-week_52\"], \"y\": [0.06485093340763444, 0.05260594252313687, 0.06129548458916023, 0.0739402362751911, 0.0821289605336298, 0.08106224297762599, 0.07450055493895671, 0.08322921005136749, 0.10069541029207232, 0.07957707289927657, 0.08561286281060765, 0.0904259039093643, 0.09217451523545707, 0.0713588850174216, 0.039786140813775864, 0.07025826159400167, 0.11494733905280044, 0.11170508192168842, 0.09160484185864896, 0.06743135210288495, 0.0704430423628926, 0.09170915694628763, 0.12382543328461057, 0.13681938448684028, 0.15671693654875252, 0.08242310106716887]}, {\"marker\": {\"color\": \"rgba(255, 153, 51, 0.6)\", \"line\": {\"color\": \"rgba(255, 153, 51, 0.8999999999999999)\", \"width\": 1}}, \"name\": \"FlagTap\", \"orientation\": \"v\", \"text\": \"\", \"type\": \"bar\", \"x\": [\"2021-week_33\", \"2021-week_34\", \"2021-week_35\", \"2021-week_36\", \"2021-week_37\", \"2021-week_38\", \"2021-week_39\", \"2021-week_40\", \"2021-week_41\", \"2021-week_42\", \"2021-week_43\", \"2021-week_44\", \"2021-week_45\", \"2021-week_46\", \"2021-week_47\", \"2021-week_48\", \"2021-week_49\", \"2021-week_50\", \"2021-week_51\", \"2022-week_01\", \"2022-week_02\", \"2022-week_03\", \"2022-week_04\", \"2022-week_05\", \"2022-week_06\", \"2022-week_52\"], \"y\": [0.00013931457230426304, \"\", \"\", \"\", \"\", \"\", \"\", \"\", \"\", \"\", \"\", \"\", \"\", \"\", \"\", \"\", \"\", \"\", \"\", \"\", \"\", \"\", \"\", \"\", \"\", \"\"]}, {\"marker\": {\"color\": \"rgba(55, 128, 191, 0.6)\", \"line\": {\"color\": \"rgba(55, 128, 191, 0.8999999999999999)\", \"width\": 1}}, \"name\": \"Fry Multimedia\", \"orientation\": \"v\", \"text\": \"\", \"type\": \"bar\", \"x\": [\"2021-week_33\", \"2021-week_34\", \"2021-week_35\", \"2021-week_36\", \"2021-week_37\", \"2021-week_38\", \"2021-week_39\", \"2021-week_40\", \"2021-week_41\", \"2021-week_42\", \"2021-week_43\", \"2021-week_44\", \"2021-week_45\", \"2021-week_46\", \"2021-week_47\", \"2021-week_48\", \"2021-week_49\", \"2021-week_50\", \"2021-week_51\", \"2022-week_01\", \"2022-week_02\", \"2022-week_03\", \"2022-week_04\", \"2022-week_05\", \"2022-week_06\", \"2022-week_52\"], \"y\": [0.01567288938422959, 0.017744067914550136, 0.017950323523272804, 0.01716469770674079, 0.017857142857142856, 0.01575242210915174, 0.014567147613762486, 0.018256282104678605, 0.0196105702364395, 0.0134251530328325, 0.012111087909793277, 0.01258829288761452, 0.010110803324099723, 0.00975609756097561, 0.011803916122760728, 0.014509858372674257, 0.012624677408104903, 0.009233546237156345, 0.01101132370167903, 0.016336461591936045, 0.016501421340913817, 0.014178948103653, 0.012041483956288717, 0.009956830524996518, 0.012162068246577246, 0.006528562460765851]}, {\"marker\": {\"color\": \"rgba(50, 171, 96, 0.6)\", \"line\": {\"color\": \"rgba(50, 171, 96, 0.8999999999999999)\", \"width\": 1}}, \"name\": \"G-mode\", \"orientation\": \"v\", \"text\": \"\", \"type\": \"bar\", \"x\": [\"2021-week_33\", \"2021-week_34\", \"2021-week_35\", \"2021-week_36\", \"2021-week_37\", \"2021-week_38\", \"2021-week_39\", \"2021-week_40\", \"2021-week_41\", \"2021-week_42\", \"2021-week_43\", \"2021-week_44\", \"2021-week_45\", \"2021-week_46\", \"2021-week_47\", \"2021-week_48\", \"2021-week_49\", \"2021-week_50\", \"2021-week_51\", \"2022-week_01\", \"2022-week_02\", \"2022-week_03\", \"2022-week_04\", \"2022-week_05\", \"2022-week_06\", \"2022-week_52\"], \"y\": [0.0026469768737809973, 0.0026442140421682556, 0.0030612954845891604, 0.005628908964558721, 0.005350194552529183, 0.002997142259705862, 0.004786348501664817, 0.004928502013050118, 0.005563282336578581, 0.0025041736227045075, 0.0021577225586413306, 0.002587593538009651, 0.004293628808864266, 0.0029965156794425087, 0.002846826829606999, 0.0036101083032490976, 0.00411522633744856, 0.002360455429047487, 0.004607575165950801, 0.0022940563086548487, 0.003328017749427997, 0.002374799189774394, 0.0027841581401823624, 0.002297730121153043, 0.0014594481895892695, 0.004331450094161958]}, {\"marker\": {\"color\": \"rgba(128, 0, 128, 0.6)\", \"line\": {\"color\": \"rgba(128, 0, 128, 0.8999999999999999)\", \"width\": 1}}, \"name\": \"Glory Medical\", \"orientation\": \"v\", \"text\": \"\", \"type\": \"bar\", \"x\": [\"2021-week_33\", \"2021-week_34\", \"2021-week_35\", \"2021-week_36\", \"2021-week_37\", \"2021-week_38\", \"2021-week_39\", \"2021-week_40\", \"2021-week_41\", \"2021-week_42\", \"2021-week_43\", \"2021-week_44\", \"2021-week_45\", \"2021-week_46\", \"2021-week_47\", \"2021-week_48\", \"2021-week_49\", \"2021-week_50\", \"2021-week_51\", \"2022-week_01\", \"2022-week_02\", \"2022-week_03\", \"2022-week_04\", \"2022-week_05\", \"2022-week_06\", \"2022-week_52\"], \"y\": [0.0034132070214544443, 0.0007654303806276529, 0.00013914979475405275, 0.0006254343293954135, 0.0002084491384102279, 0.00034850491391928625, 0.0002081021087680355, 0.00020824656393169514, 6.954102920723227e-05, 6.956037840845854e-05, 6.960395350455906e-05, 0.0003496748024337366, \"\", 0.00013937282229965157, 0.00020830440216636578, 0.00027770063871146905, 0.0004184975936388366, 0.0003471257983893363, 0.00031237797735259666, 0.00013903371567605143, 0.00013866740622616653, 6.984703499336453e-05, \"\", 0.0001392563709789723, \"\", 6.277463904582549e-05]}, {\"marker\": {\"color\": \"rgba(219, 64, 82, 0.6)\", \"line\": {\"color\": \"rgba(219, 64, 82, 0.8999999999999999)\", \"width\": 1}}, \"name\": \"Joules Clothing\", \"orientation\": \"v\", \"text\": \"\", \"type\": \"bar\", \"x\": [\"2021-week_33\", \"2021-week_34\", \"2021-week_35\", \"2021-week_36\", \"2021-week_37\", \"2021-week_38\", \"2021-week_39\", \"2021-week_40\", \"2021-week_41\", \"2021-week_42\", \"2021-week_43\", \"2021-week_44\", \"2021-week_45\", \"2021-week_46\", \"2021-week_47\", \"2021-week_48\", \"2021-week_49\", \"2021-week_50\", \"2021-week_51\", \"2022-week_01\", \"2022-week_02\", \"2022-week_03\", \"2022-week_04\", \"2022-week_05\", \"2022-week_06\", \"2022-week_52\"], \"y\": [0.00027862914460852607, 6.958458005705935e-05, 0.00034787448688513185, 0.00020847810979847116, \"\", 6.970098278385725e-05, \"\", \"\", 6.954102920723227e-05, 0.0001391207568169171, \"\", 0.00020980488146024197, 6.925207756232688e-05, 0.00013937282229965157, 6.943480072212192e-05, \"\", \"\", \"\", \"\", \"\", 6.933370311308327e-05, \"\", \"\", \"\", \"\", \"\"]}, {\"marker\": {\"color\": \"rgba(0, 128, 128, 0.6)\", \"line\": {\"color\": \"rgba(0, 128, 128, 0.8999999999999999)\", \"width\": 1}}, \"name\": \"Jun Group\", \"orientation\": \"v\", \"text\": \"\", \"type\": \"bar\", \"x\": [\"2021-week_33\", \"2021-week_34\", \"2021-week_35\", \"2021-week_36\", \"2021-week_37\", \"2021-week_38\", \"2021-week_39\", \"2021-week_40\", \"2021-week_41\", \"2021-week_42\", \"2021-week_43\", \"2021-week_44\", \"2021-week_45\", \"2021-week_46\", \"2021-week_47\", \"2021-week_48\", \"2021-week_49\", \"2021-week_50\", \"2021-week_51\", \"2022-week_01\", \"2022-week_02\", \"2022-week_03\", \"2022-week_04\", \"2022-week_05\", \"2022-week_06\", \"2022-week_52\"], \"y\": [\"\", \"\", \"\", \"\", \"\", \"\", \"\", \"\", \"\", \"\", \"\", 6.993496048674733e-05, \"\", \"\", \"\", \"\", \"\", \"\", 7.809449433814917e-05, \"\", \"\", \"\", 0.00013920790700911812, \"\", \"\", \"\"]}, {\"marker\": {\"color\": \"rgba(255, 255, 51, 0.6)\", \"line\": {\"color\": \"rgba(255, 255, 51, 0.8999999999999999)\", \"width\": 1}}, \"name\": \"LocalVox Media\", \"orientation\": \"v\", \"text\": \"\", \"type\": \"bar\", \"x\": [\"2021-week_33\", \"2021-week_34\", \"2021-week_35\", \"2021-week_36\", \"2021-week_37\", \"2021-week_38\", \"2021-week_39\", \"2021-week_40\", \"2021-week_41\", \"2021-week_42\", \"2021-week_43\", \"2021-week_44\", \"2021-week_45\", \"2021-week_46\", \"2021-week_47\", \"2021-week_48\", \"2021-week_49\", \"2021-week_50\", \"2021-week_51\", \"2022-week_01\", \"2022-week_02\", \"2022-week_03\", \"2022-week_04\", \"2022-week_05\", \"2022-week_06\", \"2022-week_52\"], \"y\": [0.015254945667316801, 0.020875374017117806, 0.01551520211507688, 0.01535788742182071, 0.01764869371873263, 0.015961525057503312, 0.013665371809100999, 0.016034985422740525, 0.015716272600834493, 0.011268781302170284, 0.009396533723115472, 0.014546471781243443, 0.017243767313019392, 0.016445993031358887, 0.017914178586307457, 0.01825881699527909, 0.02218037246285834, 0.016870313801721742, 0.01663412729402577, 0.016127911018421967, 0.01504541357553907, 0.011175525598938325, 0.0119022760492796, 0.011001253307338811, 0.010146639794287303, 0.021468926553672316]}, {\"marker\": {\"color\": \"rgba(128, 128, 0, 0.6)\", \"line\": {\"color\": \"rgba(128, 128, 0, 0.8999999999999999)\", \"width\": 1}}, \"name\": \"Marketo Japan\", \"orientation\": \"v\", \"text\": \"\", \"type\": \"bar\", \"x\": [\"2021-week_33\", \"2021-week_34\", \"2021-week_35\", \"2021-week_36\", \"2021-week_37\", \"2021-week_38\", \"2021-week_39\", \"2021-week_40\", \"2021-week_41\", \"2021-week_42\", \"2021-week_43\", \"2021-week_44\", \"2021-week_45\", \"2021-week_46\", \"2021-week_47\", \"2021-week_48\", \"2021-week_49\", \"2021-week_50\", \"2021-week_51\", \"2022-week_01\", \"2022-week_02\", \"2022-week_03\", \"2022-week_04\", \"2022-week_05\", \"2022-week_06\", \"2022-week_52\"], \"y\": [\"\", \"\", \"\", \"\", 6.948304613674263e-05, \"\", \"\", \"\", \"\", \"\", \"\", \"\", \"\", \"\", \"\", \"\", \"\", \"\", \"\", \"\", \"\", \"\", \"\", \"\", \"\", \"\"]}, {\"marker\": {\"color\": \"rgba(251, 128, 114, 0.6)\", \"line\": {\"color\": \"rgba(251, 128, 114, 0.8999999999999999)\", \"width\": 1}}, \"name\": \"Metranome\", \"orientation\": \"v\", \"text\": \"\", \"type\": \"bar\", \"x\": [\"2021-week_33\", \"2021-week_34\", \"2021-week_35\", \"2021-week_36\", \"2021-week_37\", \"2021-week_38\", \"2021-week_39\", \"2021-week_40\", \"2021-week_41\", \"2021-week_42\", \"2021-week_43\", \"2021-week_44\", \"2021-week_45\", \"2021-week_46\", \"2021-week_47\", \"2021-week_48\", \"2021-week_49\", \"2021-week_50\", \"2021-week_51\", \"2022-week_01\", \"2022-week_02\", \"2022-week_03\", \"2022-week_04\", \"2022-week_05\", \"2022-week_06\", \"2022-week_52\"], \"y\": [0.00027862914460852607, 0.00020875374017117806, 0.0002782995895081055, 0.00034746351633078526, 6.948304613674263e-05, 6.970098278385725e-05, 0.00013873473917869035, 0.00013883104262113008, \"\", \"\", \"\", 6.993496048674733e-05, \"\", 6.968641114982578e-05, \"\", \"\", 0.0001394991978796122, 0.00013885031935573453, 7.809449433814917e-05, \"\", \"\", \"\", 0.00013920790700911812, 6.962818548948615e-05, 6.949753283758427e-05, 6.277463904582549e-05]}, {\"marker\": {\"color\": \"rgba(251, 128, 114, 0.6)\", \"line\": {\"color\": \"rgba(251, 128, 114, 0.7999999999999998)\", \"width\": 1}}, \"name\": \"Mission Street Manufacturing\", \"orientation\": \"v\", \"text\": \"\", \"type\": \"bar\", \"x\": [\"2021-week_33\", \"2021-week_34\", \"2021-week_35\", \"2021-week_36\", \"2021-week_37\", \"2021-week_38\", \"2021-week_39\", \"2021-week_40\", \"2021-week_41\", \"2021-week_42\", \"2021-week_43\", \"2021-week_44\", \"2021-week_45\", \"2021-week_46\", \"2021-week_47\", \"2021-week_48\", \"2021-week_49\", \"2021-week_50\", \"2021-week_51\", \"2022-week_01\", \"2022-week_02\", \"2022-week_03\", \"2022-week_04\", \"2022-week_05\", \"2022-week_06\", \"2022-week_52\"], \"y\": [0.0009752020061298412, 0.0006958458005705936, 0.0010436234606553956, 0.00034746351633078526, 0.0003474152306837132, 0.0006273088450547153, 0.000416204217536071, 0.0003470776065528252, 0.0004172461752433936, 0.00041736227045075126, 0.00041762372102735435, 0.0009091544863277152, 0.0006232686980609418, 0.0005574912891986063, 0.0005554784057769754, 0.00041655095806720355, 0.0009067447862174793, 0.00041655095806720355, 0.0003904724716907458, 0.0003475842891901286, 0.00020800110933924982, 0.0004889292449535517, 6.960395350455906e-05, 0.00020888455646845844, 0.0005559802627006741, 0.00025109855618330194]}, {\"marker\": {\"color\": \"rgba(128, 177, 211, 0.6)\", \"line\": {\"color\": \"rgba(128, 177, 211, 0.7999999999999998)\", \"width\": 1}}, \"name\": \"MoJoe Brewing Company\", \"orientation\": \"v\", \"text\": \"\", \"type\": \"bar\", \"x\": [\"2021-week_33\", \"2021-week_34\", \"2021-week_35\", \"2021-week_36\", \"2021-week_37\", \"2021-week_38\", \"2021-week_39\", \"2021-week_40\", \"2021-week_41\", \"2021-week_42\", \"2021-week_43\", \"2021-week_44\", \"2021-week_45\", \"2021-week_46\", \"2021-week_47\", \"2021-week_48\", \"2021-week_49\", \"2021-week_50\", \"2021-week_51\", \"2022-week_01\", \"2022-week_02\", \"2022-week_03\", \"2022-week_04\", \"2022-week_05\", \"2022-week_06\", \"2022-week_52\"], \"y\": [0.09424630816383393, 0.07890891378470531, 0.10387532178390037, 0.08881167477414871, 0.09672040022234575, 0.0759740712344044, 0.08011931187569367, 0.07309454394002499, 0.05744089012517385, 0.041666666666666664, 0.0680030625739542, 0.06007413105811595, 0.056509695290858725, 0.09874564459930314, 0.0611026246354673, 0.13732296584282144, 0.0823045267489712, 0.12454873646209386, 0.07169074580242094, 0.07897115050399722, 0.08028842820495043, 0.10169728295033875, 0.06507969652676272, 0.08174348976465673, 0.06393773021057753, 0.14055241682360325]}, {\"marker\": {\"color\": \"rgba(255, 153, 51, 0.6)\", \"line\": {\"color\": \"rgba(255, 153, 51, 0.7999999999999998)\", \"width\": 1}}, \"name\": \"Modanisa\", \"orientation\": \"v\", \"text\": \"\", \"type\": \"bar\", \"x\": [\"2021-week_33\", \"2021-week_34\", \"2021-week_35\", \"2021-week_36\", \"2021-week_37\", \"2021-week_38\", \"2021-week_39\", \"2021-week_40\", \"2021-week_41\", \"2021-week_42\", \"2021-week_43\", \"2021-week_44\", \"2021-week_45\", \"2021-week_46\", \"2021-week_47\", \"2021-week_48\", \"2021-week_49\", \"2021-week_50\", \"2021-week_51\", \"2022-week_01\", \"2022-week_02\", \"2022-week_03\", \"2022-week_04\", \"2022-week_05\", \"2022-week_06\", \"2022-week_52\"], \"y\": [0.009055447199777097, 0.008141395866675945, 0.007583663814095874, 0.007157748436414177, 0.006461923290717065, 0.005854882553844009, 0.02746947835738069, 0.024711925586561156, 0.026564673157162728, 0.022746243739565943, 0.03048653163499687, 0.01594517099097839, 0.006232686980609419, 0.006480836236933798, 0.007290654075822803, 0.006525965009719522, 0.006277463904582548, 0.005762288253262983, 0.004919953143303397, 0.004449078901633646, 0.003328017749427997, 0.0034923517496682267, 0.0027841581401823624, 0.004108062943879683, 0.0025714087149906178, 0.004331450094161958]}, {\"marker\": {\"color\": \"rgba(55, 128, 191, 0.6)\", \"line\": {\"color\": \"rgba(55, 128, 191, 0.7999999999999998)\", \"width\": 1}}, \"name\": \"OpenDesks, Inc.\", \"orientation\": \"v\", \"text\": \"\", \"type\": \"bar\", \"x\": [\"2021-week_33\", \"2021-week_34\", \"2021-week_35\", \"2021-week_36\", \"2021-week_37\", \"2021-week_38\", \"2021-week_39\", \"2021-week_40\", \"2021-week_41\", \"2021-week_42\", \"2021-week_43\", \"2021-week_44\", \"2021-week_45\", \"2021-week_46\", \"2021-week_47\", \"2021-week_48\", \"2021-week_49\", \"2021-week_50\", \"2021-week_51\", \"2022-week_01\", \"2022-week_02\", \"2022-week_03\", \"2022-week_04\", \"2022-week_05\", \"2022-week_06\", \"2022-week_52\"], \"y\": [0.00041794371691278906, 0.0004175074803423561, 0.0004870242816391846, 0.001320361362056984, 0.0009032795997776543, 0.0012546176901094305, 0.00201165371809101, 0.0023601277245592113, 0.0018080667593880389, 0.0019476905954368391, 0.001113663256072945, 0.0018882439331421778, 0.001592797783933518, 0.0029965156794425087, 0.002569087626718511, 0.0014579283532352124, 0.0015344911766757342, 0.0008331019161344071, 0.002420929324482624, 0.00145985401459854, 0.0016640088747139985, 0.001187399594887197, 0.0009048513955592678, 0.0008355382258738338, 0.0009034679268885954, 0.0018832391713747645]}, {\"marker\": {\"color\": \"rgba(50, 171, 96, 0.6)\", \"line\": {\"color\": \"rgba(50, 171, 96, 0.7999999999999998)\", \"width\": 1}}, \"name\": \"PageBites\", \"orientation\": \"v\", \"text\": \"\", \"type\": \"bar\", \"x\": [\"2021-week_33\", \"2021-week_34\", \"2021-week_35\", \"2021-week_36\", \"2021-week_37\", \"2021-week_38\", \"2021-week_39\", \"2021-week_40\", \"2021-week_41\", \"2021-week_42\", \"2021-week_43\", \"2021-week_44\", \"2021-week_45\", \"2021-week_46\", \"2021-week_47\", \"2021-week_48\", \"2021-week_49\", \"2021-week_50\", \"2021-week_51\", \"2022-week_01\", \"2022-week_02\", \"2022-week_03\", \"2022-week_04\", \"2022-week_05\", \"2022-week_06\", \"2022-week_52\"], \"y\": [0.0016021175814990248, 0.0006958458005705936, 0.001113198358032422, 0.0008339124391938846, 0.0012506948304613673, 0.0007667108106224297, 0.00048557158712541623, 6.941552131056504e-05, 0.0004867872044506259, 0.0005564830272676684, 0.00027841581401823624, 0.00020980488146024197, \"\", \"\", \"\", \"\", \"\", \"\", \"\", \"\", 0.00013866740622616653, 0.0002095411049800936, 0.00020881186051367718, 0.00020888455646845844, 0.00027799013135033706, \"\"]}, {\"marker\": {\"color\": \"rgba(128, 0, 128, 0.6)\", \"line\": {\"color\": \"rgba(128, 0, 128, 0.7999999999999998)\", \"width\": 1}}, \"name\": \"Pole Star\", \"orientation\": \"v\", \"text\": \"\", \"type\": \"bar\", \"x\": [\"2021-week_33\", \"2021-week_34\", \"2021-week_35\", \"2021-week_36\", \"2021-week_37\", \"2021-week_38\", \"2021-week_39\", \"2021-week_40\", \"2021-week_41\", \"2021-week_42\", \"2021-week_43\", \"2021-week_44\", \"2021-week_45\", \"2021-week_46\", \"2021-week_47\", \"2021-week_48\", \"2021-week_49\", \"2021-week_50\", \"2021-week_51\", \"2022-week_01\", \"2022-week_02\", \"2022-week_03\", \"2022-week_04\", \"2022-week_05\", \"2022-week_06\", \"2022-week_52\"], \"y\": [0.0030649205906937865, 0.0017396145014264839, \"\", \"\", 6.948304613674263e-05, 6.970098278385725e-05, 0.00013873473917869035, 6.941552131056504e-05, 0.0011821974965229485, 0.00020868113522537563, 0.00020881186051367718, 0.0006294146443807259, 0.0017313019390581717, 0.0011149825783972125, \"\", \"\", 0.0001394991978796122, 6.942515967786726e-05, 7.809449433814917e-05, 0.0003475842891901286, 0.0003466685155654163, 0.00034923517496682265, 0.0015312869771002993, 0.001392563709789723, 0.0016679407881020224, 0.00012554927809165097]}, {\"marker\": {\"color\": \"rgba(219, 64, 82, 0.6)\", \"line\": {\"color\": \"rgba(219, 64, 82, 0.7999999999999998)\", \"width\": 1}}, \"name\": \"Puentes Company\", \"orientation\": \"v\", \"text\": \"\", \"type\": \"bar\", \"x\": [\"2021-week_33\", \"2021-week_34\", \"2021-week_35\", \"2021-week_36\", \"2021-week_37\", \"2021-week_38\", \"2021-week_39\", \"2021-week_40\", \"2021-week_41\", \"2021-week_42\", \"2021-week_43\", \"2021-week_44\", \"2021-week_45\", \"2021-week_46\", \"2021-week_47\", \"2021-week_48\", \"2021-week_49\", \"2021-week_50\", \"2021-week_51\", \"2022-week_01\", \"2022-week_02\", \"2022-week_03\", \"2022-week_04\", \"2022-week_05\", \"2022-week_06\", \"2022-week_52\"], \"y\": [0.09452493730844247, 0.08197063530721592, 0.07521046406456551, 0.07588603196664351, 0.07406892718176765, 0.0683069631281801, 0.06804938956714761, 0.06976259891711786, 0.08817802503477051, 0.07206455203116305, 0.06333959768914875, 0.07720819637736905, 0.10297783933518005, 0.0932404181184669, 0.09061241494236912, 0.0814357123021383, 0.09130222501220618, 0.08497639544570952, 0.10378758297540024, 0.09336114007646855, 0.09061914996879983, 0.06635468324369631, 0.05902415257186608, 0.05653808661746275, 0.0583084300507332, 0.06936597614563716]}, {\"marker\": {\"color\": \"rgba(0, 128, 128, 0.6)\", \"line\": {\"color\": \"rgba(0, 128, 128, 0.7999999999999998)\", \"width\": 1}}, \"name\": \"PureSafe water systems\", \"orientation\": \"v\", \"text\": \"\", \"type\": \"bar\", \"x\": [\"2021-week_33\", \"2021-week_34\", \"2021-week_35\", \"2021-week_36\", \"2021-week_37\", \"2021-week_38\", \"2021-week_39\", \"2021-week_40\", \"2021-week_41\", \"2021-week_42\", \"2021-week_43\", \"2021-week_44\", \"2021-week_45\", \"2021-week_46\", \"2021-week_47\", \"2021-week_48\", \"2021-week_49\", \"2021-week_50\", \"2021-week_51\", \"2022-week_01\", \"2022-week_02\", \"2022-week_03\", \"2022-week_04\", \"2022-week_05\", \"2022-week_06\", \"2022-week_52\"], \"y\": [\"\", \"\", \"\", \"\", \"\", \"\", \"\", \"\", \"\", \"\", \"\", \"\", \"\", \"\", \"\", \"\", \"\", \"\", \"\", \"\", \"\", \"\", \"\", 6.962818548948615e-05, \"\", \"\"]}, {\"marker\": {\"color\": \"rgba(255, 255, 51, 0.6)\", \"line\": {\"color\": \"rgba(255, 255, 51, 0.7999999999999998)\", \"width\": 1}}, \"name\": \"RelayFoods\", \"orientation\": \"v\", \"text\": \"\", \"type\": \"bar\", \"x\": [\"2021-week_33\", \"2021-week_34\", \"2021-week_35\", \"2021-week_36\", \"2021-week_37\", \"2021-week_38\", \"2021-week_39\", \"2021-week_40\", \"2021-week_41\", \"2021-week_42\", \"2021-week_43\", \"2021-week_44\", \"2021-week_45\", \"2021-week_46\", \"2021-week_47\", \"2021-week_48\", \"2021-week_49\", \"2021-week_50\", \"2021-week_51\", \"2022-week_01\", \"2022-week_02\", \"2022-week_03\", \"2022-week_04\", \"2022-week_05\", \"2022-week_06\", \"2022-week_52\"], \"y\": [0.10929228197269435, 0.06297404495163872, 0.06880957350587907, 0.06949270326615706, 0.06663424124513619, 0.06754025231755768, 0.052372364039955606, 0.04602249062890462, 0.05660639777468707, 0.2598775737340011, 0.24131690680030626, 0.2721169312539338, 0.3479224376731302, 0.31679442508710803, 0.3327315650604083, 0.2905442932518745, 0.32370788867964007, 0.3126214940294363, 0.28621632174931666, 0.26930830726451166, 0.2656867503293351, 0.24760773905147726, 0.247511658662212, 0.22629160284082997, 0.23650010424629925, 0.3747018204645323]}, {\"marker\": {\"color\": \"rgba(128, 128, 0, 0.6)\", \"line\": {\"color\": \"rgba(128, 128, 0, 0.7999999999999998)\", \"width\": 1}}, \"name\": \"SOLOMO365\", \"orientation\": \"v\", \"text\": \"\", \"type\": \"bar\", \"x\": [\"2021-week_33\", \"2021-week_34\", \"2021-week_35\", \"2021-week_36\", \"2021-week_37\", \"2021-week_38\", \"2021-week_39\", \"2021-week_40\", \"2021-week_41\", \"2021-week_42\", \"2021-week_43\", \"2021-week_44\", \"2021-week_45\", \"2021-week_46\", \"2021-week_47\", \"2021-week_48\", \"2021-week_49\", \"2021-week_50\", \"2021-week_51\", \"2022-week_01\", \"2022-week_02\", \"2022-week_03\", \"2022-week_04\", \"2022-week_05\", \"2022-week_06\", \"2022-week_52\"], \"y\": [0.05544719977709668, 0.06039941548952752, 0.05976483684686565, 0.05573314801945796, 0.055586436909394105, 0.05813061964173695, 0.049944506104328525, 0.014993752603082049, \"\", \"\", \"\", \"\", \"\", \"\", \"\", \"\", \"\", \"\", \"\", \"\", \"\", \"\", \"\", \"\", \"\", \"\"]}, {\"marker\": {\"color\": \"rgba(128, 128, 0, 0.6)\", \"line\": {\"color\": \"rgba(128, 128, 0, 0.7)\", \"width\": 1}}, \"name\": \"Search Million Culture\", \"orientation\": \"v\", \"text\": \"\", \"type\": \"bar\", \"x\": [\"2021-week_33\", \"2021-week_34\", \"2021-week_35\", \"2021-week_36\", \"2021-week_37\", \"2021-week_38\", \"2021-week_39\", \"2021-week_40\", \"2021-week_41\", \"2021-week_42\", \"2021-week_43\", \"2021-week_44\", \"2021-week_45\", \"2021-week_46\", \"2021-week_47\", \"2021-week_48\", \"2021-week_49\", \"2021-week_50\", \"2021-week_51\", \"2022-week_01\", \"2022-week_02\", \"2022-week_03\", \"2022-week_04\", \"2022-week_05\", \"2022-week_06\", \"2022-week_52\"], \"y\": [0.35218723878517694, 0.39043907870016004, 0.35030960829332775, 0.35392633773453785, 0.3494302390216787, 0.33372830556910854, 0.3140260821309656, 0.3306261280022213, 0.3364394993045897, 0.25994713411240955, 0.24110809493979257, 0.1897335478005455, 0.0853185595567867, 0.09337979094076655, 0.09665324260519373, 0.11538461538461539, 0.13287298598033062, 0.12350735906692585, 0.12526356891839124, 0.19443865137295793, 0.2046730915898218, 0.23342879094782426, 0.25440245005916334, 0.25163626235900294, 0.23816804503440128, 0.0743879472693032]}, {\"marker\": {\"color\": \"rgba(251, 128, 114, 0.6)\", \"line\": {\"color\": \"rgba(251, 128, 114, 0.7)\", \"width\": 1}}, \"name\": \"Sensor Tower\", \"orientation\": \"v\", \"text\": \"\", \"type\": \"bar\", \"x\": [\"2021-week_33\", \"2021-week_34\", \"2021-week_35\", \"2021-week_36\", \"2021-week_37\", \"2021-week_38\", \"2021-week_39\", \"2021-week_40\", \"2021-week_41\", \"2021-week_42\", \"2021-week_43\", \"2021-week_44\", \"2021-week_45\", \"2021-week_46\", \"2021-week_47\", \"2021-week_48\", \"2021-week_49\", \"2021-week_50\", \"2021-week_51\", \"2022-week_01\", \"2022-week_02\", \"2022-week_03\", \"2022-week_04\", \"2022-week_05\", \"2022-week_06\", \"2022-week_52\"], \"y\": [0.03629144608526052, 0.03374852132767379, 0.031308703819661866, 0.018763029881862403, 0.012854363535297387, 0.008712622847982156, 0.0076997780244173145, 0.006455643481882549, 0.00674547983310153, 0.006816917084028937, 0.005568316280364725, 0.005384991957479544, 0.00574792243767313, 0.004320557491289199, 0.004443827246215803, 0.005554012774229381, 0.007463207086559252, 0.004859761177450708, 0.003358063256540414, 0.003475842891901286, 0.0029813492338625807, 0.00447021023957533, 0.004315445117282661, 0.003899178387411224, 0.004169851970255056, 0.004205900816070308]}, {\"marker\": {\"color\": \"rgba(128, 177, 211, 0.6)\", \"line\": {\"color\": \"rgba(128, 177, 211, 0.7)\", \"width\": 1}}, \"name\": \"Tab Solutions\", \"orientation\": \"v\", \"text\": \"\", \"type\": \"bar\", \"x\": [\"2021-week_33\", \"2021-week_34\", \"2021-week_35\", \"2021-week_36\", \"2021-week_37\", \"2021-week_38\", \"2021-week_39\", \"2021-week_40\", \"2021-week_41\", \"2021-week_42\", \"2021-week_43\", \"2021-week_44\", \"2021-week_45\", \"2021-week_46\", \"2021-week_47\", \"2021-week_48\", \"2021-week_49\", \"2021-week_50\", \"2021-week_51\", \"2022-week_01\", \"2022-week_02\", \"2022-week_03\", \"2022-week_04\", \"2022-week_05\", \"2022-week_06\", \"2022-week_52\"], \"y\": [0.0672192811368069, 0.054345557024563354, 0.04981562652195088, 0.055524669909659485, 0.05885214007782101, 0.04000836411793406, 0.05292730299667037, 0.06774954879911148, 0.0672461752433936, 0.047996661101836396, 0.04719148047609104, 0.05063291139240506, 0.04113573407202216, 0.014355400696864112, 0.016594917372587142, 0.0197167453485143, 0.031317569923972936, 0.02256317689530686, 0.019992190550566186, 0.010983663538408064, 0.012618733966581155, 0.01494726548858001, 0.016565740934085055, 0.01392563709789723, 0.01709639307804573, 0.013998744507219083]}, {\"marker\": {\"color\": \"rgba(255, 153, 51, 0.6)\", \"line\": {\"color\": \"rgba(255, 153, 51, 0.7)\", \"width\": 1}}, \"name\": \"VarVee\", \"orientation\": \"v\", \"text\": \"\", \"type\": \"bar\", \"x\": [\"2021-week_33\", \"2021-week_34\", \"2021-week_35\", \"2021-week_36\", \"2021-week_37\", \"2021-week_38\", \"2021-week_39\", \"2021-week_40\", \"2021-week_41\", \"2021-week_42\", \"2021-week_43\", \"2021-week_44\", \"2021-week_45\", \"2021-week_46\", \"2021-week_47\", \"2021-week_48\", \"2021-week_49\", \"2021-week_50\", \"2021-week_51\", \"2022-week_01\", \"2022-week_02\", \"2022-week_03\", \"2022-week_04\", \"2022-week_05\", \"2022-week_06\", \"2022-week_52\"], \"y\": [0.00229869044302034, 0.004662166863822976, 0.004870242816391846, 0.006879777623349548, 0.0074346859366314615, 0.007179201226737297, 0.005063817980022198, 0.004789670970428988, 0.005563282336578581, 0.0023650528658875902, 0.0029929700006960393, 0.003217008182390377, 0.003601108033240997, 0.0024390243902439024, 0.002707957228162755, 0.0017356289919466814, 0.0004882471925786427, 0.0006248264371008053, 0.00046856696602889497, 0.00027806743135210286, 0.0006933370311308326, 0.0007683173849270099, 0.0010440593025683859, 0.0007659100403843476, 0.0006949753283758427, 0.0003766478342749529]}, {\"marker\": {\"color\": \"rgba(55, 128, 191, 0.6)\", \"line\": {\"color\": \"rgba(55, 128, 191, 0.7)\", \"width\": 1}}, \"name\": \"aPriori Technologies\", \"orientation\": \"v\", \"text\": \"\", \"type\": \"bar\", \"x\": [\"2021-week_33\", \"2021-week_34\", \"2021-week_35\", \"2021-week_36\", \"2021-week_37\", \"2021-week_38\", \"2021-week_39\", \"2021-week_40\", \"2021-week_41\", \"2021-week_42\", \"2021-week_43\", \"2021-week_44\", \"2021-week_45\", \"2021-week_46\", \"2021-week_47\", \"2021-week_48\", \"2021-week_49\", \"2021-week_50\", \"2021-week_51\", \"2022-week_01\", \"2022-week_02\", \"2022-week_03\", \"2022-week_04\", \"2022-week_05\", \"2022-week_06\", \"2022-week_52\"], \"y\": [0.002995263304541655, 0.0029225523623964927, 0.003965769150490503, 0.0029881862404447534, 0.0027098387993329627, 0.002439534397435004, 0.0039539400665926745, 0.004442593363876163, 0.0035465924895688454, 0.002295492487479132, 0.002853762093686921, 0.002307853696062662, 0.003670360110803324, 0.005156794425087108, 0.004999305651992779, 0.003262982504859761, 0.0034874799469903047, 0.00354068314357123, 0.004139008199921906, 0.0032672923183872087, 0.002010677390279415, 0.0017461758748341133, 0.0020881186051367718, 0.002297730121153043, 0.002015428452289944, 0.0038292529817953547]}, {\"marker\": {\"color\": \"rgba(50, 171, 96, 0.6)\", \"line\": {\"color\": \"rgba(50, 171, 96, 0.7)\", \"width\": 1}}, \"name\": \"iDreamsky Technology\", \"orientation\": \"v\", \"text\": \"\", \"type\": \"bar\", \"x\": [\"2021-week_33\", \"2021-week_34\", \"2021-week_35\", \"2021-week_36\", \"2021-week_37\", \"2021-week_38\", \"2021-week_39\", \"2021-week_40\", \"2021-week_41\", \"2021-week_42\", \"2021-week_43\", \"2021-week_44\", \"2021-week_45\", \"2021-week_46\", \"2021-week_47\", \"2021-week_48\", \"2021-week_49\", \"2021-week_50\", \"2021-week_51\", \"2022-week_01\", \"2022-week_02\", \"2022-week_03\", \"2022-week_04\", \"2022-week_05\", \"2022-week_06\", \"2022-week_52\"], \"y\": [0.021872387851769294, 0.021153712337346045, 0.035761497251791556, 0.04211257817929118, 0.04175931072818232, 0.05123022234613508, 0.04557436182019978, 0.042759961127308066, 0.032753824756606396, 0.018433500278241515, 0.018932275353240064, 0.020560878383103713, 0.0260387811634349, 0.04494773519163763, 0.08734897930842939, 0.036239933351846706, 0.02483085722257097, 0.02513190780338795, 0.026395939086294416, 0.024261383385470976, 0.021770782777508147, 0.01990640497310889, 0.016356929073571377, 0.016362623590029244, 0.018555841267634997, 0.02366603892027621]}],                        {\"barmode\": \"stack\", \"legend\": {\"bgcolor\": \"#F5F6F9\", \"font\": {\"color\": \"#4D5663\"}, \"traceorder\": \"normal\"}, \"paper_bgcolor\": \"#F5F6F9\", \"plot_bgcolor\": \"#F5F6F9\", \"template\": {\"data\": {\"bar\": [{\"error_x\": {\"color\": \"#2a3f5f\"}, \"error_y\": {\"color\": \"#2a3f5f\"}, \"marker\": {\"line\": {\"color\": \"#E5ECF6\", \"width\": 0.5}}, \"type\": \"bar\"}], \"barpolar\": [{\"marker\": {\"line\": {\"color\": \"#E5ECF6\", \"width\": 0.5}}, \"type\": \"barpolar\"}], \"carpet\": [{\"aaxis\": {\"endlinecolor\": \"#2a3f5f\", \"gridcolor\": \"white\", \"linecolor\": \"white\", \"minorgridcolor\": \"white\", \"startlinecolor\": \"#2a3f5f\"}, \"baxis\": {\"endlinecolor\": \"#2a3f5f\", \"gridcolor\": \"white\", \"linecolor\": \"white\", \"minorgridcolor\": \"white\", \"startlinecolor\": \"#2a3f5f\"}, \"type\": \"carpet\"}], \"choropleth\": [{\"colorbar\": {\"outlinewidth\": 0, \"ticks\": \"\"}, \"type\": \"choropleth\"}], \"contour\": [{\"colorbar\": {\"outlinewidth\": 0, \"ticks\": \"\"}, \"colorscale\": [[0.0, \"#0d0887\"], [0.1111111111111111, \"#46039f\"], [0.2222222222222222, \"#7201a8\"], [0.3333333333333333, \"#9c179e\"], [0.4444444444444444, \"#bd3786\"], [0.5555555555555556, \"#d8576b\"], [0.6666666666666666, \"#ed7953\"], [0.7777777777777778, \"#fb9f3a\"], [0.8888888888888888, \"#fdca26\"], [1.0, \"#f0f921\"]], \"type\": \"contour\"}], \"contourcarpet\": [{\"colorbar\": {\"outlinewidth\": 0, \"ticks\": \"\"}, \"type\": \"contourcarpet\"}], \"heatmap\": [{\"colorbar\": {\"outlinewidth\": 0, \"ticks\": \"\"}, \"colorscale\": [[0.0, \"#0d0887\"], [0.1111111111111111, \"#46039f\"], [0.2222222222222222, \"#7201a8\"], [0.3333333333333333, \"#9c179e\"], [0.4444444444444444, \"#bd3786\"], [0.5555555555555556, \"#d8576b\"], [0.6666666666666666, \"#ed7953\"], [0.7777777777777778, \"#fb9f3a\"], [0.8888888888888888, \"#fdca26\"], [1.0, \"#f0f921\"]], \"type\": \"heatmap\"}], \"heatmapgl\": [{\"colorbar\": {\"outlinewidth\": 0, \"ticks\": \"\"}, \"colorscale\": [[0.0, \"#0d0887\"], [0.1111111111111111, \"#46039f\"], [0.2222222222222222, \"#7201a8\"], [0.3333333333333333, \"#9c179e\"], [0.4444444444444444, \"#bd3786\"], [0.5555555555555556, \"#d8576b\"], [0.6666666666666666, \"#ed7953\"], [0.7777777777777778, \"#fb9f3a\"], [0.8888888888888888, \"#fdca26\"], [1.0, \"#f0f921\"]], \"type\": \"heatmapgl\"}], \"histogram\": [{\"marker\": {\"colorbar\": {\"outlinewidth\": 0, \"ticks\": \"\"}}, \"type\": \"histogram\"}], \"histogram2d\": [{\"colorbar\": {\"outlinewidth\": 0, \"ticks\": \"\"}, \"colorscale\": [[0.0, \"#0d0887\"], [0.1111111111111111, \"#46039f\"], [0.2222222222222222, \"#7201a8\"], [0.3333333333333333, \"#9c179e\"], [0.4444444444444444, \"#bd3786\"], [0.5555555555555556, \"#d8576b\"], [0.6666666666666666, \"#ed7953\"], [0.7777777777777778, \"#fb9f3a\"], [0.8888888888888888, \"#fdca26\"], [1.0, \"#f0f921\"]], \"type\": \"histogram2d\"}], \"histogram2dcontour\": [{\"colorbar\": {\"outlinewidth\": 0, \"ticks\": \"\"}, \"colorscale\": [[0.0, \"#0d0887\"], [0.1111111111111111, \"#46039f\"], [0.2222222222222222, \"#7201a8\"], [0.3333333333333333, \"#9c179e\"], [0.4444444444444444, \"#bd3786\"], [0.5555555555555556, \"#d8576b\"], [0.6666666666666666, \"#ed7953\"], [0.7777777777777778, \"#fb9f3a\"], [0.8888888888888888, \"#fdca26\"], [1.0, \"#f0f921\"]], \"type\": \"histogram2dcontour\"}], \"mesh3d\": [{\"colorbar\": {\"outlinewidth\": 0, \"ticks\": \"\"}, \"type\": \"mesh3d\"}], \"parcoords\": [{\"line\": {\"colorbar\": {\"outlinewidth\": 0, \"ticks\": \"\"}}, \"type\": \"parcoords\"}], \"pie\": [{\"automargin\": true, \"type\": \"pie\"}], \"scatter\": [{\"marker\": {\"colorbar\": {\"outlinewidth\": 0, \"ticks\": \"\"}}, \"type\": \"scatter\"}], \"scatter3d\": [{\"line\": {\"colorbar\": {\"outlinewidth\": 0, \"ticks\": \"\"}}, \"marker\": {\"colorbar\": {\"outlinewidth\": 0, \"ticks\": \"\"}}, \"type\": \"scatter3d\"}], \"scattercarpet\": [{\"marker\": {\"colorbar\": {\"outlinewidth\": 0, \"ticks\": \"\"}}, \"type\": \"scattercarpet\"}], \"scattergeo\": [{\"marker\": {\"colorbar\": {\"outlinewidth\": 0, \"ticks\": \"\"}}, \"type\": \"scattergeo\"}], \"scattergl\": [{\"marker\": {\"colorbar\": {\"outlinewidth\": 0, \"ticks\": \"\"}}, \"type\": \"scattergl\"}], \"scattermapbox\": [{\"marker\": {\"colorbar\": {\"outlinewidth\": 0, \"ticks\": \"\"}}, \"type\": \"scattermapbox\"}], \"scatterpolar\": [{\"marker\": {\"colorbar\": {\"outlinewidth\": 0, \"ticks\": \"\"}}, \"type\": \"scatterpolar\"}], \"scatterpolargl\": [{\"marker\": {\"colorbar\": {\"outlinewidth\": 0, \"ticks\": \"\"}}, \"type\": \"scatterpolargl\"}], \"scatterternary\": [{\"marker\": {\"colorbar\": {\"outlinewidth\": 0, \"ticks\": \"\"}}, \"type\": \"scatterternary\"}], \"surface\": [{\"colorbar\": {\"outlinewidth\": 0, \"ticks\": \"\"}, \"colorscale\": [[0.0, \"#0d0887\"], [0.1111111111111111, \"#46039f\"], [0.2222222222222222, \"#7201a8\"], [0.3333333333333333, \"#9c179e\"], [0.4444444444444444, \"#bd3786\"], [0.5555555555555556, \"#d8576b\"], [0.6666666666666666, \"#ed7953\"], [0.7777777777777778, \"#fb9f3a\"], [0.8888888888888888, \"#fdca26\"], [1.0, \"#f0f921\"]], \"type\": \"surface\"}], \"table\": [{\"cells\": {\"fill\": {\"color\": \"#EBF0F8\"}, \"line\": {\"color\": \"white\"}}, \"header\": {\"fill\": {\"color\": \"#C8D4E3\"}, \"line\": {\"color\": \"white\"}}, \"type\": \"table\"}]}, \"layout\": {\"annotationdefaults\": {\"arrowcolor\": \"#2a3f5f\", \"arrowhead\": 0, \"arrowwidth\": 1}, \"autotypenumbers\": \"strict\", \"coloraxis\": {\"colorbar\": {\"outlinewidth\": 0, \"ticks\": \"\"}}, \"colorscale\": {\"diverging\": [[0, \"#8e0152\"], [0.1, \"#c51b7d\"], [0.2, \"#de77ae\"], [0.3, \"#f1b6da\"], [0.4, \"#fde0ef\"], [0.5, \"#f7f7f7\"], [0.6, \"#e6f5d0\"], [0.7, \"#b8e186\"], [0.8, \"#7fbc41\"], [0.9, \"#4d9221\"], [1, \"#276419\"]], \"sequential\": [[0.0, \"#0d0887\"], [0.1111111111111111, \"#46039f\"], [0.2222222222222222, \"#7201a8\"], [0.3333333333333333, \"#9c179e\"], [0.4444444444444444, \"#bd3786\"], [0.5555555555555556, \"#d8576b\"], [0.6666666666666666, \"#ed7953\"], [0.7777777777777778, \"#fb9f3a\"], [0.8888888888888888, \"#fdca26\"], [1.0, \"#f0f921\"]], \"sequentialminus\": [[0.0, \"#0d0887\"], [0.1111111111111111, \"#46039f\"], [0.2222222222222222, \"#7201a8\"], [0.3333333333333333, \"#9c179e\"], [0.4444444444444444, \"#bd3786\"], [0.5555555555555556, \"#d8576b\"], [0.6666666666666666, \"#ed7953\"], [0.7777777777777778, \"#fb9f3a\"], [0.8888888888888888, \"#fdca26\"], [1.0, \"#f0f921\"]]}, \"colorway\": [\"#636efa\", \"#EF553B\", \"#00cc96\", \"#ab63fa\", \"#FFA15A\", \"#19d3f3\", \"#FF6692\", \"#B6E880\", \"#FF97FF\", \"#FECB52\"], \"font\": {\"color\": \"#2a3f5f\"}, \"geo\": {\"bgcolor\": \"white\", \"lakecolor\": \"white\", \"landcolor\": \"#E5ECF6\", \"showlakes\": true, \"showland\": true, \"subunitcolor\": \"white\"}, \"hoverlabel\": {\"align\": \"left\"}, \"hovermode\": \"closest\", \"mapbox\": {\"style\": \"light\"}, \"paper_bgcolor\": \"white\", \"plot_bgcolor\": \"#E5ECF6\", \"polar\": {\"angularaxis\": {\"gridcolor\": \"white\", \"linecolor\": \"white\", \"ticks\": \"\"}, \"bgcolor\": \"#E5ECF6\", \"radialaxis\": {\"gridcolor\": \"white\", \"linecolor\": \"white\", \"ticks\": \"\"}}, \"scene\": {\"xaxis\": {\"backgroundcolor\": \"#E5ECF6\", \"gridcolor\": \"white\", \"gridwidth\": 2, \"linecolor\": \"white\", \"showbackground\": true, \"ticks\": \"\", \"zerolinecolor\": \"white\"}, \"yaxis\": {\"backgroundcolor\": \"#E5ECF6\", \"gridcolor\": \"white\", \"gridwidth\": 2, \"linecolor\": \"white\", \"showbackground\": true, \"ticks\": \"\", \"zerolinecolor\": \"white\"}, \"zaxis\": {\"backgroundcolor\": \"#E5ECF6\", \"gridcolor\": \"white\", \"gridwidth\": 2, \"linecolor\": \"white\", \"showbackground\": true, \"ticks\": \"\", \"zerolinecolor\": \"white\"}}, \"shapedefaults\": {\"line\": {\"color\": \"#2a3f5f\"}}, \"ternary\": {\"aaxis\": {\"gridcolor\": \"white\", \"linecolor\": \"white\", \"ticks\": \"\"}, \"baxis\": {\"gridcolor\": \"white\", \"linecolor\": \"white\", \"ticks\": \"\"}, \"bgcolor\": \"#E5ECF6\", \"caxis\": {\"gridcolor\": \"white\", \"linecolor\": \"white\", \"ticks\": \"\"}}, \"title\": {\"x\": 0.05}, \"xaxis\": {\"automargin\": true, \"gridcolor\": \"white\", \"linecolor\": \"white\", \"ticks\": \"\", \"title\": {\"standoff\": 15}, \"zerolinecolor\": \"white\", \"zerolinewidth\": 2}, \"yaxis\": {\"automargin\": true, \"gridcolor\": \"white\", \"linecolor\": \"white\", \"ticks\": \"\", \"title\": {\"standoff\": 15}, \"zerolinecolor\": \"white\", \"zerolinewidth\": 2}}}, \"title\": {\"font\": {\"color\": \"#4D5663\"}}, \"xaxis\": {\"gridcolor\": \"#E1E5ED\", \"showgrid\": true, \"tickfont\": {\"color\": \"#4D5663\"}, \"title\": {\"font\": {\"color\": \"#4D5663\"}, \"text\": \"\"}, \"zerolinecolor\": \"#E1E5ED\"}, \"yaxis\": {\"gridcolor\": \"#E1E5ED\", \"showgrid\": true, \"tickfont\": {\"color\": \"#4D5663\"}, \"title\": {\"font\": {\"color\": \"#4D5663\"}, \"text\": \"\"}, \"zerolinecolor\": \"#E1E5ED\"}},                        {\"showLink\": true, \"linkText\": \"Export to plot.ly\", \"plotlyServerURL\": \"https://plot.ly\", \"responsive\": true}                    ).then(function(){\n",
       "                            \n",
       "var gd = document.getElementById('87e783d2-8496-4ebd-b03e-132298be48dd');\n",
       "var x = new MutationObserver(function (mutations, observer) {{\n",
       "        var display = window.getComputedStyle(gd).display;\n",
       "        if (!display || display === 'none') {{\n",
       "            console.log([gd, 'removed!']);\n",
       "            Plotly.purge(gd);\n",
       "            observer.disconnect();\n",
       "        }}\n",
       "}});\n",
       "\n",
       "// Listen for the removal of the full notebook cells\n",
       "var notebookContainer = gd.closest('#notebook-container');\n",
       "if (notebookContainer) {{\n",
       "    x.observe(notebookContainer, {childList: true});\n",
       "}}\n",
       "\n",
       "// Listen for the clearing of the current output cell\n",
       "var outputEl = gd.closest('.output');\n",
       "if (outputEl) {{\n",
       "    x.observe(outputEl, {childList: true});\n",
       "}}\n",
       "\n",
       "                        })                };                });            </script>        </div>"
      ]
     },
     "metadata": {},
     "output_type": "display_data"
    }
   ],
   "source": []
  },
  {
   "cell_type": "markdown",
   "id": "a0a44ecb-56c0-4341-94f7-0642ebf71d85",
   "metadata": {},
   "source": [
    "## Appendix"
   ]
  },
  {
   "cell_type": "markdown",
   "id": "0f8d9f04-e707-42ed-b09c-8edbf46a820e",
   "metadata": {},
   "source": [
    "Code to create weekly files:"
   ]
  },
  {
   "cell_type": "code",
   "execution_count": 67,
   "id": "4d91c99c-0649-459d-ae1c-5b7cce5a6177",
   "metadata": {},
   "outputs": [],
   "source": [
    "# for l in ad_recs_annotated.region.unique():\n",
    "#     for w in ad_recs_annotated.week_id.unique():\n",
    "#         w_id = w.split('_')[1]\n",
    "#         y = w.split('-')[0]\n",
    "#         query = f'week_id == \"{w}\" and region == \"{l}\"'\n",
    "#         sample_f_name = f'{y}_{w_id}_{l}__Sample.csv'\n",
    "#         ad_recs_annotated.query(query)[['week_id','ad_id','requester','region','recommendation_type', 'rec_provider']].to_csv(f'data/weekly/{sample_f_name}', index=False)\n",
    "#         for s in ad_recs_annotated.recommendation_type.unique():\n",
    "#             ann_f_name = f'{y}_{w_id}_{l}_{s}_annotation_result.csv'\n",
    "#             query = f'week_id == \"{w}\" and region == \"{l}\" and recommendation_type == \"{s}\"'\n",
    "#             sss = ad_recs_annotated.query(query)\n",
    "#             if sss.empty:\n",
    "#                 continue            \n",
    "#             sss[['region','ad_id','is_success','is_sever']].drop_duplicates(subset=['ad_id']).to_csv(f'data/weekly/{ann_f_name}', index=False)"
   ]
  }
 ],
 "metadata": {
  "kernelspec": {
   "display_name": "Python 3 (ipykernel)",
   "language": "python",
   "name": "python3"
  },
  "language_info": {
   "codemirror_mode": {
    "name": "ipython",
    "version": 3
   },
   "file_extension": ".py",
   "mimetype": "text/x-python",
   "name": "python",
   "nbconvert_exporter": "python",
   "pygments_lexer": "ipython3",
   "version": "3.9.7"
  }
 },
 "nbformat": 4,
 "nbformat_minor": 5
}
